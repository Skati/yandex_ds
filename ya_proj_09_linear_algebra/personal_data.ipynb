{
 "cells": [
  {
   "cell_type": "markdown",
   "metadata": {
    "toc": true
   },
   "source": [
    "<h1>Содержание<span class=\"tocSkip\"></span></h1>\n",
    "<div class=\"toc\"><ul class=\"toc-item\"><li><span><a href=\"#Загрузка-данных\" data-toc-modified-id=\"Загрузка-данных-1\"><span class=\"toc-item-num\">1&nbsp;&nbsp;</span>Загрузка данных</a></span></li><li><span><a href=\"#Умножение-матриц\" data-toc-modified-id=\"Умножение-матриц-2\"><span class=\"toc-item-num\">2&nbsp;&nbsp;</span>Умножение матриц</a></span></li><li><span><a href=\"#Алгоритм-преобразования\" data-toc-modified-id=\"Алгоритм-преобразования-3\"><span class=\"toc-item-num\">3&nbsp;&nbsp;</span>Алгоритм преобразования</a></span></li><li><span><a href=\"#Проверка-алгоритма\" data-toc-modified-id=\"Проверка-алгоритма-4\"><span class=\"toc-item-num\">4&nbsp;&nbsp;</span>Проверка алгоритма</a></span></li><li><span><a href=\"#Чек-лист-проверки\" data-toc-modified-id=\"Чек-лист-проверки-5\"><span class=\"toc-item-num\">5&nbsp;&nbsp;</span>Чек-лист проверки</a></span></li></ul></div>"
   ]
  },
  {
   "cell_type": "markdown",
   "metadata": {},
   "source": [
    "# Защита персональных данных клиентов"
   ]
  },
  {
   "cell_type": "markdown",
   "metadata": {},
   "source": [
    "Вам нужно защитить данные клиентов страховой компании «Хоть потоп». Разработайте такой метод преобразования данных, чтобы по ним было сложно восстановить персональную информацию. Обоснуйте корректность его работы.\n",
    "\n",
    "Нужно защитить данные, чтобы при преобразовании качество моделей машинного обучения не ухудшилось. Подбирать наилучшую модель не требуется."
   ]
  },
  {
   "cell_type": "markdown",
   "metadata": {},
   "source": [
    "## Загрузка данных"
   ]
  },
  {
   "cell_type": "markdown",
   "metadata": {},
   "source": [
    "**Import**"
   ]
  },
  {
   "cell_type": "code",
   "execution_count": 1,
   "metadata": {},
   "outputs": [],
   "source": [
    "import pandas as pd\n",
    "import numpy as np\n",
    "from sklearn.metrics import r2_score"
   ]
  },
  {
   "cell_type": "markdown",
   "metadata": {},
   "source": [
    "**Read data**"
   ]
  },
  {
   "cell_type": "code",
   "execution_count": 2,
   "metadata": {},
   "outputs": [],
   "source": [
    "df = pd.read_csv('data/insurance.csv')"
   ]
  },
  {
   "cell_type": "code",
   "execution_count": 3,
   "metadata": {},
   "outputs": [
    {
     "data": {
      "text/plain": "   Пол  Возраст  Зарплата  Члены семьи  Страховые выплаты\n0    1     41.0   49600.0            1                  0\n1    0     46.0   38000.0            1                  1\n2    0     29.0   21000.0            0                  0\n3    0     21.0   41700.0            2                  0\n4    1     28.0   26100.0            0                  0",
      "text/html": "<div>\n<style scoped>\n    .dataframe tbody tr th:only-of-type {\n        vertical-align: middle;\n    }\n\n    .dataframe tbody tr th {\n        vertical-align: top;\n    }\n\n    .dataframe thead th {\n        text-align: right;\n    }\n</style>\n<table border=\"1\" class=\"dataframe\">\n  <thead>\n    <tr style=\"text-align: right;\">\n      <th></th>\n      <th>Пол</th>\n      <th>Возраст</th>\n      <th>Зарплата</th>\n      <th>Члены семьи</th>\n      <th>Страховые выплаты</th>\n    </tr>\n  </thead>\n  <tbody>\n    <tr>\n      <th>0</th>\n      <td>1</td>\n      <td>41.0</td>\n      <td>49600.0</td>\n      <td>1</td>\n      <td>0</td>\n    </tr>\n    <tr>\n      <th>1</th>\n      <td>0</td>\n      <td>46.0</td>\n      <td>38000.0</td>\n      <td>1</td>\n      <td>1</td>\n    </tr>\n    <tr>\n      <th>2</th>\n      <td>0</td>\n      <td>29.0</td>\n      <td>21000.0</td>\n      <td>0</td>\n      <td>0</td>\n    </tr>\n    <tr>\n      <th>3</th>\n      <td>0</td>\n      <td>21.0</td>\n      <td>41700.0</td>\n      <td>2</td>\n      <td>0</td>\n    </tr>\n    <tr>\n      <th>4</th>\n      <td>1</td>\n      <td>28.0</td>\n      <td>26100.0</td>\n      <td>0</td>\n      <td>0</td>\n    </tr>\n  </tbody>\n</table>\n</div>"
     },
     "execution_count": 3,
     "metadata": {},
     "output_type": "execute_result"
    }
   ],
   "source": [
    "df.head()"
   ]
  },
  {
   "cell_type": "code",
   "execution_count": 4,
   "metadata": {},
   "outputs": [],
   "source": [
    "df.rename(columns={'Пол':'sex','Возраст':'age','Зарплата':'salary','Члены семьи':'family_members','Страховые выплаты':'insurance_payments'}, inplace = True)"
   ]
  },
  {
   "cell_type": "code",
   "execution_count": 5,
   "metadata": {},
   "outputs": [
    {
     "name": "stdout",
     "output_type": "stream",
     "text": [
      "<class 'pandas.core.frame.DataFrame'>\n",
      "RangeIndex: 5000 entries, 0 to 4999\n",
      "Data columns (total 5 columns):\n",
      " #   Column              Non-Null Count  Dtype  \n",
      "---  ------              --------------  -----  \n",
      " 0   sex                 5000 non-null   int64  \n",
      " 1   age                 5000 non-null   float64\n",
      " 2   salary              5000 non-null   float64\n",
      " 3   family_members      5000 non-null   int64  \n",
      " 4   insurance_payments  5000 non-null   int64  \n",
      "dtypes: float64(2), int64(3)\n",
      "memory usage: 195.4 KB\n"
     ]
    }
   ],
   "source": [
    "df.info()"
   ]
  },
  {
   "cell_type": "code",
   "execution_count": 6,
   "metadata": {},
   "outputs": [
    {
     "data": {
      "text/plain": "0"
     },
     "execution_count": 6,
     "metadata": {},
     "output_type": "execute_result"
    }
   ],
   "source": [
    "df.isna().sum().sum()"
   ]
  },
  {
   "cell_type": "code",
   "execution_count": 7,
   "metadata": {},
   "outputs": [
    {
     "data": {
      "text/plain": "153"
     },
     "execution_count": 7,
     "metadata": {},
     "output_type": "execute_result"
    }
   ],
   "source": [
    "df.duplicated().sum()"
   ]
  },
  {
   "cell_type": "markdown",
   "metadata": {},
   "source": [
    "Удалим дубликаты записей, т.к. вероятность полного совпадения записей крайне мала"
   ]
  },
  {
   "cell_type": "code",
   "execution_count": 8,
   "metadata": {},
   "outputs": [],
   "source": [
    "df.drop_duplicates(inplace = True)"
   ]
  },
  {
   "cell_type": "code",
   "execution_count": 9,
   "metadata": {},
   "outputs": [
    {
     "data": {
      "text/plain": "0"
     },
     "execution_count": 9,
     "metadata": {},
     "output_type": "execute_result"
    }
   ],
   "source": [
    "df.duplicated().sum()"
   ]
  },
  {
   "cell_type": "code",
   "execution_count": 10,
   "metadata": {},
   "outputs": [
    {
     "data": {
      "text/plain": "               sex          age        salary  family_members  \\\ncount  4847.000000  4847.000000   4847.000000     4847.000000   \nmean      0.498453    31.023932  39895.811842        1.203425   \nstd       0.500049     8.487995   9972.953985        1.098664   \nmin       0.000000    18.000000   5300.000000        0.000000   \n25%       0.000000    24.000000  33200.000000        0.000000   \n50%       0.000000    30.000000  40200.000000        1.000000   \n75%       1.000000    37.000000  46600.000000        2.000000   \nmax       1.000000    65.000000  79000.000000        6.000000   \n\n       insurance_payments  \ncount         4847.000000  \nmean             0.152259  \nstd              0.468934  \nmin              0.000000  \n25%              0.000000  \n50%              0.000000  \n75%              0.000000  \nmax              5.000000  ",
      "text/html": "<div>\n<style scoped>\n    .dataframe tbody tr th:only-of-type {\n        vertical-align: middle;\n    }\n\n    .dataframe tbody tr th {\n        vertical-align: top;\n    }\n\n    .dataframe thead th {\n        text-align: right;\n    }\n</style>\n<table border=\"1\" class=\"dataframe\">\n  <thead>\n    <tr style=\"text-align: right;\">\n      <th></th>\n      <th>sex</th>\n      <th>age</th>\n      <th>salary</th>\n      <th>family_members</th>\n      <th>insurance_payments</th>\n    </tr>\n  </thead>\n  <tbody>\n    <tr>\n      <th>count</th>\n      <td>4847.000000</td>\n      <td>4847.000000</td>\n      <td>4847.000000</td>\n      <td>4847.000000</td>\n      <td>4847.000000</td>\n    </tr>\n    <tr>\n      <th>mean</th>\n      <td>0.498453</td>\n      <td>31.023932</td>\n      <td>39895.811842</td>\n      <td>1.203425</td>\n      <td>0.152259</td>\n    </tr>\n    <tr>\n      <th>std</th>\n      <td>0.500049</td>\n      <td>8.487995</td>\n      <td>9972.953985</td>\n      <td>1.098664</td>\n      <td>0.468934</td>\n    </tr>\n    <tr>\n      <th>min</th>\n      <td>0.000000</td>\n      <td>18.000000</td>\n      <td>5300.000000</td>\n      <td>0.000000</td>\n      <td>0.000000</td>\n    </tr>\n    <tr>\n      <th>25%</th>\n      <td>0.000000</td>\n      <td>24.000000</td>\n      <td>33200.000000</td>\n      <td>0.000000</td>\n      <td>0.000000</td>\n    </tr>\n    <tr>\n      <th>50%</th>\n      <td>0.000000</td>\n      <td>30.000000</td>\n      <td>40200.000000</td>\n      <td>1.000000</td>\n      <td>0.000000</td>\n    </tr>\n    <tr>\n      <th>75%</th>\n      <td>1.000000</td>\n      <td>37.000000</td>\n      <td>46600.000000</td>\n      <td>2.000000</td>\n      <td>0.000000</td>\n    </tr>\n    <tr>\n      <th>max</th>\n      <td>1.000000</td>\n      <td>65.000000</td>\n      <td>79000.000000</td>\n      <td>6.000000</td>\n      <td>5.000000</td>\n    </tr>\n  </tbody>\n</table>\n</div>"
     },
     "execution_count": 10,
     "metadata": {},
     "output_type": "execute_result"
    }
   ],
   "source": [
    "df.describe()"
   ]
  },
  {
   "cell_type": "markdown",
   "metadata": {},
   "source": [
    "## Умножение матриц"
   ]
  },
  {
   "cell_type": "markdown",
   "metadata": {},
   "source": [
    "Предсказания:\n",
    "\n",
    "$$\n",
    "a = Xw\n",
    "$$\n",
    "$$\n",
    "a'  = XPw'\n",
    "$$\n",
    "\n",
    "Задача обучения:\n",
    "\n",
    "$$\n",
    "w = \\arg\\min_w MSE(Xw, y)\n",
    "$$\n",
    "$$\n",
    "w'= \\arg\\min_w MSE(XPw', y)\n",
    "$$\n",
    "\n",
    "Формула обучения:\n",
    "\n",
    "$$\n",
    "w = (X^T X)^{-1} X^T y\n",
    "$$\n",
    "\n",
    "Формула обучения преобразованной матрицы:\n",
    "\n",
    "$$\n",
    "w' = ((XP)^T) (XP))^{-1} (XP)^T y\n",
    "$$"
   ]
  },
  {
   "cell_type": "markdown",
   "metadata": {},
   "source": [
    "**Ответ:** Умножение матрицы признаков на случайную обратимую матрицу не изменит качество линейной регрессии\n",
    "\n",
    "**Обоснование:**  докажем, что $$ a = a_A $$\n",
    "\n",
    "  $$ w' = ((XP)^T) (XP))^{-1} (XP)^T y = (P^TX^TXP)^{-1}P^TX^Ty=(X^TXP)^{-1}(P^T)^{-1}P^TX^Ty=P^{-1}(X^TX)^{-1}(P^T)^{-1}P^TX^Ty = P^{-1}(X^TX)^{-1}X^Ty = P^{-1}w $$ \n",
    "  Отсюда $$a'= XPw' = XPP^{-1}w = Xw = a $$"
   ]
  },
  {
   "cell_type": "markdown",
   "metadata": {},
   "source": [
    "**Проверим это на практике**"
   ]
  },
  {
   "cell_type": "markdown",
   "metadata": {},
   "source": [
    "Обучим модель линейной модели изначальных данных"
   ]
  },
  {
   "cell_type": "code",
   "execution_count": 11,
   "metadata": {},
   "outputs": [],
   "source": [
    "features = df.drop('insurance_payments', axis=1)\n",
    "target = df['insurance_payments']"
   ]
  },
  {
   "cell_type": "code",
   "execution_count": 12,
   "metadata": {},
   "outputs": [
    {
     "data": {
      "text/plain": "4847"
     },
     "execution_count": 12,
     "metadata": {},
     "output_type": "execute_result"
    }
   ],
   "source": [
    "features.shape[0]"
   ]
  },
  {
   "cell_type": "code",
   "execution_count": 13,
   "metadata": {},
   "outputs": [
    {
     "name": "stdout",
     "output_type": "stream",
     "text": [
      "0.4302010044852067\n"
     ]
    }
   ],
   "source": [
    "class LinearRegression:\n",
    "    def fit(self, train_features, train_target):\n",
    "        X = np.concatenate((np.ones((train_features.shape[0], 1)), train_features), axis=1)\n",
    "        y = train_target\n",
    "        w = np.linalg.inv(X.T.dot(X)).dot(X.T).dot(y)\n",
    "        self.w = w[1:]\n",
    "        self.w0 = w[0]\n",
    "\n",
    "    def predict(self, test_features):\n",
    "        return test_features.dot(self.w) + self.w0\n",
    "\n",
    "model = LinearRegression()\n",
    "model.fit(features, target)\n",
    "predictions = model.predict(features)\n",
    "print(r2_score(target, predictions))"
   ]
  },
  {
   "cell_type": "code",
   "execution_count": 14,
   "metadata": {},
   "outputs": [],
   "source": [
    "np.random.seed(0)\n",
    "P = np.random.random((features.shape[1], features.shape[1]))\n",
    "if np.linalg.det(P):\n",
    "    features_p = features @ P\n",
    "else:\n",
    "    print('Матрица не обратима')"
   ]
  },
  {
   "cell_type": "code",
   "execution_count": 15,
   "metadata": {},
   "outputs": [
    {
     "name": "stdout",
     "output_type": "stream",
     "text": [
      "0.4302010044708513\n"
     ]
    }
   ],
   "source": [
    "model.fit(features_p, target)\n",
    "predictions = model.predict(features_p)\n",
    "print(r2_score(target, predictions))"
   ]
  },
  {
   "cell_type": "markdown",
   "metadata": {},
   "source": [
    "**ВЫВОД** Как и следовало ожидать умножение матрицы признаков на случайную обратимую матрицу не изменило качество линейной регрессии, значеня r2 в обоих случаях равны"
   ]
  },
  {
   "cell_type": "markdown",
   "metadata": {},
   "source": [
    "## Алгоритм преобразования"
   ]
  },
  {
   "cell_type": "markdown",
   "metadata": {},
   "source": [
    "**Алгоритм**\n",
    "\n",
    "Напишем функцию шифрования персональных данных"
   ]
  },
  {
   "cell_type": "code",
   "execution_count": 16,
   "metadata": {},
   "outputs": [],
   "source": [
    "def encode(target_column,seed):\n",
    "    np.random.seed(0)\n",
    "    features = df.drop(target_column, axis=1)\n",
    "    P = np.random.random((features.shape[1], features.shape[1]))\n",
    "    if np.linalg.det(P):\n",
    "        features_p = features @ P\n",
    "        return features_p\n",
    "    else:\n",
    "        print('Матрица не обратима')"
   ]
  },
  {
   "cell_type": "markdown",
   "metadata": {},
   "source": [
    "**Обоснование**\n",
    "\n",
    "докажем, что $$ a = a_A $$\n",
    "\n",
    "  $$ w' = ((XP)^T) (XP))^{-1} (XP)^T y = (P^TX^TXP)^{-1}P^TX^Ty=(X^TXP)^{-1}(P^T)^{-1}P^TX^Ty=P^{-1}(X^TX)^{-1}(P^T)^{-1}P^TX^Ty = P^{-1}(X^TX)^{-1}X^Ty = P^{-1}w $$ \n",
    "  Отсюда $$a'= XPw' = XPP^{-1}w = Xw = a $$"
   ]
  },
  {
   "cell_type": "markdown",
   "metadata": {},
   "source": [
    "## Проверка алгоритма"
   ]
  },
  {
   "cell_type": "code",
   "execution_count": 18,
   "metadata": {},
   "outputs": [
    {
     "data": {
      "text/plain": "                 0             1             2             3\n0     47816.159626  19046.821778  39288.176764  26270.382725\n1     36639.241064  14601.414441  30105.751495  20139.115638\n2     20249.203960   8071.002825  16638.915829  11132.654732\n3     40194.769953  16004.926305  33024.265492  22073.819645\n4     25164.009197  10026.623866  20676.878699  13829.671933\n...            ...           ...           ...           ...\n4995  34415.758973  13708.798451  28276.978374  18906.692538\n4996  50510.900958  20115.221583  41501.340997  27744.501206\n4997  32677.776766  13013.436564  26848.372607  17947.547498\n4998  31523.345621  12556.239315  25899.851536  17315.289153\n4999  39137.687269  15587.451485  32156.962788  21498.735398\n\n[4847 rows x 4 columns]",
      "text/html": "<div>\n<style scoped>\n    .dataframe tbody tr th:only-of-type {\n        vertical-align: middle;\n    }\n\n    .dataframe tbody tr th {\n        vertical-align: top;\n    }\n\n    .dataframe thead th {\n        text-align: right;\n    }\n</style>\n<table border=\"1\" class=\"dataframe\">\n  <thead>\n    <tr style=\"text-align: right;\">\n      <th></th>\n      <th>0</th>\n      <th>1</th>\n      <th>2</th>\n      <th>3</th>\n    </tr>\n  </thead>\n  <tbody>\n    <tr>\n      <th>0</th>\n      <td>47816.159626</td>\n      <td>19046.821778</td>\n      <td>39288.176764</td>\n      <td>26270.382725</td>\n    </tr>\n    <tr>\n      <th>1</th>\n      <td>36639.241064</td>\n      <td>14601.414441</td>\n      <td>30105.751495</td>\n      <td>20139.115638</td>\n    </tr>\n    <tr>\n      <th>2</th>\n      <td>20249.203960</td>\n      <td>8071.002825</td>\n      <td>16638.915829</td>\n      <td>11132.654732</td>\n    </tr>\n    <tr>\n      <th>3</th>\n      <td>40194.769953</td>\n      <td>16004.926305</td>\n      <td>33024.265492</td>\n      <td>22073.819645</td>\n    </tr>\n    <tr>\n      <th>4</th>\n      <td>25164.009197</td>\n      <td>10026.623866</td>\n      <td>20676.878699</td>\n      <td>13829.671933</td>\n    </tr>\n    <tr>\n      <th>...</th>\n      <td>...</td>\n      <td>...</td>\n      <td>...</td>\n      <td>...</td>\n    </tr>\n    <tr>\n      <th>4995</th>\n      <td>34415.758973</td>\n      <td>13708.798451</td>\n      <td>28276.978374</td>\n      <td>18906.692538</td>\n    </tr>\n    <tr>\n      <th>4996</th>\n      <td>50510.900958</td>\n      <td>20115.221583</td>\n      <td>41501.340997</td>\n      <td>27744.501206</td>\n    </tr>\n    <tr>\n      <th>4997</th>\n      <td>32677.776766</td>\n      <td>13013.436564</td>\n      <td>26848.372607</td>\n      <td>17947.547498</td>\n    </tr>\n    <tr>\n      <th>4998</th>\n      <td>31523.345621</td>\n      <td>12556.239315</td>\n      <td>25899.851536</td>\n      <td>17315.289153</td>\n    </tr>\n    <tr>\n      <th>4999</th>\n      <td>39137.687269</td>\n      <td>15587.451485</td>\n      <td>32156.962788</td>\n      <td>21498.735398</td>\n    </tr>\n  </tbody>\n</table>\n<p>4847 rows × 4 columns</p>\n</div>"
     },
     "execution_count": 18,
     "metadata": {},
     "output_type": "execute_result"
    }
   ],
   "source": [
    "encode('insurance_payments')"
   ]
  },
  {
   "cell_type": "markdown",
   "metadata": {},
   "source": [
    "Данные закодированы"
   ]
  },
  {
   "cell_type": "code",
   "execution_count": 20,
   "metadata": {},
   "outputs": [
    {
     "name": "stdout",
     "output_type": "stream",
     "text": [
      "r2: 0.4302010044708513\n",
      "True\n"
     ]
    }
   ],
   "source": [
    "model.fit(encode('insurance_payments'), target)\n",
    "predictions_A = model.predict(encode('insurance_payments'))\n",
    "print('r2:',r2_score(target, predictions))\n",
    "print(r2_score(target, predictions)==r2_score(target, predictions_A))"
   ]
  },
  {
   "cell_type": "markdown",
   "metadata": {},
   "source": [
    "Значение метрики r2 до и после кодирования равны"
   ]
  },
  {
   "cell_type": "markdown",
   "metadata": {},
   "source": [
    "## Чек-лист проверки"
   ]
  },
  {
   "cell_type": "markdown",
   "metadata": {},
   "source": [
    "Поставьте 'x' в выполненных пунктах. Далее нажмите Shift+Enter."
   ]
  },
  {
   "cell_type": "markdown",
   "metadata": {},
   "source": [
    "- [x]  Jupyter Notebook открыт\n",
    "- [x]  Весь код выполняется без ошибок\n",
    "- [x]  Ячейки с кодом расположены в порядке исполнения\n",
    "- [x]  Выполнен шаг 1: данные загружены\n",
    "- [x]  Выполнен шаг 2: получен ответ на вопрос об умножении матриц\n",
    "    - [x]  Указан правильный вариант ответа\n",
    "    - [x]  Вариант обоснован\n",
    "- [x]  Выполнен шаг 3: предложен алгоритм преобразования\n",
    "    - [x]  Алгоритм описан\n",
    "    - [x]  Алгоритм обоснован\n",
    "- [x]  Выполнен шаг 4: алгоритм проверен\n",
    "    - [x]  Алгоритм реализован\n",
    "    - [x]  Проведено сравнение качества моделей до и после преобразования"
   ]
  }
 ],
 "metadata": {
  "ExecuteTimeLog": [
   {
    "duration": 774,
    "start_time": "2021-06-24T11:03:36.640Z"
   },
   {
    "duration": 20,
    "start_time": "2021-06-24T11:04:09.771Z"
   },
   {
    "duration": 22,
    "start_time": "2021-06-24T11:04:16.921Z"
   },
   {
    "duration": 13,
    "start_time": "2021-06-24T11:04:26.842Z"
   },
   {
    "duration": 372,
    "start_time": "2021-06-25T06:10:38.358Z"
   },
   {
    "duration": 701,
    "start_time": "2021-06-25T06:10:42.820Z"
   },
   {
    "duration": 19,
    "start_time": "2021-06-25T06:10:43.757Z"
   },
   {
    "duration": 22,
    "start_time": "2021-06-25T06:10:44.296Z"
   },
   {
    "duration": 7,
    "start_time": "2021-06-25T06:10:45.123Z"
   },
   {
    "duration": 340,
    "start_time": "2021-06-25T06:11:23.555Z"
   },
   {
    "duration": 10,
    "start_time": "2021-06-25T06:11:45.408Z"
   },
   {
    "duration": 8,
    "start_time": "2021-06-25T06:11:54.227Z"
   },
   {
    "duration": 9,
    "start_time": "2021-06-25T06:12:05.769Z"
   },
   {
    "duration": 11,
    "start_time": "2021-06-25T06:12:19.674Z"
   },
   {
    "duration": 8,
    "start_time": "2021-06-25T06:12:23.929Z"
   },
   {
    "duration": 10,
    "start_time": "2021-06-25T06:13:18.889Z"
   },
   {
    "duration": 9,
    "start_time": "2021-06-25T06:13:47.067Z"
   },
   {
    "duration": 1337,
    "start_time": "2021-06-25T06:13:53.106Z"
   },
   {
    "duration": 9,
    "start_time": "2021-06-25T06:13:58.291Z"
   },
   {
    "duration": 20,
    "start_time": "2021-06-25T06:14:24.930Z"
   },
   {
    "duration": 319,
    "start_time": "2021-06-25T06:16:46.387Z"
   },
   {
    "duration": 23,
    "start_time": "2021-06-25T06:17:13.003Z"
   },
   {
    "duration": 372,
    "start_time": "2021-06-25T06:18:47.813Z"
   },
   {
    "duration": 93,
    "start_time": "2021-06-25T06:19:03.460Z"
   },
   {
    "duration": 10,
    "start_time": "2021-06-25T06:20:41.582Z"
   },
   {
    "duration": 9,
    "start_time": "2021-06-25T06:20:54.086Z"
   },
   {
    "duration": 8,
    "start_time": "2021-06-25T06:20:58.949Z"
   },
   {
    "duration": 6,
    "start_time": "2021-06-25T06:25:42.245Z"
   },
   {
    "duration": 11,
    "start_time": "2021-06-25T06:25:50.318Z"
   },
   {
    "duration": 10,
    "start_time": "2021-06-25T06:26:03.773Z"
   },
   {
    "duration": 13,
    "start_time": "2021-06-25T06:26:16.751Z"
   },
   {
    "duration": 14,
    "start_time": "2021-06-25T06:26:29.301Z"
   },
   {
    "duration": 3,
    "start_time": "2021-06-25T06:26:35.387Z"
   },
   {
    "duration": 20,
    "start_time": "2021-06-25T06:26:36.571Z"
   },
   {
    "duration": 12,
    "start_time": "2021-06-25T06:26:37.122Z"
   },
   {
    "duration": 10,
    "start_time": "2021-06-25T06:26:37.638Z"
   },
   {
    "duration": 8,
    "start_time": "2021-06-25T06:26:40.332Z"
   },
   {
    "duration": 8,
    "start_time": "2021-06-25T06:26:41.015Z"
   },
   {
    "duration": 22,
    "start_time": "2021-06-25T06:26:41.985Z"
   },
   {
    "duration": 8,
    "start_time": "2021-06-25T06:26:59.696Z"
   },
   {
    "duration": 12,
    "start_time": "2021-06-25T06:27:00.257Z"
   },
   {
    "duration": 8,
    "start_time": "2021-06-25T06:27:07.968Z"
   },
   {
    "duration": 733,
    "start_time": "2021-06-25T06:28:56.920Z"
   },
   {
    "duration": 20,
    "start_time": "2021-06-25T06:28:58.041Z"
   },
   {
    "duration": 26,
    "start_time": "2021-06-25T06:28:58.335Z"
   },
   {
    "duration": 10,
    "start_time": "2021-06-25T06:28:59.027Z"
   },
   {
    "duration": 8,
    "start_time": "2021-06-25T06:29:01.397Z"
   },
   {
    "duration": 10,
    "start_time": "2021-06-25T06:29:02.138Z"
   },
   {
    "duration": 22,
    "start_time": "2021-06-25T06:29:04.178Z"
   },
   {
    "duration": 11,
    "start_time": "2021-06-25T06:30:20.642Z"
   },
   {
    "duration": 410,
    "start_time": "2021-06-25T06:30:28.663Z"
   },
   {
    "duration": 9,
    "start_time": "2021-06-25T06:30:33.745Z"
   },
   {
    "duration": 25,
    "start_time": "2021-06-25T06:30:45.402Z"
   },
   {
    "duration": 20,
    "start_time": "2021-06-25T06:32:33.595Z"
   },
   {
    "duration": 8,
    "start_time": "2021-06-25T06:34:40.836Z"
   },
   {
    "duration": 20,
    "start_time": "2021-06-25T06:34:48.723Z"
   },
   {
    "duration": 20,
    "start_time": "2021-06-25T06:36:11.524Z"
   },
   {
    "duration": 9,
    "start_time": "2021-06-25T06:36:57.106Z"
   },
   {
    "duration": 7,
    "start_time": "2021-06-25T06:37:01.447Z"
   },
   {
    "duration": 8,
    "start_time": "2021-06-25T06:37:02.120Z"
   },
   {
    "duration": 743,
    "start_time": "2021-06-25T08:06:10.604Z"
   },
   {
    "duration": 19,
    "start_time": "2021-06-25T08:06:11.350Z"
   },
   {
    "duration": 22,
    "start_time": "2021-06-25T08:06:11.372Z"
   },
   {
    "duration": 24,
    "start_time": "2021-06-25T08:06:11.396Z"
   },
   {
    "duration": 12,
    "start_time": "2021-06-25T08:06:11.422Z"
   },
   {
    "duration": 9,
    "start_time": "2021-06-25T08:06:11.436Z"
   },
   {
    "duration": 559,
    "start_time": "2021-06-25T08:06:11.447Z"
   },
   {
    "duration": -53,
    "start_time": "2021-06-25T08:06:12.062Z"
   },
   {
    "duration": 304,
    "start_time": "2021-06-25T08:06:33.594Z"
   },
   {
    "duration": 327,
    "start_time": "2021-06-25T08:08:28.340Z"
   },
   {
    "duration": 8,
    "start_time": "2021-06-25T08:08:37.104Z"
   },
   {
    "duration": 325,
    "start_time": "2021-06-25T08:08:37.921Z"
   },
   {
    "duration": 715,
    "start_time": "2021-06-25T08:08:48.611Z"
   },
   {
    "duration": 21,
    "start_time": "2021-06-25T08:08:49.329Z"
   },
   {
    "duration": 27,
    "start_time": "2021-06-25T08:08:49.353Z"
   },
   {
    "duration": 8,
    "start_time": "2021-06-25T08:08:49.383Z"
   },
   {
    "duration": 9,
    "start_time": "2021-06-25T08:08:49.394Z"
   },
   {
    "duration": 11,
    "start_time": "2021-06-25T08:08:49.405Z"
   },
   {
    "duration": 7,
    "start_time": "2021-06-25T08:08:49.418Z"
   },
   {
    "duration": 45,
    "start_time": "2021-06-25T08:08:49.428Z"
   },
   {
    "duration": 36,
    "start_time": "2021-06-25T08:09:28.793Z"
   },
   {
    "duration": 717,
    "start_time": "2021-06-27T13:59:46.213Z"
   },
   {
    "duration": 21,
    "start_time": "2021-06-27T13:59:47.213Z"
   },
   {
    "duration": 22,
    "start_time": "2021-06-27T13:59:47.607Z"
   },
   {
    "duration": 10,
    "start_time": "2021-06-27T13:59:49.456Z"
   },
   {
    "duration": 7,
    "start_time": "2021-06-27T13:59:52.129Z"
   },
   {
    "duration": 8,
    "start_time": "2021-06-27T13:59:52.649Z"
   },
   {
    "duration": 8,
    "start_time": "2021-06-27T13:59:56.047Z"
   },
   {
    "duration": 9,
    "start_time": "2021-06-27T13:59:56.815Z"
   },
   {
    "duration": 36,
    "start_time": "2021-06-27T13:59:57.842Z"
   },
   {
    "duration": 11,
    "start_time": "2021-06-27T14:05:32.385Z"
   },
   {
    "duration": 11,
    "start_time": "2021-06-27T14:05:33.262Z"
   },
   {
    "duration": 3,
    "start_time": "2021-06-27T14:05:39.144Z"
   },
   {
    "duration": 22,
    "start_time": "2021-06-27T14:05:39.764Z"
   },
   {
    "duration": 12,
    "start_time": "2021-06-27T14:05:40.053Z"
   },
   {
    "duration": 10,
    "start_time": "2021-06-27T14:05:40.316Z"
   },
   {
    "duration": 9,
    "start_time": "2021-06-27T14:05:40.995Z"
   },
   {
    "duration": 772,
    "start_time": "2021-06-27T14:05:54.521Z"
   },
   {
    "duration": 22,
    "start_time": "2021-06-27T14:05:55.295Z"
   },
   {
    "duration": 22,
    "start_time": "2021-06-27T14:05:55.321Z"
   },
   {
    "duration": 11,
    "start_time": "2021-06-27T14:05:55.346Z"
   },
   {
    "duration": 41,
    "start_time": "2021-06-27T14:05:55.360Z"
   },
   {
    "duration": 10,
    "start_time": "2021-06-27T14:05:55.404Z"
   },
   {
    "duration": 10,
    "start_time": "2021-06-27T14:05:55.417Z"
   },
   {
    "duration": 8,
    "start_time": "2021-06-27T14:05:55.431Z"
   },
   {
    "duration": 9,
    "start_time": "2021-06-27T14:05:55.442Z"
   },
   {
    "duration": 34,
    "start_time": "2021-06-27T14:05:55.501Z"
   },
   {
    "duration": 4,
    "start_time": "2021-06-27T14:06:15.746Z"
   },
   {
    "duration": 20,
    "start_time": "2021-06-27T14:06:17.251Z"
   },
   {
    "duration": 11,
    "start_time": "2021-06-27T14:06:17.853Z"
   },
   {
    "duration": 9,
    "start_time": "2021-06-27T14:06:18.420Z"
   },
   {
    "duration": 9,
    "start_time": "2021-06-27T14:06:18.791Z"
   },
   {
    "duration": 8,
    "start_time": "2021-06-27T14:06:19.214Z"
   },
   {
    "duration": 752,
    "start_time": "2021-06-27T14:06:26.586Z"
   },
   {
    "duration": 22,
    "start_time": "2021-06-27T14:06:27.340Z"
   },
   {
    "duration": 21,
    "start_time": "2021-06-27T14:06:27.365Z"
   },
   {
    "duration": 18,
    "start_time": "2021-06-27T14:06:27.389Z"
   },
   {
    "duration": 10,
    "start_time": "2021-06-27T14:06:27.409Z"
   },
   {
    "duration": 6,
    "start_time": "2021-06-27T14:06:27.422Z"
   },
   {
    "duration": 13,
    "start_time": "2021-06-27T14:06:27.430Z"
   },
   {
    "duration": 8,
    "start_time": "2021-06-27T14:06:27.446Z"
   },
   {
    "duration": 46,
    "start_time": "2021-06-27T14:06:27.456Z"
   },
   {
    "duration": 34,
    "start_time": "2021-06-27T14:06:27.505Z"
   },
   {
    "duration": 23,
    "start_time": "2021-06-27T14:06:48.245Z"
   },
   {
    "duration": 11,
    "start_time": "2021-06-27T14:06:48.617Z"
   },
   {
    "duration": 25,
    "start_time": "2021-06-27T14:06:57.355Z"
   },
   {
    "duration": 8,
    "start_time": "2021-06-27T14:07:00.184Z"
   },
   {
    "duration": 357,
    "start_time": "2021-06-27T14:07:39.968Z"
   },
   {
    "duration": 9,
    "start_time": "2021-06-27T14:07:40.744Z"
   },
   {
    "duration": 5,
    "start_time": "2021-06-27T14:07:47.760Z"
   },
   {
    "duration": 9,
    "start_time": "2021-06-27T14:07:48.479Z"
   },
   {
    "duration": 6,
    "start_time": "2021-06-27T14:08:29.653Z"
   },
   {
    "duration": 9,
    "start_time": "2021-06-27T14:08:30.126Z"
   },
   {
    "duration": 7,
    "start_time": "2021-06-27T14:08:32.750Z"
   },
   {
    "duration": 9,
    "start_time": "2021-06-27T14:08:33.208Z"
   },
   {
    "duration": 7,
    "start_time": "2021-06-27T14:08:34.455Z"
   },
   {
    "duration": 8,
    "start_time": "2021-06-27T14:08:35.200Z"
   },
   {
    "duration": 34,
    "start_time": "2021-06-27T14:08:36.766Z"
   },
   {
    "duration": 5,
    "start_time": "2021-06-27T14:12:52.490Z"
   },
   {
    "duration": 537,
    "start_time": "2021-06-30T06:55:09.516Z"
   },
   {
    "duration": 20,
    "start_time": "2021-06-30T06:55:10.492Z"
   },
   {
    "duration": 15,
    "start_time": "2021-06-30T06:55:10.981Z"
   },
   {
    "duration": 4,
    "start_time": "2021-06-30T06:55:11.777Z"
   },
   {
    "duration": 7,
    "start_time": "2021-06-30T06:55:12.620Z"
   },
   {
    "duration": 5,
    "start_time": "2021-06-30T06:55:16.051Z"
   },
   {
    "duration": 6,
    "start_time": "2021-06-30T06:55:16.537Z"
   },
   {
    "duration": 5,
    "start_time": "2021-06-30T06:55:21.033Z"
   },
   {
    "duration": 6,
    "start_time": "2021-06-30T06:55:21.519Z"
   },
   {
    "duration": 23,
    "start_time": "2021-06-30T06:55:22.269Z"
   },
   {
    "duration": 629,
    "start_time": "2021-10-18T09:10:38.537Z"
   },
   {
    "duration": 19,
    "start_time": "2021-10-18T09:10:41.186Z"
   },
   {
    "duration": 14,
    "start_time": "2021-10-18T09:10:42.841Z"
   },
   {
    "duration": 4,
    "start_time": "2021-10-18T09:10:47.338Z"
   },
   {
    "duration": 8,
    "start_time": "2021-10-18T09:10:49.443Z"
   },
   {
    "duration": 6,
    "start_time": "2021-10-18T09:10:50.658Z"
   },
   {
    "duration": 5,
    "start_time": "2021-10-18T09:10:51.564Z"
   },
   {
    "duration": 5,
    "start_time": "2021-10-18T09:10:54.242Z"
   },
   {
    "duration": 6,
    "start_time": "2021-10-18T09:10:55.243Z"
   },
   {
    "duration": 21,
    "start_time": "2021-10-18T09:10:57.001Z"
   },
   {
    "duration": 765,
    "start_time": "2021-10-18T09:23:31.381Z"
   },
   {
    "duration": 6,
    "start_time": "2021-10-18T09:23:36.618Z"
   },
   {
    "duration": 583,
    "start_time": "2021-10-18T09:23:37.269Z"
   },
   {
    "duration": 3,
    "start_time": "2021-10-18T09:23:56.814Z"
   },
   {
    "duration": 362,
    "start_time": "2021-10-18T09:24:02.673Z"
   },
   {
    "duration": 483,
    "start_time": "2021-10-18T09:24:16.990Z"
   },
   {
    "duration": 5,
    "start_time": "2021-10-18T09:24:22.096Z"
   },
   {
    "duration": 14,
    "start_time": "2021-10-18T09:36:35.897Z"
   },
   {
    "duration": 10,
    "start_time": "2021-10-18T09:38:15.412Z"
   },
   {
    "duration": 3,
    "start_time": "2021-10-18T10:00:04.103Z"
   },
   {
    "duration": 384,
    "start_time": "2021-10-18T10:16:22.637Z"
   },
   {
    "duration": 364,
    "start_time": "2021-10-18T10:16:33.900Z"
   },
   {
    "duration": 4,
    "start_time": "2021-10-18T10:16:47.805Z"
   },
   {
    "duration": 4,
    "start_time": "2021-10-18T10:16:53.796Z"
   },
   {
    "duration": 4,
    "start_time": "2021-10-18T10:17:14.012Z"
   },
   {
    "duration": 334,
    "start_time": "2021-10-18T10:17:26.309Z"
   },
   {
    "duration": 4,
    "start_time": "2021-10-18T10:17:33.995Z"
   },
   {
    "duration": 4,
    "start_time": "2021-10-18T10:17:39.028Z"
   },
   {
    "duration": 141,
    "start_time": "2021-10-18T10:18:20.141Z"
   },
   {
    "duration": 34988,
    "start_time": "2021-10-18T10:18:46.590Z"
   },
   {
    "duration": 298,
    "start_time": "2021-10-18T10:19:21.581Z"
   },
   {
    "duration": 5,
    "start_time": "2021-10-18T10:19:42.195Z"
   },
   {
    "duration": 940,
    "start_time": "2021-10-18T10:19:45.023Z"
   },
   {
    "duration": 159,
    "start_time": "2021-10-18T10:20:26.117Z"
   },
   {
    "duration": 854,
    "start_time": "2021-10-18T10:20:27.370Z"
   },
   {
    "duration": 4,
    "start_time": "2021-10-18T10:23:13.753Z"
   },
   {
    "duration": 4,
    "start_time": "2021-10-18T10:23:44.191Z"
   },
   {
    "duration": 8,
    "start_time": "2021-10-18T10:23:45.085Z"
   },
   {
    "duration": 9,
    "start_time": "2021-10-18T10:23:52.918Z"
   },
   {
    "duration": 342,
    "start_time": "2021-10-18T10:35:56.772Z"
   },
   {
    "duration": 3,
    "start_time": "2021-10-18T10:37:53.266Z"
   },
   {
    "duration": 5,
    "start_time": "2021-10-18T10:38:05.402Z"
   },
   {
    "duration": 330,
    "start_time": "2021-10-18T10:40:09.283Z"
   },
   {
    "duration": 5,
    "start_time": "2021-10-18T10:40:25.202Z"
   },
   {
    "duration": 6,
    "start_time": "2021-10-18T10:41:12.498Z"
   },
   {
    "duration": 5,
    "start_time": "2021-10-18T10:41:21.228Z"
   },
   {
    "duration": 8,
    "start_time": "2021-10-18T10:41:31.612Z"
   },
   {
    "duration": 5,
    "start_time": "2021-10-18T11:03:19.129Z"
   },
   {
    "duration": 9,
    "start_time": "2021-10-18T11:03:22.128Z"
   },
   {
    "duration": 4,
    "start_time": "2021-10-18T11:03:31.714Z"
   },
   {
    "duration": 5,
    "start_time": "2021-10-18T11:03:41.458Z"
   },
   {
    "duration": 4,
    "start_time": "2021-10-18T11:03:50.146Z"
   },
   {
    "duration": 4,
    "start_time": "2021-10-18T11:39:38.433Z"
   },
   {
    "duration": 9,
    "start_time": "2021-10-18T11:40:02.636Z"
   },
   {
    "duration": 11,
    "start_time": "2021-10-18T11:40:12.852Z"
   },
   {
    "duration": 677,
    "start_time": "2021-10-18T11:42:50.218Z"
   },
   {
    "duration": 3,
    "start_time": "2021-10-18T11:42:55.990Z"
   },
   {
    "duration": 11,
    "start_time": "2021-10-18T11:42:57.173Z"
   },
   {
    "duration": 17,
    "start_time": "2021-10-18T11:43:00.670Z"
   },
   {
    "duration": 1070,
    "start_time": "2021-10-18T11:43:49.899Z"
   },
   {
    "duration": 18,
    "start_time": "2021-10-18T11:43:50.971Z"
   },
   {
    "duration": 25,
    "start_time": "2021-10-18T11:43:50.991Z"
   },
   {
    "duration": 13,
    "start_time": "2021-10-18T11:43:51.018Z"
   },
   {
    "duration": 15,
    "start_time": "2021-10-18T11:43:51.032Z"
   },
   {
    "duration": 6,
    "start_time": "2021-10-18T11:43:51.049Z"
   },
   {
    "duration": 8,
    "start_time": "2021-10-18T11:43:51.057Z"
   },
   {
    "duration": 14,
    "start_time": "2021-10-18T11:43:51.067Z"
   },
   {
    "duration": 11,
    "start_time": "2021-10-18T11:43:51.082Z"
   },
   {
    "duration": 21,
    "start_time": "2021-10-18T11:43:51.095Z"
   },
   {
    "duration": 4,
    "start_time": "2021-10-18T11:43:51.118Z"
   },
   {
    "duration": 13,
    "start_time": "2021-10-18T11:43:51.124Z"
   },
   {
    "duration": 49,
    "start_time": "2021-10-18T11:43:51.139Z"
   },
   {
    "duration": 86,
    "start_time": "2021-10-18T11:43:51.191Z"
   },
   {
    "duration": 18,
    "start_time": "2021-10-18T11:43:51.279Z"
   },
   {
    "duration": 83,
    "start_time": "2021-10-18T11:43:51.299Z"
   },
   {
    "duration": 102,
    "start_time": "2021-10-18T11:43:51.384Z"
   },
   {
    "duration": 12,
    "start_time": "2021-10-18T11:43:51.488Z"
   },
   {
    "duration": 11,
    "start_time": "2021-10-18T11:45:09.391Z"
   },
   {
    "duration": 19,
    "start_time": "2021-10-18T11:46:22.468Z"
   },
   {
    "duration": 1328,
    "start_time": "2021-10-18T11:46:29.644Z"
   },
   {
    "duration": 22,
    "start_time": "2021-10-18T11:46:30.977Z"
   },
   {
    "duration": 21,
    "start_time": "2021-10-18T11:46:31.001Z"
   },
   {
    "duration": 7,
    "start_time": "2021-10-18T11:46:31.024Z"
   },
   {
    "duration": 16,
    "start_time": "2021-10-18T11:46:31.034Z"
   },
   {
    "duration": 17,
    "start_time": "2021-10-18T11:46:31.052Z"
   },
   {
    "duration": 12,
    "start_time": "2021-10-18T11:46:31.070Z"
   },
   {
    "duration": 13,
    "start_time": "2021-10-18T11:46:31.085Z"
   },
   {
    "duration": 23,
    "start_time": "2021-10-18T11:46:31.100Z"
   },
   {
    "duration": 36,
    "start_time": "2021-10-18T11:46:31.126Z"
   },
   {
    "duration": 13,
    "start_time": "2021-10-18T11:46:31.164Z"
   },
   {
    "duration": 4,
    "start_time": "2021-10-18T11:46:31.179Z"
   },
   {
    "duration": 96,
    "start_time": "2021-10-18T11:46:31.185Z"
   },
   {
    "duration": 94,
    "start_time": "2021-10-18T11:46:31.284Z"
   },
   {
    "duration": 13,
    "start_time": "2021-10-18T11:46:31.380Z"
   },
   {
    "duration": 84,
    "start_time": "2021-10-18T11:46:31.395Z"
   },
   {
    "duration": 13,
    "start_time": "2021-10-18T11:46:31.576Z"
   },
   {
    "duration": 12,
    "start_time": "2021-10-18T11:46:31.591Z"
   },
   {
    "duration": 1118,
    "start_time": "2021-10-18T12:03:32.738Z"
   },
   {
    "duration": 18,
    "start_time": "2021-10-18T12:03:33.858Z"
   },
   {
    "duration": 31,
    "start_time": "2021-10-18T12:03:33.878Z"
   },
   {
    "duration": 19,
    "start_time": "2021-10-18T12:03:33.911Z"
   },
   {
    "duration": 21,
    "start_time": "2021-10-18T12:03:33.932Z"
   },
   {
    "duration": 7,
    "start_time": "2021-10-18T12:03:33.955Z"
   },
   {
    "duration": 19,
    "start_time": "2021-10-18T12:03:33.964Z"
   },
   {
    "duration": 5,
    "start_time": "2021-10-18T12:03:34.690Z"
   },
   {
    "duration": 8,
    "start_time": "2021-10-18T12:03:35.045Z"
   },
   {
    "duration": 23,
    "start_time": "2021-10-18T12:03:35.226Z"
   },
   {
    "duration": 5,
    "start_time": "2021-10-18T12:03:36.472Z"
   },
   {
    "duration": 4,
    "start_time": "2021-10-18T12:03:36.635Z"
   },
   {
    "duration": 18,
    "start_time": "2021-10-18T12:03:36.756Z"
   },
   {
    "duration": 4,
    "start_time": "2021-10-18T12:03:36.965Z"
   },
   {
    "duration": 8,
    "start_time": "2021-10-18T12:03:37.072Z"
   },
   {
    "duration": 3,
    "start_time": "2021-10-18T12:03:37.886Z"
   },
   {
    "duration": 13,
    "start_time": "2021-10-18T12:03:38.407Z"
   },
   {
    "duration": 15,
    "start_time": "2021-10-18T12:03:38.738Z"
   },
   {
    "duration": 5,
    "start_time": "2021-10-18T15:24:50.531Z"
   },
   {
    "duration": 571,
    "start_time": "2021-10-18T15:24:57.099Z"
   },
   {
    "duration": 1362,
    "start_time": "2021-10-18T15:25:33.051Z"
   },
   {
    "duration": 39,
    "start_time": "2021-10-18T15:25:34.416Z"
   },
   {
    "duration": 21,
    "start_time": "2021-10-18T15:25:34.457Z"
   },
   {
    "duration": 8,
    "start_time": "2021-10-18T15:25:34.481Z"
   },
   {
    "duration": 20,
    "start_time": "2021-10-18T15:25:34.491Z"
   },
   {
    "duration": 8,
    "start_time": "2021-10-18T15:25:34.514Z"
   },
   {
    "duration": 12,
    "start_time": "2021-10-18T15:25:34.525Z"
   },
   {
    "duration": 7,
    "start_time": "2021-10-18T15:25:34.540Z"
   },
   {
    "duration": 12,
    "start_time": "2021-10-18T15:25:34.549Z"
   },
   {
    "duration": 66,
    "start_time": "2021-10-18T15:25:34.563Z"
   },
   {
    "duration": 5,
    "start_time": "2021-10-18T15:25:34.632Z"
   },
   {
    "duration": 8,
    "start_time": "2021-10-18T15:25:34.640Z"
   },
   {
    "duration": 74,
    "start_time": "2021-10-18T15:25:34.650Z"
   },
   {
    "duration": 96,
    "start_time": "2021-10-18T15:25:34.729Z"
   },
   {
    "duration": 370,
    "start_time": "2021-10-18T15:25:34.828Z"
   },
   {
    "duration": -70,
    "start_time": "2021-10-18T15:25:35.271Z"
   },
   {
    "duration": -70,
    "start_time": "2021-10-18T15:25:35.273Z"
   },
   {
    "duration": -70,
    "start_time": "2021-10-18T15:25:35.274Z"
   },
   {
    "duration": 8,
    "start_time": "2021-10-18T15:25:54.306Z"
   },
   {
    "duration": 1241,
    "start_time": "2021-10-18T15:26:04.659Z"
   },
   {
    "duration": 19,
    "start_time": "2021-10-18T15:26:05.903Z"
   },
   {
    "duration": 32,
    "start_time": "2021-10-18T15:26:05.924Z"
   },
   {
    "duration": 17,
    "start_time": "2021-10-18T15:26:05.959Z"
   },
   {
    "duration": 14,
    "start_time": "2021-10-18T15:26:05.979Z"
   },
   {
    "duration": 16,
    "start_time": "2021-10-18T15:26:05.995Z"
   },
   {
    "duration": 20,
    "start_time": "2021-10-18T15:26:06.013Z"
   },
   {
    "duration": 11,
    "start_time": "2021-10-18T15:26:06.037Z"
   },
   {
    "duration": 8,
    "start_time": "2021-10-18T15:26:06.051Z"
   },
   {
    "duration": 34,
    "start_time": "2021-10-18T15:26:06.062Z"
   },
   {
    "duration": 26,
    "start_time": "2021-10-18T15:26:06.098Z"
   },
   {
    "duration": 24,
    "start_time": "2021-10-18T15:26:06.126Z"
   },
   {
    "duration": 74,
    "start_time": "2021-10-18T15:26:06.153Z"
   },
   {
    "duration": 95,
    "start_time": "2021-10-18T15:26:06.232Z"
   },
   {
    "duration": 14,
    "start_time": "2021-10-18T15:26:06.329Z"
   },
   {
    "duration": 83,
    "start_time": "2021-10-18T15:26:06.346Z"
   },
   {
    "duration": 732,
    "start_time": "2021-10-18T15:26:06.432Z"
   },
   {
    "duration": -118,
    "start_time": "2021-10-18T15:26:07.284Z"
   },
   {
    "duration": 5,
    "start_time": "2021-10-18T15:26:23.244Z"
   },
   {
    "duration": 1245,
    "start_time": "2021-10-18T15:26:35.661Z"
   },
   {
    "duration": 20,
    "start_time": "2021-10-18T15:26:36.908Z"
   },
   {
    "duration": 22,
    "start_time": "2021-10-18T15:26:36.931Z"
   },
   {
    "duration": 5,
    "start_time": "2021-10-18T15:26:36.956Z"
   },
   {
    "duration": 17,
    "start_time": "2021-10-18T15:26:36.963Z"
   },
   {
    "duration": 7,
    "start_time": "2021-10-18T15:26:36.983Z"
   },
   {
    "duration": 8,
    "start_time": "2021-10-18T15:26:37.024Z"
   },
   {
    "duration": 7,
    "start_time": "2021-10-18T15:26:37.034Z"
   },
   {
    "duration": 8,
    "start_time": "2021-10-18T15:26:37.044Z"
   },
   {
    "duration": 79,
    "start_time": "2021-10-18T15:26:37.055Z"
   },
   {
    "duration": 5,
    "start_time": "2021-10-18T15:26:37.136Z"
   },
   {
    "duration": 7,
    "start_time": "2021-10-18T15:26:37.144Z"
   },
   {
    "duration": 70,
    "start_time": "2021-10-18T15:26:37.154Z"
   },
   {
    "duration": 97,
    "start_time": "2021-10-18T15:26:37.227Z"
   },
   {
    "duration": 10,
    "start_time": "2021-10-18T15:26:37.326Z"
   },
   {
    "duration": 92,
    "start_time": "2021-10-18T15:26:37.339Z"
   },
   {
    "duration": 19,
    "start_time": "2021-10-18T15:26:37.523Z"
   },
   {
    "duration": 88,
    "start_time": "2021-10-18T15:26:37.545Z"
   }
  ],
  "kernelspec": {
   "display_name": "Python 3",
   "language": "python",
   "name": "python3"
  },
  "language_info": {
   "codemirror_mode": {
    "name": "ipython",
    "version": 3
   },
   "file_extension": ".py",
   "mimetype": "text/x-python",
   "name": "python",
   "nbconvert_exporter": "python",
   "pygments_lexer": "ipython3",
   "version": "3.7.8"
  },
  "toc": {
   "base_numbering": 1,
   "nav_menu": {},
   "number_sections": true,
   "sideBar": true,
   "skip_h1_title": true,
   "title_cell": "Содержание",
   "title_sidebar": "Contents",
   "toc_cell": true,
   "toc_position": {},
   "toc_section_display": true,
   "toc_window_display": true
  }
 },
 "nbformat": 4,
 "nbformat_minor": 2
}