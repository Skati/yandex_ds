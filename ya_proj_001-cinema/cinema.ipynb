{
 "cells": [
  {
   "cell_type": "markdown",
   "metadata": {
    "id": "sIfNaMOxgFyK",
    "pycharm": {
     "name": "#%% md\n"
    }
   },
   "source": [
    "## Исследование данных о российском кинопрокате\n",
    "\n"
   ]
  },
  {
   "cell_type": "markdown",
   "metadata": {
    "id": "3bSlkCsbgFyL",
    "pycharm": {
     "name": "#%% md\n"
    }
   },
   "source": [
    "### Шаг 1. Откройте файлы с данными и объедините их в один датафрейм. \n",
    "\n",
    "Объедините данные таким образом, чтобы все объекты из датасета `mkrf_movies` обязательно вошли в получившийся датафрейм. \n",
    "\n",
    "<div id=\"accordion\">\n",
    "    <div class=\"card\">\n",
    "        <div class=\"card-header\" id=\"headingThree\">\n",
    "            <button class=\"btn btn-link collapsed\" data-toggle=\"collapse\" data-target=\"#collapseHint_0\" aria-expanded=\"false\" aria-controls=\"collapseHint_0\">Подсказка</button>\n",
    "        </div>\n",
    "        <div id=\"collapseHint_0\" class=\"collapse\" aria-labelledby=\"headingThree\" data-parent=\"#accordion\">\n",
    "            <div class=\"card-body\">\n",
    "Обратите внимание на тип данных столбца, по которому будете соединять датафреймы. Тип данных этих столбцов должен быть одинаковым в обоих датафреймах.\n",
    "            </div>\n",
    "        </div>\n",
    "    </div>\n",
    "</div>"
   ]
  },
  {
   "cell_type": "code",
   "execution_count": 131,
   "metadata": {
    "id": "dw87FlzMgFyM",
    "pycharm": {
     "name": "#%%\n"
    }
   },
   "outputs": [],
   "source": [
    "import pandas as pd\n",
    "import seaborn as sns\n",
    "import matplotlib.pyplot as plt"
   ]
  },
  {
   "cell_type": "code",
   "execution_count": 132,
   "outputs": [],
   "source": [
    "movies = pd.read_csv('data/mkrf_movies.csv')\n",
    "shows = pd.read_csv('data/mkrf_shows.csv')"
   ],
   "metadata": {
    "collapsed": false,
    "pycharm": {
     "name": "#%%\n"
    }
   }
  },
  {
   "cell_type": "code",
   "execution_count": 133,
   "outputs": [
    {
     "name": "stdout",
     "output_type": "stream",
     "text": [
      "<class 'pandas.core.frame.DataFrame'>\n",
      "RangeIndex: 7486 entries, 0 to 7485\n",
      "Data columns (total 15 columns):\n",
      " #   Column                 Non-Null Count  Dtype  \n",
      "---  ------                 --------------  -----  \n",
      " 0   title                  7486 non-null   object \n",
      " 1   puNumber               7486 non-null   object \n",
      " 2   show_start_date        7486 non-null   object \n",
      " 3   type                   7486 non-null   object \n",
      " 4   film_studio            7468 non-null   object \n",
      " 5   production_country     7484 non-null   object \n",
      " 6   director               7477 non-null   object \n",
      " 7   producer               6918 non-null   object \n",
      " 8   age_restriction        7486 non-null   object \n",
      " 9   refundable_support     332 non-null    float64\n",
      " 10  nonrefundable_support  332 non-null    float64\n",
      " 11  budget                 332 non-null    float64\n",
      " 12  financing_source       332 non-null    object \n",
      " 13  ratings                6519 non-null   object \n",
      " 14  genres                 6510 non-null   object \n",
      "dtypes: float64(3), object(12)\n",
      "memory usage: 877.4+ KB\n"
     ]
    }
   ],
   "source": [
    "movies.info()"
   ],
   "metadata": {
    "collapsed": false,
    "pycharm": {
     "name": "#%%\n"
    }
   }
  },
  {
   "cell_type": "code",
   "execution_count": 134,
   "outputs": [
    {
     "data": {
      "text/plain": "                  title   puNumber           show_start_date            type  \\\n0      Открытый простор  221048915  2015-11-27T12:00:00.000Z  Художественный   \n1  Особо важное задание  111013716  2016-09-13T12:00:00.000Z  Художественный   \n2          Особо опасен  221038416  2016-10-10T12:00:00.000Z  Художественный   \n3          Особо опасен  221026916  2016-06-10T12:00:00.000Z  Художественный   \n4          Особо опасен  221030815  2015-07-29T12:00:00.000Z  Художественный   \n\n                                         film_studio production_country  \\\n0  Тачстоун Пикчерз, Кобальт Пикчерз, Бикон Пикче...                США   \n1                              Киностудия \"Мосфильм\"               СССР   \n2  Юниверсал Пикчерз, Кикстарт Продакшнз, Марк Пл...                США   \n3  Юниверсал Пикчерз, Кикстарт Продакшнз, Марк Пл...                США   \n4  Юниверсал Пикчерз, Кикстарт Продакшнз, Марк Пл...                США   \n\n            director                                           producer  \\\n0      Кевин Костнер          Дэвид Валдес, Кевин Костнер, Джейк Эбертс   \n1          Е.Матвеев                                                NaN   \n2  Тимур Бекмамбетов  Джим Лемли, Джейсон Нетер, Марк Е.Платт, Яйн Смит   \n3  Тимур Бекмамбетов  Джим Лемли, Джейсон Нетер, Марк Е.Платт, Яйн Смит   \n4  Тимур Бекмамбетов  Джим Лемли, Джейсон Нетер, Марк Е.Платт, Яйн Смит   \n\n                 age_restriction  refundable_support  nonrefundable_support  \\\n0    «18+» - запрещено для детей                 NaN                    NaN   \n1  «6+» - для детей старше 6 лет                 NaN                    NaN   \n2    «18+» - запрещено для детей                 NaN                    NaN   \n3    «18+» - запрещено для детей                 NaN                    NaN   \n4    «18+» - запрещено для детей                 NaN                    NaN   \n\n   budget financing_source ratings                     genres  \n0     NaN              NaN     7.2     боевик,драма,мелодрама  \n1     NaN              NaN     6.6              драма,военный  \n2     NaN              NaN     6.8  фантастика,боевик,триллер  \n3     NaN              NaN     6.8  фантастика,боевик,триллер  \n4     NaN              NaN     6.8  фантастика,боевик,триллер  ",
      "text/html": "<div>\n<style scoped>\n    .dataframe tbody tr th:only-of-type {\n        vertical-align: middle;\n    }\n\n    .dataframe tbody tr th {\n        vertical-align: top;\n    }\n\n    .dataframe thead th {\n        text-align: right;\n    }\n</style>\n<table border=\"1\" class=\"dataframe\">\n  <thead>\n    <tr style=\"text-align: right;\">\n      <th></th>\n      <th>title</th>\n      <th>puNumber</th>\n      <th>show_start_date</th>\n      <th>type</th>\n      <th>film_studio</th>\n      <th>production_country</th>\n      <th>director</th>\n      <th>producer</th>\n      <th>age_restriction</th>\n      <th>refundable_support</th>\n      <th>nonrefundable_support</th>\n      <th>budget</th>\n      <th>financing_source</th>\n      <th>ratings</th>\n      <th>genres</th>\n    </tr>\n  </thead>\n  <tbody>\n    <tr>\n      <th>0</th>\n      <td>Открытый простор</td>\n      <td>221048915</td>\n      <td>2015-11-27T12:00:00.000Z</td>\n      <td>Художественный</td>\n      <td>Тачстоун Пикчерз, Кобальт Пикчерз, Бикон Пикче...</td>\n      <td>США</td>\n      <td>Кевин Костнер</td>\n      <td>Дэвид Валдес, Кевин Костнер, Джейк Эбертс</td>\n      <td>«18+» - запрещено для детей</td>\n      <td>NaN</td>\n      <td>NaN</td>\n      <td>NaN</td>\n      <td>NaN</td>\n      <td>7.2</td>\n      <td>боевик,драма,мелодрама</td>\n    </tr>\n    <tr>\n      <th>1</th>\n      <td>Особо важное задание</td>\n      <td>111013716</td>\n      <td>2016-09-13T12:00:00.000Z</td>\n      <td>Художественный</td>\n      <td>Киностудия \"Мосфильм\"</td>\n      <td>СССР</td>\n      <td>Е.Матвеев</td>\n      <td>NaN</td>\n      <td>«6+» - для детей старше 6 лет</td>\n      <td>NaN</td>\n      <td>NaN</td>\n      <td>NaN</td>\n      <td>NaN</td>\n      <td>6.6</td>\n      <td>драма,военный</td>\n    </tr>\n    <tr>\n      <th>2</th>\n      <td>Особо опасен</td>\n      <td>221038416</td>\n      <td>2016-10-10T12:00:00.000Z</td>\n      <td>Художественный</td>\n      <td>Юниверсал Пикчерз, Кикстарт Продакшнз, Марк Пл...</td>\n      <td>США</td>\n      <td>Тимур Бекмамбетов</td>\n      <td>Джим Лемли, Джейсон Нетер, Марк Е.Платт, Яйн Смит</td>\n      <td>«18+» - запрещено для детей</td>\n      <td>NaN</td>\n      <td>NaN</td>\n      <td>NaN</td>\n      <td>NaN</td>\n      <td>6.8</td>\n      <td>фантастика,боевик,триллер</td>\n    </tr>\n    <tr>\n      <th>3</th>\n      <td>Особо опасен</td>\n      <td>221026916</td>\n      <td>2016-06-10T12:00:00.000Z</td>\n      <td>Художественный</td>\n      <td>Юниверсал Пикчерз, Кикстарт Продакшнз, Марк Пл...</td>\n      <td>США</td>\n      <td>Тимур Бекмамбетов</td>\n      <td>Джим Лемли, Джейсон Нетер, Марк Е.Платт, Яйн Смит</td>\n      <td>«18+» - запрещено для детей</td>\n      <td>NaN</td>\n      <td>NaN</td>\n      <td>NaN</td>\n      <td>NaN</td>\n      <td>6.8</td>\n      <td>фантастика,боевик,триллер</td>\n    </tr>\n    <tr>\n      <th>4</th>\n      <td>Особо опасен</td>\n      <td>221030815</td>\n      <td>2015-07-29T12:00:00.000Z</td>\n      <td>Художественный</td>\n      <td>Юниверсал Пикчерз, Кикстарт Продакшнз, Марк Пл...</td>\n      <td>США</td>\n      <td>Тимур Бекмамбетов</td>\n      <td>Джим Лемли, Джейсон Нетер, Марк Е.Платт, Яйн Смит</td>\n      <td>«18+» - запрещено для детей</td>\n      <td>NaN</td>\n      <td>NaN</td>\n      <td>NaN</td>\n      <td>NaN</td>\n      <td>6.8</td>\n      <td>фантастика,боевик,триллер</td>\n    </tr>\n  </tbody>\n</table>\n</div>"
     },
     "execution_count": 134,
     "metadata": {},
     "output_type": "execute_result"
    }
   ],
   "source": [
    "movies.head()"
   ],
   "metadata": {
    "collapsed": false,
    "pycharm": {
     "name": "#%%\n"
    }
   }
  },
  {
   "cell_type": "code",
   "execution_count": 135,
   "outputs": [
    {
     "name": "stdout",
     "output_type": "stream",
     "text": [
      "<class 'pandas.core.frame.DataFrame'>\n",
      "RangeIndex: 3158 entries, 0 to 3157\n",
      "Data columns (total 2 columns):\n",
      " #   Column      Non-Null Count  Dtype  \n",
      "---  ------      --------------  -----  \n",
      " 0   puNumber    3158 non-null   int64  \n",
      " 1   box_office  3158 non-null   float64\n",
      "dtypes: float64(1), int64(1)\n",
      "memory usage: 49.5 KB\n"
     ]
    }
   ],
   "source": [
    "shows.info()"
   ],
   "metadata": {
    "collapsed": false,
    "pycharm": {
     "name": "#%%\n"
    }
   }
  },
  {
   "cell_type": "code",
   "execution_count": 136,
   "outputs": [
    {
     "data": {
      "text/plain": "    puNumber    box_office\n0  111000113  2.450000e+03\n1  111000115  6.104000e+04\n2  111000116  1.530300e+08\n3  111000117  1.226096e+07\n4  111000118  1.636841e+08",
      "text/html": "<div>\n<style scoped>\n    .dataframe tbody tr th:only-of-type {\n        vertical-align: middle;\n    }\n\n    .dataframe tbody tr th {\n        vertical-align: top;\n    }\n\n    .dataframe thead th {\n        text-align: right;\n    }\n</style>\n<table border=\"1\" class=\"dataframe\">\n  <thead>\n    <tr style=\"text-align: right;\">\n      <th></th>\n      <th>puNumber</th>\n      <th>box_office</th>\n    </tr>\n  </thead>\n  <tbody>\n    <tr>\n      <th>0</th>\n      <td>111000113</td>\n      <td>2.450000e+03</td>\n    </tr>\n    <tr>\n      <th>1</th>\n      <td>111000115</td>\n      <td>6.104000e+04</td>\n    </tr>\n    <tr>\n      <th>2</th>\n      <td>111000116</td>\n      <td>1.530300e+08</td>\n    </tr>\n    <tr>\n      <th>3</th>\n      <td>111000117</td>\n      <td>1.226096e+07</td>\n    </tr>\n    <tr>\n      <th>4</th>\n      <td>111000118</td>\n      <td>1.636841e+08</td>\n    </tr>\n  </tbody>\n</table>\n</div>"
     },
     "execution_count": 136,
     "metadata": {},
     "output_type": "execute_result"
    }
   ],
   "source": [
    "shows.head()"
   ],
   "metadata": {
    "collapsed": false,
    "pycharm": {
     "name": "#%%\n"
    }
   }
  },
  {
   "cell_type": "code",
   "execution_count": 137,
   "outputs": [],
   "source": [
    "shows['puNumber'] = shows['puNumber'].astype('str')"
   ],
   "metadata": {
    "collapsed": false,
    "pycharm": {
     "name": "#%%\n"
    }
   }
  },
  {
   "cell_type": "code",
   "execution_count": 138,
   "outputs": [],
   "source": [
    "df = movies.merge(shows, how='left', on='puNumber')"
   ],
   "metadata": {
    "collapsed": false,
    "pycharm": {
     "name": "#%%\n"
    }
   }
  },
  {
   "cell_type": "markdown",
   "metadata": {
    "id": "KLDGpPG0gFyM",
    "pycharm": {
     "name": "#%% md\n"
    }
   },
   "source": [
    "### Шаг 2. Предобработка данных"
   ]
  },
  {
   "cell_type": "markdown",
   "metadata": {
    "id": "ssWwKXsxgFyO",
    "pycharm": {
     "name": "#%% md\n"
    }
   },
   "source": [
    "#### Шаг 2.1. Проверьте типы данных\n",
    "\n",
    "- Проверьте типы данных в датафрейме и преобразуйте их там, где это необходимо."
   ]
  },
  {
   "cell_type": "code",
   "execution_count": 139,
   "outputs": [
    {
     "name": "stdout",
     "output_type": "stream",
     "text": [
      "<class 'pandas.core.frame.DataFrame'>\n",
      "Int64Index: 7486 entries, 0 to 7485\n",
      "Data columns (total 16 columns):\n",
      " #   Column                 Non-Null Count  Dtype  \n",
      "---  ------                 --------------  -----  \n",
      " 0   title                  7486 non-null   object \n",
      " 1   puNumber               7486 non-null   object \n",
      " 2   show_start_date        7486 non-null   object \n",
      " 3   type                   7486 non-null   object \n",
      " 4   film_studio            7468 non-null   object \n",
      " 5   production_country     7484 non-null   object \n",
      " 6   director               7477 non-null   object \n",
      " 7   producer               6918 non-null   object \n",
      " 8   age_restriction        7486 non-null   object \n",
      " 9   refundable_support     332 non-null    float64\n",
      " 10  nonrefundable_support  332 non-null    float64\n",
      " 11  budget                 332 non-null    float64\n",
      " 12  financing_source       332 non-null    object \n",
      " 13  ratings                6519 non-null   object \n",
      " 14  genres                 6510 non-null   object \n",
      " 15  box_office             3158 non-null   float64\n",
      "dtypes: float64(4), object(12)\n",
      "memory usage: 994.2+ KB\n"
     ]
    }
   ],
   "source": [
    "df.info()"
   ],
   "metadata": {
    "collapsed": false,
    "pycharm": {
     "name": "#%%\n"
    }
   }
  },
  {
   "cell_type": "code",
   "execution_count": 140,
   "outputs": [
    {
     "data": {
      "text/plain": "                  title   puNumber           show_start_date            type  \\\n0      Открытый простор  221048915  2015-11-27T12:00:00.000Z  Художественный   \n1  Особо важное задание  111013716  2016-09-13T12:00:00.000Z  Художественный   \n2          Особо опасен  221038416  2016-10-10T12:00:00.000Z  Художественный   \n3          Особо опасен  221026916  2016-06-10T12:00:00.000Z  Художественный   \n4          Особо опасен  221030815  2015-07-29T12:00:00.000Z  Художественный   \n\n                                         film_studio production_country  \\\n0  Тачстоун Пикчерз, Кобальт Пикчерз, Бикон Пикче...                США   \n1                              Киностудия \"Мосфильм\"               СССР   \n2  Юниверсал Пикчерз, Кикстарт Продакшнз, Марк Пл...                США   \n3  Юниверсал Пикчерз, Кикстарт Продакшнз, Марк Пл...                США   \n4  Юниверсал Пикчерз, Кикстарт Продакшнз, Марк Пл...                США   \n\n            director                                           producer  \\\n0      Кевин Костнер          Дэвид Валдес, Кевин Костнер, Джейк Эбертс   \n1          Е.Матвеев                                                NaN   \n2  Тимур Бекмамбетов  Джим Лемли, Джейсон Нетер, Марк Е.Платт, Яйн Смит   \n3  Тимур Бекмамбетов  Джим Лемли, Джейсон Нетер, Марк Е.Платт, Яйн Смит   \n4  Тимур Бекмамбетов  Джим Лемли, Джейсон Нетер, Марк Е.Платт, Яйн Смит   \n\n                 age_restriction  refundable_support  nonrefundable_support  \\\n0    «18+» - запрещено для детей                 NaN                    NaN   \n1  «6+» - для детей старше 6 лет                 NaN                    NaN   \n2    «18+» - запрещено для детей                 NaN                    NaN   \n3    «18+» - запрещено для детей                 NaN                    NaN   \n4    «18+» - запрещено для детей                 NaN                    NaN   \n\n   budget financing_source ratings                     genres  box_office  \n0     NaN              NaN     7.2     боевик,драма,мелодрама         NaN  \n1     NaN              NaN     6.6              драма,военный         NaN  \n2     NaN              NaN     6.8  фантастика,боевик,триллер         NaN  \n3     NaN              NaN     6.8  фантастика,боевик,триллер         NaN  \n4     NaN              NaN     6.8  фантастика,боевик,триллер         NaN  ",
      "text/html": "<div>\n<style scoped>\n    .dataframe tbody tr th:only-of-type {\n        vertical-align: middle;\n    }\n\n    .dataframe tbody tr th {\n        vertical-align: top;\n    }\n\n    .dataframe thead th {\n        text-align: right;\n    }\n</style>\n<table border=\"1\" class=\"dataframe\">\n  <thead>\n    <tr style=\"text-align: right;\">\n      <th></th>\n      <th>title</th>\n      <th>puNumber</th>\n      <th>show_start_date</th>\n      <th>type</th>\n      <th>film_studio</th>\n      <th>production_country</th>\n      <th>director</th>\n      <th>producer</th>\n      <th>age_restriction</th>\n      <th>refundable_support</th>\n      <th>nonrefundable_support</th>\n      <th>budget</th>\n      <th>financing_source</th>\n      <th>ratings</th>\n      <th>genres</th>\n      <th>box_office</th>\n    </tr>\n  </thead>\n  <tbody>\n    <tr>\n      <th>0</th>\n      <td>Открытый простор</td>\n      <td>221048915</td>\n      <td>2015-11-27T12:00:00.000Z</td>\n      <td>Художественный</td>\n      <td>Тачстоун Пикчерз, Кобальт Пикчерз, Бикон Пикче...</td>\n      <td>США</td>\n      <td>Кевин Костнер</td>\n      <td>Дэвид Валдес, Кевин Костнер, Джейк Эбертс</td>\n      <td>«18+» - запрещено для детей</td>\n      <td>NaN</td>\n      <td>NaN</td>\n      <td>NaN</td>\n      <td>NaN</td>\n      <td>7.2</td>\n      <td>боевик,драма,мелодрама</td>\n      <td>NaN</td>\n    </tr>\n    <tr>\n      <th>1</th>\n      <td>Особо важное задание</td>\n      <td>111013716</td>\n      <td>2016-09-13T12:00:00.000Z</td>\n      <td>Художественный</td>\n      <td>Киностудия \"Мосфильм\"</td>\n      <td>СССР</td>\n      <td>Е.Матвеев</td>\n      <td>NaN</td>\n      <td>«6+» - для детей старше 6 лет</td>\n      <td>NaN</td>\n      <td>NaN</td>\n      <td>NaN</td>\n      <td>NaN</td>\n      <td>6.6</td>\n      <td>драма,военный</td>\n      <td>NaN</td>\n    </tr>\n    <tr>\n      <th>2</th>\n      <td>Особо опасен</td>\n      <td>221038416</td>\n      <td>2016-10-10T12:00:00.000Z</td>\n      <td>Художественный</td>\n      <td>Юниверсал Пикчерз, Кикстарт Продакшнз, Марк Пл...</td>\n      <td>США</td>\n      <td>Тимур Бекмамбетов</td>\n      <td>Джим Лемли, Джейсон Нетер, Марк Е.Платт, Яйн Смит</td>\n      <td>«18+» - запрещено для детей</td>\n      <td>NaN</td>\n      <td>NaN</td>\n      <td>NaN</td>\n      <td>NaN</td>\n      <td>6.8</td>\n      <td>фантастика,боевик,триллер</td>\n      <td>NaN</td>\n    </tr>\n    <tr>\n      <th>3</th>\n      <td>Особо опасен</td>\n      <td>221026916</td>\n      <td>2016-06-10T12:00:00.000Z</td>\n      <td>Художественный</td>\n      <td>Юниверсал Пикчерз, Кикстарт Продакшнз, Марк Пл...</td>\n      <td>США</td>\n      <td>Тимур Бекмамбетов</td>\n      <td>Джим Лемли, Джейсон Нетер, Марк Е.Платт, Яйн Смит</td>\n      <td>«18+» - запрещено для детей</td>\n      <td>NaN</td>\n      <td>NaN</td>\n      <td>NaN</td>\n      <td>NaN</td>\n      <td>6.8</td>\n      <td>фантастика,боевик,триллер</td>\n      <td>NaN</td>\n    </tr>\n    <tr>\n      <th>4</th>\n      <td>Особо опасен</td>\n      <td>221030815</td>\n      <td>2015-07-29T12:00:00.000Z</td>\n      <td>Художественный</td>\n      <td>Юниверсал Пикчерз, Кикстарт Продакшнз, Марк Пл...</td>\n      <td>США</td>\n      <td>Тимур Бекмамбетов</td>\n      <td>Джим Лемли, Джейсон Нетер, Марк Е.Платт, Яйн Смит</td>\n      <td>«18+» - запрещено для детей</td>\n      <td>NaN</td>\n      <td>NaN</td>\n      <td>NaN</td>\n      <td>NaN</td>\n      <td>6.8</td>\n      <td>фантастика,боевик,триллер</td>\n      <td>NaN</td>\n    </tr>\n  </tbody>\n</table>\n</div>"
     },
     "execution_count": 140,
     "metadata": {},
     "output_type": "execute_result"
    }
   ],
   "source": [
    "df.head()"
   ],
   "metadata": {
    "collapsed": false,
    "pycharm": {
     "name": "#%%\n"
    }
   }
  },
  {
   "cell_type": "code",
   "execution_count": 141,
   "outputs": [],
   "source": [
    "df['show_start_date']=pd.to_datetime(df['show_start_date'])"
   ],
   "metadata": {
    "collapsed": false,
    "pycharm": {
     "name": "#%%\n"
    }
   }
  },
  {
   "cell_type": "code",
   "execution_count": 142,
   "outputs": [
    {
     "data": {
      "text/plain": "                                                  title   puNumber  \\\n259                                             Прошлое  221030715   \n811                                           От винта!  114000212   \n1053                                   Песочный человек  121029212   \n1341                               Сказка о добре и Вре  111008913   \n1805                                           Спираль.  111001014   \n1874                         Короткие истории о любви 2  121002615   \n1899  Золушка /По сказке Шарля Перро/. Холодное торж...  121003615   \n2126                                   Поездка к матери  111002015   \n2146                                            Главный  111003415   \n2438                                    Самый рыжий Лис  111012715   \n2680                                   Год Белого Слона  111003915   \n3139                                      Я умею вязать  111019615   \n3431                                             Наурыз  131000217   \n3439                                 Семь диких историй  126005916   \n3446                       Короткие истории о любви - 4  126006316   \n3514                                          Чужой дом  111015516   \n3585  Машины Страшилки. Серия \"Жутчайшая повесть о п...  114003916   \n3786                                           Охотники  111017816   \n3948                                             Круиз.  211038210   \n5332                                            Добыча.  121009411   \n5455                                       Вечный холод  111006417   \n5821                                             Свинья  121007018   \n5910                                               Мира  112000118   \n6426      Памятные даты России. Партизаны и подпольщики  112013018   \n6616                             ОТ ВОЙНЫ ДО НАШИХ ДНЕЙ  111026518   \n6737                                     Колесо времени  111003219   \n6882                          Животные рядом со Святыми  112003719   \n7159                    Анна Каренина. Интимный дневник  111013919   \n7277                                             Добыча  121028319   \n\n               show_start_date             type  \\\n259  2015-07-29 12:00:00+00:00   Художественный   \n811  2012-08-06 12:00:00+00:00     Анимационный   \n1053 2012-11-29 12:00:00+00:00   Художественный   \n1341 2013-11-15 12:00:00+00:00   Художественный   \n1805 2014-01-30 12:00:00+00:00   Художественный   \n1874 2015-02-13 12:00:00+00:00   Художественный   \n1899 2015-02-27 12:00:00+00:00   Художественный   \n2126 2015-03-02 12:00:00+00:00   Художественный   \n2146 2015-03-27 12:00:00+00:00   Художественный   \n2438 2015-07-30 12:00:00+00:00   Художественный   \n2680 2015-04-08 12:00:00+00:00   Художественный   \n3139 2015-11-27 12:00:00+00:00   Художественный   \n3431 2017-03-09 12:00:00+00:00   Художественный   \n3439 2016-11-28 12:00:00+00:00           Прочие   \n3446 2016-12-30 12:00:00+00:00           Прочие   \n3514 2016-09-14 12:00:00+00:00   Художественный   \n3585 2016-12-09 12:00:00+00:00     Анимационный   \n3786 2016-02-06 12:00:00+00:00   Художественный   \n3948 2010-09-03 12:00:00+00:00   Художественный   \n5332 2011-06-15 12:00:00+00:00   Художественный   \n5455 2017-08-28 12:00:00+00:00   Художественный   \n5821 2018-04-11 12:00:00+00:00   Художественный   \n5910 2018-06-04 12:00:00+00:00   Документальный   \n6426 2018-11-28 12:00:00+00:00   Документальный   \n6616 2019-01-21 12:00:00+00:00   Художественный   \n6737 2019-03-01 12:00:00+00:00   Художественный   \n6882 2019-05-03 12:00:00+00:00   Документальный   \n7159 2019-10-23 12:00:00+00:00   Художественный   \n7277 2019-10-03 12:00:00+00:00   Художественный   \n\n                                            film_studio  \\\n259   20 Сенчюри Фокс де Архентина, Чемо, ЭйчБи Филм...   \n811                   ЗАО \"Продюсерский центр \"Парадиз\"   \n1053                            Спотлайт Медиа Продакшн   \n1341                     НП \"Студия игрового кино \"Лик\"   \n1805                               ООО \"Компания Питон\"   \n1874  Кавиар, Курт 13, СтритЛайт Филмз, Нэйер Дойче ...   \n1899                    Женр Филмз, Уолт Дисней Пикчерз   \n2126                         ЗАО \"Киностудия \"М\"-Фильм\"   \n2146                           ООО \"Киностудия \"МАСТЕР\"   \n2438                 ООО \"Продюсерский центр \"Ленфильм\"   \n2680                    ООО \"Творческое объединение ЮГ\"   \n3139                                ООО \"Белое Зеркало\"   \n3431                                             Эс Джи   \n3439  Макс Бэйкер, Джон Е.Брайан, Пьер-Луи Гарнон,  ...   \n3446  Нетворг Айлэнд Телевижн, Магнетфильм, Шорткатс...   \n3514                                ООО \"Лига Продакшн\"   \n3585           ООО Студия \"АНИМАККОРД\", АНИМАККОРД ЛТД.   \n3786                Селиверстов Александр Александрович   \n3948                ООО \"ЮНАЙТЕД МУЛЬТИМЕДИА ПРОДЖЕКТС\"   \n5332                                   Афтер Дарк Филмз   \n5455  ЗАО \"Производственный комплекс \"ГЛАВКИНО\", ООО...   \n5821    Дарк Прекёрсор Продакшен, Филмиран, Хедейт Филм   \n5910                         ООО \"Компания \"Новые люди\"   \n6426                          ООО Кинокомпания \"Вектор\"   \n6616                  ИП Вайсман Анатолий Александрович   \n6737                                    ООО \"БестМедиа\"   \n6882                       ООО \"Кинопрограмма \"XXI век\"   \n7159                                          ООО \"РТВ\"   \n7277  Блумхаус Продакшнз, Хайд Парк Интертейнмент, Т...   \n\n                                     production_country  \\\n259                                Аргентина - Бразилия   \n811                                              Россия   \n1053                                          Швейцария   \n1341                                             Россия   \n1805                                             Россия   \n1874  Нидерланды - США - Германия - Канада - Франция...   \n1899                                                США   \n2126                                             Россия   \n2146                                             Россия   \n2438                                             Россия   \n2680                                             Россия   \n3139                                             Россия   \n3431                               Республика Казахстан   \n3439                       США - Пуэрто-Рико - Франция    \n3446  Великобритания - Аргентина - США - Франция - Р...   \n3514                  Россия, Грузия, Хорватия, Испания   \n3585                            Россия, Республика Кипр   \n3786                                             Россия   \n3948                                             Россия   \n5332                                                США   \n5455                                             Россия   \n5821                                               Иран   \n5910                                             Россия   \n6426                                             Россия   \n6616                                             Россия   \n6737                                             Россия   \n6882                                             Россия   \n7159                                             Россия   \n7277                                                США   \n\n                                               director  \\\n259                                       Эктор Бабенко   \n811                                            О.Лопато   \n1053                                        Питер Луизи   \n1341                                          Е.Шиляева   \n1805                                           А.Волгин   \n1874  Мэтью Аувро, Лео Брайдл, Бен Бренд, Ден Кларк,...   \n1899                                       Кеннет Брана   \n2126                                 М.Косырев-Нестеров   \n2146                                             Ю.Кара   \n2438                                        А.Стреляная   \n2680                                           Ю.Грымов   \n3139                  Н.Степанова при участии С.Иванова   \n3431                                     Аскар Бисембин   \n3439  М.Бэйкер, Д.Е.Брайант, Д.Рондот, Я.Серсар, Д.С...   \n3446  Д.Адар, П.Антохин, М.Биасин, А.Бурунова, К.Кол...   \n3514                                       Р.Глурджидзе   \n3585                                         Д.Червяцов   \n3786                                      А.Селиверстов   \n3948                                        И.Ромащенко   \n5332                                    Патрик Сиверсен   \n5455                                          А.Мигачев   \n5821                                        Мани Хагиги   \n5910                                           Д.Шабаев   \n6426                             Н.Иванова, А.Кузнецова   \n6616  А.Сазонов, Е.Климович, А.Коломеец, С.Черникова...   \n6737                                         Б.Куломзин   \n6882                                         Т.Мирошник   \n7159                                           Ю.Грымов   \n7277                                       Франк Халфун   \n\n                                               producer  \\\n259            Эктор Бабенко, Оскар Крамер, Хуго Сидмэн   \n811                 Г.Нерсисян, А.Манасарян, А.Нерсесян   \n1053                           Дэвид Луизи, Питер Луизи   \n1341                                        К.Терещенко   \n1805                                         Е.Ковалева   \n1874  Мэри Пэт Бентел, Бен Бренд, Сиара Гиллан, Джор...   \n1899       Дэвид Бэррон, Саймон Кинберг, Эллисон Ширмур   \n2126                                 М.Косырев-Нестеров   \n2146                                             Ю.Кара   \n2438                           А.Котелевский, Э.Пичугин   \n2680                                          П.Поляков   \n3139                          С.Кикнавелидзе, Д.Улюкаев   \n3431                 Олег Головашкин, Алмас Султангазин   \n3439  М.Бэйкер, Д.Е.Брайан, П.-Л.Гарнон, М.Х.Дельгад...   \n3446  Д.Адар, Д.Амсон, П.Антохин, А.Армстронг, С.Бил...   \n3514        З.Магалашвили, К.Гечмен-Вальдек, Н.Горшкова   \n3585                              Д.Ловейко, О.Кузовков   \n3786                 Е.Тарковская, Т.Лагода, Д.Степанян   \n3948                                     Р.Атамалибеков   \n5332                        Закари Ти Брайан, Кристофер   \n5455                                          И.Бачурин   \n5821                                        Мани Хагиги   \n5910                                        Н.Мокрицкая   \n6426                                        В.Коханович   \n6616  Д.Руюежин, Л.Пятницкая, Д.Колеров, Э.Ким, А.Хомич   \n6737                                         Б.Куломзин   \n6882                               В.Есинов, Е.Калинина   \n7159                                           Ю.Грымов   \n7277         Ашок Амритрадж, Джейсон Блум, Трэвис Клафф   \n\n                             age_restriction  refundable_support  \\\n259          «16+» - для детей старше 16 лет                 NaN   \n811          «12+» - для детей старше 12 лет                 NaN   \n1053         «16+» - для детей старше 16 лет                 NaN   \n1341           «6+» - для детей старше 6 лет                 NaN   \n1805         «12+» - для детей старше 12 лет                 NaN   \n1874             «18+» - запрещено для детей                 NaN   \n1899           «6+» - для детей старше 6 лет                 NaN   \n2126         «16+» - для детей старше 16 лет                 NaN   \n2146           «6+» - для детей старше 6 лет                 0.0   \n2438           «6+» - для детей старше 6 лет                 NaN   \n2680           «6+» - для детей старше 6 лет                 NaN   \n3139         «16+» - для детей старше 16 лет                 0.0   \n3431         «12+» - для детей старше 12 лет                 NaN   \n3439             «18+» - запрещено для детей                 NaN   \n3446             «18+» - запрещено для детей                 NaN   \n3514         «12+» - для детей старше 12 лет                 NaN   \n3585  «0+» - для любой зрительской аудитории                 NaN   \n3786         «16+» - для детей старше 16 лет                 NaN   \n3948         «16+» - для детей старше 16 лет                 NaN   \n5332             «18+» - запрещено для детей                 NaN   \n5455             «18+» - запрещено для детей                 NaN   \n5821             «18+» - запрещено для детей                 NaN   \n5910             «18+» - запрещено для детей                 NaN   \n6426         «12+» - для детей старше 12 лет                 NaN   \n6616         «12+» - для детей старше 12 лет                 NaN   \n6737           «6+» - для детей старше 6 лет                 NaN   \n6882  «0+» - для любой зрительской аудитории                 NaN   \n7159         «16+» - для детей старше 16 лет                 NaN   \n7277         «16+» - для детей старше 16 лет                 NaN   \n\n      nonrefundable_support      budget       financing_source ratings  \\\n259                     NaN         NaN                    NaN     99%   \n811                     NaN         NaN                    NaN     28%   \n1053                    NaN         NaN                    NaN     97%   \n1341                    NaN         NaN                    NaN     99%   \n1805                    NaN         NaN                    NaN     99%   \n1874                    NaN         NaN                    NaN     83%   \n1899                    NaN         NaN                    NaN     64%   \n2126                    NaN         NaN                    NaN     91%   \n2146             10000000.0  40000000.0  Министерство культуры     94%   \n2438                    NaN         NaN                    NaN     62%   \n2680                    NaN         NaN                    NaN     79%   \n3139              4700000.0  14462464.0  Министерство культуры     90%   \n3431                    NaN         NaN                    NaN     19%   \n3439                    NaN         NaN                    NaN     88%   \n3446                    NaN         NaN                    NaN     83%   \n3514                    NaN         NaN                    NaN     91%   \n3585                    NaN         NaN                    NaN     97%   \n3786                    NaN         NaN                    NaN     89%   \n3948                    NaN         NaN                    NaN     97%   \n5332                    NaN         NaN                    NaN     88%   \n5455                    NaN         NaN                    NaN     83%   \n5821                    NaN         NaN                    NaN     94%   \n5910                    NaN         NaN                    NaN     94%   \n6426                    NaN         NaN                    NaN     91%   \n6616                    NaN         NaN                    NaN     98%   \n6737                    NaN         NaN                    NaN     98%   \n6882                    NaN         NaN                    NaN     99%   \n7159                    NaN         NaN                    NaN     79%   \n7277                    NaN         NaN                    NaN     88%   \n\n                           genres    box_office  \n259           ужасы,триллер,драма           NaN  \n811   детский,приключения,комедия  1.740000e+03  \n1053     ужасы,фантастика,фэнтези           NaN  \n1341       триллер,драма,детектив           NaN  \n1805       аниме,мультфильм,ужасы  4.295000e+03  \n1874                          NaN  1.429859e+06  \n1899     мюзикл,фэнтези,мелодрама  5.287326e+08  \n2126               драма,семейный  0.000000e+00  \n2146    фантастика,боевик,комедия  3.347500e+05  \n2438             фэнтези,семейный           NaN  \n2680                     семейный           NaN  \n3139                        драма  8.013700e+05  \n3431                      комедия  3.796000e+04  \n3439                          NaN  1.025937e+06  \n3446                          NaN  2.266408e+06  \n3514                        драма           NaN  \n3585     мультфильм,ужасы,фэнтези           NaN  \n3786    фантастика,комедия,боевик  8.284000e+04  \n3948  приключения,комедия,фэнтези           NaN  \n5332    фантастика,боевик,триллер           NaN  \n5455       фэнтези,боевик,триллер           NaN  \n5821                триллер,драма  1.587222e+06  \n5910                        драма           NaN  \n6426              драма,биография           NaN  \n6616            фантастика,боевик           NaN  \n6737          фэнтези,приключения  3.499200e+04  \n6882               криминал,драма           NaN  \n7159                        драма  1.828825e+05  \n7277    фантастика,боевик,триллер  4.416590e+06  ",
      "text/html": "<div>\n<style scoped>\n    .dataframe tbody tr th:only-of-type {\n        vertical-align: middle;\n    }\n\n    .dataframe tbody tr th {\n        vertical-align: top;\n    }\n\n    .dataframe thead th {\n        text-align: right;\n    }\n</style>\n<table border=\"1\" class=\"dataframe\">\n  <thead>\n    <tr style=\"text-align: right;\">\n      <th></th>\n      <th>title</th>\n      <th>puNumber</th>\n      <th>show_start_date</th>\n      <th>type</th>\n      <th>film_studio</th>\n      <th>production_country</th>\n      <th>director</th>\n      <th>producer</th>\n      <th>age_restriction</th>\n      <th>refundable_support</th>\n      <th>nonrefundable_support</th>\n      <th>budget</th>\n      <th>financing_source</th>\n      <th>ratings</th>\n      <th>genres</th>\n      <th>box_office</th>\n    </tr>\n  </thead>\n  <tbody>\n    <tr>\n      <th>259</th>\n      <td>Прошлое</td>\n      <td>221030715</td>\n      <td>2015-07-29 12:00:00+00:00</td>\n      <td>Художественный</td>\n      <td>20 Сенчюри Фокс де Архентина, Чемо, ЭйчБи Филм...</td>\n      <td>Аргентина - Бразилия</td>\n      <td>Эктор Бабенко</td>\n      <td>Эктор Бабенко, Оскар Крамер, Хуго Сидмэн</td>\n      <td>«16+» - для детей старше 16 лет</td>\n      <td>NaN</td>\n      <td>NaN</td>\n      <td>NaN</td>\n      <td>NaN</td>\n      <td>99%</td>\n      <td>ужасы,триллер,драма</td>\n      <td>NaN</td>\n    </tr>\n    <tr>\n      <th>811</th>\n      <td>От винта!</td>\n      <td>114000212</td>\n      <td>2012-08-06 12:00:00+00:00</td>\n      <td>Анимационный</td>\n      <td>ЗАО \"Продюсерский центр \"Парадиз\"</td>\n      <td>Россия</td>\n      <td>О.Лопато</td>\n      <td>Г.Нерсисян, А.Манасарян, А.Нерсесян</td>\n      <td>«12+» - для детей старше 12 лет</td>\n      <td>NaN</td>\n      <td>NaN</td>\n      <td>NaN</td>\n      <td>NaN</td>\n      <td>28%</td>\n      <td>детский,приключения,комедия</td>\n      <td>1.740000e+03</td>\n    </tr>\n    <tr>\n      <th>1053</th>\n      <td>Песочный человек</td>\n      <td>121029212</td>\n      <td>2012-11-29 12:00:00+00:00</td>\n      <td>Художественный</td>\n      <td>Спотлайт Медиа Продакшн</td>\n      <td>Швейцария</td>\n      <td>Питер Луизи</td>\n      <td>Дэвид Луизи, Питер Луизи</td>\n      <td>«16+» - для детей старше 16 лет</td>\n      <td>NaN</td>\n      <td>NaN</td>\n      <td>NaN</td>\n      <td>NaN</td>\n      <td>97%</td>\n      <td>ужасы,фантастика,фэнтези</td>\n      <td>NaN</td>\n    </tr>\n    <tr>\n      <th>1341</th>\n      <td>Сказка о добре и Вре</td>\n      <td>111008913</td>\n      <td>2013-11-15 12:00:00+00:00</td>\n      <td>Художественный</td>\n      <td>НП \"Студия игрового кино \"Лик\"</td>\n      <td>Россия</td>\n      <td>Е.Шиляева</td>\n      <td>К.Терещенко</td>\n      <td>«6+» - для детей старше 6 лет</td>\n      <td>NaN</td>\n      <td>NaN</td>\n      <td>NaN</td>\n      <td>NaN</td>\n      <td>99%</td>\n      <td>триллер,драма,детектив</td>\n      <td>NaN</td>\n    </tr>\n    <tr>\n      <th>1805</th>\n      <td>Спираль.</td>\n      <td>111001014</td>\n      <td>2014-01-30 12:00:00+00:00</td>\n      <td>Художественный</td>\n      <td>ООО \"Компания Питон\"</td>\n      <td>Россия</td>\n      <td>А.Волгин</td>\n      <td>Е.Ковалева</td>\n      <td>«12+» - для детей старше 12 лет</td>\n      <td>NaN</td>\n      <td>NaN</td>\n      <td>NaN</td>\n      <td>NaN</td>\n      <td>99%</td>\n      <td>аниме,мультфильм,ужасы</td>\n      <td>4.295000e+03</td>\n    </tr>\n    <tr>\n      <th>1874</th>\n      <td>Короткие истории о любви 2</td>\n      <td>121002615</td>\n      <td>2015-02-13 12:00:00+00:00</td>\n      <td>Художественный</td>\n      <td>Кавиар, Курт 13, СтритЛайт Филмз, Нэйер Дойче ...</td>\n      <td>Нидерланды - США - Германия - Канада - Франция...</td>\n      <td>Мэтью Аувро, Лео Брайдл, Бен Бренд, Ден Кларк,...</td>\n      <td>Мэри Пэт Бентел, Бен Бренд, Сиара Гиллан, Джор...</td>\n      <td>«18+» - запрещено для детей</td>\n      <td>NaN</td>\n      <td>NaN</td>\n      <td>NaN</td>\n      <td>NaN</td>\n      <td>83%</td>\n      <td>NaN</td>\n      <td>1.429859e+06</td>\n    </tr>\n    <tr>\n      <th>1899</th>\n      <td>Золушка /По сказке Шарля Перро/. Холодное торж...</td>\n      <td>121003615</td>\n      <td>2015-02-27 12:00:00+00:00</td>\n      <td>Художественный</td>\n      <td>Женр Филмз, Уолт Дисней Пикчерз</td>\n      <td>США</td>\n      <td>Кеннет Брана</td>\n      <td>Дэвид Бэррон, Саймон Кинберг, Эллисон Ширмур</td>\n      <td>«6+» - для детей старше 6 лет</td>\n      <td>NaN</td>\n      <td>NaN</td>\n      <td>NaN</td>\n      <td>NaN</td>\n      <td>64%</td>\n      <td>мюзикл,фэнтези,мелодрама</td>\n      <td>5.287326e+08</td>\n    </tr>\n    <tr>\n      <th>2126</th>\n      <td>Поездка к матери</td>\n      <td>111002015</td>\n      <td>2015-03-02 12:00:00+00:00</td>\n      <td>Художественный</td>\n      <td>ЗАО \"Киностудия \"М\"-Фильм\"</td>\n      <td>Россия</td>\n      <td>М.Косырев-Нестеров</td>\n      <td>М.Косырев-Нестеров</td>\n      <td>«16+» - для детей старше 16 лет</td>\n      <td>NaN</td>\n      <td>NaN</td>\n      <td>NaN</td>\n      <td>NaN</td>\n      <td>91%</td>\n      <td>драма,семейный</td>\n      <td>0.000000e+00</td>\n    </tr>\n    <tr>\n      <th>2146</th>\n      <td>Главный</td>\n      <td>111003415</td>\n      <td>2015-03-27 12:00:00+00:00</td>\n      <td>Художественный</td>\n      <td>ООО \"Киностудия \"МАСТЕР\"</td>\n      <td>Россия</td>\n      <td>Ю.Кара</td>\n      <td>Ю.Кара</td>\n      <td>«6+» - для детей старше 6 лет</td>\n      <td>0.0</td>\n      <td>10000000.0</td>\n      <td>40000000.0</td>\n      <td>Министерство культуры</td>\n      <td>94%</td>\n      <td>фантастика,боевик,комедия</td>\n      <td>3.347500e+05</td>\n    </tr>\n    <tr>\n      <th>2438</th>\n      <td>Самый рыжий Лис</td>\n      <td>111012715</td>\n      <td>2015-07-30 12:00:00+00:00</td>\n      <td>Художественный</td>\n      <td>ООО \"Продюсерский центр \"Ленфильм\"</td>\n      <td>Россия</td>\n      <td>А.Стреляная</td>\n      <td>А.Котелевский, Э.Пичугин</td>\n      <td>«6+» - для детей старше 6 лет</td>\n      <td>NaN</td>\n      <td>NaN</td>\n      <td>NaN</td>\n      <td>NaN</td>\n      <td>62%</td>\n      <td>фэнтези,семейный</td>\n      <td>NaN</td>\n    </tr>\n    <tr>\n      <th>2680</th>\n      <td>Год Белого Слона</td>\n      <td>111003915</td>\n      <td>2015-04-08 12:00:00+00:00</td>\n      <td>Художественный</td>\n      <td>ООО \"Творческое объединение ЮГ\"</td>\n      <td>Россия</td>\n      <td>Ю.Грымов</td>\n      <td>П.Поляков</td>\n      <td>«6+» - для детей старше 6 лет</td>\n      <td>NaN</td>\n      <td>NaN</td>\n      <td>NaN</td>\n      <td>NaN</td>\n      <td>79%</td>\n      <td>семейный</td>\n      <td>NaN</td>\n    </tr>\n    <tr>\n      <th>3139</th>\n      <td>Я умею вязать</td>\n      <td>111019615</td>\n      <td>2015-11-27 12:00:00+00:00</td>\n      <td>Художественный</td>\n      <td>ООО \"Белое Зеркало\"</td>\n      <td>Россия</td>\n      <td>Н.Степанова при участии С.Иванова</td>\n      <td>С.Кикнавелидзе, Д.Улюкаев</td>\n      <td>«16+» - для детей старше 16 лет</td>\n      <td>0.0</td>\n      <td>4700000.0</td>\n      <td>14462464.0</td>\n      <td>Министерство культуры</td>\n      <td>90%</td>\n      <td>драма</td>\n      <td>8.013700e+05</td>\n    </tr>\n    <tr>\n      <th>3431</th>\n      <td>Наурыз</td>\n      <td>131000217</td>\n      <td>2017-03-09 12:00:00+00:00</td>\n      <td>Художественный</td>\n      <td>Эс Джи</td>\n      <td>Республика Казахстан</td>\n      <td>Аскар Бисембин</td>\n      <td>Олег Головашкин, Алмас Султангазин</td>\n      <td>«12+» - для детей старше 12 лет</td>\n      <td>NaN</td>\n      <td>NaN</td>\n      <td>NaN</td>\n      <td>NaN</td>\n      <td>19%</td>\n      <td>комедия</td>\n      <td>3.796000e+04</td>\n    </tr>\n    <tr>\n      <th>3439</th>\n      <td>Семь диких историй</td>\n      <td>126005916</td>\n      <td>2016-11-28 12:00:00+00:00</td>\n      <td>Прочие</td>\n      <td>Макс Бэйкер, Джон Е.Брайан, Пьер-Луи Гарнон,  ...</td>\n      <td>США - Пуэрто-Рико - Франция</td>\n      <td>М.Бэйкер, Д.Е.Брайант, Д.Рондот, Я.Серсар, Д.С...</td>\n      <td>М.Бэйкер, Д.Е.Брайан, П.-Л.Гарнон, М.Х.Дельгад...</td>\n      <td>«18+» - запрещено для детей</td>\n      <td>NaN</td>\n      <td>NaN</td>\n      <td>NaN</td>\n      <td>NaN</td>\n      <td>88%</td>\n      <td>NaN</td>\n      <td>1.025937e+06</td>\n    </tr>\n    <tr>\n      <th>3446</th>\n      <td>Короткие истории о любви - 4</td>\n      <td>126006316</td>\n      <td>2016-12-30 12:00:00+00:00</td>\n      <td>Прочие</td>\n      <td>Нетворг Айлэнд Телевижн, Магнетфильм, Шорткатс...</td>\n      <td>Великобритания - Аргентина - США - Франция - Р...</td>\n      <td>Д.Адар, П.Антохин, М.Биасин, А.Бурунова, К.Кол...</td>\n      <td>Д.Адар, Д.Амсон, П.Антохин, А.Армстронг, С.Бил...</td>\n      <td>«18+» - запрещено для детей</td>\n      <td>NaN</td>\n      <td>NaN</td>\n      <td>NaN</td>\n      <td>NaN</td>\n      <td>83%</td>\n      <td>NaN</td>\n      <td>2.266408e+06</td>\n    </tr>\n    <tr>\n      <th>3514</th>\n      <td>Чужой дом</td>\n      <td>111015516</td>\n      <td>2016-09-14 12:00:00+00:00</td>\n      <td>Художественный</td>\n      <td>ООО \"Лига Продакшн\"</td>\n      <td>Россия, Грузия, Хорватия, Испания</td>\n      <td>Р.Глурджидзе</td>\n      <td>З.Магалашвили, К.Гечмен-Вальдек, Н.Горшкова</td>\n      <td>«12+» - для детей старше 12 лет</td>\n      <td>NaN</td>\n      <td>NaN</td>\n      <td>NaN</td>\n      <td>NaN</td>\n      <td>91%</td>\n      <td>драма</td>\n      <td>NaN</td>\n    </tr>\n    <tr>\n      <th>3585</th>\n      <td>Машины Страшилки. Серия \"Жутчайшая повесть о п...</td>\n      <td>114003916</td>\n      <td>2016-12-09 12:00:00+00:00</td>\n      <td>Анимационный</td>\n      <td>ООО Студия \"АНИМАККОРД\", АНИМАККОРД ЛТД.</td>\n      <td>Россия, Республика Кипр</td>\n      <td>Д.Червяцов</td>\n      <td>Д.Ловейко, О.Кузовков</td>\n      <td>«0+» - для любой зрительской аудитории</td>\n      <td>NaN</td>\n      <td>NaN</td>\n      <td>NaN</td>\n      <td>NaN</td>\n      <td>97%</td>\n      <td>мультфильм,ужасы,фэнтези</td>\n      <td>NaN</td>\n    </tr>\n    <tr>\n      <th>3786</th>\n      <td>Охотники</td>\n      <td>111017816</td>\n      <td>2016-02-06 12:00:00+00:00</td>\n      <td>Художественный</td>\n      <td>Селиверстов Александр Александрович</td>\n      <td>Россия</td>\n      <td>А.Селиверстов</td>\n      <td>Е.Тарковская, Т.Лагода, Д.Степанян</td>\n      <td>«16+» - для детей старше 16 лет</td>\n      <td>NaN</td>\n      <td>NaN</td>\n      <td>NaN</td>\n      <td>NaN</td>\n      <td>89%</td>\n      <td>фантастика,комедия,боевик</td>\n      <td>8.284000e+04</td>\n    </tr>\n    <tr>\n      <th>3948</th>\n      <td>Круиз.</td>\n      <td>211038210</td>\n      <td>2010-09-03 12:00:00+00:00</td>\n      <td>Художественный</td>\n      <td>ООО \"ЮНАЙТЕД МУЛЬТИМЕДИА ПРОДЖЕКТС\"</td>\n      <td>Россия</td>\n      <td>И.Ромащенко</td>\n      <td>Р.Атамалибеков</td>\n      <td>«16+» - для детей старше 16 лет</td>\n      <td>NaN</td>\n      <td>NaN</td>\n      <td>NaN</td>\n      <td>NaN</td>\n      <td>97%</td>\n      <td>приключения,комедия,фэнтези</td>\n      <td>NaN</td>\n    </tr>\n    <tr>\n      <th>5332</th>\n      <td>Добыча.</td>\n      <td>121009411</td>\n      <td>2011-06-15 12:00:00+00:00</td>\n      <td>Художественный</td>\n      <td>Афтер Дарк Филмз</td>\n      <td>США</td>\n      <td>Патрик Сиверсен</td>\n      <td>Закари Ти Брайан, Кристофер</td>\n      <td>«18+» - запрещено для детей</td>\n      <td>NaN</td>\n      <td>NaN</td>\n      <td>NaN</td>\n      <td>NaN</td>\n      <td>88%</td>\n      <td>фантастика,боевик,триллер</td>\n      <td>NaN</td>\n    </tr>\n    <tr>\n      <th>5455</th>\n      <td>Вечный холод</td>\n      <td>111006417</td>\n      <td>2017-08-28 12:00:00+00:00</td>\n      <td>Художественный</td>\n      <td>ЗАО \"Производственный комплекс \"ГЛАВКИНО\", ООО...</td>\n      <td>Россия</td>\n      <td>А.Мигачев</td>\n      <td>И.Бачурин</td>\n      <td>«18+» - запрещено для детей</td>\n      <td>NaN</td>\n      <td>NaN</td>\n      <td>NaN</td>\n      <td>NaN</td>\n      <td>83%</td>\n      <td>фэнтези,боевик,триллер</td>\n      <td>NaN</td>\n    </tr>\n    <tr>\n      <th>5821</th>\n      <td>Свинья</td>\n      <td>121007018</td>\n      <td>2018-04-11 12:00:00+00:00</td>\n      <td>Художественный</td>\n      <td>Дарк Прекёрсор Продакшен, Филмиран, Хедейт Филм</td>\n      <td>Иран</td>\n      <td>Мани Хагиги</td>\n      <td>Мани Хагиги</td>\n      <td>«18+» - запрещено для детей</td>\n      <td>NaN</td>\n      <td>NaN</td>\n      <td>NaN</td>\n      <td>NaN</td>\n      <td>94%</td>\n      <td>триллер,драма</td>\n      <td>1.587222e+06</td>\n    </tr>\n    <tr>\n      <th>5910</th>\n      <td>Мира</td>\n      <td>112000118</td>\n      <td>2018-06-04 12:00:00+00:00</td>\n      <td>Документальный</td>\n      <td>ООО \"Компания \"Новые люди\"</td>\n      <td>Россия</td>\n      <td>Д.Шабаев</td>\n      <td>Н.Мокрицкая</td>\n      <td>«18+» - запрещено для детей</td>\n      <td>NaN</td>\n      <td>NaN</td>\n      <td>NaN</td>\n      <td>NaN</td>\n      <td>94%</td>\n      <td>драма</td>\n      <td>NaN</td>\n    </tr>\n    <tr>\n      <th>6426</th>\n      <td>Памятные даты России. Партизаны и подпольщики</td>\n      <td>112013018</td>\n      <td>2018-11-28 12:00:00+00:00</td>\n      <td>Документальный</td>\n      <td>ООО Кинокомпания \"Вектор\"</td>\n      <td>Россия</td>\n      <td>Н.Иванова, А.Кузнецова</td>\n      <td>В.Коханович</td>\n      <td>«12+» - для детей старше 12 лет</td>\n      <td>NaN</td>\n      <td>NaN</td>\n      <td>NaN</td>\n      <td>NaN</td>\n      <td>91%</td>\n      <td>драма,биография</td>\n      <td>NaN</td>\n    </tr>\n    <tr>\n      <th>6616</th>\n      <td>ОТ ВОЙНЫ ДО НАШИХ ДНЕЙ</td>\n      <td>111026518</td>\n      <td>2019-01-21 12:00:00+00:00</td>\n      <td>Художественный</td>\n      <td>ИП Вайсман Анатолий Александрович</td>\n      <td>Россия</td>\n      <td>А.Сазонов, Е.Климович, А.Коломеец, С.Черникова...</td>\n      <td>Д.Руюежин, Л.Пятницкая, Д.Колеров, Э.Ким, А.Хомич</td>\n      <td>«12+» - для детей старше 12 лет</td>\n      <td>NaN</td>\n      <td>NaN</td>\n      <td>NaN</td>\n      <td>NaN</td>\n      <td>98%</td>\n      <td>фантастика,боевик</td>\n      <td>NaN</td>\n    </tr>\n    <tr>\n      <th>6737</th>\n      <td>Колесо времени</td>\n      <td>111003219</td>\n      <td>2019-03-01 12:00:00+00:00</td>\n      <td>Художественный</td>\n      <td>ООО \"БестМедиа\"</td>\n      <td>Россия</td>\n      <td>Б.Куломзин</td>\n      <td>Б.Куломзин</td>\n      <td>«6+» - для детей старше 6 лет</td>\n      <td>NaN</td>\n      <td>NaN</td>\n      <td>NaN</td>\n      <td>NaN</td>\n      <td>98%</td>\n      <td>фэнтези,приключения</td>\n      <td>3.499200e+04</td>\n    </tr>\n    <tr>\n      <th>6882</th>\n      <td>Животные рядом со Святыми</td>\n      <td>112003719</td>\n      <td>2019-05-03 12:00:00+00:00</td>\n      <td>Документальный</td>\n      <td>ООО \"Кинопрограмма \"XXI век\"</td>\n      <td>Россия</td>\n      <td>Т.Мирошник</td>\n      <td>В.Есинов, Е.Калинина</td>\n      <td>«0+» - для любой зрительской аудитории</td>\n      <td>NaN</td>\n      <td>NaN</td>\n      <td>NaN</td>\n      <td>NaN</td>\n      <td>99%</td>\n      <td>криминал,драма</td>\n      <td>NaN</td>\n    </tr>\n    <tr>\n      <th>7159</th>\n      <td>Анна Каренина. Интимный дневник</td>\n      <td>111013919</td>\n      <td>2019-10-23 12:00:00+00:00</td>\n      <td>Художественный</td>\n      <td>ООО \"РТВ\"</td>\n      <td>Россия</td>\n      <td>Ю.Грымов</td>\n      <td>Ю.Грымов</td>\n      <td>«16+» - для детей старше 16 лет</td>\n      <td>NaN</td>\n      <td>NaN</td>\n      <td>NaN</td>\n      <td>NaN</td>\n      <td>79%</td>\n      <td>драма</td>\n      <td>1.828825e+05</td>\n    </tr>\n    <tr>\n      <th>7277</th>\n      <td>Добыча</td>\n      <td>121028319</td>\n      <td>2019-10-03 12:00:00+00:00</td>\n      <td>Художественный</td>\n      <td>Блумхаус Продакшнз, Хайд Парк Интертейнмент, Т...</td>\n      <td>США</td>\n      <td>Франк Халфун</td>\n      <td>Ашок Амритрадж, Джейсон Блум, Трэвис Клафф</td>\n      <td>«16+» - для детей старше 16 лет</td>\n      <td>NaN</td>\n      <td>NaN</td>\n      <td>NaN</td>\n      <td>NaN</td>\n      <td>88%</td>\n      <td>фантастика,боевик,триллер</td>\n      <td>4.416590e+06</td>\n    </tr>\n  </tbody>\n</table>\n</div>"
     },
     "execution_count": 142,
     "metadata": {},
     "output_type": "execute_result"
    }
   ],
   "source": [
    "# df['ratings']=df['ratings'].astype('float')\n",
    "df[df['ratings'].str.contains('%')==True]"
   ],
   "metadata": {
    "collapsed": false,
    "pycharm": {
     "name": "#%%\n"
    }
   }
  },
  {
   "cell_type": "code",
   "execution_count": 143,
   "outputs": [],
   "source": [
    "df['ratings'] = pd.to_numeric(df['ratings'], errors='coerce')"
   ],
   "metadata": {
    "collapsed": false,
    "pycharm": {
     "name": "#%%\n"
    }
   }
  },
  {
   "cell_type": "code",
   "execution_count": 144,
   "outputs": [
    {
     "name": "stdout",
     "output_type": "stream",
     "text": [
      "<class 'pandas.core.frame.DataFrame'>\n",
      "Int64Index: 7486 entries, 0 to 7485\n",
      "Data columns (total 16 columns):\n",
      " #   Column                 Non-Null Count  Dtype              \n",
      "---  ------                 --------------  -----              \n",
      " 0   title                  7486 non-null   object             \n",
      " 1   puNumber               7486 non-null   object             \n",
      " 2   show_start_date        7486 non-null   datetime64[ns, UTC]\n",
      " 3   type                   7486 non-null   object             \n",
      " 4   film_studio            7468 non-null   object             \n",
      " 5   production_country     7484 non-null   object             \n",
      " 6   director               7477 non-null   object             \n",
      " 7   producer               6918 non-null   object             \n",
      " 8   age_restriction        7486 non-null   object             \n",
      " 9   refundable_support     332 non-null    float64            \n",
      " 10  nonrefundable_support  332 non-null    float64            \n",
      " 11  budget                 332 non-null    float64            \n",
      " 12  financing_source       332 non-null    object             \n",
      " 13  ratings                6490 non-null   float64            \n",
      " 14  genres                 6510 non-null   object             \n",
      " 15  box_office             3158 non-null   float64            \n",
      "dtypes: datetime64[ns, UTC](1), float64(5), object(10)\n",
      "memory usage: 994.2+ KB\n"
     ]
    }
   ],
   "source": [
    "df.info()"
   ],
   "metadata": {
    "collapsed": false,
    "pycharm": {
     "name": "#%%\n"
    }
   }
  },
  {
   "cell_type": "markdown",
   "metadata": {
    "id": "i0MOLbF-gFyP",
    "pycharm": {
     "name": "#%% md\n"
    }
   },
   "source": [
    "#### Шаг 2.2. Изучите пропуски в датафрейме\n",
    "\n",
    "- Объясните, почему заполнили пропуски определённым образом или почему не стали этого делать."
   ]
  },
  {
   "cell_type": "code",
   "execution_count": 145,
   "metadata": {
    "id": "8MJD_lkngFyP",
    "pycharm": {
     "name": "#%%\n"
    }
   },
   "outputs": [
    {
     "data": {
      "text/plain": "title                       0\npuNumber                    0\nshow_start_date             0\ntype                        0\nfilm_studio                18\nproduction_country          2\ndirector                    9\nproducer                  568\nage_restriction             0\nrefundable_support       7154\nnonrefundable_support    7154\nbudget                   7154\nfinancing_source         7154\nratings                   996\ngenres                    976\nbox_office               4328\ndtype: int64"
     },
     "execution_count": 145,
     "metadata": {},
     "output_type": "execute_result"
    }
   ],
   "source": [
    "df.isna().sum()"
   ]
  },
  {
   "cell_type": "markdown",
   "source": [
    "В столбцах refundable_support, nonrefundable_support, financing_source,box_office большое количество пропусков. Оставим как есть, т.к. не возможно восстановить эти данные. Пропуски в столбцах film_studio, production_country,director можно удалить, т.к. их количество по сравнению с размером выборки минимально. Пропуски в столбце producer, genres заполним заглушкой. Пропуски в ratings оставим как есть."
   ],
   "metadata": {
    "collapsed": false,
    "pycharm": {
     "name": "#%% md\n"
    }
   }
  },
  {
   "cell_type": "code",
   "execution_count": 146,
   "outputs": [],
   "source": [
    "df=df.dropna(subset = ['film_studio', 'production_country', 'director'])"
   ],
   "metadata": {
    "collapsed": false,
    "pycharm": {
     "name": "#%%\n"
    }
   }
  },
  {
   "cell_type": "code",
   "execution_count": 147,
   "outputs": [],
   "source": [
    "for col in ['producer', 'genres']:\n",
    "    df[col]=df[col].fillna('unknown')"
   ],
   "metadata": {
    "collapsed": false,
    "pycharm": {
     "name": "#%%\n"
    }
   }
  },
  {
   "cell_type": "code",
   "execution_count": 148,
   "outputs": [
    {
     "data": {
      "text/plain": "title                       0\npuNumber                    0\nshow_start_date             0\ntype                        0\nfilm_studio                 0\nproduction_country          0\ndirector                    0\nproducer                    0\nage_restriction             0\nrefundable_support       7127\nnonrefundable_support    7127\nbudget                   7127\nfinancing_source         7127\nratings                   977\ngenres                      0\nbox_office               4304\ndtype: int64"
     },
     "execution_count": 148,
     "metadata": {},
     "output_type": "execute_result"
    }
   ],
   "source": [
    "df.isna().sum()"
   ],
   "metadata": {
    "collapsed": false,
    "pycharm": {
     "name": "#%%\n"
    }
   }
  },
  {
   "cell_type": "markdown",
   "metadata": {
    "id": "4c6k1t9ygFyQ",
    "pycharm": {
     "name": "#%% md\n"
    }
   },
   "source": [
    "#### Шаг 2.3. Изучите дубликаты в датафрейме\n",
    "- Проверьте, есть ли в данных дубликаты. Опишите причины, которые могли повлиять на появление дублей."
   ]
  },
  {
   "cell_type": "code",
   "execution_count": 149,
   "metadata": {
    "id": "aKck8RIdgFyQ",
    "pycharm": {
     "name": "#%%\n"
    }
   },
   "outputs": [
    {
     "data": {
      "text/plain": "0"
     },
     "execution_count": 149,
     "metadata": {},
     "output_type": "execute_result"
    }
   ],
   "source": [
    "df.duplicated().sum()"
   ]
  },
  {
   "cell_type": "code",
   "execution_count": 150,
   "outputs": [
    {
     "data": {
      "text/plain": "713"
     },
     "execution_count": 150,
     "metadata": {},
     "output_type": "execute_result"
    }
   ],
   "source": [
    "df['title'].duplicated().sum()"
   ],
   "metadata": {
    "collapsed": false,
    "pycharm": {
     "name": "#%%\n"
    }
   }
  },
  {
   "cell_type": "code",
   "execution_count": 151,
   "outputs": [
    {
     "data": {
      "text/plain": "                                  title   puNumber           show_start_date  \\\n454                  100 миллионов евро  221024616 2016-05-25 12:00:00+00:00   \n455                  100 миллионов евро  121013712 2012-06-06 12:00:00+00:00   \n5058                          127 часов  221069011 2011-05-18 12:00:00+00:00   \n4852                          127 часов  121000811 2011-01-27 12:00:00+00:00   \n3129   13 часов: Тайные солдаты Бенгази  221019616 2016-04-19 12:00:00+00:00   \n...                                 ...        ...                       ...   \n1811             Этим утром в Нью-Йорке  221033214 2014-08-20 12:00:00+00:00   \n4071  Я ненавижу день святого Валентина  121002010 2010-02-04 12:00:00+00:00   \n4505  Я ненавижу день святого Валентина  221139210 2010-12-03 12:00:00+00:00   \n1703                  Я, снова я и мама  121013116 2016-05-23 12:00:00+00:00   \n1704                  Я, снова я и мама  121030213 2013-11-21 12:00:00+00:00   \n\n                type                                        film_studio  \\\n454   Художественный  Патэ, Эсквуд, Серенити Фильм, ТФ1 Фильм Продюк...   \n455   Художественный  Патэ, Эсквуд, Серенити Фильм, ТФ1 Фильм Продюк...   \n5058  Художественный  Фокс Серчлайт Пикчерз, Клод Эйт Филмз, Филм Фо...   \n4852  Художественный  Фокс Серчлайт Пикчерз, Клод Эйт Филмз, Филм Фо...   \n3129  Художественный  Парамаунт, Дан Филмз, Латина Пикчарз,3 Арт Инт...   \n...              ...                                                ...   \n1811  Художественный  Лэндскейп Интертейнмент, Форс Мажор, Проминент...   \n4071  Художественный  Блю Стар Пикчерз, Ай Хэйт Вдэй Продакшнз, Ай С...   \n4505  Художественный  Блю Стар Пикчерз, Ай Хэйт Вдэй Продакшнз, Ай С...   \n1703  Художественный  Гомон, Эль Джи Эм Продакшнз, Ректанль Продюксь...   \n1704  Художественный  Гомон, Эль Джи Эм Продакшнз, Ректанль Продюксь...   \n\n        production_country            director  \\\n454                Франция        Оливер Барру   \n455                Франция        Оливер Барру   \n5058  США - Великобритания          Дэнни Бойл   \n4852  США - Великобритания          Дэнни Бойл   \n3129                   США           Майкл Бэй   \n...                    ...                 ...   \n1811                   США  Фил Олден Робинсон   \n4071                   США        Ниа Вардалос   \n4505                   США        Ниа Вардалос   \n1703     Франция - Бельгия       Гийом Гальенн   \n1704     Франция - Бельгия       Гийом Гальенн   \n\n                                               producer  \\\n454                                   Ричард Грандпьерр   \n455                                   Ричард Грандпьерр   \n5058            Бернард Беллью, Тесса Росс, Гаррет Смит   \n4852            Бернард Беллью, Тесса Росс, Гаррет Смит   \n3129                             Майкл Бэй, Эрвин Стофф   \n...                                                 ...   \n1811       Боб Купер, Тайлер Митчелл, Дэниэл Дж. Уолкер   \n4071         Доминик Йанно, Мэдлейн Шерак, Уильям Шерак   \n4505         Доминик Йанно, Мэдлейн Шерак, Уильям Шерак   \n1703  Жан-Батист Дюпон, Алис Жирар, Сирил Кольбо-Жюстен   \n1704  Жан-Батист Дюпон, Алис Жирар, Сирил Кольбо-Жюстен   \n\n                      age_restriction  refundable_support  \\\n454   «16+» - для детей старше 16 лет                 NaN   \n455   «16+» - для детей старше 16 лет                 NaN   \n5058  «16+» - для детей старше 16 лет                 NaN   \n4852  «16+» - для детей старше 16 лет                 NaN   \n3129      «18+» - запрещено для детей                 NaN   \n...                               ...                 ...   \n1811  «12+» - для детей старше 12 лет                 NaN   \n4071  «16+» - для детей старше 16 лет                 NaN   \n4505  «16+» - для детей старше 16 лет                 NaN   \n1703  «16+» - для детей старше 16 лет                 NaN   \n1704  «16+» - для детей старше 16 лет                 NaN   \n\n      nonrefundable_support  budget financing_source  ratings  \\\n454                     NaN     NaN              NaN      6.1   \n455                     NaN     NaN              NaN      6.1   \n5058                    NaN     NaN              NaN      7.7   \n4852                    NaN     NaN              NaN      7.7   \n3129                    NaN     NaN              NaN      6.7   \n...                     ...     ...              ...      ...   \n1811                    NaN     NaN              NaN      6.2   \n4071                    NaN     NaN              NaN      5.0   \n4505                    NaN     NaN              NaN      5.0   \n1703                    NaN     NaN              NaN      6.3   \n1704                    NaN     NaN              NaN      6.3   \n\n                       genres  box_office  \n454                   комедия         NaN  \n455                   комедия         NaN  \n5058  триллер,биография,драма         NaN  \n4852  триллер,биография,драма         NaN  \n3129     боевик,триллер,драма         NaN  \n...                       ...         ...  \n1811            драма,комедия      1090.0  \n4071        мелодрама,комедия         NaN  \n4505        мелодрама,комедия         NaN  \n1703  комедия,мелодрама,драма         NaN  \n1704  комедия,мелодрама,драма         NaN  \n\n[1270 rows x 16 columns]",
      "text/html": "<div>\n<style scoped>\n    .dataframe tbody tr th:only-of-type {\n        vertical-align: middle;\n    }\n\n    .dataframe tbody tr th {\n        vertical-align: top;\n    }\n\n    .dataframe thead th {\n        text-align: right;\n    }\n</style>\n<table border=\"1\" class=\"dataframe\">\n  <thead>\n    <tr style=\"text-align: right;\">\n      <th></th>\n      <th>title</th>\n      <th>puNumber</th>\n      <th>show_start_date</th>\n      <th>type</th>\n      <th>film_studio</th>\n      <th>production_country</th>\n      <th>director</th>\n      <th>producer</th>\n      <th>age_restriction</th>\n      <th>refundable_support</th>\n      <th>nonrefundable_support</th>\n      <th>budget</th>\n      <th>financing_source</th>\n      <th>ratings</th>\n      <th>genres</th>\n      <th>box_office</th>\n    </tr>\n  </thead>\n  <tbody>\n    <tr>\n      <th>454</th>\n      <td>100 миллионов евро</td>\n      <td>221024616</td>\n      <td>2016-05-25 12:00:00+00:00</td>\n      <td>Художественный</td>\n      <td>Патэ, Эсквуд, Серенити Фильм, ТФ1 Фильм Продюк...</td>\n      <td>Франция</td>\n      <td>Оливер Барру</td>\n      <td>Ричард Грандпьерр</td>\n      <td>«16+» - для детей старше 16 лет</td>\n      <td>NaN</td>\n      <td>NaN</td>\n      <td>NaN</td>\n      <td>NaN</td>\n      <td>6.1</td>\n      <td>комедия</td>\n      <td>NaN</td>\n    </tr>\n    <tr>\n      <th>455</th>\n      <td>100 миллионов евро</td>\n      <td>121013712</td>\n      <td>2012-06-06 12:00:00+00:00</td>\n      <td>Художественный</td>\n      <td>Патэ, Эсквуд, Серенити Фильм, ТФ1 Фильм Продюк...</td>\n      <td>Франция</td>\n      <td>Оливер Барру</td>\n      <td>Ричард Грандпьерр</td>\n      <td>«16+» - для детей старше 16 лет</td>\n      <td>NaN</td>\n      <td>NaN</td>\n      <td>NaN</td>\n      <td>NaN</td>\n      <td>6.1</td>\n      <td>комедия</td>\n      <td>NaN</td>\n    </tr>\n    <tr>\n      <th>5058</th>\n      <td>127 часов</td>\n      <td>221069011</td>\n      <td>2011-05-18 12:00:00+00:00</td>\n      <td>Художественный</td>\n      <td>Фокс Серчлайт Пикчерз, Клод Эйт Филмз, Филм Фо...</td>\n      <td>США - Великобритания</td>\n      <td>Дэнни Бойл</td>\n      <td>Бернард Беллью, Тесса Росс, Гаррет Смит</td>\n      <td>«16+» - для детей старше 16 лет</td>\n      <td>NaN</td>\n      <td>NaN</td>\n      <td>NaN</td>\n      <td>NaN</td>\n      <td>7.7</td>\n      <td>триллер,биография,драма</td>\n      <td>NaN</td>\n    </tr>\n    <tr>\n      <th>4852</th>\n      <td>127 часов</td>\n      <td>121000811</td>\n      <td>2011-01-27 12:00:00+00:00</td>\n      <td>Художественный</td>\n      <td>Фокс Серчлайт Пикчерз, Клод Эйт Филмз, Филм Фо...</td>\n      <td>США - Великобритания</td>\n      <td>Дэнни Бойл</td>\n      <td>Бернард Беллью, Тесса Росс, Гаррет Смит</td>\n      <td>«16+» - для детей старше 16 лет</td>\n      <td>NaN</td>\n      <td>NaN</td>\n      <td>NaN</td>\n      <td>NaN</td>\n      <td>7.7</td>\n      <td>триллер,биография,драма</td>\n      <td>NaN</td>\n    </tr>\n    <tr>\n      <th>3129</th>\n      <td>13 часов: Тайные солдаты Бенгази</td>\n      <td>221019616</td>\n      <td>2016-04-19 12:00:00+00:00</td>\n      <td>Художественный</td>\n      <td>Парамаунт, Дан Филмз, Латина Пикчарз,3 Арт Инт...</td>\n      <td>США</td>\n      <td>Майкл Бэй</td>\n      <td>Майкл Бэй, Эрвин Стофф</td>\n      <td>«18+» - запрещено для детей</td>\n      <td>NaN</td>\n      <td>NaN</td>\n      <td>NaN</td>\n      <td>NaN</td>\n      <td>6.7</td>\n      <td>боевик,триллер,драма</td>\n      <td>NaN</td>\n    </tr>\n    <tr>\n      <th>...</th>\n      <td>...</td>\n      <td>...</td>\n      <td>...</td>\n      <td>...</td>\n      <td>...</td>\n      <td>...</td>\n      <td>...</td>\n      <td>...</td>\n      <td>...</td>\n      <td>...</td>\n      <td>...</td>\n      <td>...</td>\n      <td>...</td>\n      <td>...</td>\n      <td>...</td>\n      <td>...</td>\n    </tr>\n    <tr>\n      <th>1811</th>\n      <td>Этим утром в Нью-Йорке</td>\n      <td>221033214</td>\n      <td>2014-08-20 12:00:00+00:00</td>\n      <td>Художественный</td>\n      <td>Лэндскейп Интертейнмент, Форс Мажор, Проминент...</td>\n      <td>США</td>\n      <td>Фил Олден Робинсон</td>\n      <td>Боб Купер, Тайлер Митчелл, Дэниэл Дж. Уолкер</td>\n      <td>«12+» - для детей старше 12 лет</td>\n      <td>NaN</td>\n      <td>NaN</td>\n      <td>NaN</td>\n      <td>NaN</td>\n      <td>6.2</td>\n      <td>драма,комедия</td>\n      <td>1090.0</td>\n    </tr>\n    <tr>\n      <th>4071</th>\n      <td>Я ненавижу день святого Валентина</td>\n      <td>121002010</td>\n      <td>2010-02-04 12:00:00+00:00</td>\n      <td>Художественный</td>\n      <td>Блю Стар Пикчерз, Ай Хэйт Вдэй Продакшнз, Ай С...</td>\n      <td>США</td>\n      <td>Ниа Вардалос</td>\n      <td>Доминик Йанно, Мэдлейн Шерак, Уильям Шерак</td>\n      <td>«16+» - для детей старше 16 лет</td>\n      <td>NaN</td>\n      <td>NaN</td>\n      <td>NaN</td>\n      <td>NaN</td>\n      <td>5.0</td>\n      <td>мелодрама,комедия</td>\n      <td>NaN</td>\n    </tr>\n    <tr>\n      <th>4505</th>\n      <td>Я ненавижу день святого Валентина</td>\n      <td>221139210</td>\n      <td>2010-12-03 12:00:00+00:00</td>\n      <td>Художественный</td>\n      <td>Блю Стар Пикчерз, Ай Хэйт Вдэй Продакшнз, Ай С...</td>\n      <td>США</td>\n      <td>Ниа Вардалос</td>\n      <td>Доминик Йанно, Мэдлейн Шерак, Уильям Шерак</td>\n      <td>«16+» - для детей старше 16 лет</td>\n      <td>NaN</td>\n      <td>NaN</td>\n      <td>NaN</td>\n      <td>NaN</td>\n      <td>5.0</td>\n      <td>мелодрама,комедия</td>\n      <td>NaN</td>\n    </tr>\n    <tr>\n      <th>1703</th>\n      <td>Я, снова я и мама</td>\n      <td>121013116</td>\n      <td>2016-05-23 12:00:00+00:00</td>\n      <td>Художественный</td>\n      <td>Гомон, Эль Джи Эм Продакшнз, Ректанль Продюксь...</td>\n      <td>Франция - Бельгия</td>\n      <td>Гийом Гальенн</td>\n      <td>Жан-Батист Дюпон, Алис Жирар, Сирил Кольбо-Жюстен</td>\n      <td>«16+» - для детей старше 16 лет</td>\n      <td>NaN</td>\n      <td>NaN</td>\n      <td>NaN</td>\n      <td>NaN</td>\n      <td>6.3</td>\n      <td>комедия,мелодрама,драма</td>\n      <td>NaN</td>\n    </tr>\n    <tr>\n      <th>1704</th>\n      <td>Я, снова я и мама</td>\n      <td>121030213</td>\n      <td>2013-11-21 12:00:00+00:00</td>\n      <td>Художественный</td>\n      <td>Гомон, Эль Джи Эм Продакшнз, Ректанль Продюксь...</td>\n      <td>Франция - Бельгия</td>\n      <td>Гийом Гальенн</td>\n      <td>Жан-Батист Дюпон, Алис Жирар, Сирил Кольбо-Жюстен</td>\n      <td>«16+» - для детей старше 16 лет</td>\n      <td>NaN</td>\n      <td>NaN</td>\n      <td>NaN</td>\n      <td>NaN</td>\n      <td>6.3</td>\n      <td>комедия,мелодрама,драма</td>\n      <td>NaN</td>\n    </tr>\n  </tbody>\n</table>\n<p>1270 rows × 16 columns</p>\n</div>"
     },
     "execution_count": 151,
     "metadata": {},
     "output_type": "execute_result"
    }
   ],
   "source": [
    "df[df['title'].isin(df['title'][df['title'].duplicated()])].sort_values(by=['title'])"
   ],
   "metadata": {
    "collapsed": false,
    "pycharm": {
     "name": "#%%\n"
    }
   }
  },
  {
   "cell_type": "markdown",
   "source": [
    "Здесь присутствуют повторяющиеся фильмы с разной датой показа, это возможно связано с повторным выпуском фильмов в прокат. Оставим как есть."
   ],
   "metadata": {
    "collapsed": false,
    "pycharm": {
     "name": "#%% md\n"
    }
   }
  },
  {
   "cell_type": "code",
   "execution_count": 152,
   "outputs": [
    {
     "data": {
      "text/plain": "2"
     },
     "execution_count": 152,
     "metadata": {},
     "output_type": "execute_result"
    }
   ],
   "source": [
    "df['puNumber'].duplicated().sum()"
   ],
   "metadata": {
    "collapsed": false,
    "pycharm": {
     "name": "#%%\n"
    }
   }
  },
  {
   "cell_type": "code",
   "execution_count": 153,
   "outputs": [
    {
     "data": {
      "text/plain": "                                                  title   puNumber  \\\n4638                   Как жениться и остаться холостым  221154310   \n4639  Иоанна - женщина на папском престоле /По роман...  221154310   \n5067                                    Анализируй это!  221054410   \n5068                                     Анализируй то!  221054410   \n\n               show_start_date            type  \\\n4638 2010-12-17 12:00:00+00:00  Художественный   \n4639 2010-12-17 12:00:00+00:00  Художественный   \n5067 2010-05-25 12:00:00+00:00  Художественный   \n5068 2010-05-25 12:00:00+00:00  Художественный   \n\n                                            film_studio  \\\n4638  Ше Вам, Скрипт Ассосье, Тэ Фэ 1 Фильм Продюксь...   \n4639   Константин Фильм, А Эр Ди Дегето Фильм, Дюне ...   \n5067          Уорнер Бразерс, Вилладж Роудшоу Филмз ЛТД   \n5068  Уорнер Бразерс, Виллидж Роадшоу Пикчерз, Эн-Пи...   \n\n                                production_country        director  \\\n4638                                       Франция    Эрик Лартиго   \n4639  Германия - Великобритания - Италия - Испания  Зенке Вортманн   \n5067                                 США-Австралия   ХЭрольд Рэмис   \n5068                                           США  Гарольд Реймис   \n\n                                        producer  \\\n4638                     Амандин Било, Алан Шаба   \n4639  Оливер Бербен, Дорис Д.Хайнце, Фарук Элтан   \n5067             Джейн Розенталь, Пола Уейнстейн   \n5068             Джейн Розенталь, Паул Уэйнстейн   \n\n                      age_restriction  refundable_support  \\\n4638  «16+» - для детей старше 16 лет                 NaN   \n4639  «16+» - для детей старше 16 лет                 NaN   \n5067  «16+» - для детей старше 16 лет                 NaN   \n5068  «12+» - для детей старше 12 лет                 NaN   \n\n      nonrefundable_support  budget financing_source  ratings  \\\n4638                    NaN     NaN              NaN      7.0   \n4639                    NaN     NaN              NaN      7.6   \n5067                    NaN     NaN              NaN      7.4   \n5068                    NaN     NaN              NaN      6.8   \n\n                       genres  box_office  \n4638        мелодрама,комедия         NaN  \n4639  драма,мелодрама,история         NaN  \n5067         комедия,криминал         NaN  \n5068         комедия,криминал         NaN  ",
      "text/html": "<div>\n<style scoped>\n    .dataframe tbody tr th:only-of-type {\n        vertical-align: middle;\n    }\n\n    .dataframe tbody tr th {\n        vertical-align: top;\n    }\n\n    .dataframe thead th {\n        text-align: right;\n    }\n</style>\n<table border=\"1\" class=\"dataframe\">\n  <thead>\n    <tr style=\"text-align: right;\">\n      <th></th>\n      <th>title</th>\n      <th>puNumber</th>\n      <th>show_start_date</th>\n      <th>type</th>\n      <th>film_studio</th>\n      <th>production_country</th>\n      <th>director</th>\n      <th>producer</th>\n      <th>age_restriction</th>\n      <th>refundable_support</th>\n      <th>nonrefundable_support</th>\n      <th>budget</th>\n      <th>financing_source</th>\n      <th>ratings</th>\n      <th>genres</th>\n      <th>box_office</th>\n    </tr>\n  </thead>\n  <tbody>\n    <tr>\n      <th>4638</th>\n      <td>Как жениться и остаться холостым</td>\n      <td>221154310</td>\n      <td>2010-12-17 12:00:00+00:00</td>\n      <td>Художественный</td>\n      <td>Ше Вам, Скрипт Ассосье, Тэ Фэ 1 Фильм Продюксь...</td>\n      <td>Франция</td>\n      <td>Эрик Лартиго</td>\n      <td>Амандин Било, Алан Шаба</td>\n      <td>«16+» - для детей старше 16 лет</td>\n      <td>NaN</td>\n      <td>NaN</td>\n      <td>NaN</td>\n      <td>NaN</td>\n      <td>7.0</td>\n      <td>мелодрама,комедия</td>\n      <td>NaN</td>\n    </tr>\n    <tr>\n      <th>4639</th>\n      <td>Иоанна - женщина на папском престоле /По роман...</td>\n      <td>221154310</td>\n      <td>2010-12-17 12:00:00+00:00</td>\n      <td>Художественный</td>\n      <td>Константин Фильм, А Эр Ди Дегето Фильм, Дюне ...</td>\n      <td>Германия - Великобритания - Италия - Испания</td>\n      <td>Зенке Вортманн</td>\n      <td>Оливер Бербен, Дорис Д.Хайнце, Фарук Элтан</td>\n      <td>«16+» - для детей старше 16 лет</td>\n      <td>NaN</td>\n      <td>NaN</td>\n      <td>NaN</td>\n      <td>NaN</td>\n      <td>7.6</td>\n      <td>драма,мелодрама,история</td>\n      <td>NaN</td>\n    </tr>\n    <tr>\n      <th>5067</th>\n      <td>Анализируй это!</td>\n      <td>221054410</td>\n      <td>2010-05-25 12:00:00+00:00</td>\n      <td>Художественный</td>\n      <td>Уорнер Бразерс, Вилладж Роудшоу Филмз ЛТД</td>\n      <td>США-Австралия</td>\n      <td>ХЭрольд Рэмис</td>\n      <td>Джейн Розенталь, Пола Уейнстейн</td>\n      <td>«16+» - для детей старше 16 лет</td>\n      <td>NaN</td>\n      <td>NaN</td>\n      <td>NaN</td>\n      <td>NaN</td>\n      <td>7.4</td>\n      <td>комедия,криминал</td>\n      <td>NaN</td>\n    </tr>\n    <tr>\n      <th>5068</th>\n      <td>Анализируй то!</td>\n      <td>221054410</td>\n      <td>2010-05-25 12:00:00+00:00</td>\n      <td>Художественный</td>\n      <td>Уорнер Бразерс, Виллидж Роадшоу Пикчерз, Эн-Пи...</td>\n      <td>США</td>\n      <td>Гарольд Реймис</td>\n      <td>Джейн Розенталь, Паул Уэйнстейн</td>\n      <td>«12+» - для детей старше 12 лет</td>\n      <td>NaN</td>\n      <td>NaN</td>\n      <td>NaN</td>\n      <td>NaN</td>\n      <td>6.8</td>\n      <td>комедия,криминал</td>\n      <td>NaN</td>\n    </tr>\n  </tbody>\n</table>\n</div>"
     },
     "execution_count": 153,
     "metadata": {},
     "output_type": "execute_result"
    }
   ],
   "source": [
    "df[df['puNumber'].isin(df['puNumber'][df['puNumber'].duplicated()])]"
   ],
   "metadata": {
    "collapsed": false,
    "pycharm": {
     "name": "#%%\n"
    }
   }
  },
  {
   "cell_type": "markdown",
   "source": [
    "Присутствует один и тот же фильм, но с разными возрастными категориями и рейтингами. Что с этим делать - непонятно, оставим как есть. Второй дубликат появился за счет ошибки в айди"
   ],
   "metadata": {
    "collapsed": false,
    "pycharm": {
     "name": "#%% md\n"
    }
   }
  },
  {
   "cell_type": "markdown",
   "metadata": {
    "id": "52fOPrEBgFyQ",
    "pycharm": {
     "name": "#%% md\n"
    }
   },
   "source": [
    "#### Шаг 2.4. Изучите категориальные значения\n",
    "\n",
    "- Посмотрите, какая общая проблема встречается почти во всех категориальных столбцах;\n",
    "- Исправьте проблемные значения в поле `type`.\n",
    "\n",
    "<div id=\"accordion\">\n",
    "    <div class=\"card\">\n",
    "        <div class=\"card-header\" id=\"headingThree\">\n",
    "            <button class=\"btn btn-link collapsed\" data-toggle=\"collapse\" data-target=\"#collapseHint_1\" aria-expanded=\"false\" aria-controls=\"collapseHint_1\">Подсказка</button>\n",
    "        </div>\n",
    "        <div id=\"collapseHint_1\" class=\"collapse\" aria-labelledby=\"headingThree\" data-parent=\"#accordion\">\n",
    "            <div class=\"card-body\">\n",
    "В поле <code>type</code> есть несколько значений, у которых появился пробел в начале строки. Самый простой способ их «починить» -- использовать метод <a href=\"https://pandas.pydata.org/docs/reference/api/pandas.Series.str.strip.html#pandas.Series.str.strip\">.str.strip</a>. Этот метод удаляет все пробелы, которые встречаются в начале и в конце строки. Применяют его таким образом:<br>\n",
    "<code>df['type'].str.strip()</code>\n",
    "            </div>\n",
    "        </div>\n",
    "    </div>\n",
    "</div>"
   ]
  },
  {
   "cell_type": "code",
   "execution_count": 154,
   "metadata": {
    "id": "PnXKIVdFgFyR",
    "pycharm": {
     "name": "#%%\n"
    }
   },
   "outputs": [
    {
     "data": {
      "text/plain": "                  title   puNumber           show_start_date            type  \\\n0      Открытый простор  221048915 2015-11-27 12:00:00+00:00  Художественный   \n1  Особо важное задание  111013716 2016-09-13 12:00:00+00:00  Художественный   \n2          Особо опасен  221038416 2016-10-10 12:00:00+00:00  Художественный   \n3          Особо опасен  221026916 2016-06-10 12:00:00+00:00  Художественный   \n4          Особо опасен  221030815 2015-07-29 12:00:00+00:00  Художественный   \n\n                                         film_studio production_country  \\\n0  Тачстоун Пикчерз, Кобальт Пикчерз, Бикон Пикче...                США   \n1                              Киностудия \"Мосфильм\"               СССР   \n2  Юниверсал Пикчерз, Кикстарт Продакшнз, Марк Пл...                США   \n3  Юниверсал Пикчерз, Кикстарт Продакшнз, Марк Пл...                США   \n4  Юниверсал Пикчерз, Кикстарт Продакшнз, Марк Пл...                США   \n\n            director                                           producer  \\\n0      Кевин Костнер          Дэвид Валдес, Кевин Костнер, Джейк Эбертс   \n1          Е.Матвеев                                            unknown   \n2  Тимур Бекмамбетов  Джим Лемли, Джейсон Нетер, Марк Е.Платт, Яйн Смит   \n3  Тимур Бекмамбетов  Джим Лемли, Джейсон Нетер, Марк Е.Платт, Яйн Смит   \n4  Тимур Бекмамбетов  Джим Лемли, Джейсон Нетер, Марк Е.Платт, Яйн Смит   \n\n                 age_restriction  refundable_support  nonrefundable_support  \\\n0    «18+» - запрещено для детей                 NaN                    NaN   \n1  «6+» - для детей старше 6 лет                 NaN                    NaN   \n2    «18+» - запрещено для детей                 NaN                    NaN   \n3    «18+» - запрещено для детей                 NaN                    NaN   \n4    «18+» - запрещено для детей                 NaN                    NaN   \n\n   budget financing_source  ratings                     genres  box_office  \n0     NaN              NaN      7.2     боевик,драма,мелодрама         NaN  \n1     NaN              NaN      6.6              драма,военный         NaN  \n2     NaN              NaN      6.8  фантастика,боевик,триллер         NaN  \n3     NaN              NaN      6.8  фантастика,боевик,триллер         NaN  \n4     NaN              NaN      6.8  фантастика,боевик,триллер         NaN  ",
      "text/html": "<div>\n<style scoped>\n    .dataframe tbody tr th:only-of-type {\n        vertical-align: middle;\n    }\n\n    .dataframe tbody tr th {\n        vertical-align: top;\n    }\n\n    .dataframe thead th {\n        text-align: right;\n    }\n</style>\n<table border=\"1\" class=\"dataframe\">\n  <thead>\n    <tr style=\"text-align: right;\">\n      <th></th>\n      <th>title</th>\n      <th>puNumber</th>\n      <th>show_start_date</th>\n      <th>type</th>\n      <th>film_studio</th>\n      <th>production_country</th>\n      <th>director</th>\n      <th>producer</th>\n      <th>age_restriction</th>\n      <th>refundable_support</th>\n      <th>nonrefundable_support</th>\n      <th>budget</th>\n      <th>financing_source</th>\n      <th>ratings</th>\n      <th>genres</th>\n      <th>box_office</th>\n    </tr>\n  </thead>\n  <tbody>\n    <tr>\n      <th>0</th>\n      <td>Открытый простор</td>\n      <td>221048915</td>\n      <td>2015-11-27 12:00:00+00:00</td>\n      <td>Художественный</td>\n      <td>Тачстоун Пикчерз, Кобальт Пикчерз, Бикон Пикче...</td>\n      <td>США</td>\n      <td>Кевин Костнер</td>\n      <td>Дэвид Валдес, Кевин Костнер, Джейк Эбертс</td>\n      <td>«18+» - запрещено для детей</td>\n      <td>NaN</td>\n      <td>NaN</td>\n      <td>NaN</td>\n      <td>NaN</td>\n      <td>7.2</td>\n      <td>боевик,драма,мелодрама</td>\n      <td>NaN</td>\n    </tr>\n    <tr>\n      <th>1</th>\n      <td>Особо важное задание</td>\n      <td>111013716</td>\n      <td>2016-09-13 12:00:00+00:00</td>\n      <td>Художественный</td>\n      <td>Киностудия \"Мосфильм\"</td>\n      <td>СССР</td>\n      <td>Е.Матвеев</td>\n      <td>unknown</td>\n      <td>«6+» - для детей старше 6 лет</td>\n      <td>NaN</td>\n      <td>NaN</td>\n      <td>NaN</td>\n      <td>NaN</td>\n      <td>6.6</td>\n      <td>драма,военный</td>\n      <td>NaN</td>\n    </tr>\n    <tr>\n      <th>2</th>\n      <td>Особо опасен</td>\n      <td>221038416</td>\n      <td>2016-10-10 12:00:00+00:00</td>\n      <td>Художественный</td>\n      <td>Юниверсал Пикчерз, Кикстарт Продакшнз, Марк Пл...</td>\n      <td>США</td>\n      <td>Тимур Бекмамбетов</td>\n      <td>Джим Лемли, Джейсон Нетер, Марк Е.Платт, Яйн Смит</td>\n      <td>«18+» - запрещено для детей</td>\n      <td>NaN</td>\n      <td>NaN</td>\n      <td>NaN</td>\n      <td>NaN</td>\n      <td>6.8</td>\n      <td>фантастика,боевик,триллер</td>\n      <td>NaN</td>\n    </tr>\n    <tr>\n      <th>3</th>\n      <td>Особо опасен</td>\n      <td>221026916</td>\n      <td>2016-06-10 12:00:00+00:00</td>\n      <td>Художественный</td>\n      <td>Юниверсал Пикчерз, Кикстарт Продакшнз, Марк Пл...</td>\n      <td>США</td>\n      <td>Тимур Бекмамбетов</td>\n      <td>Джим Лемли, Джейсон Нетер, Марк Е.Платт, Яйн Смит</td>\n      <td>«18+» - запрещено для детей</td>\n      <td>NaN</td>\n      <td>NaN</td>\n      <td>NaN</td>\n      <td>NaN</td>\n      <td>6.8</td>\n      <td>фантастика,боевик,триллер</td>\n      <td>NaN</td>\n    </tr>\n    <tr>\n      <th>4</th>\n      <td>Особо опасен</td>\n      <td>221030815</td>\n      <td>2015-07-29 12:00:00+00:00</td>\n      <td>Художественный</td>\n      <td>Юниверсал Пикчерз, Кикстарт Продакшнз, Марк Пл...</td>\n      <td>США</td>\n      <td>Тимур Бекмамбетов</td>\n      <td>Джим Лемли, Джейсон Нетер, Марк Е.Платт, Яйн Смит</td>\n      <td>«18+» - запрещено для детей</td>\n      <td>NaN</td>\n      <td>NaN</td>\n      <td>NaN</td>\n      <td>NaN</td>\n      <td>6.8</td>\n      <td>фантастика,боевик,триллер</td>\n      <td>NaN</td>\n    </tr>\n  </tbody>\n</table>\n</div>"
     },
     "execution_count": 154,
     "metadata": {},
     "output_type": "execute_result"
    }
   ],
   "source": [
    "df.head()"
   ]
  },
  {
   "cell_type": "code",
   "execution_count": 155,
   "outputs": [
    {
     "data": {
      "text/plain": "array(['Художественный', 'Анимационный', 'Прочие', 'Документальный',\n       'Научно-популярный', ' Художественный', ' Анимационный',\n       'Музыкально-развлекательный'], dtype=object)"
     },
     "execution_count": 155,
     "metadata": {},
     "output_type": "execute_result"
    }
   ],
   "source": [
    "df['type'].unique()"
   ],
   "metadata": {
    "collapsed": false,
    "pycharm": {
     "name": "#%%\n"
    }
   }
  },
  {
   "cell_type": "markdown",
   "source": [
    "Похоже в данном столбце имеются лишние пробелы, удалим"
   ],
   "metadata": {
    "collapsed": false,
    "pycharm": {
     "name": "#%% md\n"
    }
   }
  },
  {
   "cell_type": "code",
   "execution_count": 156,
   "outputs": [
    {
     "data": {
      "text/plain": "array(['Художественный', 'Анимационный', 'Прочие', 'Документальный',\n       'Научно-популярный', 'Музыкально-развлекательный'], dtype=object)"
     },
     "execution_count": 156,
     "metadata": {},
     "output_type": "execute_result"
    }
   ],
   "source": [
    "df['type']=df['type'].str.strip()\n",
    "df['type'].unique()"
   ],
   "metadata": {
    "collapsed": false,
    "pycharm": {
     "name": "#%%\n"
    }
   }
  },
  {
   "cell_type": "code",
   "execution_count": 157,
   "outputs": [],
   "source": [
    "category_columns=['film_studio', 'production_country', 'director', 'producer', 'age_restriction', 'genres', 'financing_source']"
   ],
   "metadata": {
    "collapsed": false,
    "pycharm": {
     "name": "#%%\n"
    }
   }
  },
  {
   "cell_type": "code",
   "execution_count": 158,
   "outputs": [
    {
     "name": "stdout",
     "output_type": "stream",
     "text": [
      "5485\n",
      "Киностудия \"Мосфильм\"                                                                                                      341\n",
      "ООО \"Мульт в кино\"                                                                                                          57\n",
      "Анимаккорд Лтд                                                                                                              23\n",
      "ООО \"Мульт в кино\"                                                                                                          18\n",
      "ФГУП \"ТПО \"Киностудия \"Союзмультфильм\"                                                                                      16\n",
      "                                                                                                                          ... \n",
      "Эден Рок Медиа, Филм Нэйшн Интертейнмент, Флинн Пикчерз Компани, Нью Лайн Синема, Силвер Рил, Суперсенсори, Вентюр Ворт      1\n",
      "Мажестик Филмпродуцион, Айрис Продакшнз, Рат Пак Филмпродуцион, Фред Фильм                                                   1\n",
      "Арт Франс, Артлайн Филмз, Коэн Медиа Групп                                                                                   1\n",
      "Оккупант Интертейнмент                                                                                                       1\n",
      "Атомик Фичерс, Грин-лайт Интернэшнл, Гриндстон Интертейнмент, Скульптор Медиа, Тайкор Интернэшнл Фильм Компани               1\n",
      "Name: film_studio, Length: 5485, dtype: int64\n",
      "------\n",
      "950\n",
      "США                                                                    2171\n",
      "Россия                                                                 1802\n",
      "СССР                                                                    347\n",
      "Франция                                                                 301\n",
      "Великобритания                                                          253\n",
      "                                                                       ... \n",
      "Швеция - США                                                              1\n",
      "Франция - Германия - Турция - Катар                                       1\n",
      "Франция-Китай                                                             1\n",
      "Россия, Германия, Великобритания                                          1\n",
      "Дания - Канада - Швеция - Франция - Германия - Великобритания - США       1\n",
      "Name: production_country, Length: 950, dtype: int64\n",
      "------\n",
      "4796\n",
      "О.Семёнова               47\n",
      "Стивен Содерберг         17\n",
      "Д.Червяцов               17\n",
      "Ридли Скотт              16\n",
      "Тиль Швайгер             14\n",
      "                         ..\n",
      "Г.Куценко (Ю.Куценко)     1\n",
      "Кент Джонс                1\n",
      "Флориан Галленбергер      1\n",
      "Афонсо Пойарт             1\n",
      "И.Трусов                  1\n",
      "Name: director, Length: 4796, dtype: int64\n",
      "------\n",
      "5330\n",
      "unknown                                                                                                                          564\n",
      "П.Смирнов                                                                                                                         67\n",
      "Олег Кузовков, Дмитрий Ловейко, Марина Ратина                                                                                     28\n",
      "С.Сельянов                                                                                                                        18\n",
      "Д.Ловейко, О.Кузовков                                                                                                             17\n",
      "                                                                                                                                ... \n",
      "Э.Илоян, В.Шляппо, А.Троцюк, Д.Жалинский, Д.Дьяченко, М.Ткаченко, А.Рубцов                                                         1\n",
      "Люси Фишер, Пуйа Шахбазян, Дуглас Уик                                                                                              1\n",
      "Т.Цыварева, В.Воля, Е.Головин, А.Сметанкин, А.Златопольский, С.Сельянов, А.Боярский, И.Попов, Г.Васильев, М.Меннис, В.Сотсков      1\n",
      "Кассандра Сигсгорд                                                                                                                 1\n",
      "Дженнифер Додж                                                                                                                     1\n",
      "Name: producer, Length: 5330, dtype: int64\n",
      "------\n",
      "5\n",
      "«16+» - для детей старше 16 лет           2848\n",
      "«18+» - запрещено для детей               1601\n",
      "«12+» - для детей старше 12 лет           1584\n",
      "«0+» - для любой зрительской аудитории     803\n",
      "«6+» - для детей старше 6 лет              623\n",
      "Name: age_restriction, dtype: int64\n",
      "------\n",
      "742\n",
      "unknown                         957\n",
      "драма                           476\n",
      "комедия                         351\n",
      "мелодрама,комедия               222\n",
      "драма,мелодрама,комедия         189\n",
      "                               ... \n",
      "мюзикл,мелодрама,фэнтези          1\n",
      "документальный,новости,драма      1\n",
      "семейный,детектив,детский         1\n",
      "комедия,история,драма             1\n",
      "мелодрама,история,драма           1\n",
      "Name: genres, Length: 742, dtype: int64\n",
      "------\n",
      "3\n",
      "Министерство культуры               164\n",
      "Фонд кино                           146\n",
      "Министерство культуры, Фонд кино     22\n",
      "Name: financing_source, dtype: int64\n",
      "------\n"
     ]
    }
   ],
   "source": [
    "for col in category_columns:\n",
    "    print(df[col].nunique())\n",
    "    print(df[col].value_counts())\n",
    "    print('------')"
   ],
   "metadata": {
    "collapsed": false,
    "pycharm": {
     "name": "#%%\n"
    }
   }
  },
  {
   "cell_type": "markdown",
   "source": [
    "В столбце с возрастными ограничениями все хорошо - всего 5 категорий, в остальных общая проблема, связанная с кооперацией режиссеров, стран и тд"
   ],
   "metadata": {
    "collapsed": false,
    "pycharm": {
     "name": "#%% md\n"
    }
   }
  },
  {
   "cell_type": "markdown",
   "metadata": {
    "id": "XFSN5lrEgFyR",
    "pycharm": {
     "name": "#%% md\n"
    }
   },
   "source": [
    "#### Шаг 2.5. Проверьте количественные значения\n",
    "\n",
    "- Проверьте, обнаружились ли в таких столбцах подозрительные данные. Как с такими данными лучше поступить?\n",
    "\n",
    "<div id=\"accordion\">\n",
    "    <div class=\"card\">\n",
    "        <div class=\"card-header\" id=\"headingThree\">\n",
    "            <button class=\"btn btn-link collapsed\" data-toggle=\"collapse\" data-target=\"#collapseHint_budget\" aria-expanded=\"false\" aria-controls=\"collapseHint_budget\">Подсказка</button>\n",
    "        </div>\n",
    "        <div id=\"collapseHint_budget\" class=\"collapse\" aria-labelledby=\"headingThree\" data-parent=\"#accordion\">\n",
    "            <div class=\"card-body\">\n",
    "Обратите внимание на описание столбца <code>budget</code>. Как этот столбец соотносится с двумя другими: <code>refundable_support</code> и <code>nonrefundable_support</code>?\n",
    "            </div>\n",
    "        </div>\n",
    "    </div>\n",
    "</div>"
   ]
  },
  {
   "cell_type": "code",
   "execution_count": 159,
   "metadata": {
    "id": "YbzClBxagFyS",
    "pycharm": {
     "name": "#%%\n"
    }
   },
   "outputs": [
    {
     "data": {
      "text/plain": "Index(['title', 'puNumber', 'show_start_date', 'type', 'film_studio',\n       'production_country', 'director', 'producer', 'age_restriction',\n       'refundable_support', 'nonrefundable_support', 'budget',\n       'financing_source', 'ratings', 'genres', 'box_office'],\n      dtype='object')"
     },
     "execution_count": 159,
     "metadata": {},
     "output_type": "execute_result"
    }
   ],
   "source": [
    "df.columns"
   ]
  },
  {
   "cell_type": "code",
   "execution_count": 160,
   "outputs": [],
   "source": [
    "num_cols=['refundable_support', 'nonrefundable_support', 'budget',]"
   ],
   "metadata": {
    "collapsed": false,
    "pycharm": {
     "name": "#%%\n"
    }
   }
  },
  {
   "cell_type": "code",
   "execution_count": 161,
   "outputs": [
    {
     "data": {
      "text/plain": "      refundable_support  nonrefundable_support  budget\n5569                True                   True    True\n6627                True                   True    True\n3060                True                   True    True\n3047                True                   True    True\n3046                True                   True    True",
      "text/html": "<div>\n<style scoped>\n    .dataframe tbody tr th:only-of-type {\n        vertical-align: middle;\n    }\n\n    .dataframe tbody tr th {\n        vertical-align: top;\n    }\n\n    .dataframe thead th {\n        text-align: right;\n    }\n</style>\n<table border=\"1\" class=\"dataframe\">\n  <thead>\n    <tr style=\"text-align: right;\">\n      <th></th>\n      <th>refundable_support</th>\n      <th>nonrefundable_support</th>\n      <th>budget</th>\n    </tr>\n  </thead>\n  <tbody>\n    <tr>\n      <th>5569</th>\n      <td>True</td>\n      <td>True</td>\n      <td>True</td>\n    </tr>\n    <tr>\n      <th>6627</th>\n      <td>True</td>\n      <td>True</td>\n      <td>True</td>\n    </tr>\n    <tr>\n      <th>3060</th>\n      <td>True</td>\n      <td>True</td>\n      <td>True</td>\n    </tr>\n    <tr>\n      <th>3047</th>\n      <td>True</td>\n      <td>True</td>\n      <td>True</td>\n    </tr>\n    <tr>\n      <th>3046</th>\n      <td>True</td>\n      <td>True</td>\n      <td>True</td>\n    </tr>\n  </tbody>\n</table>\n</div>"
     },
     "execution_count": 161,
     "metadata": {},
     "output_type": "execute_result"
    }
   ],
   "source": [
    "df[num_cols].notna().sort_values(by='budget',ascending=False).head()"
   ],
   "metadata": {
    "collapsed": false,
    "pycharm": {
     "name": "#%%\n"
    }
   }
  },
  {
   "cell_type": "code",
   "source": [
    "df[num_cols].notna().sort_values(by='budget',ascending=False).tail()"
   ],
   "metadata": {
    "collapsed": false,
    "pycharm": {
     "name": "#%%\n"
    }
   },
   "execution_count": 162,
   "outputs": [
    {
     "data": {
      "text/plain": "      refundable_support  nonrefundable_support  budget\n2463               False                  False   False\n2462               False                  False   False\n2460               False                  False   False\n2459               False                  False   False\n7485               False                  False   False",
      "text/html": "<div>\n<style scoped>\n    .dataframe tbody tr th:only-of-type {\n        vertical-align: middle;\n    }\n\n    .dataframe tbody tr th {\n        vertical-align: top;\n    }\n\n    .dataframe thead th {\n        text-align: right;\n    }\n</style>\n<table border=\"1\" class=\"dataframe\">\n  <thead>\n    <tr style=\"text-align: right;\">\n      <th></th>\n      <th>refundable_support</th>\n      <th>nonrefundable_support</th>\n      <th>budget</th>\n    </tr>\n  </thead>\n  <tbody>\n    <tr>\n      <th>2463</th>\n      <td>False</td>\n      <td>False</td>\n      <td>False</td>\n    </tr>\n    <tr>\n      <th>2462</th>\n      <td>False</td>\n      <td>False</td>\n      <td>False</td>\n    </tr>\n    <tr>\n      <th>2460</th>\n      <td>False</td>\n      <td>False</td>\n      <td>False</td>\n    </tr>\n    <tr>\n      <th>2459</th>\n      <td>False</td>\n      <td>False</td>\n      <td>False</td>\n    </tr>\n    <tr>\n      <th>7485</th>\n      <td>False</td>\n      <td>False</td>\n      <td>False</td>\n    </tr>\n  </tbody>\n</table>\n</div>"
     },
     "execution_count": 162,
     "metadata": {},
     "output_type": "execute_result"
    }
   ]
  },
  {
   "cell_type": "markdown",
   "source": [
    "Пропуски в этих столбцах соответствуют друг другу"
   ],
   "metadata": {
    "collapsed": false,
    "pycharm": {
     "name": "#%% md\n"
    }
   }
  },
  {
   "cell_type": "code",
   "execution_count": 163,
   "outputs": [
    {
     "data": {
      "text/plain": "       refundable_support  nonrefundable_support        budget      ratings  \\\ncount        3.320000e+02           3.320000e+02  3.320000e+02  6482.000000   \nmean         1.186446e+07           4.898099e+07  1.272297e+08     6.478911   \nstd          2.491656e+07           5.998012e+07  1.885883e+08     1.101522   \nmin          0.000000e+00           0.000000e+00  0.000000e+00     1.000000   \n25%          0.000000e+00           2.500000e+07  4.200000e+07     5.900000   \n50%          0.000000e+00           3.000000e+07  6.864992e+07     6.600000   \n75%          1.500000e+07           4.037500e+07  1.419853e+08     7.200000   \nmax          1.800000e+08           4.000000e+08  2.305074e+09     9.200000   \n\n         box_office  \ncount  3.155000e+03  \nmean   7.655133e+07  \nstd    2.404559e+08  \nmin    0.000000e+00  \n25%    8.709050e+04  \n50%    2.338050e+06  \n75%    2.399546e+07  \nmax    3.073569e+09  ",
      "text/html": "<div>\n<style scoped>\n    .dataframe tbody tr th:only-of-type {\n        vertical-align: middle;\n    }\n\n    .dataframe tbody tr th {\n        vertical-align: top;\n    }\n\n    .dataframe thead th {\n        text-align: right;\n    }\n</style>\n<table border=\"1\" class=\"dataframe\">\n  <thead>\n    <tr style=\"text-align: right;\">\n      <th></th>\n      <th>refundable_support</th>\n      <th>nonrefundable_support</th>\n      <th>budget</th>\n      <th>ratings</th>\n      <th>box_office</th>\n    </tr>\n  </thead>\n  <tbody>\n    <tr>\n      <th>count</th>\n      <td>3.320000e+02</td>\n      <td>3.320000e+02</td>\n      <td>3.320000e+02</td>\n      <td>6482.000000</td>\n      <td>3.155000e+03</td>\n    </tr>\n    <tr>\n      <th>mean</th>\n      <td>1.186446e+07</td>\n      <td>4.898099e+07</td>\n      <td>1.272297e+08</td>\n      <td>6.478911</td>\n      <td>7.655133e+07</td>\n    </tr>\n    <tr>\n      <th>std</th>\n      <td>2.491656e+07</td>\n      <td>5.998012e+07</td>\n      <td>1.885883e+08</td>\n      <td>1.101522</td>\n      <td>2.404559e+08</td>\n    </tr>\n    <tr>\n      <th>min</th>\n      <td>0.000000e+00</td>\n      <td>0.000000e+00</td>\n      <td>0.000000e+00</td>\n      <td>1.000000</td>\n      <td>0.000000e+00</td>\n    </tr>\n    <tr>\n      <th>25%</th>\n      <td>0.000000e+00</td>\n      <td>2.500000e+07</td>\n      <td>4.200000e+07</td>\n      <td>5.900000</td>\n      <td>8.709050e+04</td>\n    </tr>\n    <tr>\n      <th>50%</th>\n      <td>0.000000e+00</td>\n      <td>3.000000e+07</td>\n      <td>6.864992e+07</td>\n      <td>6.600000</td>\n      <td>2.338050e+06</td>\n    </tr>\n    <tr>\n      <th>75%</th>\n      <td>1.500000e+07</td>\n      <td>4.037500e+07</td>\n      <td>1.419853e+08</td>\n      <td>7.200000</td>\n      <td>2.399546e+07</td>\n    </tr>\n    <tr>\n      <th>max</th>\n      <td>1.800000e+08</td>\n      <td>4.000000e+08</td>\n      <td>2.305074e+09</td>\n      <td>9.200000</td>\n      <td>3.073569e+09</td>\n    </tr>\n  </tbody>\n</table>\n</div>"
     },
     "execution_count": 163,
     "metadata": {},
     "output_type": "execute_result"
    }
   ],
   "source": [
    "df.describe()"
   ],
   "metadata": {
    "collapsed": false,
    "pycharm": {
     "name": "#%%\n"
    }
   }
  },
  {
   "cell_type": "markdown",
   "source": [
    "Посмотрим, не превышает ли где-нибудь гос. поддержка бюджет фильма"
   ],
   "metadata": {
    "collapsed": false,
    "pycharm": {
     "name": "#%% md\n"
    }
   }
  },
  {
   "cell_type": "code",
   "execution_count": 164,
   "outputs": [
    {
     "data": {
      "text/plain": "                       title   puNumber           show_start_date  \\\n2053                     14+  111023614 2014-12-19 12:00:00+00:00   \n2058               Дуxless 2  111000415 2015-01-26 12:00:00+00:00   \n2472             Воин (2015)  111017315 2015-09-28 12:00:00+00:00   \n2532                 Бармен.  111009615 2015-05-26 12:00:00+00:00   \n2615     Савва. Сердце воина  114001715 2015-07-21 12:00:00+00:00   \n2684          Тряпичный союз  111010215 2015-06-08 12:00:00+00:00   \n2788      Срочно выйду замуж  111017115 2015-09-30 12:00:00+00:00   \n2874       Помню - не помню!  111004916 2016-03-01 12:00:00+00:00   \n3047  Любовь с ограничениями  111008216 2016-04-29 12:00:00+00:00   \n3565       Притяжение (2016)  111018116 2016-12-16 12:00:00+00:00   \n3675                Чудо-юдо  114001817 2017-06-27 12:00:00+00:00   \n3739                    Мифы  111004317 2017-06-07 12:00:00+00:00   \n5673                   Селфи  111012117 2018-02-01 12:00:00+00:00   \n5806              Два хвоста  114001018 2018-05-31 12:00:00+00:00   \n6008      Принцесса и дракон  114003018 2018-08-23 12:00:00+00:00   \n6323                Баба Яга  114006518 2018-11-08 12:00:00+00:00   \n6823     Большое путешествие  114002419 2019-04-20 12:00:00+00:00   \n\n                type                                        film_studio  \\\n2053  Художественный                         ООО Киностудия  \"Сентябрь\"   \n2058  Художественный  ООО \"Киностудия \"Слово\", ООО \"Арт Пикчерс Студия\"   \n2472  Художественный   ООО \"Форпост Продакшн\", ООО \"Арт Пикчерс Студия\"   \n2532  Художественный          АО \"ВайТ Медиа\", ООО \"Арт Пикчерс Студия\"   \n2615    Анимационный   ООО \"Глюкоза Продакшн\", ООО \"Арт Пикчерс Студия\"   \n2684  Художественный                      ООО \"Кинокомпания \"КОКТЕБЕЛЬ\"   \n2788  Художественный          АО \"ВайТ Медиа\", ООО \"Арт Пикчерс Студия\"   \n2874  Художественный                                    ООО \"КиноФирма\"   \n3047  Художественный          АО \"ВайТ Медиа\", ООО \"Арт Пикчерс Студия\"   \n3565  Художественный      ООО \"Водород 2011\",  ООО \"Арт Пикчерс Студия\"   \n3675    Анимационный                                    ООО \"КиноФирма\"   \n3739  Художественный           ООО \"ХАЙПФИЛМ\", ООО \"Арт Пикчерс Студия\"   \n5673  Художественный  ООО \"Киностудия \"Слово\", ООО \"Арт Пикчерс Студия\"   \n5806    Анимационный                          ООО \"ЛИЦЕНЗИОННЫЕ БРЕНДЫ\"   \n6008    Анимационный                          ООО \"ЛИЦЕНЗИОННЫЕ БРЕНДЫ\"   \n6323    Анимационный                           ООО \"Арт Пикчерс Студия\"   \n6823    Анимационный                          ООО \"ЛИЦЕНЗИОННЫЕ БРЕНДЫ\"   \n\n     production_country                        director  \\\n2053             Россия                        А.Зайцев   \n2058             Россия                      Р.Прыгунов   \n2472             Россия                     А.Андрианов   \n2532             Россия                    Д.Штурманова   \n2615             Россия                        М.Фадеев   \n2684             Россия                     М.Местецкий   \n2788             Россия                       С Чекалов   \n2874             Россия                     В.Ровенский   \n3047             Россия                         Д.Тюрин   \n3565             Россия                     Ф.Бондарчук   \n3675             Россия                       А.Лукичев   \n3739             Россия                    А.Молочников   \n5673             Россия                      Н.Хомерики   \n5806             Россия  В.Ровенский, Н.Лопато, В.Азеев   \n6008             Россия                      М.Нефедова   \n6323             Россия                         В.Саков   \n6823             Россия           Н.Лопато, В.Ровенский   \n\n                                               producer  \\\n2053                                О.Гранина, А.Зайцев   \n2058                 П.Ануров, Ф.Бондарчук, Д.Рудовский   \n2472                           ООО \"Арт Пикчерс Студия\"   \n2532                                        Т.Вайнштейн   \n2615                                         А.Чистяков   \n2684                              Р.Борисевич, А.Кушаев   \n2788              Ф.Бондарчук, Т.Вайнштейн, Д.Рудовский   \n2874                                    ООО \"КиноФирма\"   \n3047              Ф.Бондарчук, Т.Вайнштейн, Д.Рудовский   \n3565                           ООО \"Арт Пикчерс Студия\"   \n3675                                    ООО \"КиноФирма\"   \n3739  Ф.Бондарчук, Д.Рудовский, И.Стюарт, М.Османн, ...   \n5673                 П.Ануров, Ф.Бондарчук, Д.Рудовский   \n5806                          ООО \"ЛИЦЕНЗИОННЫЕ БРЕНДЫ\"   \n6008                          ООО \"ЛИЦЕНЗИОННЫЕ БРЕНДЫ\"   \n6323  ООО \"Арт Пикчерс Студия\", ООО \"КРИЭЙТИВ АНИМЭЙ...   \n6823                          ООО \"ЛИЦЕНЗИОННЫЕ БРЕНДЫ\"   \n\n                      age_restriction  refundable_support  \\\n2053  «16+» - для детей старше 16 лет                 0.0   \n2058  «16+» - для детей старше 16 лет                 0.0   \n2472  «12+» - для детей старше 12 лет          10000000.0   \n2532  «16+» - для детей старше 16 лет          20000000.0   \n2615    «6+» - для детей старше 6 лет          60000000.0   \n2684      «18+» - запрещено для детей                 0.0   \n2788  «16+» - для детей старше 16 лет                 0.0   \n2874  «12+» - для детей старше 12 лет                 0.0   \n3047  «16+» - для детей старше 16 лет          19000000.0   \n3565  «12+» - для детей старше 12 лет                 0.0   \n3675    «6+» - для детей старше 6 лет          20000000.0   \n3739  «16+» - для детей старше 16 лет          25000000.0   \n5673  «16+» - для детей старше 16 лет          20000000.0   \n5806    «6+» - для детей старше 6 лет          10000000.0   \n6008    «6+» - для детей старше 6 лет          40000000.0   \n6323    «6+» - для детей старше 6 лет                 0.0   \n6823    «6+» - для детей старше 6 лет          60000000.0   \n\n      nonrefundable_support  budget                  financing_source  \\\n2053             23000000.0     0.0  Министерство культуры, Фонд кино   \n2058             75000000.0     0.0                         Фонд кино   \n2472             70000000.0     0.0                         Фонд кино   \n2532                    0.0     0.0                         Фонд кино   \n2615            100000000.0     0.0                         Фонд кино   \n2684             59000000.0     0.0                         Фонд кино   \n2788             35000000.0     0.0                         Фонд кино   \n2874              6000000.0     0.0             Министерство культуры   \n3047             51000000.0     0.0                         Фонд кино   \n3565            250000000.0     0.0                         Фонд кино   \n3675             20000000.0     0.0                         Фонд кино   \n3739             20000000.0     0.0                         Фонд кино   \n5673             40000000.0     0.0                         Фонд кино   \n5806             60000000.0     0.0                         Фонд кино   \n6008             40000000.0     0.0                         Фонд кино   \n6323            138969465.0     0.0                         Фонд кино   \n6823            120000000.0     0.0                         Фонд кино   \n\n      ratings                          genres    box_office  \n2053      6.6                       мелодрама  1.023402e+07  \n2058      6.6                           драма  4.461635e+08  \n2472      7.8           боевик,драма,криминал  1.965724e+08  \n2532      6.2                 комедия,фэнтези  6.741897e+07  \n2615      4.6  мультфильм,приключения,фэнтези  1.844876e+08  \n2684      6.3                   комедия,драма  1.957739e+06  \n2788      5.1               комедия,мелодрама  7.293778e+07  \n2874      4.3                         комедия  1.536293e+07  \n3047      6.3               комедия,мелодрама  7.029905e+07  \n3565      5.6                      фантастика  1.038321e+09  \n3675      5.2     мультфильм,фэнтези,семейный  5.510801e+07  \n3739      4.8                         комедия  5.045195e+07  \n5673      5.8                   триллер,драма  2.251964e+08  \n5806      5.0              мультфильм,детский  1.065143e+08  \n6008      5.2      мультфильм,фэнтези,детский  8.336633e+07  \n6323      NaN                         unknown  1.334699e+06  \n6823      6.2  мультфильм,комедия,приключения  1.476068e+08  ",
      "text/html": "<div>\n<style scoped>\n    .dataframe tbody tr th:only-of-type {\n        vertical-align: middle;\n    }\n\n    .dataframe tbody tr th {\n        vertical-align: top;\n    }\n\n    .dataframe thead th {\n        text-align: right;\n    }\n</style>\n<table border=\"1\" class=\"dataframe\">\n  <thead>\n    <tr style=\"text-align: right;\">\n      <th></th>\n      <th>title</th>\n      <th>puNumber</th>\n      <th>show_start_date</th>\n      <th>type</th>\n      <th>film_studio</th>\n      <th>production_country</th>\n      <th>director</th>\n      <th>producer</th>\n      <th>age_restriction</th>\n      <th>refundable_support</th>\n      <th>nonrefundable_support</th>\n      <th>budget</th>\n      <th>financing_source</th>\n      <th>ratings</th>\n      <th>genres</th>\n      <th>box_office</th>\n    </tr>\n  </thead>\n  <tbody>\n    <tr>\n      <th>2053</th>\n      <td>14+</td>\n      <td>111023614</td>\n      <td>2014-12-19 12:00:00+00:00</td>\n      <td>Художественный</td>\n      <td>ООО Киностудия  \"Сентябрь\"</td>\n      <td>Россия</td>\n      <td>А.Зайцев</td>\n      <td>О.Гранина, А.Зайцев</td>\n      <td>«16+» - для детей старше 16 лет</td>\n      <td>0.0</td>\n      <td>23000000.0</td>\n      <td>0.0</td>\n      <td>Министерство культуры, Фонд кино</td>\n      <td>6.6</td>\n      <td>мелодрама</td>\n      <td>1.023402e+07</td>\n    </tr>\n    <tr>\n      <th>2058</th>\n      <td>Дуxless 2</td>\n      <td>111000415</td>\n      <td>2015-01-26 12:00:00+00:00</td>\n      <td>Художественный</td>\n      <td>ООО \"Киностудия \"Слово\", ООО \"Арт Пикчерс Студия\"</td>\n      <td>Россия</td>\n      <td>Р.Прыгунов</td>\n      <td>П.Ануров, Ф.Бондарчук, Д.Рудовский</td>\n      <td>«16+» - для детей старше 16 лет</td>\n      <td>0.0</td>\n      <td>75000000.0</td>\n      <td>0.0</td>\n      <td>Фонд кино</td>\n      <td>6.6</td>\n      <td>драма</td>\n      <td>4.461635e+08</td>\n    </tr>\n    <tr>\n      <th>2472</th>\n      <td>Воин (2015)</td>\n      <td>111017315</td>\n      <td>2015-09-28 12:00:00+00:00</td>\n      <td>Художественный</td>\n      <td>ООО \"Форпост Продакшн\", ООО \"Арт Пикчерс Студия\"</td>\n      <td>Россия</td>\n      <td>А.Андрианов</td>\n      <td>ООО \"Арт Пикчерс Студия\"</td>\n      <td>«12+» - для детей старше 12 лет</td>\n      <td>10000000.0</td>\n      <td>70000000.0</td>\n      <td>0.0</td>\n      <td>Фонд кино</td>\n      <td>7.8</td>\n      <td>боевик,драма,криминал</td>\n      <td>1.965724e+08</td>\n    </tr>\n    <tr>\n      <th>2532</th>\n      <td>Бармен.</td>\n      <td>111009615</td>\n      <td>2015-05-26 12:00:00+00:00</td>\n      <td>Художественный</td>\n      <td>АО \"ВайТ Медиа\", ООО \"Арт Пикчерс Студия\"</td>\n      <td>Россия</td>\n      <td>Д.Штурманова</td>\n      <td>Т.Вайнштейн</td>\n      <td>«16+» - для детей старше 16 лет</td>\n      <td>20000000.0</td>\n      <td>0.0</td>\n      <td>0.0</td>\n      <td>Фонд кино</td>\n      <td>6.2</td>\n      <td>комедия,фэнтези</td>\n      <td>6.741897e+07</td>\n    </tr>\n    <tr>\n      <th>2615</th>\n      <td>Савва. Сердце воина</td>\n      <td>114001715</td>\n      <td>2015-07-21 12:00:00+00:00</td>\n      <td>Анимационный</td>\n      <td>ООО \"Глюкоза Продакшн\", ООО \"Арт Пикчерс Студия\"</td>\n      <td>Россия</td>\n      <td>М.Фадеев</td>\n      <td>А.Чистяков</td>\n      <td>«6+» - для детей старше 6 лет</td>\n      <td>60000000.0</td>\n      <td>100000000.0</td>\n      <td>0.0</td>\n      <td>Фонд кино</td>\n      <td>4.6</td>\n      <td>мультфильм,приключения,фэнтези</td>\n      <td>1.844876e+08</td>\n    </tr>\n    <tr>\n      <th>2684</th>\n      <td>Тряпичный союз</td>\n      <td>111010215</td>\n      <td>2015-06-08 12:00:00+00:00</td>\n      <td>Художественный</td>\n      <td>ООО \"Кинокомпания \"КОКТЕБЕЛЬ\"</td>\n      <td>Россия</td>\n      <td>М.Местецкий</td>\n      <td>Р.Борисевич, А.Кушаев</td>\n      <td>«18+» - запрещено для детей</td>\n      <td>0.0</td>\n      <td>59000000.0</td>\n      <td>0.0</td>\n      <td>Фонд кино</td>\n      <td>6.3</td>\n      <td>комедия,драма</td>\n      <td>1.957739e+06</td>\n    </tr>\n    <tr>\n      <th>2788</th>\n      <td>Срочно выйду замуж</td>\n      <td>111017115</td>\n      <td>2015-09-30 12:00:00+00:00</td>\n      <td>Художественный</td>\n      <td>АО \"ВайТ Медиа\", ООО \"Арт Пикчерс Студия\"</td>\n      <td>Россия</td>\n      <td>С Чекалов</td>\n      <td>Ф.Бондарчук, Т.Вайнштейн, Д.Рудовский</td>\n      <td>«16+» - для детей старше 16 лет</td>\n      <td>0.0</td>\n      <td>35000000.0</td>\n      <td>0.0</td>\n      <td>Фонд кино</td>\n      <td>5.1</td>\n      <td>комедия,мелодрама</td>\n      <td>7.293778e+07</td>\n    </tr>\n    <tr>\n      <th>2874</th>\n      <td>Помню - не помню!</td>\n      <td>111004916</td>\n      <td>2016-03-01 12:00:00+00:00</td>\n      <td>Художественный</td>\n      <td>ООО \"КиноФирма\"</td>\n      <td>Россия</td>\n      <td>В.Ровенский</td>\n      <td>ООО \"КиноФирма\"</td>\n      <td>«12+» - для детей старше 12 лет</td>\n      <td>0.0</td>\n      <td>6000000.0</td>\n      <td>0.0</td>\n      <td>Министерство культуры</td>\n      <td>4.3</td>\n      <td>комедия</td>\n      <td>1.536293e+07</td>\n    </tr>\n    <tr>\n      <th>3047</th>\n      <td>Любовь с ограничениями</td>\n      <td>111008216</td>\n      <td>2016-04-29 12:00:00+00:00</td>\n      <td>Художественный</td>\n      <td>АО \"ВайТ Медиа\", ООО \"Арт Пикчерс Студия\"</td>\n      <td>Россия</td>\n      <td>Д.Тюрин</td>\n      <td>Ф.Бондарчук, Т.Вайнштейн, Д.Рудовский</td>\n      <td>«16+» - для детей старше 16 лет</td>\n      <td>19000000.0</td>\n      <td>51000000.0</td>\n      <td>0.0</td>\n      <td>Фонд кино</td>\n      <td>6.3</td>\n      <td>комедия,мелодрама</td>\n      <td>7.029905e+07</td>\n    </tr>\n    <tr>\n      <th>3565</th>\n      <td>Притяжение (2016)</td>\n      <td>111018116</td>\n      <td>2016-12-16 12:00:00+00:00</td>\n      <td>Художественный</td>\n      <td>ООО \"Водород 2011\",  ООО \"Арт Пикчерс Студия\"</td>\n      <td>Россия</td>\n      <td>Ф.Бондарчук</td>\n      <td>ООО \"Арт Пикчерс Студия\"</td>\n      <td>«12+» - для детей старше 12 лет</td>\n      <td>0.0</td>\n      <td>250000000.0</td>\n      <td>0.0</td>\n      <td>Фонд кино</td>\n      <td>5.6</td>\n      <td>фантастика</td>\n      <td>1.038321e+09</td>\n    </tr>\n    <tr>\n      <th>3675</th>\n      <td>Чудо-юдо</td>\n      <td>114001817</td>\n      <td>2017-06-27 12:00:00+00:00</td>\n      <td>Анимационный</td>\n      <td>ООО \"КиноФирма\"</td>\n      <td>Россия</td>\n      <td>А.Лукичев</td>\n      <td>ООО \"КиноФирма\"</td>\n      <td>«6+» - для детей старше 6 лет</td>\n      <td>20000000.0</td>\n      <td>20000000.0</td>\n      <td>0.0</td>\n      <td>Фонд кино</td>\n      <td>5.2</td>\n      <td>мультфильм,фэнтези,семейный</td>\n      <td>5.510801e+07</td>\n    </tr>\n    <tr>\n      <th>3739</th>\n      <td>Мифы</td>\n      <td>111004317</td>\n      <td>2017-06-07 12:00:00+00:00</td>\n      <td>Художественный</td>\n      <td>ООО \"ХАЙПФИЛМ\", ООО \"Арт Пикчерс Студия\"</td>\n      <td>Россия</td>\n      <td>А.Молочников</td>\n      <td>Ф.Бондарчук, Д.Рудовский, И.Стюарт, М.Османн, ...</td>\n      <td>«16+» - для детей старше 16 лет</td>\n      <td>25000000.0</td>\n      <td>20000000.0</td>\n      <td>0.0</td>\n      <td>Фонд кино</td>\n      <td>4.8</td>\n      <td>комедия</td>\n      <td>5.045195e+07</td>\n    </tr>\n    <tr>\n      <th>5673</th>\n      <td>Селфи</td>\n      <td>111012117</td>\n      <td>2018-02-01 12:00:00+00:00</td>\n      <td>Художественный</td>\n      <td>ООО \"Киностудия \"Слово\", ООО \"Арт Пикчерс Студия\"</td>\n      <td>Россия</td>\n      <td>Н.Хомерики</td>\n      <td>П.Ануров, Ф.Бондарчук, Д.Рудовский</td>\n      <td>«16+» - для детей старше 16 лет</td>\n      <td>20000000.0</td>\n      <td>40000000.0</td>\n      <td>0.0</td>\n      <td>Фонд кино</td>\n      <td>5.8</td>\n      <td>триллер,драма</td>\n      <td>2.251964e+08</td>\n    </tr>\n    <tr>\n      <th>5806</th>\n      <td>Два хвоста</td>\n      <td>114001018</td>\n      <td>2018-05-31 12:00:00+00:00</td>\n      <td>Анимационный</td>\n      <td>ООО \"ЛИЦЕНЗИОННЫЕ БРЕНДЫ\"</td>\n      <td>Россия</td>\n      <td>В.Ровенский, Н.Лопато, В.Азеев</td>\n      <td>ООО \"ЛИЦЕНЗИОННЫЕ БРЕНДЫ\"</td>\n      <td>«6+» - для детей старше 6 лет</td>\n      <td>10000000.0</td>\n      <td>60000000.0</td>\n      <td>0.0</td>\n      <td>Фонд кино</td>\n      <td>5.0</td>\n      <td>мультфильм,детский</td>\n      <td>1.065143e+08</td>\n    </tr>\n    <tr>\n      <th>6008</th>\n      <td>Принцесса и дракон</td>\n      <td>114003018</td>\n      <td>2018-08-23 12:00:00+00:00</td>\n      <td>Анимационный</td>\n      <td>ООО \"ЛИЦЕНЗИОННЫЕ БРЕНДЫ\"</td>\n      <td>Россия</td>\n      <td>М.Нефедова</td>\n      <td>ООО \"ЛИЦЕНЗИОННЫЕ БРЕНДЫ\"</td>\n      <td>«6+» - для детей старше 6 лет</td>\n      <td>40000000.0</td>\n      <td>40000000.0</td>\n      <td>0.0</td>\n      <td>Фонд кино</td>\n      <td>5.2</td>\n      <td>мультфильм,фэнтези,детский</td>\n      <td>8.336633e+07</td>\n    </tr>\n    <tr>\n      <th>6323</th>\n      <td>Баба Яга</td>\n      <td>114006518</td>\n      <td>2018-11-08 12:00:00+00:00</td>\n      <td>Анимационный</td>\n      <td>ООО \"Арт Пикчерс Студия\"</td>\n      <td>Россия</td>\n      <td>В.Саков</td>\n      <td>ООО \"Арт Пикчерс Студия\", ООО \"КРИЭЙТИВ АНИМЭЙ...</td>\n      <td>«6+» - для детей старше 6 лет</td>\n      <td>0.0</td>\n      <td>138969465.0</td>\n      <td>0.0</td>\n      <td>Фонд кино</td>\n      <td>NaN</td>\n      <td>unknown</td>\n      <td>1.334699e+06</td>\n    </tr>\n    <tr>\n      <th>6823</th>\n      <td>Большое путешествие</td>\n      <td>114002419</td>\n      <td>2019-04-20 12:00:00+00:00</td>\n      <td>Анимационный</td>\n      <td>ООО \"ЛИЦЕНЗИОННЫЕ БРЕНДЫ\"</td>\n      <td>Россия</td>\n      <td>Н.Лопато, В.Ровенский</td>\n      <td>ООО \"ЛИЦЕНЗИОННЫЕ БРЕНДЫ\"</td>\n      <td>«6+» - для детей старше 6 лет</td>\n      <td>60000000.0</td>\n      <td>120000000.0</td>\n      <td>0.0</td>\n      <td>Фонд кино</td>\n      <td>6.2</td>\n      <td>мультфильм,комедия,приключения</td>\n      <td>1.476068e+08</td>\n    </tr>\n  </tbody>\n</table>\n</div>"
     },
     "execution_count": 164,
     "metadata": {},
     "output_type": "execute_result"
    }
   ],
   "source": [
    "df[(df['refundable_support']+df['nonrefundable_support'])>df['budget']]"
   ],
   "metadata": {
    "collapsed": false,
    "pycharm": {
     "name": "#%%\n"
    }
   }
  },
  {
   "cell_type": "markdown",
   "source": [
    "Как видно, это ошибочные данные, удалим их"
   ],
   "metadata": {
    "collapsed": false,
    "pycharm": {
     "name": "#%% md\n"
    }
   }
  },
  {
   "cell_type": "code",
   "execution_count": 165,
   "outputs": [],
   "source": [
    "df=df.drop((df[(df['refundable_support']+df['nonrefundable_support'])>df['budget']]).index)"
   ],
   "metadata": {
    "collapsed": false,
    "pycharm": {
     "name": "#%%\n"
    }
   }
  },
  {
   "cell_type": "code",
   "execution_count": 166,
   "outputs": [
    {
     "name": "stdout",
     "output_type": "stream",
     "text": [
      "<class 'pandas.core.frame.DataFrame'>\n",
      "Int64Index: 7442 entries, 0 to 7485\n",
      "Data columns (total 16 columns):\n",
      " #   Column                 Non-Null Count  Dtype              \n",
      "---  ------                 --------------  -----              \n",
      " 0   title                  7442 non-null   object             \n",
      " 1   puNumber               7442 non-null   object             \n",
      " 2   show_start_date        7442 non-null   datetime64[ns, UTC]\n",
      " 3   type                   7442 non-null   object             \n",
      " 4   film_studio            7442 non-null   object             \n",
      " 5   production_country     7442 non-null   object             \n",
      " 6   director               7442 non-null   object             \n",
      " 7   producer               7442 non-null   object             \n",
      " 8   age_restriction        7442 non-null   object             \n",
      " 9   refundable_support     315 non-null    float64            \n",
      " 10  nonrefundable_support  315 non-null    float64            \n",
      " 11  budget                 315 non-null    float64            \n",
      " 12  financing_source       315 non-null    object             \n",
      " 13  ratings                6466 non-null   float64            \n",
      " 14  genres                 7442 non-null   object             \n",
      " 15  box_office             3138 non-null   float64            \n",
      "dtypes: datetime64[ns, UTC](1), float64(5), object(10)\n",
      "memory usage: 988.4+ KB\n"
     ]
    }
   ],
   "source": [
    "df.info()"
   ],
   "metadata": {
    "collapsed": false,
    "pycharm": {
     "name": "#%%\n"
    }
   }
  },
  {
   "cell_type": "markdown",
   "metadata": {
    "id": "Eu6oWp2CgFyS",
    "pycharm": {
     "name": "#%% md\n"
    }
   },
   "source": [
    "#### Шаг 2.6. Добавьте новые столбцы\n",
    "\n",
    "\n",
    "\n"
   ]
  },
  {
   "cell_type": "markdown",
   "metadata": {
    "id": "7GgW-UpAgFyS",
    "pycharm": {
     "name": "#%% md\n"
    }
   },
   "source": [
    "- Создайте столбец с информацией о годе проката. Выделите год из даты премьеры фильма."
   ]
  },
  {
   "cell_type": "code",
   "execution_count": 167,
   "outputs": [
    {
     "data": {
      "text/plain": "                  title   puNumber           show_start_date            type  \\\n0      Открытый простор  221048915 2015-11-27 12:00:00+00:00  Художественный   \n1  Особо важное задание  111013716 2016-09-13 12:00:00+00:00  Художественный   \n2          Особо опасен  221038416 2016-10-10 12:00:00+00:00  Художественный   \n3          Особо опасен  221026916 2016-06-10 12:00:00+00:00  Художественный   \n4          Особо опасен  221030815 2015-07-29 12:00:00+00:00  Художественный   \n\n                                         film_studio production_country  \\\n0  Тачстоун Пикчерз, Кобальт Пикчерз, Бикон Пикче...                США   \n1                              Киностудия \"Мосфильм\"               СССР   \n2  Юниверсал Пикчерз, Кикстарт Продакшнз, Марк Пл...                США   \n3  Юниверсал Пикчерз, Кикстарт Продакшнз, Марк Пл...                США   \n4  Юниверсал Пикчерз, Кикстарт Продакшнз, Марк Пл...                США   \n\n            director                                           producer  \\\n0      Кевин Костнер          Дэвид Валдес, Кевин Костнер, Джейк Эбертс   \n1          Е.Матвеев                                            unknown   \n2  Тимур Бекмамбетов  Джим Лемли, Джейсон Нетер, Марк Е.Платт, Яйн Смит   \n3  Тимур Бекмамбетов  Джим Лемли, Джейсон Нетер, Марк Е.Платт, Яйн Смит   \n4  Тимур Бекмамбетов  Джим Лемли, Джейсон Нетер, Марк Е.Платт, Яйн Смит   \n\n                 age_restriction  refundable_support  nonrefundable_support  \\\n0    «18+» - запрещено для детей                 NaN                    NaN   \n1  «6+» - для детей старше 6 лет                 NaN                    NaN   \n2    «18+» - запрещено для детей                 NaN                    NaN   \n3    «18+» - запрещено для детей                 NaN                    NaN   \n4    «18+» - запрещено для детей                 NaN                    NaN   \n\n   budget financing_source  ratings                     genres  box_office  \n0     NaN              NaN      7.2     боевик,драма,мелодрама         NaN  \n1     NaN              NaN      6.6              драма,военный         NaN  \n2     NaN              NaN      6.8  фантастика,боевик,триллер         NaN  \n3     NaN              NaN      6.8  фантастика,боевик,триллер         NaN  \n4     NaN              NaN      6.8  фантастика,боевик,триллер         NaN  ",
      "text/html": "<div>\n<style scoped>\n    .dataframe tbody tr th:only-of-type {\n        vertical-align: middle;\n    }\n\n    .dataframe tbody tr th {\n        vertical-align: top;\n    }\n\n    .dataframe thead th {\n        text-align: right;\n    }\n</style>\n<table border=\"1\" class=\"dataframe\">\n  <thead>\n    <tr style=\"text-align: right;\">\n      <th></th>\n      <th>title</th>\n      <th>puNumber</th>\n      <th>show_start_date</th>\n      <th>type</th>\n      <th>film_studio</th>\n      <th>production_country</th>\n      <th>director</th>\n      <th>producer</th>\n      <th>age_restriction</th>\n      <th>refundable_support</th>\n      <th>nonrefundable_support</th>\n      <th>budget</th>\n      <th>financing_source</th>\n      <th>ratings</th>\n      <th>genres</th>\n      <th>box_office</th>\n    </tr>\n  </thead>\n  <tbody>\n    <tr>\n      <th>0</th>\n      <td>Открытый простор</td>\n      <td>221048915</td>\n      <td>2015-11-27 12:00:00+00:00</td>\n      <td>Художественный</td>\n      <td>Тачстоун Пикчерз, Кобальт Пикчерз, Бикон Пикче...</td>\n      <td>США</td>\n      <td>Кевин Костнер</td>\n      <td>Дэвид Валдес, Кевин Костнер, Джейк Эбертс</td>\n      <td>«18+» - запрещено для детей</td>\n      <td>NaN</td>\n      <td>NaN</td>\n      <td>NaN</td>\n      <td>NaN</td>\n      <td>7.2</td>\n      <td>боевик,драма,мелодрама</td>\n      <td>NaN</td>\n    </tr>\n    <tr>\n      <th>1</th>\n      <td>Особо важное задание</td>\n      <td>111013716</td>\n      <td>2016-09-13 12:00:00+00:00</td>\n      <td>Художественный</td>\n      <td>Киностудия \"Мосфильм\"</td>\n      <td>СССР</td>\n      <td>Е.Матвеев</td>\n      <td>unknown</td>\n      <td>«6+» - для детей старше 6 лет</td>\n      <td>NaN</td>\n      <td>NaN</td>\n      <td>NaN</td>\n      <td>NaN</td>\n      <td>6.6</td>\n      <td>драма,военный</td>\n      <td>NaN</td>\n    </tr>\n    <tr>\n      <th>2</th>\n      <td>Особо опасен</td>\n      <td>221038416</td>\n      <td>2016-10-10 12:00:00+00:00</td>\n      <td>Художественный</td>\n      <td>Юниверсал Пикчерз, Кикстарт Продакшнз, Марк Пл...</td>\n      <td>США</td>\n      <td>Тимур Бекмамбетов</td>\n      <td>Джим Лемли, Джейсон Нетер, Марк Е.Платт, Яйн Смит</td>\n      <td>«18+» - запрещено для детей</td>\n      <td>NaN</td>\n      <td>NaN</td>\n      <td>NaN</td>\n      <td>NaN</td>\n      <td>6.8</td>\n      <td>фантастика,боевик,триллер</td>\n      <td>NaN</td>\n    </tr>\n    <tr>\n      <th>3</th>\n      <td>Особо опасен</td>\n      <td>221026916</td>\n      <td>2016-06-10 12:00:00+00:00</td>\n      <td>Художественный</td>\n      <td>Юниверсал Пикчерз, Кикстарт Продакшнз, Марк Пл...</td>\n      <td>США</td>\n      <td>Тимур Бекмамбетов</td>\n      <td>Джим Лемли, Джейсон Нетер, Марк Е.Платт, Яйн Смит</td>\n      <td>«18+» - запрещено для детей</td>\n      <td>NaN</td>\n      <td>NaN</td>\n      <td>NaN</td>\n      <td>NaN</td>\n      <td>6.8</td>\n      <td>фантастика,боевик,триллер</td>\n      <td>NaN</td>\n    </tr>\n    <tr>\n      <th>4</th>\n      <td>Особо опасен</td>\n      <td>221030815</td>\n      <td>2015-07-29 12:00:00+00:00</td>\n      <td>Художественный</td>\n      <td>Юниверсал Пикчерз, Кикстарт Продакшнз, Марк Пл...</td>\n      <td>США</td>\n      <td>Тимур Бекмамбетов</td>\n      <td>Джим Лемли, Джейсон Нетер, Марк Е.Платт, Яйн Смит</td>\n      <td>«18+» - запрещено для детей</td>\n      <td>NaN</td>\n      <td>NaN</td>\n      <td>NaN</td>\n      <td>NaN</td>\n      <td>6.8</td>\n      <td>фантастика,боевик,триллер</td>\n      <td>NaN</td>\n    </tr>\n  </tbody>\n</table>\n</div>"
     },
     "execution_count": 167,
     "metadata": {},
     "output_type": "execute_result"
    }
   ],
   "source": [
    "df.head()"
   ],
   "metadata": {
    "collapsed": false,
    "pycharm": {
     "name": "#%%\n"
    }
   }
  },
  {
   "cell_type": "code",
   "execution_count": 168,
   "outputs": [],
   "source": [
    "df['start_year'] = df['show_start_date'].dt.year"
   ],
   "metadata": {
    "collapsed": false,
    "pycharm": {
     "name": "#%%\n"
    }
   }
  },
  {
   "cell_type": "markdown",
   "metadata": {
    "id": "nFTDLDYOgFyT",
    "pycharm": {
     "name": "#%% md\n"
    }
   },
   "source": [
    "- Создайте два столбца: с именем и фамилией главного режиссёра и основным жанром фильма. В столбцы войдут первые значения из списка режиссёров и жанров соответственно.\n",
    "\n",
    "<div id=\"accordion\">\n",
    "    <div class=\"card\">\n",
    "        <div class=\"card-header\" id=\"headingThree\">\n",
    "            <button class=\"btn btn-link collapsed\" data-toggle=\"collapse\" data-target=\"#collapseHint_2\" aria-expanded=\"false\" aria-controls=\"collapseHint_2\">Подсказка</button>\n",
    "        </div>\n",
    "        <div id=\"collapseHint_2\" class=\"collapse\" aria-labelledby=\"headingThree\" data-parent=\"#accordion\">\n",
    "            <div class=\"card-body\">\n",
    "Чтобы создать такие столбцы, лучше всего использовать собственную функцию. Эту функцию можно применить к двум столбцам сразу. \n",
    "            </div>\n",
    "        </div>\n",
    "    </div>\n",
    "</div>"
   ]
  },
  {
   "cell_type": "code",
   "execution_count": 169,
   "metadata": {
    "id": "LSbRZKbMgFyU",
    "pycharm": {
     "name": "#%%\n"
    }
   },
   "outputs": [],
   "source": [
    "def first_value(row,sep=','):\n",
    "    return row.split(sep)[0]"
   ]
  },
  {
   "cell_type": "code",
   "execution_count": 170,
   "outputs": [],
   "source": [
    "df['main_director'] = df['director'].apply(first_value)"
   ],
   "metadata": {
    "collapsed": false,
    "pycharm": {
     "name": "#%%\n"
    }
   }
  },
  {
   "cell_type": "code",
   "execution_count": 171,
   "outputs": [],
   "source": [
    "df['main_genre'] = df['genres'].apply(first_value)"
   ],
   "metadata": {
    "collapsed": false,
    "pycharm": {
     "name": "#%%\n"
    }
   }
  },
  {
   "cell_type": "markdown",
   "metadata": {
    "id": "1FsCXHwdgFyU",
    "pycharm": {
     "name": "#%% md\n"
    }
   },
   "source": [
    "- Посчитайте, какую долю от общего бюджета фильма составляет государственная поддержка."
   ]
  },
  {
   "cell_type": "code",
   "execution_count": 172,
   "metadata": {
    "id": "LV6qFuZLgFyV",
    "pycharm": {
     "name": "#%%\n"
    }
   },
   "outputs": [],
   "source": [
    "df['government_part'] = (df['refundable_support']+df['nonrefundable_support'])/df['budget']"
   ]
  },
  {
   "cell_type": "code",
   "execution_count": 173,
   "outputs": [
    {
     "data": {
      "text/plain": "                    title   puNumber           show_start_date  \\\n1281        Пока еще жива  111005313 2013-10-11 12:00:00+00:00   \n1448  Бесславные придурки  111003314 2014-03-28 12:00:00+00:00   \n1498            Невидимки  111004213 2013-09-10 12:00:00+00:00   \n1524                БЕРЦЫ  111004314 2014-05-05 12:00:00+00:00   \n1792             Братья Ч  111004414 2014-04-23 12:00:00+00:00   \n\n                type                                        film_studio  \\\n1281  Художественный  АНО содействия развитию кинематографии \"Ангел-...   \n1448  Художественный                         ООО \"Компания \"АТК-Студио\"   \n1498  Художественный                        ООО \"Компания \"РЕАЛ-ДАКОТА\"   \n1524  Художественный                             ООО \"Студия \"Пассажир\"   \n1792  Художественный                             ООО \"Студия \"Пассажир\"   \n\n     production_country                              director  \\\n1281             Россия                            А.Атанесян   \n1448             Россия                             А.Якимчук   \n1498             Россия              Р.Давлетьяров, С.Комаров   \n1524             Россия  Е.Миндадзе (псевдоним Катя Шагалова)   \n1792             Россия                              М.Угаров   \n\n                                       producer  \\\n1281           А.Атанесян, М.Бабаханов, Р.Бутко   \n1448                                 А.Тютрюмов   \n1498  Р.Давлетьяров, А.Котелевский, А.Олейников   \n1524                                 Л.Антонова   \n1792                     А.Миндадзе, Л.Антонова   \n\n                      age_restriction  refundable_support  \\\n1281  «16+» - для детей старше 16 лет                 0.0   \n1448  «12+» - для детей старше 12 лет                 0.0   \n1498  «12+» - для детей старше 12 лет                 0.0   \n1524  «16+» - для детей старше 16 лет                 0.0   \n1792  «16+» - для детей старше 16 лет                 0.0   \n\n      nonrefundable_support       budget       financing_source  ratings  \\\n1281             26500000.0   79411900.0  Министерство культуры      8.1   \n1448             26000000.0   37142857.0  Министерство культуры      NaN   \n1498            107847945.0  176023490.0              Фонд кино      5.3   \n1524             28000000.0   40574140.0  Министерство культуры      4.2   \n1792             25000000.0   40015122.0  Министерство культуры      6.4   \n\n                  genres  box_office  start_year  \\\n1281     драма,мелодрама    365353.6        2013   \n1448             unknown     28140.0        2014   \n1498  комедия,фантастика  19957031.5        2013   \n1524               драма     55917.5        2014   \n1792               драма    232100.0        2014   \n\n                             main_director main_genre  government_part  \n1281                            А.Атанесян      драма         0.333703  \n1448                             А.Якимчук    unknown         0.700000  \n1498                         Р.Давлетьяров    комедия         0.612691  \n1524  Е.Миндадзе (псевдоним Катя Шагалова)      драма         0.690095  \n1792                              М.Угаров      драма         0.624764  ",
      "text/html": "<div>\n<style scoped>\n    .dataframe tbody tr th:only-of-type {\n        vertical-align: middle;\n    }\n\n    .dataframe tbody tr th {\n        vertical-align: top;\n    }\n\n    .dataframe thead th {\n        text-align: right;\n    }\n</style>\n<table border=\"1\" class=\"dataframe\">\n  <thead>\n    <tr style=\"text-align: right;\">\n      <th></th>\n      <th>title</th>\n      <th>puNumber</th>\n      <th>show_start_date</th>\n      <th>type</th>\n      <th>film_studio</th>\n      <th>production_country</th>\n      <th>director</th>\n      <th>producer</th>\n      <th>age_restriction</th>\n      <th>refundable_support</th>\n      <th>nonrefundable_support</th>\n      <th>budget</th>\n      <th>financing_source</th>\n      <th>ratings</th>\n      <th>genres</th>\n      <th>box_office</th>\n      <th>start_year</th>\n      <th>main_director</th>\n      <th>main_genre</th>\n      <th>government_part</th>\n    </tr>\n  </thead>\n  <tbody>\n    <tr>\n      <th>1281</th>\n      <td>Пока еще жива</td>\n      <td>111005313</td>\n      <td>2013-10-11 12:00:00+00:00</td>\n      <td>Художественный</td>\n      <td>АНО содействия развитию кинематографии \"Ангел-...</td>\n      <td>Россия</td>\n      <td>А.Атанесян</td>\n      <td>А.Атанесян, М.Бабаханов, Р.Бутко</td>\n      <td>«16+» - для детей старше 16 лет</td>\n      <td>0.0</td>\n      <td>26500000.0</td>\n      <td>79411900.0</td>\n      <td>Министерство культуры</td>\n      <td>8.1</td>\n      <td>драма,мелодрама</td>\n      <td>365353.6</td>\n      <td>2013</td>\n      <td>А.Атанесян</td>\n      <td>драма</td>\n      <td>0.333703</td>\n    </tr>\n    <tr>\n      <th>1448</th>\n      <td>Бесславные придурки</td>\n      <td>111003314</td>\n      <td>2014-03-28 12:00:00+00:00</td>\n      <td>Художественный</td>\n      <td>ООО \"Компания \"АТК-Студио\"</td>\n      <td>Россия</td>\n      <td>А.Якимчук</td>\n      <td>А.Тютрюмов</td>\n      <td>«12+» - для детей старше 12 лет</td>\n      <td>0.0</td>\n      <td>26000000.0</td>\n      <td>37142857.0</td>\n      <td>Министерство культуры</td>\n      <td>NaN</td>\n      <td>unknown</td>\n      <td>28140.0</td>\n      <td>2014</td>\n      <td>А.Якимчук</td>\n      <td>unknown</td>\n      <td>0.700000</td>\n    </tr>\n    <tr>\n      <th>1498</th>\n      <td>Невидимки</td>\n      <td>111004213</td>\n      <td>2013-09-10 12:00:00+00:00</td>\n      <td>Художественный</td>\n      <td>ООО \"Компания \"РЕАЛ-ДАКОТА\"</td>\n      <td>Россия</td>\n      <td>Р.Давлетьяров, С.Комаров</td>\n      <td>Р.Давлетьяров, А.Котелевский, А.Олейников</td>\n      <td>«12+» - для детей старше 12 лет</td>\n      <td>0.0</td>\n      <td>107847945.0</td>\n      <td>176023490.0</td>\n      <td>Фонд кино</td>\n      <td>5.3</td>\n      <td>комедия,фантастика</td>\n      <td>19957031.5</td>\n      <td>2013</td>\n      <td>Р.Давлетьяров</td>\n      <td>комедия</td>\n      <td>0.612691</td>\n    </tr>\n    <tr>\n      <th>1524</th>\n      <td>БЕРЦЫ</td>\n      <td>111004314</td>\n      <td>2014-05-05 12:00:00+00:00</td>\n      <td>Художественный</td>\n      <td>ООО \"Студия \"Пассажир\"</td>\n      <td>Россия</td>\n      <td>Е.Миндадзе (псевдоним Катя Шагалова)</td>\n      <td>Л.Антонова</td>\n      <td>«16+» - для детей старше 16 лет</td>\n      <td>0.0</td>\n      <td>28000000.0</td>\n      <td>40574140.0</td>\n      <td>Министерство культуры</td>\n      <td>4.2</td>\n      <td>драма</td>\n      <td>55917.5</td>\n      <td>2014</td>\n      <td>Е.Миндадзе (псевдоним Катя Шагалова)</td>\n      <td>драма</td>\n      <td>0.690095</td>\n    </tr>\n    <tr>\n      <th>1792</th>\n      <td>Братья Ч</td>\n      <td>111004414</td>\n      <td>2014-04-23 12:00:00+00:00</td>\n      <td>Художественный</td>\n      <td>ООО \"Студия \"Пассажир\"</td>\n      <td>Россия</td>\n      <td>М.Угаров</td>\n      <td>А.Миндадзе, Л.Антонова</td>\n      <td>«16+» - для детей старше 16 лет</td>\n      <td>0.0</td>\n      <td>25000000.0</td>\n      <td>40015122.0</td>\n      <td>Министерство культуры</td>\n      <td>6.4</td>\n      <td>драма</td>\n      <td>232100.0</td>\n      <td>2014</td>\n      <td>М.Угаров</td>\n      <td>драма</td>\n      <td>0.624764</td>\n    </tr>\n  </tbody>\n</table>\n</div>"
     },
     "execution_count": 173,
     "metadata": {},
     "output_type": "execute_result"
    }
   ],
   "source": [
    "df.loc[df['government_part'].notna()].head()"
   ],
   "metadata": {
    "collapsed": false,
    "pycharm": {
     "name": "#%%\n"
    }
   }
  },
  {
   "cell_type": "markdown",
   "metadata": {
    "id": "6t4EukPLgFyV",
    "pycharm": {
     "name": "#%% md\n"
    }
   },
   "source": [
    "### Шаг 3. Проведите исследовательский анализ данных\n"
   ]
  },
  {
   "cell_type": "markdown",
   "metadata": {
    "id": "vAH8WCzugFyV",
    "pycharm": {
     "name": "#%% md\n"
    }
   },
   "source": [
    "- Посмотрите, сколько фильмов выходило в прокат каждый год. Обратите внимание, что данные о прокате в кинотеатрах известны не для всех фильмов. Посчитайте, какую долю составляют фильмы с указанной информацией о прокате в кинотеатрах."
   ]
  },
  {
   "cell_type": "code",
   "execution_count": 174,
   "metadata": {
    "id": "ABeV47y7gFyW",
    "pycharm": {
     "name": "#%%\n"
    }
   },
   "outputs": [
    {
     "data": {
      "text/plain": "            title  box_office      rate\nstart_year                             \n2010          980         105  0.107143\n2011          620         109  0.175806\n2012          592         127  0.214527\n2013          629         184  0.292528\n2014          805         278  0.345342\n2015          699         459  0.656652\n2016          814         522  0.641278\n2017          503         355  0.705765\n2018          875         470  0.537143\n2019          925         529  0.571892",
      "text/html": "<div>\n<style scoped>\n    .dataframe tbody tr th:only-of-type {\n        vertical-align: middle;\n    }\n\n    .dataframe tbody tr th {\n        vertical-align: top;\n    }\n\n    .dataframe thead th {\n        text-align: right;\n    }\n</style>\n<table border=\"1\" class=\"dataframe\">\n  <thead>\n    <tr style=\"text-align: right;\">\n      <th></th>\n      <th>title</th>\n      <th>box_office</th>\n      <th>rate</th>\n    </tr>\n    <tr>\n      <th>start_year</th>\n      <th></th>\n      <th></th>\n      <th></th>\n    </tr>\n  </thead>\n  <tbody>\n    <tr>\n      <th>2010</th>\n      <td>980</td>\n      <td>105</td>\n      <td>0.107143</td>\n    </tr>\n    <tr>\n      <th>2011</th>\n      <td>620</td>\n      <td>109</td>\n      <td>0.175806</td>\n    </tr>\n    <tr>\n      <th>2012</th>\n      <td>592</td>\n      <td>127</td>\n      <td>0.214527</td>\n    </tr>\n    <tr>\n      <th>2013</th>\n      <td>629</td>\n      <td>184</td>\n      <td>0.292528</td>\n    </tr>\n    <tr>\n      <th>2014</th>\n      <td>805</td>\n      <td>278</td>\n      <td>0.345342</td>\n    </tr>\n    <tr>\n      <th>2015</th>\n      <td>699</td>\n      <td>459</td>\n      <td>0.656652</td>\n    </tr>\n    <tr>\n      <th>2016</th>\n      <td>814</td>\n      <td>522</td>\n      <td>0.641278</td>\n    </tr>\n    <tr>\n      <th>2017</th>\n      <td>503</td>\n      <td>355</td>\n      <td>0.705765</td>\n    </tr>\n    <tr>\n      <th>2018</th>\n      <td>875</td>\n      <td>470</td>\n      <td>0.537143</td>\n    </tr>\n    <tr>\n      <th>2019</th>\n      <td>925</td>\n      <td>529</td>\n      <td>0.571892</td>\n    </tr>\n  </tbody>\n</table>\n</div>"
     },
     "execution_count": 174,
     "metadata": {},
     "output_type": "execute_result"
    }
   ],
   "source": [
    "years_stat = df.groupby(df['start_year'])[['title','box_office']].count()\n",
    "years_stat['rate']=years_stat['box_office']/years_stat['title']\n",
    "years_stat"
   ]
  },
  {
   "cell_type": "code",
   "execution_count": 175,
   "outputs": [
    {
     "data": {
      "text/plain": "<Figure size 432x288 with 1 Axes>",
      "image/png": "[encoded data removed]"
     },
     "metadata": {},
     "output_type": "display_data"
    }
   ],
   "source": [
    "sns.lineplot(x=years_stat.index,y=years_stat['rate']).set(title='Доля фильмов с информацией о дате выхода')\n",
    "plt.show()"
   ],
   "metadata": {
    "collapsed": false,
    "pycharm": {
     "name": "#%%\n"
    }
   }
  },
  {
   "cell_type": "code",
   "execution_count": 176,
   "outputs": [
    {
     "data": {
      "text/plain": "0.4216608438591776"
     },
     "execution_count": 176,
     "metadata": {},
     "output_type": "execute_result"
    }
   ],
   "source": [
    "df['box_office'].count()/df['show_start_date'].count()"
   ],
   "metadata": {
    "collapsed": false,
    "pycharm": {
     "name": "#%%\n"
    }
   }
  },
  {
   "cell_type": "markdown",
   "source": [
    "Наблюдается значительный рост количества фильмов до 2017 года с небольшим падением в 2018 году. Доля фильмов с информацией о прокате составила 42%."
   ],
   "metadata": {
    "collapsed": false,
    "pycharm": {
     "name": "#%% md\n"
    }
   }
  },
  {
   "cell_type": "markdown",
   "metadata": {
    "id": "BEOdcIrIgFyW",
    "pycharm": {
     "name": "#%% md\n"
    }
   },
   "source": [
    "- Изучите, как менялась динамика проката по годам. В каком году сумма сборов была минимальной? А максимальной?"
   ]
  },
  {
   "cell_type": "code",
   "execution_count": 177,
   "metadata": {
    "id": "tfEhofYvgFyX",
    "pycharm": {
     "name": "#%%\n"
    }
   },
   "outputs": [
    {
     "data": {
      "text/plain": "start_year\n2018    4.925195e+10\n2017    4.845815e+10\n2019    4.827810e+10\n2016    4.674212e+10\n2015    3.852783e+10\n2014    7.434718e+09\n2013    2.979971e+07\n2011    1.410276e+07\n2012    6.911073e+06\n2010    2.428654e+06\nName: tax, dtype: float64"
     },
     "execution_count": 177,
     "metadata": {},
     "output_type": "execute_result"
    }
   ],
   "source": [
    "years_stat['tax']=df.groupby(df['start_year'])['box_office'].sum()\n",
    "years_stat['tax'].sort_values(ascending=False)"
   ]
  },
  {
   "cell_type": "code",
   "execution_count": 178,
   "outputs": [
    {
     "data": {
      "text/plain": "<Figure size 432x288 with 1 Axes>",
      "image/png": "[encoded data removed]"
     },
     "metadata": {},
     "output_type": "display_data"
    }
   ],
   "source": [
    "sns.lineplot(x=years_stat.index,y=years_stat['tax']).set(title='Динамика проката по годам')\n",
    "plt.show()"
   ],
   "metadata": {
    "collapsed": false,
    "pycharm": {
     "name": "#%%\n"
    }
   }
  },
  {
   "cell_type": "markdown",
   "source": [
    "C 2013 года наблюдается резкий рост продаж с выходом на плато в 2016 году"
   ],
   "metadata": {
    "collapsed": false,
    "pycharm": {
     "name": "#%% md\n"
    }
   }
  },
  {
   "cell_type": "markdown",
   "metadata": {
    "id": "G-7qS-N-gFyY",
    "pycharm": {
     "name": "#%% md\n"
    }
   },
   "source": [
    "- С помощью сводной таблицы посчитайте среднюю и медианную сумму сборов для каждого года."
   ]
  },
  {
   "cell_type": "code",
   "execution_count": 179,
   "metadata": {
    "id": "jmp-rgg9gFyY",
    "pycharm": {
     "name": "#%%\n"
    }
   },
   "outputs": [
    {
     "data": {
      "text/plain": "                    mean      median\nstart_year                          \n2010        2.313004e+04     1700.00\n2011        1.293832e+05     3000.00\n2012        5.441790e+04     5560.00\n2013        1.619549e+05     3522.50\n2014        2.674359e+07    18137.50\n2015        8.393862e+07  4784781.50\n2016        8.954429e+07  3777202.68\n2017        1.365018e+08  9919415.00\n2018        1.047914e+08  8821498.98\n2019        9.126295e+07  4601033.60",
      "text/html": "<div>\n<style scoped>\n    .dataframe tbody tr th:only-of-type {\n        vertical-align: middle;\n    }\n\n    .dataframe tbody tr th {\n        vertical-align: top;\n    }\n\n    .dataframe thead th {\n        text-align: right;\n    }\n</style>\n<table border=\"1\" class=\"dataframe\">\n  <thead>\n    <tr style=\"text-align: right;\">\n      <th></th>\n      <th>mean</th>\n      <th>median</th>\n    </tr>\n    <tr>\n      <th>start_year</th>\n      <th></th>\n      <th></th>\n    </tr>\n  </thead>\n  <tbody>\n    <tr>\n      <th>2010</th>\n      <td>2.313004e+04</td>\n      <td>1700.00</td>\n    </tr>\n    <tr>\n      <th>2011</th>\n      <td>1.293832e+05</td>\n      <td>3000.00</td>\n    </tr>\n    <tr>\n      <th>2012</th>\n      <td>5.441790e+04</td>\n      <td>5560.00</td>\n    </tr>\n    <tr>\n      <th>2013</th>\n      <td>1.619549e+05</td>\n      <td>3522.50</td>\n    </tr>\n    <tr>\n      <th>2014</th>\n      <td>2.674359e+07</td>\n      <td>18137.50</td>\n    </tr>\n    <tr>\n      <th>2015</th>\n      <td>8.393862e+07</td>\n      <td>4784781.50</td>\n    </tr>\n    <tr>\n      <th>2016</th>\n      <td>8.954429e+07</td>\n      <td>3777202.68</td>\n    </tr>\n    <tr>\n      <th>2017</th>\n      <td>1.365018e+08</td>\n      <td>9919415.00</td>\n    </tr>\n    <tr>\n      <th>2018</th>\n      <td>1.047914e+08</td>\n      <td>8821498.98</td>\n    </tr>\n    <tr>\n      <th>2019</th>\n      <td>9.126295e+07</td>\n      <td>4601033.60</td>\n    </tr>\n  </tbody>\n</table>\n</div>"
     },
     "execution_count": 179,
     "metadata": {},
     "output_type": "execute_result"
    }
   ],
   "source": [
    "df.groupby(df['start_year'])['box_office'].agg(['mean','median'])"
   ]
  },
  {
   "cell_type": "markdown",
   "source": [
    "Наблюдается существенное отличие среднего суммы и медианной, это связано с наличием как провальных фильмов, так и с очень успешными фильмами, определяющими большую часть выручки. В целом показатели сборов весьма скромные."
   ],
   "metadata": {
    "collapsed": false,
    "pycharm": {
     "name": "#%% md\n"
    }
   }
  },
  {
   "cell_type": "markdown",
   "metadata": {
    "id": "Ok89WFwJgFyZ",
    "pycharm": {
     "name": "#%% md\n"
    }
   },
   "source": [
    "- Определите, влияет ли возрастное ограничение аудитории («6+», «12+», «16+», «18+» и т. д.) на сборы фильма в прокате в период с 2015 по 2019 год? Фильмы с каким возрастным ограничением собрали больше всего денег в прокате? Меняется ли картина в зависимости от года? Если да, предположите, с чем это может быть связано."
   ]
  },
  {
   "cell_type": "code",
   "execution_count": 180,
   "metadata": {
    "id": "jsSbEqfjgFya",
    "pycharm": {
     "name": "#%%\n"
    }
   },
   "outputs": [
    {
     "data": {
      "text/plain": "                         mean       median\nage_restriction                           \n«0+»             8.987588e+06   2949626.65\n«12+»            1.725847e+08   4928678.00\n«16+»            9.399533e+07   5461209.45\n«18+»            5.152675e+07   6164575.34\n«6+»             1.775569e+08  13596322.70",
      "text/html": "<div>\n<style scoped>\n    .dataframe tbody tr th:only-of-type {\n        vertical-align: middle;\n    }\n\n    .dataframe tbody tr th {\n        vertical-align: top;\n    }\n\n    .dataframe thead th {\n        text-align: right;\n    }\n</style>\n<table border=\"1\" class=\"dataframe\">\n  <thead>\n    <tr style=\"text-align: right;\">\n      <th></th>\n      <th>mean</th>\n      <th>median</th>\n    </tr>\n    <tr>\n      <th>age_restriction</th>\n      <th></th>\n      <th></th>\n    </tr>\n  </thead>\n  <tbody>\n    <tr>\n      <th>«0+»</th>\n      <td>8.987588e+06</td>\n      <td>2949626.65</td>\n    </tr>\n    <tr>\n      <th>«12+»</th>\n      <td>1.725847e+08</td>\n      <td>4928678.00</td>\n    </tr>\n    <tr>\n      <th>«16+»</th>\n      <td>9.399533e+07</td>\n      <td>5461209.45</td>\n    </tr>\n    <tr>\n      <th>«18+»</th>\n      <td>5.152675e+07</td>\n      <td>6164575.34</td>\n    </tr>\n    <tr>\n      <th>«6+»</th>\n      <td>1.775569e+08</td>\n      <td>13596322.70</td>\n    </tr>\n  </tbody>\n</table>\n</div>"
     },
     "execution_count": 180,
     "metadata": {},
     "output_type": "execute_result"
    }
   ],
   "source": [
    "df['age_restriction']=df['age_restriction'].apply(lambda x: first_value(x,sep='-'))\n",
    "period=(df['start_year'] >= 2015) & (df['start_year']<= 2019)\n",
    "df.loc[period].groupby('age_restriction')['box_office'].agg(['mean', 'median'])"
   ]
  },
  {
   "cell_type": "code",
   "execution_count": 181,
   "outputs": [
    {
     "data": {
      "text/plain": "<AxesSubplot:title={'center':'box_office'}, xlabel='age_restriction'>"
     },
     "execution_count": 181,
     "metadata": {},
     "output_type": "execute_result"
    },
    {
     "data": {
      "text/plain": "<Figure size 432x288 with 1 Axes>",
      "image/png": "[encoded data removed]"
     },
     "metadata": {},
     "output_type": "display_data"
    }
   ],
   "source": [
    "df.loc[period].boxplot('box_office', by='age_restriction', showfliers=False)"
   ],
   "metadata": {
    "collapsed": false,
    "pycharm": {
     "name": "#%%\n"
    }
   }
  },
  {
   "cell_type": "code",
   "execution_count": 182,
   "outputs": [
    {
     "data": {
      "text/plain": "start_year               2015          2016          2017          2018  \\\nage_restriction                                                           \n«0+»             9.719348e+06  3.750858e+06  7.653298e+07  6.489800e+06   \n«12+»            1.863821e+08  1.393845e+08  1.914982e+08  2.161705e+08   \n«16+»            6.534303e+07  9.168094e+07  1.557883e+08  1.050220e+08   \n«18+»            4.145306e+07  4.499291e+07  6.565643e+07  4.893903e+07   \n«6+»             1.637945e+08  1.721878e+08  2.734326e+08  1.525194e+08   \n\nstart_year               2019  \nage_restriction                \n«0+»             5.915356e+06  \n«12+»            1.491788e+08  \n«16+»            7.164842e+07  \n«18+»            5.531036e+07  \n«6+»             1.588118e+08  ",
      "text/html": "<div>\n<style scoped>\n    .dataframe tbody tr th:only-of-type {\n        vertical-align: middle;\n    }\n\n    .dataframe tbody tr th {\n        vertical-align: top;\n    }\n\n    .dataframe thead th {\n        text-align: right;\n    }\n</style>\n<table border=\"1\" class=\"dataframe\">\n  <thead>\n    <tr style=\"text-align: right;\">\n      <th>start_year</th>\n      <th>2015</th>\n      <th>2016</th>\n      <th>2017</th>\n      <th>2018</th>\n      <th>2019</th>\n    </tr>\n    <tr>\n      <th>age_restriction</th>\n      <th></th>\n      <th></th>\n      <th></th>\n      <th></th>\n      <th></th>\n    </tr>\n  </thead>\n  <tbody>\n    <tr>\n      <th>«0+»</th>\n      <td>9.719348e+06</td>\n      <td>3.750858e+06</td>\n      <td>7.653298e+07</td>\n      <td>6.489800e+06</td>\n      <td>5.915356e+06</td>\n    </tr>\n    <tr>\n      <th>«12+»</th>\n      <td>1.863821e+08</td>\n      <td>1.393845e+08</td>\n      <td>1.914982e+08</td>\n      <td>2.161705e+08</td>\n      <td>1.491788e+08</td>\n    </tr>\n    <tr>\n      <th>«16+»</th>\n      <td>6.534303e+07</td>\n      <td>9.168094e+07</td>\n      <td>1.557883e+08</td>\n      <td>1.050220e+08</td>\n      <td>7.164842e+07</td>\n    </tr>\n    <tr>\n      <th>«18+»</th>\n      <td>4.145306e+07</td>\n      <td>4.499291e+07</td>\n      <td>6.565643e+07</td>\n      <td>4.893903e+07</td>\n      <td>5.531036e+07</td>\n    </tr>\n    <tr>\n      <th>«6+»</th>\n      <td>1.637945e+08</td>\n      <td>1.721878e+08</td>\n      <td>2.734326e+08</td>\n      <td>1.525194e+08</td>\n      <td>1.588118e+08</td>\n    </tr>\n  </tbody>\n</table>\n</div>"
     },
     "execution_count": 182,
     "metadata": {},
     "output_type": "execute_result"
    }
   ],
   "source": [
    "df.loc[period].pivot_table(index='age_restriction', columns='start_year', values='box_office', aggfunc='mean')"
   ],
   "metadata": {
    "collapsed": false,
    "pycharm": {
     "name": "#%%\n"
    }
   }
  },
  {
   "cell_type": "markdown",
   "source": [
    "Возрастное ограничение существенно влияет на показатели сборов, лидерами в данном случае являются фильмы 6+ и 12+, стоит отметить, что распределение фильмов 12+ немного шире, тем не менее медианные показатели фильмов 6+ на порядок выше."
   ],
   "metadata": {
    "collapsed": false,
    "pycharm": {
     "name": "#%% md\n"
    }
   }
  },
  {
   "cell_type": "markdown",
   "metadata": {
    "id": "V2gYwMcPgFyd",
    "pycharm": {
     "name": "#%% md\n"
    }
   },
   "source": [
    "### Общий вывод"
   ]
  },
  {
   "cell_type": "markdown",
   "source": [
    "С 2014 года наблюдается значительный рост количества фильмов до 2017 года с небольшим падением в 2018 году, вместе с этим наблюдается и рост суммарных показателей сборов с выходом на плато в 2016 году. Наиболее востребованными фильмами оказались фильмы с отметкой 6+ и 12+. В целом показатели сборов Российской киноиндустрии весьма скромные, не считая пары тройки весьма успешных фильмов."
   ],
   "metadata": {
    "collapsed": false,
    "pycharm": {
     "name": "#%% md\n"
    }
   }
  },
  {
   "cell_type": "markdown",
   "metadata": {
    "id": "AYRg3dzXgFye",
    "pycharm": {
     "name": "#%% md\n"
    }
   },
   "source": []
  }
 ],
 "metadata": {
  "ExecuteTimeLog": [
   {
    "duration": 537,
    "start_time": "2021-07-07T10:12:08.634Z"
   },
   {
    "duration": 206,
    "start_time": "2021-07-07T10:12:30.191Z"
   },
   {
    "duration": 227,
    "start_time": "2021-07-07T10:12:33.078Z"
   },
   {
    "duration": 153,
    "start_time": "2021-07-07T10:13:42.146Z"
   },
   {
    "duration": 233,
    "start_time": "2021-07-07T10:30:09.252Z"
   },
   {
    "duration": 19,
    "start_time": "2021-07-07T10:30:15.577Z"
   },
   {
    "duration": 18,
    "start_time": "2021-07-07T10:30:57.348Z"
   },
   {
    "duration": 19,
    "start_time": "2021-07-07T10:31:17.452Z"
   },
   {
    "duration": 21,
    "start_time": "2021-07-07T10:31:32.227Z"
   },
   {
    "duration": 27,
    "start_time": "2021-07-07T10:32:06.588Z"
   },
   {
    "duration": 23,
    "start_time": "2021-07-07T10:32:43.645Z"
   },
   {
    "duration": 24,
    "start_time": "2021-07-07T10:33:06.948Z"
   },
   {
    "duration": 7,
    "start_time": "2021-07-07T10:33:28.558Z"
   },
   {
    "duration": 23,
    "start_time": "2021-07-07T10:33:43.761Z"
   },
   {
    "duration": 28,
    "start_time": "2021-07-07T10:34:13.466Z"
   },
   {
    "duration": 23,
    "start_time": "2021-07-07T10:35:56.187Z"
   },
   {
    "duration": 6,
    "start_time": "2021-07-07T10:36:48.182Z"
   },
   {
    "duration": 14,
    "start_time": "2021-07-07T10:37:49.641Z"
   },
   {
    "duration": 6,
    "start_time": "2021-07-07T10:38:06.694Z"
   },
   {
    "duration": 6,
    "start_time": "2021-07-07T10:38:13.493Z"
   },
   {
    "duration": 19,
    "start_time": "2021-07-07T10:38:44.056Z"
   },
   {
    "duration": 186,
    "start_time": "2021-07-07T10:48:35.618Z"
   },
   {
    "duration": 24,
    "start_time": "2021-07-07T10:48:51.498Z"
   },
   {
    "duration": 20,
    "start_time": "2021-07-07T10:48:59.415Z"
   },
   {
    "duration": 20,
    "start_time": "2021-07-07T10:53:02.195Z"
   },
   {
    "duration": 188,
    "start_time": "2021-07-07T10:54:40.486Z"
   },
   {
    "duration": 115,
    "start_time": "2021-07-07T10:54:52.552Z"
   },
   {
    "duration": 214,
    "start_time": "2021-07-07T10:54:56.354Z"
   },
   {
    "duration": 47,
    "start_time": "2021-07-07T10:54:58.282Z"
   },
   {
    "duration": 217,
    "start_time": "2021-07-07T10:59:16.075Z"
   },
   {
    "duration": 51,
    "start_time": "2021-07-07T10:59:16.243Z"
   },
   {
    "duration": 578,
    "start_time": "2021-07-07T10:59:18.774Z"
   },
   {
    "duration": 161,
    "start_time": "2021-07-07T10:59:21.238Z"
   },
   {
    "duration": 59,
    "start_time": "2021-07-07T10:59:21.453Z"
   },
   {
    "duration": 3,
    "start_time": "2021-07-07T11:02:10.786Z"
   },
   {
    "duration": 13,
    "start_time": "2021-07-07T11:07:07.722Z"
   },
   {
    "duration": 26,
    "start_time": "2021-07-07T11:07:17.958Z"
   },
   {
    "duration": 22,
    "start_time": "2021-07-07T11:08:17.939Z"
   },
   {
    "duration": 212,
    "start_time": "2021-07-07T11:08:19.665Z"
   },
   {
    "duration": 21,
    "start_time": "2021-07-07T11:08:29.945Z"
   },
   {
    "duration": 31,
    "start_time": "2021-07-07T11:08:38.899Z"
   },
   {
    "duration": 23,
    "start_time": "2021-07-07T11:08:54.527Z"
   },
   {
    "duration": 8,
    "start_time": "2021-07-07T11:18:55.974Z"
   },
   {
    "duration": 7,
    "start_time": "2021-07-07T11:19:03.639Z"
   },
   {
    "duration": 7,
    "start_time": "2021-07-07T11:19:06.444Z"
   },
   {
    "duration": 578,
    "start_time": "2021-07-07T12:09:59.576Z"
   },
   {
    "duration": 195,
    "start_time": "2021-07-07T12:10:00.156Z"
   },
   {
    "duration": 115,
    "start_time": "2021-07-07T12:10:00.353Z"
   },
   {
    "duration": 3,
    "start_time": "2021-07-07T12:10:00.470Z"
   },
   {
    "duration": 32,
    "start_time": "2021-07-07T12:10:00.474Z"
   },
   {
    "duration": 23,
    "start_time": "2021-07-07T12:10:00.508Z"
   },
   {
    "duration": 19,
    "start_time": "2021-07-07T12:10:00.533Z"
   },
   {
    "duration": 44,
    "start_time": "2021-07-07T12:10:00.553Z"
   },
   {
    "duration": 7,
    "start_time": "2021-07-07T12:10:00.600Z"
   },
   {
    "duration": 7,
    "start_time": "2021-07-07T12:19:45.761Z"
   },
   {
    "duration": 21,
    "start_time": "2021-07-07T12:21:35.482Z"
   },
   {
    "duration": 21,
    "start_time": "2021-07-07T12:29:23.569Z"
   },
   {
    "duration": 525,
    "start_time": "2021-07-07T12:29:44.542Z"
   },
   {
    "duration": 214,
    "start_time": "2021-07-07T12:29:45.069Z"
   },
   {
    "duration": 92,
    "start_time": "2021-07-07T12:29:45.285Z"
   },
   {
    "duration": 3,
    "start_time": "2021-07-07T12:29:45.379Z"
   },
   {
    "duration": 28,
    "start_time": "2021-07-07T12:29:45.384Z"
   },
   {
    "duration": 23,
    "start_time": "2021-07-07T12:29:45.413Z"
   },
   {
    "duration": 21,
    "start_time": "2021-07-07T12:29:45.437Z"
   },
   {
    "duration": 41,
    "start_time": "2021-07-07T12:29:45.460Z"
   },
   {
    "duration": 7,
    "start_time": "2021-07-07T12:29:45.502Z"
   },
   {
    "duration": 20,
    "start_time": "2021-07-07T12:29:45.511Z"
   },
   {
    "duration": 12,
    "start_time": "2021-07-07T12:34:02.800Z"
   },
   {
    "duration": 7,
    "start_time": "2021-07-07T12:35:10.479Z"
   },
   {
    "duration": 8,
    "start_time": "2021-07-07T12:35:22.440Z"
   },
   {
    "duration": 6,
    "start_time": "2021-07-07T12:35:35.649Z"
   },
   {
    "duration": 6,
    "start_time": "2021-07-07T12:35:43.107Z"
   },
   {
    "duration": 22,
    "start_time": "2021-07-07T12:38:03.029Z"
   },
   {
    "duration": 10,
    "start_time": "2021-07-07T12:38:06.592Z"
   },
   {
    "duration": 563,
    "start_time": "2021-07-07T12:38:46.493Z"
   },
   {
    "duration": 265,
    "start_time": "2021-07-07T12:38:47.058Z"
   },
   {
    "duration": 94,
    "start_time": "2021-07-07T12:38:47.325Z"
   },
   {
    "duration": 3,
    "start_time": "2021-07-07T12:38:47.422Z"
   },
   {
    "duration": 30,
    "start_time": "2021-07-07T12:38:47.427Z"
   },
   {
    "duration": 16,
    "start_time": "2021-07-07T12:38:53.305Z"
   },
   {
    "duration": 10,
    "start_time": "2021-07-07T12:38:53.499Z"
   },
   {
    "duration": 8,
    "start_time": "2021-07-07T12:39:48.161Z"
   },
   {
    "duration": 27,
    "start_time": "2021-07-07T12:41:17.629Z"
   },
   {
    "duration": 17,
    "start_time": "2021-07-07T12:41:17.867Z"
   },
   {
    "duration": 21,
    "start_time": "2021-07-07T12:41:19.310Z"
   },
   {
    "duration": 7,
    "start_time": "2021-07-07T12:41:19.544Z"
   },
   {
    "duration": 20,
    "start_time": "2021-07-07T12:41:20.504Z"
   },
   {
    "duration": 554,
    "start_time": "2021-07-07T12:56:23.696Z"
   },
   {
    "duration": 200,
    "start_time": "2021-07-07T12:56:25.234Z"
   },
   {
    "duration": 119,
    "start_time": "2021-07-07T12:56:25.480Z"
   },
   {
    "duration": 4,
    "start_time": "2021-07-07T12:56:25.762Z"
   },
   {
    "duration": 26,
    "start_time": "2021-07-07T12:56:27.172Z"
   },
   {
    "duration": 12,
    "start_time": "2021-07-07T12:56:29.051Z"
   },
   {
    "duration": 10,
    "start_time": "2021-07-07T12:56:29.291Z"
   },
   {
    "duration": 8,
    "start_time": "2021-07-07T12:56:29.623Z"
   },
   {
    "duration": 28,
    "start_time": "2021-07-07T12:56:32.137Z"
   },
   {
    "duration": 19,
    "start_time": "2021-07-07T12:56:39.785Z"
   },
   {
    "duration": 20,
    "start_time": "2021-07-07T12:56:44.297Z"
   },
   {
    "duration": 7,
    "start_time": "2021-07-07T12:56:45.392Z"
   },
   {
    "duration": 23,
    "start_time": "2021-07-07T12:56:46.615Z"
   },
   {
    "duration": 4,
    "start_time": "2021-07-07T12:57:06.625Z"
   },
   {
    "duration": 32,
    "start_time": "2021-07-07T12:57:36.690Z"
   },
   {
    "duration": 18,
    "start_time": "2021-07-07T12:58:00.149Z"
   },
   {
    "duration": 15,
    "start_time": "2021-07-07T12:59:16.793Z"
   },
   {
    "duration": 7,
    "start_time": "2021-07-07T13:19:22.624Z"
   },
   {
    "duration": 6,
    "start_time": "2021-07-07T14:17:33.527Z"
   },
   {
    "duration": 9,
    "start_time": "2021-07-07T14:17:48.409Z"
   },
   {
    "duration": 8,
    "start_time": "2021-07-07T14:20:13.060Z"
   },
   {
    "duration": 8,
    "start_time": "2021-07-07T14:20:37.957Z"
   },
   {
    "duration": 8,
    "start_time": "2021-07-07T14:20:47.470Z"
   },
   {
    "duration": 9,
    "start_time": "2021-07-07T14:20:54.503Z"
   },
   {
    "duration": 10,
    "start_time": "2021-07-07T14:28:57.763Z"
   },
   {
    "duration": 3,
    "start_time": "2021-07-07T14:30:23.377Z"
   },
   {
    "duration": 3,
    "start_time": "2021-07-07T14:30:36.489Z"
   },
   {
    "duration": 103,
    "start_time": "2021-07-07T14:30:52.351Z"
   },
   {
    "duration": 8,
    "start_time": "2021-07-07T14:30:54.763Z"
   },
   {
    "duration": 8,
    "start_time": "2021-07-07T14:31:29.301Z"
   },
   {
    "duration": 13,
    "start_time": "2021-07-07T14:31:44.516Z"
   },
   {
    "duration": 7,
    "start_time": "2021-07-07T14:33:10.972Z"
   },
   {
    "duration": 11,
    "start_time": "2021-07-07T14:33:27.780Z"
   },
   {
    "duration": 8,
    "start_time": "2021-07-07T14:34:44.588Z"
   },
   {
    "duration": 57,
    "start_time": "2021-07-07T14:35:59.042Z"
   },
   {
    "duration": 3,
    "start_time": "2021-07-07T14:36:28.168Z"
   },
   {
    "duration": 5,
    "start_time": "2021-07-07T14:36:46.254Z"
   },
   {
    "duration": 4,
    "start_time": "2021-07-07T14:36:52.714Z"
   },
   {
    "duration": 3,
    "start_time": "2021-07-07T14:36:56.612Z"
   },
   {
    "duration": 4,
    "start_time": "2021-07-07T14:36:57.049Z"
   },
   {
    "duration": 3,
    "start_time": "2021-07-07T14:39:21.214Z"
   },
   {
    "duration": 7,
    "start_time": "2021-07-07T14:39:52.406Z"
   },
   {
    "duration": 11,
    "start_time": "2021-07-07T14:39:58.576Z"
   },
   {
    "duration": 9,
    "start_time": "2021-07-07T14:40:26.301Z"
   },
   {
    "duration": 10,
    "start_time": "2021-07-07T14:40:31.704Z"
   },
   {
    "duration": 11,
    "start_time": "2021-07-07T14:40:36.249Z"
   },
   {
    "duration": 10,
    "start_time": "2021-07-07T14:40:39.783Z"
   },
   {
    "duration": 9,
    "start_time": "2021-07-07T14:40:48.558Z"
   },
   {
    "duration": 10,
    "start_time": "2021-07-07T14:40:57.143Z"
   },
   {
    "duration": 9,
    "start_time": "2021-07-07T14:41:06.074Z"
   },
   {
    "duration": 4324,
    "start_time": "2021-07-07T14:41:22.004Z"
   },
   {
    "duration": 11,
    "start_time": "2021-07-07T14:41:33.392Z"
   },
   {
    "duration": 9,
    "start_time": "2021-07-07T14:41:39.288Z"
   },
   {
    "duration": 569,
    "start_time": "2021-07-07T14:42:14.387Z"
   },
   {
    "duration": 197,
    "start_time": "2021-07-07T14:42:14.959Z"
   },
   {
    "duration": 84,
    "start_time": "2021-07-07T14:42:16.052Z"
   },
   {
    "duration": 4,
    "start_time": "2021-07-07T14:42:16.900Z"
   },
   {
    "duration": 27,
    "start_time": "2021-07-07T14:42:19.898Z"
   },
   {
    "duration": 12,
    "start_time": "2021-07-07T14:42:21.577Z"
   },
   {
    "duration": 9,
    "start_time": "2021-07-07T14:42:21.813Z"
   },
   {
    "duration": 9,
    "start_time": "2021-07-07T14:42:22.569Z"
   },
   {
    "duration": 29,
    "start_time": "2021-07-07T14:42:25.837Z"
   },
   {
    "duration": 20,
    "start_time": "2021-07-07T14:42:27.003Z"
   },
   {
    "duration": 21,
    "start_time": "2021-07-07T14:42:28.767Z"
   },
   {
    "duration": 7,
    "start_time": "2021-07-07T14:42:29.838Z"
   },
   {
    "duration": 4,
    "start_time": "2021-07-07T14:43:25.493Z"
   },
   {
    "duration": 7,
    "start_time": "2021-07-07T14:43:26.573Z"
   },
   {
    "duration": 10,
    "start_time": "2021-07-07T14:43:31.639Z"
   },
   {
    "duration": 9,
    "start_time": "2021-07-07T14:43:32.046Z"
   },
   {
    "duration": 10,
    "start_time": "2021-07-07T14:43:33.301Z"
   },
   {
    "duration": 12,
    "start_time": "2021-07-07T14:43:33.658Z"
   },
   {
    "duration": 8,
    "start_time": "2021-07-07T14:43:34.552Z"
   },
   {
    "duration": 9,
    "start_time": "2021-07-07T14:43:35.058Z"
   },
   {
    "duration": 12,
    "start_time": "2021-07-07T14:43:35.914Z"
   },
   {
    "duration": 17,
    "start_time": "2021-07-07T14:45:34.368Z"
   },
   {
    "duration": 512,
    "start_time": "2021-07-07T14:51:58.236Z"
   },
   {
    "duration": 223,
    "start_time": "2021-07-07T14:51:58.750Z"
   },
   {
    "duration": 93,
    "start_time": "2021-07-07T14:51:58.977Z"
   },
   {
    "duration": 4,
    "start_time": "2021-07-07T14:51:59.071Z"
   },
   {
    "duration": 37,
    "start_time": "2021-07-07T14:51:59.077Z"
   },
   {
    "duration": 18,
    "start_time": "2021-07-07T14:51:59.116Z"
   },
   {
    "duration": 10,
    "start_time": "2021-07-07T14:51:59.137Z"
   },
   {
    "duration": 8,
    "start_time": "2021-07-07T14:51:59.149Z"
   },
   {
    "duration": 54,
    "start_time": "2021-07-07T14:51:59.158Z"
   },
   {
    "duration": 18,
    "start_time": "2021-07-07T14:51:59.213Z"
   },
   {
    "duration": 22,
    "start_time": "2021-07-07T14:51:59.232Z"
   },
   {
    "duration": 36,
    "start_time": "2021-07-07T14:51:59.255Z"
   },
   {
    "duration": 7,
    "start_time": "2021-07-07T14:51:59.293Z"
   },
   {
    "duration": 10,
    "start_time": "2021-07-07T14:51:59.302Z"
   },
   {
    "duration": 9,
    "start_time": "2021-07-07T14:51:59.313Z"
   },
   {
    "duration": 11,
    "start_time": "2021-07-07T14:51:59.324Z"
   },
   {
    "duration": 8,
    "start_time": "2021-07-07T14:51:59.337Z"
   },
   {
    "duration": 46,
    "start_time": "2021-07-07T14:51:59.347Z"
   },
   {
    "duration": 22,
    "start_time": "2021-07-07T14:51:59.395Z"
   },
   {
    "duration": 24,
    "start_time": "2021-07-07T14:57:32.911Z"
   },
   {
    "duration": 7,
    "start_time": "2021-07-07T14:58:22.070Z"
   },
   {
    "duration": 4,
    "start_time": "2021-07-07T14:59:11.239Z"
   },
   {
    "duration": 25,
    "start_time": "2021-07-07T15:07:22.208Z"
   },
   {
    "duration": 16,
    "start_time": "2021-07-07T15:08:25.560Z"
   },
   {
    "duration": 15,
    "start_time": "2021-07-07T15:08:40.647Z"
   },
   {
    "duration": 14,
    "start_time": "2021-07-07T15:08:46.669Z"
   },
   {
    "duration": 533,
    "start_time": "2021-07-07T15:18:07.440Z"
   },
   {
    "duration": 173,
    "start_time": "2021-07-07T15:18:07.974Z"
   },
   {
    "duration": 84,
    "start_time": "2021-07-07T15:18:08.149Z"
   },
   {
    "duration": 3,
    "start_time": "2021-07-07T15:18:08.235Z"
   },
   {
    "duration": 30,
    "start_time": "2021-07-07T15:18:08.240Z"
   },
   {
    "duration": 22,
    "start_time": "2021-07-07T15:18:08.272Z"
   },
   {
    "duration": 11,
    "start_time": "2021-07-07T15:18:08.295Z"
   },
   {
    "duration": 11,
    "start_time": "2021-07-07T15:18:08.309Z"
   },
   {
    "duration": 40,
    "start_time": "2021-07-07T15:18:08.322Z"
   },
   {
    "duration": 42,
    "start_time": "2021-07-07T15:18:08.364Z"
   },
   {
    "duration": 22,
    "start_time": "2021-07-07T15:18:08.408Z"
   },
   {
    "duration": 5,
    "start_time": "2021-07-07T15:18:08.432Z"
   },
   {
    "duration": 13,
    "start_time": "2021-07-07T15:18:08.439Z"
   },
   {
    "duration": 9,
    "start_time": "2021-07-07T15:18:08.454Z"
   },
   {
    "duration": 32,
    "start_time": "2021-07-07T15:18:08.465Z"
   },
   {
    "duration": 10,
    "start_time": "2021-07-07T15:18:08.501Z"
   },
   {
    "duration": 7,
    "start_time": "2021-07-07T15:18:08.513Z"
   },
   {
    "duration": 11,
    "start_time": "2021-07-07T15:18:08.521Z"
   },
   {
    "duration": 17,
    "start_time": "2021-07-07T15:18:08.534Z"
   },
   {
    "duration": 44,
    "start_time": "2021-07-07T15:18:08.553Z"
   },
   {
    "duration": 22,
    "start_time": "2021-07-07T15:18:08.599Z"
   },
   {
    "duration": 61,
    "start_time": "2021-07-07T15:18:08.622Z"
   },
   {
    "duration": 7,
    "start_time": "2021-07-07T15:18:39.457Z"
   },
   {
    "duration": 5,
    "start_time": "2021-07-07T16:05:17.020Z"
   },
   {
    "duration": 5,
    "start_time": "2021-07-07T16:51:28.794Z"
   },
   {
    "duration": 546,
    "start_time": "2021-07-07T16:52:26.306Z"
   },
   {
    "duration": 203,
    "start_time": "2021-07-07T16:52:27.523Z"
   },
   {
    "duration": 85,
    "start_time": "2021-07-07T16:52:27.736Z"
   },
   {
    "duration": 4,
    "start_time": "2021-07-07T16:52:27.899Z"
   },
   {
    "duration": 25,
    "start_time": "2021-07-07T16:52:28.674Z"
   },
   {
    "duration": 8,
    "start_time": "2021-07-07T16:52:32.956Z"
   },
   {
    "duration": 18,
    "start_time": "2021-07-07T16:52:35.616Z"
   },
   {
    "duration": 6,
    "start_time": "2021-07-07T16:52:36.913Z"
   },
   {
    "duration": 11,
    "start_time": "2021-07-07T16:52:40.258Z"
   },
   {
    "duration": 10,
    "start_time": "2021-07-07T16:52:46.251Z"
   },
   {
    "duration": 8,
    "start_time": "2021-07-07T16:52:47.182Z"
   },
   {
    "duration": 27,
    "start_time": "2021-07-07T16:53:20.391Z"
   },
   {
    "duration": 20,
    "start_time": "2021-07-07T16:53:22.022Z"
   },
   {
    "duration": 23,
    "start_time": "2021-07-07T16:53:23.690Z"
   },
   {
    "duration": 8,
    "start_time": "2021-07-07T16:53:24.261Z"
   },
   {
    "duration": 4,
    "start_time": "2021-07-07T16:53:38.733Z"
   },
   {
    "duration": 7,
    "start_time": "2021-07-07T16:53:40.445Z"
   },
   {
    "duration": 11,
    "start_time": "2021-07-07T16:53:41.348Z"
   },
   {
    "duration": 13,
    "start_time": "2021-07-07T16:53:45.250Z"
   },
   {
    "duration": 12,
    "start_time": "2021-07-07T16:53:45.467Z"
   },
   {
    "duration": 4,
    "start_time": "2021-07-07T16:55:32.704Z"
   },
   {
    "duration": 12,
    "start_time": "2021-07-07T16:55:49.012Z"
   },
   {
    "duration": 18,
    "start_time": "2021-07-07T16:55:49.547Z"
   },
   {
    "duration": 611,
    "start_time": "2021-07-07T16:58:35.156Z"
   },
   {
    "duration": 200,
    "start_time": "2021-07-07T16:58:35.770Z"
   },
   {
    "duration": 86,
    "start_time": "2021-07-07T16:58:35.972Z"
   },
   {
    "duration": 3,
    "start_time": "2021-07-07T16:58:36.060Z"
   },
   {
    "duration": 27,
    "start_time": "2021-07-07T16:58:36.065Z"
   },
   {
    "duration": 8,
    "start_time": "2021-07-07T16:58:36.094Z"
   },
   {
    "duration": 17,
    "start_time": "2021-07-07T16:58:36.103Z"
   },
   {
    "duration": 5,
    "start_time": "2021-07-07T16:58:36.123Z"
   },
   {
    "duration": 11,
    "start_time": "2021-07-07T16:58:36.130Z"
   },
   {
    "duration": 7,
    "start_time": "2021-07-07T16:58:36.143Z"
   },
   {
    "duration": 37,
    "start_time": "2021-07-07T16:58:36.152Z"
   },
   {
    "duration": 27,
    "start_time": "2021-07-07T16:58:36.191Z"
   },
   {
    "duration": 19,
    "start_time": "2021-07-07T16:58:36.219Z"
   },
   {
    "duration": 49,
    "start_time": "2021-07-07T16:58:36.240Z"
   },
   {
    "duration": 6,
    "start_time": "2021-07-07T16:58:36.291Z"
   },
   {
    "duration": 3,
    "start_time": "2021-07-07T16:58:36.299Z"
   },
   {
    "duration": 13,
    "start_time": "2021-07-07T16:58:36.304Z"
   },
   {
    "duration": 10,
    "start_time": "2021-07-07T16:58:36.319Z"
   },
   {
    "duration": 10,
    "start_time": "2021-07-07T16:58:36.331Z"
   },
   {
    "duration": 44,
    "start_time": "2021-07-07T16:58:36.343Z"
   },
   {
    "duration": 4,
    "start_time": "2021-07-07T16:58:36.388Z"
   },
   {
    "duration": 13,
    "start_time": "2021-07-07T16:58:36.394Z"
   },
   {
    "duration": 16,
    "start_time": "2021-07-07T16:58:36.410Z"
   },
   {
    "duration": 8,
    "start_time": "2021-07-07T17:02:31.629Z"
   },
   {
    "duration": 8,
    "start_time": "2021-07-07T17:02:34.308Z"
   },
   {
    "duration": 6,
    "start_time": "2021-07-07T17:05:13.483Z"
   },
   {
    "duration": 17,
    "start_time": "2021-07-07T17:05:20.606Z"
   },
   {
    "duration": 7,
    "start_time": "2021-07-07T17:05:34.638Z"
   },
   {
    "duration": 3,
    "start_time": "2021-07-07T17:06:31.883Z"
   },
   {
    "duration": 570,
    "start_time": "2021-07-07T17:06:37.165Z"
   },
   {
    "duration": 174,
    "start_time": "2021-07-07T17:06:37.737Z"
   },
   {
    "duration": 47,
    "start_time": "2021-07-07T17:06:37.913Z"
   },
   {
    "duration": 3,
    "start_time": "2021-07-07T17:06:37.962Z"
   },
   {
    "duration": 27,
    "start_time": "2021-07-07T17:06:37.967Z"
   },
   {
    "duration": 7,
    "start_time": "2021-07-07T17:06:37.996Z"
   },
   {
    "duration": 16,
    "start_time": "2021-07-07T17:06:38.005Z"
   },
   {
    "duration": 6,
    "start_time": "2021-07-07T17:06:38.024Z"
   },
   {
    "duration": 12,
    "start_time": "2021-07-07T17:06:38.031Z"
   },
   {
    "duration": 41,
    "start_time": "2021-07-07T17:06:38.045Z"
   },
   {
    "duration": 8,
    "start_time": "2021-07-07T17:06:38.088Z"
   },
   {
    "duration": 26,
    "start_time": "2021-07-07T17:06:38.098Z"
   },
   {
    "duration": 17,
    "start_time": "2021-07-07T17:06:38.126Z"
   },
   {
    "duration": 43,
    "start_time": "2021-07-07T17:06:38.144Z"
   },
   {
    "duration": 6,
    "start_time": "2021-07-07T17:06:38.188Z"
   },
   {
    "duration": 5,
    "start_time": "2021-07-07T17:06:38.195Z"
   },
   {
    "duration": 9,
    "start_time": "2021-07-07T17:06:38.201Z"
   },
   {
    "duration": 12,
    "start_time": "2021-07-07T17:06:38.212Z"
   },
   {
    "duration": 11,
    "start_time": "2021-07-07T17:06:38.226Z"
   },
   {
    "duration": 47,
    "start_time": "2021-07-07T17:06:38.239Z"
   },
   {
    "duration": 4,
    "start_time": "2021-07-07T17:06:38.288Z"
   },
   {
    "duration": 13,
    "start_time": "2021-07-07T17:06:38.293Z"
   },
   {
    "duration": 5,
    "start_time": "2021-07-07T17:06:38.309Z"
   },
   {
    "duration": 18,
    "start_time": "2021-07-07T17:06:38.325Z"
   },
   {
    "duration": 20,
    "start_time": "2021-07-07T17:07:02.805Z"
   },
   {
    "duration": 19,
    "start_time": "2021-07-07T17:07:08.527Z"
   },
   {
    "duration": 19,
    "start_time": "2021-07-07T17:07:12.758Z"
   },
   {
    "duration": 22,
    "start_time": "2021-07-07T17:07:17.497Z"
   },
   {
    "duration": 19,
    "start_time": "2021-07-07T17:07:19.645Z"
   },
   {
    "duration": 10,
    "start_time": "2021-07-07T17:07:34.239Z"
   },
   {
    "duration": 17,
    "start_time": "2021-07-07T17:07:54.144Z"
   },
   {
    "duration": 14,
    "start_time": "2021-07-07T17:08:14.357Z"
   },
   {
    "duration": 616,
    "start_time": "2021-07-07T17:08:45.254Z"
   },
   {
    "duration": 178,
    "start_time": "2021-07-07T17:08:45.872Z"
   },
   {
    "duration": 60,
    "start_time": "2021-07-07T17:08:46.054Z"
   },
   {
    "duration": 3,
    "start_time": "2021-07-07T17:08:46.116Z"
   },
   {
    "duration": 26,
    "start_time": "2021-07-07T17:08:46.121Z"
   },
   {
    "duration": 7,
    "start_time": "2021-07-07T17:08:46.149Z"
   },
   {
    "duration": 17,
    "start_time": "2021-07-07T17:08:46.158Z"
   },
   {
    "duration": 14,
    "start_time": "2021-07-07T17:08:46.176Z"
   },
   {
    "duration": 17,
    "start_time": "2021-07-07T17:08:46.193Z"
   },
   {
    "duration": 9,
    "start_time": "2021-07-07T17:08:46.211Z"
   },
   {
    "duration": 21,
    "start_time": "2021-07-07T17:08:46.221Z"
   },
   {
    "duration": 49,
    "start_time": "2021-07-07T17:08:46.244Z"
   },
   {
    "duration": 24,
    "start_time": "2021-07-07T17:08:46.295Z"
   },
   {
    "duration": 22,
    "start_time": "2021-07-07T17:08:46.321Z"
   },
   {
    "duration": 6,
    "start_time": "2021-07-07T17:08:46.345Z"
   },
   {
    "duration": 5,
    "start_time": "2021-07-07T17:08:46.353Z"
   },
   {
    "duration": 13,
    "start_time": "2021-07-07T17:08:46.386Z"
   },
   {
    "duration": 12,
    "start_time": "2021-07-07T17:08:46.402Z"
   },
   {
    "duration": 10,
    "start_time": "2021-07-07T17:08:46.415Z"
   },
   {
    "duration": 7,
    "start_time": "2021-07-07T17:08:46.427Z"
   },
   {
    "duration": 8,
    "start_time": "2021-07-07T17:08:46.435Z"
   },
   {
    "duration": 68,
    "start_time": "2021-07-07T17:08:46.446Z"
   },
   {
    "duration": 13,
    "start_time": "2021-07-07T17:08:46.516Z"
   },
   {
    "duration": 78,
    "start_time": "2021-07-07T17:08:46.530Z"
   },
   {
    "duration": 40,
    "start_time": "2021-07-07T17:09:08.185Z"
   },
   {
    "duration": 16,
    "start_time": "2021-07-07T17:09:19.324Z"
   },
   {
    "duration": 21,
    "start_time": "2021-07-07T17:09:23.290Z"
   },
   {
    "duration": 13,
    "start_time": "2021-07-07T17:09:54.812Z"
   },
   {
    "duration": 13,
    "start_time": "2021-07-07T17:10:02.039Z"
   },
   {
    "duration": 10,
    "start_time": "2021-07-07T17:10:29.632Z"
   },
   {
    "duration": 13,
    "start_time": "2021-07-07T17:10:52.372Z"
   },
   {
    "duration": 13,
    "start_time": "2021-07-07T17:11:17.270Z"
   },
   {
    "duration": 13,
    "start_time": "2021-07-07T17:14:59.284Z"
   },
   {
    "duration": 547,
    "start_time": "2021-07-07T17:18:52.403Z"
   },
   {
    "duration": 163,
    "start_time": "2021-07-07T17:18:52.952Z"
   },
   {
    "duration": 44,
    "start_time": "2021-07-07T17:18:53.117Z"
   },
   {
    "duration": 3,
    "start_time": "2021-07-07T17:18:53.162Z"
   },
   {
    "duration": 26,
    "start_time": "2021-07-07T17:18:53.167Z"
   },
   {
    "duration": 6,
    "start_time": "2021-07-07T17:18:53.195Z"
   },
   {
    "duration": 15,
    "start_time": "2021-07-07T17:18:53.203Z"
   },
   {
    "duration": 5,
    "start_time": "2021-07-07T17:18:53.220Z"
   },
   {
    "duration": 11,
    "start_time": "2021-07-07T17:18:53.228Z"
   },
   {
    "duration": 9,
    "start_time": "2021-07-07T17:18:53.241Z"
   },
   {
    "duration": 41,
    "start_time": "2021-07-07T17:18:53.252Z"
   },
   {
    "duration": 33,
    "start_time": "2021-07-07T17:18:53.295Z"
   },
   {
    "duration": 19,
    "start_time": "2021-07-07T17:18:53.330Z"
   },
   {
    "duration": 49,
    "start_time": "2021-07-07T17:18:53.350Z"
   },
   {
    "duration": 5,
    "start_time": "2021-07-07T17:18:53.401Z"
   },
   {
    "duration": 5,
    "start_time": "2021-07-07T17:18:53.408Z"
   },
   {
    "duration": 11,
    "start_time": "2021-07-07T17:18:53.414Z"
   },
   {
    "duration": 9,
    "start_time": "2021-07-07T17:18:53.427Z"
   },
   {
    "duration": 10,
    "start_time": "2021-07-07T17:18:53.437Z"
   },
   {
    "duration": 39,
    "start_time": "2021-07-07T17:18:53.448Z"
   },
   {
    "duration": 26,
    "start_time": "2021-07-07T17:18:55.799Z"
   },
   {
    "duration": 598,
    "start_time": "2021-07-07T17:20:17.862Z"
   },
   {
    "duration": 161,
    "start_time": "2021-07-07T17:20:18.462Z"
   },
   {
    "duration": 45,
    "start_time": "2021-07-07T17:20:18.626Z"
   },
   {
    "duration": 4,
    "start_time": "2021-07-07T17:20:18.673Z"
   },
   {
    "duration": 38,
    "start_time": "2021-07-07T17:20:26.877Z"
   },
   {
    "duration": 7,
    "start_time": "2021-07-07T17:20:37.405Z"
   },
   {
    "duration": 19,
    "start_time": "2021-07-07T17:20:51.534Z"
   },
   {
    "duration": 5,
    "start_time": "2021-07-07T17:20:57.228Z"
   },
   {
    "duration": 7,
    "start_time": "2021-07-07T17:21:08.235Z"
   },
   {
    "duration": 19,
    "start_time": "2021-07-07T17:21:42.158Z"
   },
   {
    "duration": 14,
    "start_time": "2021-07-07T17:21:50.225Z"
   },
   {
    "duration": 22,
    "start_time": "2021-07-07T17:22:54.104Z"
   },
   {
    "duration": 5,
    "start_time": "2021-07-07T17:22:56.371Z"
   },
   {
    "duration": 14,
    "start_time": "2021-07-07T17:22:58.316Z"
   },
   {
    "duration": 5,
    "start_time": "2021-07-07T17:22:58.493Z"
   },
   {
    "duration": 35,
    "start_time": "2021-07-07T17:22:59.666Z"
   },
   {
    "duration": 6,
    "start_time": "2021-07-07T17:23:02.410Z"
   },
   {
    "duration": 611,
    "start_time": "2021-07-07T17:24:59.664Z"
   },
   {
    "duration": 178,
    "start_time": "2021-07-07T17:25:01.945Z"
   },
   {
    "duration": 47,
    "start_time": "2021-07-07T17:25:02.125Z"
   },
   {
    "duration": 2,
    "start_time": "2021-07-07T17:25:07.903Z"
   },
   {
    "duration": 254,
    "start_time": "2021-07-07T17:25:08.232Z"
   },
   {
    "duration": 182,
    "start_time": "2021-07-07T17:25:08.671Z"
   },
   {
    "duration": 6,
    "start_time": "2021-07-07T17:25:13.104Z"
   },
   {
    "duration": 36,
    "start_time": "2021-07-07T17:25:13.662Z"
   },
   {
    "duration": 7,
    "start_time": "2021-07-07T17:25:14.528Z"
   },
   {
    "duration": 24,
    "start_time": "2021-07-07T17:25:27.982Z"
   },
   {
    "duration": 3,
    "start_time": "2021-07-07T17:25:48.982Z"
   },
   {
    "duration": 165,
    "start_time": "2021-07-07T17:25:48.987Z"
   },
   {
    "duration": 50,
    "start_time": "2021-07-07T17:25:49.154Z"
   },
   {
    "duration": 4,
    "start_time": "2021-07-07T17:25:49.206Z"
   },
   {
    "duration": 26,
    "start_time": "2021-07-07T17:25:49.212Z"
   },
   {
    "duration": 7,
    "start_time": "2021-07-07T17:25:49.240Z"
   },
   {
    "duration": 16,
    "start_time": "2021-07-07T17:25:49.249Z"
   },
   {
    "duration": 22,
    "start_time": "2021-07-07T17:25:49.266Z"
   },
   {
    "duration": 16,
    "start_time": "2021-07-07T17:25:49.291Z"
   },
   {
    "duration": 9,
    "start_time": "2021-07-07T17:25:49.309Z"
   },
   {
    "duration": 7,
    "start_time": "2021-07-07T17:25:49.319Z"
   },
   {
    "duration": 28,
    "start_time": "2021-07-07T17:25:49.328Z"
   },
   {
    "duration": 44,
    "start_time": "2021-07-07T17:25:49.357Z"
   },
   {
    "duration": 22,
    "start_time": "2021-07-07T17:25:49.403Z"
   },
   {
    "duration": 7,
    "start_time": "2021-07-07T17:25:49.427Z"
   },
   {
    "duration": 3,
    "start_time": "2021-07-07T17:25:49.436Z"
   },
   {
    "duration": 44,
    "start_time": "2021-07-07T17:25:49.441Z"
   },
   {
    "duration": 12,
    "start_time": "2021-07-07T17:25:49.488Z"
   },
   {
    "duration": 13,
    "start_time": "2021-07-07T17:25:49.502Z"
   },
   {
    "duration": 10,
    "start_time": "2021-07-07T17:25:49.516Z"
   },
   {
    "duration": 62,
    "start_time": "2021-07-07T17:25:49.527Z"
   },
   {
    "duration": 26,
    "start_time": "2021-07-07T17:26:51.809Z"
   },
   {
    "duration": 26,
    "start_time": "2021-07-07T17:26:55.759Z"
   },
   {
    "duration": 26,
    "start_time": "2021-07-07T17:27:04.501Z"
   },
   {
    "duration": 25,
    "start_time": "2021-07-07T17:28:24.859Z"
   },
   {
    "duration": 21,
    "start_time": "2021-07-07T17:28:55.250Z"
   },
   {
    "duration": 21,
    "start_time": "2021-07-07T17:28:58.885Z"
   },
   {
    "duration": 7,
    "start_time": "2021-07-07T17:45:40.972Z"
   },
   {
    "duration": 13,
    "start_time": "2021-07-07T17:45:42.529Z"
   },
   {
    "duration": 27,
    "start_time": "2021-07-07T17:45:51.026Z"
   },
   {
    "duration": 518,
    "start_time": "2021-07-07T17:46:15.532Z"
   },
   {
    "duration": 235,
    "start_time": "2021-07-07T17:46:16.053Z"
   },
   {
    "duration": 80,
    "start_time": "2021-07-07T17:46:16.292Z"
   },
   {
    "duration": 5,
    "start_time": "2021-07-07T17:46:16.373Z"
   },
   {
    "duration": 26,
    "start_time": "2021-07-07T17:46:16.380Z"
   },
   {
    "duration": 7,
    "start_time": "2021-07-07T17:46:16.408Z"
   },
   {
    "duration": 16,
    "start_time": "2021-07-07T17:46:16.418Z"
   },
   {
    "duration": 5,
    "start_time": "2021-07-07T17:46:16.436Z"
   },
   {
    "duration": 13,
    "start_time": "2021-07-07T17:46:16.442Z"
   },
   {
    "duration": 35,
    "start_time": "2021-07-07T17:46:16.456Z"
   },
   {
    "duration": 8,
    "start_time": "2021-07-07T17:46:16.493Z"
   },
   {
    "duration": 28,
    "start_time": "2021-07-07T17:46:16.502Z"
   },
   {
    "duration": 17,
    "start_time": "2021-07-07T17:46:16.532Z"
   },
   {
    "duration": 44,
    "start_time": "2021-07-07T17:46:16.551Z"
   },
   {
    "duration": 6,
    "start_time": "2021-07-07T17:46:16.597Z"
   },
   {
    "duration": 4,
    "start_time": "2021-07-07T17:46:16.605Z"
   },
   {
    "duration": 9,
    "start_time": "2021-07-07T17:46:16.610Z"
   },
   {
    "duration": 9,
    "start_time": "2021-07-07T17:46:16.621Z"
   },
   {
    "duration": 10,
    "start_time": "2021-07-07T17:46:16.632Z"
   },
   {
    "duration": 43,
    "start_time": "2021-07-07T17:46:16.644Z"
   },
   {
    "duration": 26,
    "start_time": "2021-07-07T17:46:16.689Z"
   },
   {
    "duration": 19,
    "start_time": "2021-07-07T17:46:16.718Z"
   },
   {
    "duration": 8,
    "start_time": "2021-07-07T17:46:16.738Z"
   },
   {
    "duration": 43,
    "start_time": "2021-07-07T17:46:16.747Z"
   },
   {
    "duration": 19,
    "start_time": "2021-07-07T17:46:16.791Z"
   },
   {
    "duration": 9,
    "start_time": "2021-07-07T17:46:16.812Z"
   },
   {
    "duration": 60,
    "start_time": "2021-07-07T17:46:16.822Z"
   },
   {
    "duration": -8,
    "start_time": "2021-07-07T17:46:16.892Z"
   },
   {
    "duration": 12,
    "start_time": "2021-07-07T17:48:47.707Z"
   },
   {
    "duration": 553,
    "start_time": "2021-07-07T18:10:09.350Z"
   },
   {
    "duration": 230,
    "start_time": "2021-07-07T18:10:09.905Z"
   },
   {
    "duration": 97,
    "start_time": "2021-07-07T18:10:10.137Z"
   },
   {
    "duration": 5,
    "start_time": "2021-07-07T18:10:10.236Z"
   },
   {
    "duration": 29,
    "start_time": "2021-07-07T18:10:10.242Z"
   },
   {
    "duration": 7,
    "start_time": "2021-07-07T18:10:10.272Z"
   },
   {
    "duration": 15,
    "start_time": "2021-07-07T18:10:10.281Z"
   },
   {
    "duration": 4,
    "start_time": "2021-07-07T18:10:10.299Z"
   },
   {
    "duration": 14,
    "start_time": "2021-07-07T18:10:10.305Z"
   },
   {
    "duration": 8,
    "start_time": "2021-07-07T18:10:10.321Z"
   },
   {
    "duration": 8,
    "start_time": "2021-07-07T18:10:10.331Z"
   },
   {
    "duration": 56,
    "start_time": "2021-07-07T18:10:10.341Z"
   },
   {
    "duration": 19,
    "start_time": "2021-07-07T18:10:10.399Z"
   },
   {
    "duration": 23,
    "start_time": "2021-07-07T18:10:10.419Z"
   },
   {
    "duration": 6,
    "start_time": "2021-07-07T18:10:10.444Z"
   },
   {
    "duration": 9,
    "start_time": "2021-07-07T18:10:10.451Z"
   },
   {
    "duration": 30,
    "start_time": "2021-07-07T18:10:10.462Z"
   },
   {
    "duration": 9,
    "start_time": "2021-07-07T18:10:10.494Z"
   },
   {
    "duration": 14,
    "start_time": "2021-07-07T18:10:10.505Z"
   },
   {
    "duration": 7,
    "start_time": "2021-07-07T18:10:10.521Z"
   },
   {
    "duration": 26,
    "start_time": "2021-07-07T18:10:10.530Z"
   },
   {
    "duration": 44,
    "start_time": "2021-07-07T18:10:10.558Z"
   },
   {
    "duration": 7,
    "start_time": "2021-07-07T18:10:10.605Z"
   },
   {
    "duration": 11,
    "start_time": "2021-07-07T18:10:10.614Z"
   },
   {
    "duration": 19,
    "start_time": "2021-07-07T18:10:10.626Z"
   },
   {
    "duration": 44,
    "start_time": "2021-07-07T18:10:10.646Z"
   },
   {
    "duration": 516,
    "start_time": "2021-07-07T18:14:00.826Z"
   },
   {
    "duration": 230,
    "start_time": "2021-07-07T18:14:01.344Z"
   },
   {
    "duration": 105,
    "start_time": "2021-07-07T18:14:01.576Z"
   },
   {
    "duration": 5,
    "start_time": "2021-07-07T18:14:01.683Z"
   },
   {
    "duration": 46,
    "start_time": "2021-07-07T18:14:01.690Z"
   },
   {
    "duration": 7,
    "start_time": "2021-07-07T18:14:01.738Z"
   },
   {
    "duration": 20,
    "start_time": "2021-07-07T18:14:01.747Z"
   },
   {
    "duration": 16,
    "start_time": "2021-07-07T18:14:01.769Z"
   },
   {
    "duration": 14,
    "start_time": "2021-07-07T18:14:01.787Z"
   },
   {
    "duration": 15,
    "start_time": "2021-07-07T18:14:01.803Z"
   },
   {
    "duration": 12,
    "start_time": "2021-07-07T18:14:01.820Z"
   },
   {
    "duration": 35,
    "start_time": "2021-07-07T18:14:01.833Z"
   },
   {
    "duration": 31,
    "start_time": "2021-07-07T18:14:01.869Z"
   },
   {
    "duration": 37,
    "start_time": "2021-07-07T18:14:01.902Z"
   },
   {
    "duration": 8,
    "start_time": "2021-07-07T18:14:01.942Z"
   },
   {
    "duration": 16,
    "start_time": "2021-07-07T18:14:01.952Z"
   },
   {
    "duration": 13,
    "start_time": "2021-07-07T18:14:01.970Z"
   },
   {
    "duration": 32,
    "start_time": "2021-07-07T18:14:01.985Z"
   },
   {
    "duration": 11,
    "start_time": "2021-07-07T18:14:02.019Z"
   },
   {
    "duration": 22,
    "start_time": "2021-07-07T18:14:02.031Z"
   },
   {
    "duration": 27,
    "start_time": "2021-07-07T18:14:02.055Z"
   },
   {
    "duration": 18,
    "start_time": "2021-07-07T18:14:02.084Z"
   },
   {
    "duration": 18,
    "start_time": "2021-07-07T18:14:02.106Z"
   },
   {
    "duration": 11,
    "start_time": "2021-07-07T18:14:02.126Z"
   },
   {
    "duration": 21,
    "start_time": "2021-07-07T18:14:02.138Z"
   },
   {
    "duration": 32,
    "start_time": "2021-07-07T18:14:02.161Z"
   },
   {
    "duration": 28,
    "start_time": "2021-07-07T18:14:44.295Z"
   },
   {
    "duration": 6,
    "start_time": "2021-07-07T18:15:05.834Z"
   },
   {
    "duration": 511,
    "start_time": "2021-07-07T18:15:41.541Z"
   },
   {
    "duration": 183,
    "start_time": "2021-07-07T18:15:42.054Z"
   },
   {
    "duration": 50,
    "start_time": "2021-07-07T18:15:42.239Z"
   },
   {
    "duration": 5,
    "start_time": "2021-07-07T18:15:42.291Z"
   },
   {
    "duration": 48,
    "start_time": "2021-07-07T18:15:42.297Z"
   },
   {
    "duration": 8,
    "start_time": "2021-07-07T18:15:42.346Z"
   },
   {
    "duration": 17,
    "start_time": "2021-07-07T18:15:42.356Z"
   },
   {
    "duration": 15,
    "start_time": "2021-07-07T18:15:42.375Z"
   },
   {
    "duration": 12,
    "start_time": "2021-07-07T18:15:42.392Z"
   },
   {
    "duration": 7,
    "start_time": "2021-07-07T18:15:42.406Z"
   },
   {
    "duration": 7,
    "start_time": "2021-07-07T18:15:42.415Z"
   },
   {
    "duration": 29,
    "start_time": "2021-07-07T18:15:42.423Z"
   },
   {
    "duration": 43,
    "start_time": "2021-07-07T18:15:42.453Z"
   },
   {
    "duration": 18,
    "start_time": "2021-07-07T18:15:42.497Z"
   },
   {
    "duration": 6,
    "start_time": "2021-07-07T18:15:42.516Z"
   },
   {
    "duration": 3,
    "start_time": "2021-07-07T18:15:42.523Z"
   },
   {
    "duration": 18,
    "start_time": "2021-07-07T18:15:42.528Z"
   },
   {
    "duration": 10,
    "start_time": "2021-07-07T18:15:42.547Z"
   },
   {
    "duration": 36,
    "start_time": "2021-07-07T18:15:42.559Z"
   },
   {
    "duration": 8,
    "start_time": "2021-07-07T18:15:42.597Z"
   },
   {
    "duration": 28,
    "start_time": "2021-07-07T18:15:42.606Z"
   },
   {
    "duration": 52,
    "start_time": "2021-07-07T18:15:42.635Z"
   },
   {
    "duration": 7,
    "start_time": "2021-07-07T18:15:42.690Z"
   },
   {
    "duration": 10,
    "start_time": "2021-07-07T18:15:42.699Z"
   },
   {
    "duration": 19,
    "start_time": "2021-07-07T18:15:42.711Z"
   },
   {
    "duration": 9,
    "start_time": "2021-07-07T18:15:42.732Z"
   },
   {
    "duration": 5,
    "start_time": "2021-07-07T18:15:42.743Z"
   },
   {
    "duration": 1450,
    "start_time": "2021-07-07T18:15:51.984Z"
   },
   {
    "duration": 161,
    "start_time": "2021-07-07T18:15:53.435Z"
   },
   {
    "duration": 124,
    "start_time": "2021-07-07T18:15:53.598Z"
   },
   {
    "duration": 5,
    "start_time": "2021-07-07T18:15:53.724Z"
   },
   {
    "duration": 34,
    "start_time": "2021-07-07T18:15:53.730Z"
   },
   {
    "duration": 7,
    "start_time": "2021-07-07T18:15:53.765Z"
   },
   {
    "duration": 15,
    "start_time": "2021-07-07T18:15:53.773Z"
   },
   {
    "duration": 5,
    "start_time": "2021-07-07T18:15:53.791Z"
   },
   {
    "duration": 19,
    "start_time": "2021-07-07T18:15:53.798Z"
   },
   {
    "duration": 9,
    "start_time": "2021-07-07T18:15:53.818Z"
   },
   {
    "duration": 19,
    "start_time": "2021-07-07T18:15:53.828Z"
   },
   {
    "duration": 27,
    "start_time": "2021-07-07T18:15:53.848Z"
   },
   {
    "duration": 16,
    "start_time": "2021-07-07T18:15:53.884Z"
   },
   {
    "duration": 29,
    "start_time": "2021-07-07T18:15:53.901Z"
   },
   {
    "duration": 5,
    "start_time": "2021-07-07T18:15:53.932Z"
   },
   {
    "duration": 15,
    "start_time": "2021-07-07T18:15:53.939Z"
   },
   {
    "duration": 13,
    "start_time": "2021-07-07T18:15:53.956Z"
   },
   {
    "duration": 20,
    "start_time": "2021-07-07T18:15:53.971Z"
   },
   {
    "duration": 14,
    "start_time": "2021-07-07T18:15:53.992Z"
   },
   {
    "duration": 9,
    "start_time": "2021-07-07T18:15:54.009Z"
   },
   {
    "duration": 28,
    "start_time": "2021-07-07T18:15:54.020Z"
   },
   {
    "duration": 50,
    "start_time": "2021-07-07T18:15:54.051Z"
   },
   {
    "duration": 8,
    "start_time": "2021-07-07T18:15:54.105Z"
   },
   {
    "duration": 11,
    "start_time": "2021-07-07T18:15:54.115Z"
   },
   {
    "duration": 20,
    "start_time": "2021-07-07T18:15:54.128Z"
   },
   {
    "duration": 13,
    "start_time": "2021-07-07T18:15:54.184Z"
   },
   {
    "duration": 7,
    "start_time": "2021-07-07T18:15:54.199Z"
   },
   {
    "duration": 7,
    "start_time": "2021-07-07T18:17:08.042Z"
   },
   {
    "duration": 8,
    "start_time": "2021-07-07T18:17:21.008Z"
   },
   {
    "duration": 7,
    "start_time": "2021-07-07T18:17:29.003Z"
   },
   {
    "duration": 8,
    "start_time": "2021-07-07T18:17:32.492Z"
   },
   {
    "duration": 9,
    "start_time": "2021-07-07T18:17:41.758Z"
   },
   {
    "duration": 255,
    "start_time": "2021-07-07T18:20:20.897Z"
   },
   {
    "duration": 173,
    "start_time": "2021-07-07T18:20:26.636Z"
   },
   {
    "duration": 7,
    "start_time": "2021-07-07T18:21:47.164Z"
   },
   {
    "duration": 254,
    "start_time": "2021-07-07T18:23:08.703Z"
   },
   {
    "duration": 21,
    "start_time": "2021-07-07T18:23:22.506Z"
   },
   {
    "duration": 315,
    "start_time": "2021-07-07T18:25:54.801Z"
   },
   {
    "duration": 34,
    "start_time": "2021-07-07T18:26:51.817Z"
   },
   {
    "duration": 327,
    "start_time": "2021-07-07T18:26:56.147Z"
   },
   {
    "duration": 342,
    "start_time": "2021-07-07T18:27:15.887Z"
   },
   {
    "duration": 302,
    "start_time": "2021-07-07T18:28:18.569Z"
   },
   {
    "duration": 226,
    "start_time": "2021-07-07T18:29:20.879Z"
   },
   {
    "duration": 207,
    "start_time": "2021-07-07T18:29:58.114Z"
   },
   {
    "duration": 140,
    "start_time": "2021-07-07T18:32:04.372Z"
   },
   {
    "duration": 158,
    "start_time": "2021-07-07T18:32:32.508Z"
   },
   {
    "duration": 145,
    "start_time": "2021-07-07T18:32:41.365Z"
   },
   {
    "duration": 132,
    "start_time": "2021-07-07T18:32:45.199Z"
   },
   {
    "duration": 11,
    "start_time": "2021-07-07T18:35:24.679Z"
   },
   {
    "duration": 268,
    "start_time": "2021-07-07T18:36:16.145Z"
   },
   {
    "duration": 227,
    "start_time": "2021-07-07T18:37:04.918Z"
   },
   {
    "duration": 3,
    "start_time": "2021-07-07T18:37:33.012Z"
   },
   {
    "duration": 671,
    "start_time": "2021-07-07T18:37:38.295Z"
   },
   {
    "duration": 54,
    "start_time": "2021-07-07T18:37:53.406Z"
   },
   {
    "duration": 631,
    "start_time": "2021-07-07T18:37:56.463Z"
   },
   {
    "duration": 19,
    "start_time": "2021-07-07T18:39:40.535Z"
   },
   {
    "duration": 20,
    "start_time": "2021-07-07T18:40:12.236Z"
   },
   {
    "duration": 633,
    "start_time": "2021-07-07T18:42:00.398Z"
   },
   {
    "duration": 218,
    "start_time": "2021-07-07T18:42:01.033Z"
   },
   {
    "duration": 49,
    "start_time": "2021-07-07T18:42:01.253Z"
   },
   {
    "duration": 5,
    "start_time": "2021-07-07T18:42:01.303Z"
   },
   {
    "duration": 27,
    "start_time": "2021-07-07T18:42:01.310Z"
   },
   {
    "duration": 8,
    "start_time": "2021-07-07T18:42:01.339Z"
   },
   {
    "duration": 20,
    "start_time": "2021-07-07T18:42:01.348Z"
   },
   {
    "duration": 6,
    "start_time": "2021-07-07T18:42:01.386Z"
   },
   {
    "duration": 16,
    "start_time": "2021-07-07T18:42:01.394Z"
   },
   {
    "duration": 9,
    "start_time": "2021-07-07T18:42:01.411Z"
   },
   {
    "duration": 11,
    "start_time": "2021-07-07T18:42:01.421Z"
   },
   {
    "duration": 31,
    "start_time": "2021-07-07T18:42:01.434Z"
   },
   {
    "duration": 18,
    "start_time": "2021-07-07T18:42:01.485Z"
   },
   {
    "duration": 23,
    "start_time": "2021-07-07T18:42:01.505Z"
   },
   {
    "duration": 6,
    "start_time": "2021-07-07T18:42:01.530Z"
   },
   {
    "duration": 10,
    "start_time": "2021-07-07T18:42:01.538Z"
   },
   {
    "duration": 13,
    "start_time": "2021-07-07T18:42:01.550Z"
   },
   {
    "duration": 24,
    "start_time": "2021-07-07T18:42:01.564Z"
   },
   {
    "duration": 20,
    "start_time": "2021-07-07T18:42:01.590Z"
   },
   {
    "duration": 8,
    "start_time": "2021-07-07T18:42:01.611Z"
   },
   {
    "duration": 31,
    "start_time": "2021-07-07T18:42:01.620Z"
   },
   {
    "duration": 39,
    "start_time": "2021-07-07T18:42:01.653Z"
   },
   {
    "duration": 8,
    "start_time": "2021-07-07T18:42:01.696Z"
   },
   {
    "duration": 13,
    "start_time": "2021-07-07T18:42:01.705Z"
   },
   {
    "duration": 20,
    "start_time": "2021-07-07T18:42:01.720Z"
   },
   {
    "duration": 12,
    "start_time": "2021-07-07T18:42:01.741Z"
   },
   {
    "duration": 35,
    "start_time": "2021-07-07T18:42:01.755Z"
   },
   {
    "duration": 14,
    "start_time": "2021-07-07T18:42:01.792Z"
   },
   {
    "duration": 188,
    "start_time": "2021-07-07T18:42:01.808Z"
   },
   {
    "duration": 19,
    "start_time": "2021-07-07T18:42:01.998Z"
   },
   {
    "duration": 175,
    "start_time": "2021-07-07T18:42:02.019Z"
   },
   {
    "duration": 134,
    "start_time": "2021-07-07T18:42:02.196Z"
   },
   {
    "duration": 10,
    "start_time": "2021-07-07T18:42:02.331Z"
   },
   {
    "duration": 19,
    "start_time": "2021-07-07T18:42:02.343Z"
   },
   {
    "duration": 628,
    "start_time": "2021-07-07T18:46:30.701Z"
   },
   {
    "duration": 183,
    "start_time": "2021-07-07T18:46:31.331Z"
   },
   {
    "duration": 48,
    "start_time": "2021-07-07T18:46:31.516Z"
   },
   {
    "duration": 5,
    "start_time": "2021-07-07T18:46:31.566Z"
   },
   {
    "duration": 28,
    "start_time": "2021-07-07T18:46:31.572Z"
   },
   {
    "duration": 8,
    "start_time": "2021-07-07T18:46:31.602Z"
   },
   {
    "duration": 19,
    "start_time": "2021-07-07T18:46:31.611Z"
   },
   {
    "duration": 6,
    "start_time": "2021-07-07T18:46:31.633Z"
   },
   {
    "duration": 17,
    "start_time": "2021-07-07T18:46:31.642Z"
   },
   {
    "duration": 10,
    "start_time": "2021-07-07T18:46:31.684Z"
   },
   {
    "duration": 9,
    "start_time": "2021-07-07T18:46:31.695Z"
   },
   {
    "duration": 28,
    "start_time": "2021-07-07T18:46:31.705Z"
   },
   {
    "duration": 18,
    "start_time": "2021-07-07T18:46:31.735Z"
   },
   {
    "duration": 48,
    "start_time": "2021-07-07T18:46:31.755Z"
   },
   {
    "duration": 6,
    "start_time": "2021-07-07T18:46:31.804Z"
   },
   {
    "duration": 4,
    "start_time": "2021-07-07T18:46:31.812Z"
   },
   {
    "duration": 9,
    "start_time": "2021-07-07T18:46:31.817Z"
   },
   {
    "duration": 10,
    "start_time": "2021-07-07T18:46:31.827Z"
   },
   {
    "duration": 12,
    "start_time": "2021-07-07T18:46:31.838Z"
   },
   {
    "duration": 39,
    "start_time": "2021-07-07T18:46:31.851Z"
   },
   {
    "duration": 24,
    "start_time": "2021-07-07T18:46:31.892Z"
   },
   {
    "duration": 15,
    "start_time": "2021-07-07T18:46:31.918Z"
   },
   {
    "duration": 7,
    "start_time": "2021-07-07T18:46:31.936Z"
   },
   {
    "duration": 8,
    "start_time": "2021-07-07T18:46:31.944Z"
   },
   {
    "duration": 19,
    "start_time": "2021-07-07T18:46:31.984Z"
   },
   {
    "duration": 10,
    "start_time": "2021-07-07T18:46:32.004Z"
   },
   {
    "duration": 5,
    "start_time": "2021-07-07T18:46:32.016Z"
   },
   {
    "duration": 9,
    "start_time": "2021-07-07T18:46:32.023Z"
   },
   {
    "duration": 199,
    "start_time": "2021-07-07T18:46:32.033Z"
   },
   {
    "duration": 19,
    "start_time": "2021-07-07T18:46:32.234Z"
   },
   {
    "duration": 159,
    "start_time": "2021-07-07T18:46:32.255Z"
   },
   {
    "duration": 134,
    "start_time": "2021-07-07T18:46:32.416Z"
   },
   {
    "duration": 10,
    "start_time": "2021-07-07T18:46:32.552Z"
   },
   {
    "duration": 34,
    "start_time": "2021-07-07T18:46:32.563Z"
   },
   {
    "duration": 1039,
    "start_time": "2021-07-08T08:41:09.419Z"
   },
   {
    "duration": 333,
    "start_time": "2021-07-08T08:41:10.459Z"
   },
   {
    "duration": 173,
    "start_time": "2021-07-08T08:41:10.794Z"
   },
   {
    "duration": 5,
    "start_time": "2021-07-08T08:41:10.968Z"
   },
   {
    "duration": 25,
    "start_time": "2021-07-08T08:41:10.975Z"
   },
   {
    "duration": 9,
    "start_time": "2021-07-08T08:41:11.002Z"
   },
   {
    "duration": 18,
    "start_time": "2021-07-08T08:41:11.013Z"
   },
   {
    "duration": 6,
    "start_time": "2021-07-08T08:41:11.033Z"
   },
   {
    "duration": 44,
    "start_time": "2021-07-08T08:41:11.042Z"
   },
   {
    "duration": 10,
    "start_time": "2021-07-08T08:41:11.088Z"
   },
   {
    "duration": 9,
    "start_time": "2021-07-08T08:41:11.100Z"
   },
   {
    "duration": 27,
    "start_time": "2021-07-08T08:41:11.111Z"
   },
   {
    "duration": 46,
    "start_time": "2021-07-08T08:41:11.140Z"
   },
   {
    "duration": 17,
    "start_time": "2021-07-08T08:41:11.187Z"
   },
   {
    "duration": 6,
    "start_time": "2021-07-08T08:41:11.206Z"
   },
   {
    "duration": 5,
    "start_time": "2021-07-08T08:41:11.213Z"
   },
   {
    "duration": 10,
    "start_time": "2021-07-08T08:41:11.219Z"
   },
   {
    "duration": 9,
    "start_time": "2021-07-08T08:41:11.230Z"
   },
   {
    "duration": 45,
    "start_time": "2021-07-08T08:41:11.241Z"
   },
   {
    "duration": 7,
    "start_time": "2021-07-08T08:41:11.287Z"
   },
   {
    "duration": 24,
    "start_time": "2021-07-08T08:41:11.296Z"
   },
   {
    "duration": 16,
    "start_time": "2021-07-08T08:41:11.322Z"
   },
   {
    "duration": 7,
    "start_time": "2021-07-08T08:41:11.341Z"
   },
   {
    "duration": 41,
    "start_time": "2021-07-08T08:41:11.349Z"
   },
   {
    "duration": 17,
    "start_time": "2021-07-08T08:41:11.391Z"
   },
   {
    "duration": 9,
    "start_time": "2021-07-08T08:41:11.410Z"
   },
   {
    "duration": 5,
    "start_time": "2021-07-08T08:41:11.421Z"
   },
   {
    "duration": 6,
    "start_time": "2021-07-08T08:41:11.428Z"
   },
   {
    "duration": 198,
    "start_time": "2021-07-08T08:41:11.435Z"
   },
   {
    "duration": 18,
    "start_time": "2021-07-08T08:41:11.635Z"
   },
   {
    "duration": 155,
    "start_time": "2021-07-08T08:41:11.655Z"
   },
   {
    "duration": 138,
    "start_time": "2021-07-08T08:41:11.811Z"
   },
   {
    "duration": 10,
    "start_time": "2021-07-08T08:41:11.950Z"
   },
   {
    "duration": 29,
    "start_time": "2021-07-08T08:41:11.961Z"
   },
   {
    "duration": 171,
    "start_time": "2021-07-08T08:47:44.522Z"
   },
   {
    "duration": 124,
    "start_time": "2021-07-08T08:47:46.872Z"
   },
   {
    "duration": 191,
    "start_time": "2021-07-08T08:47:58.148Z"
   },
   {
    "duration": 191,
    "start_time": "2021-07-08T08:48:07.412Z"
   },
   {
    "duration": 261,
    "start_time": "2021-07-08T08:48:10.385Z"
   },
   {
    "duration": 255,
    "start_time": "2021-07-08T08:48:14.494Z"
   },
   {
    "duration": 219,
    "start_time": "2021-07-08T08:48:22.752Z"
   },
   {
    "duration": 173,
    "start_time": "2021-07-08T08:49:06.395Z"
   },
   {
    "duration": 180,
    "start_time": "2021-07-08T08:49:21.011Z"
   },
   {
    "duration": 6,
    "start_time": "2021-07-08T08:50:31.697Z"
   },
   {
    "duration": 10,
    "start_time": "2021-07-08T08:50:47.394Z"
   },
   {
    "duration": 11,
    "start_time": "2021-07-08T08:53:49.332Z"
   },
   {
    "duration": 171,
    "start_time": "2021-07-08T08:54:28.408Z"
   },
   {
    "duration": 636,
    "start_time": "2021-07-08T09:02:48.385Z"
   },
   {
    "duration": 227,
    "start_time": "2021-07-08T09:02:49.023Z"
   },
   {
    "duration": 104,
    "start_time": "2021-07-08T09:02:49.252Z"
   },
   {
    "duration": 5,
    "start_time": "2021-07-08T09:02:49.358Z"
   },
   {
    "duration": 27,
    "start_time": "2021-07-08T09:02:49.365Z"
   },
   {
    "duration": 8,
    "start_time": "2021-07-08T09:02:49.394Z"
   },
   {
    "duration": 18,
    "start_time": "2021-07-08T09:02:49.404Z"
   },
   {
    "duration": 6,
    "start_time": "2021-07-08T09:02:49.424Z"
   },
   {
    "duration": 11,
    "start_time": "2021-07-08T09:02:49.433Z"
   },
   {
    "duration": 13,
    "start_time": "2021-07-08T09:02:49.485Z"
   },
   {
    "duration": 9,
    "start_time": "2021-07-08T09:02:49.500Z"
   },
   {
    "duration": 38,
    "start_time": "2021-07-08T09:02:49.511Z"
   },
   {
    "duration": 42,
    "start_time": "2021-07-08T09:02:49.551Z"
   },
   {
    "duration": 21,
    "start_time": "2021-07-08T09:02:49.594Z"
   },
   {
    "duration": 6,
    "start_time": "2021-07-08T09:02:49.616Z"
   },
   {
    "duration": 3,
    "start_time": "2021-07-08T09:02:49.623Z"
   },
   {
    "duration": 9,
    "start_time": "2021-07-08T09:02:49.628Z"
   },
   {
    "duration": 52,
    "start_time": "2021-07-08T09:02:49.638Z"
   },
   {
    "duration": 11,
    "start_time": "2021-07-08T09:02:49.692Z"
   },
   {
    "duration": 8,
    "start_time": "2021-07-08T09:02:49.704Z"
   },
   {
    "duration": 27,
    "start_time": "2021-07-08T09:02:49.713Z"
   },
   {
    "duration": 59,
    "start_time": "2021-07-08T09:02:49.741Z"
   },
   {
    "duration": 8,
    "start_time": "2021-07-08T09:02:49.803Z"
   },
   {
    "duration": 14,
    "start_time": "2021-07-08T09:02:49.813Z"
   },
   {
    "duration": 20,
    "start_time": "2021-07-08T09:02:49.829Z"
   },
   {
    "duration": 44,
    "start_time": "2021-07-08T09:02:49.851Z"
   },
   {
    "duration": 14,
    "start_time": "2021-07-08T09:02:49.896Z"
   },
   {
    "duration": 221,
    "start_time": "2021-07-08T09:02:49.912Z"
   },
   {
    "duration": 6,
    "start_time": "2021-07-08T09:02:50.134Z"
   },
   {
    "duration": 206,
    "start_time": "2021-07-08T09:02:50.142Z"
   },
   {
    "duration": 19,
    "start_time": "2021-07-08T09:02:50.350Z"
   },
   {
    "duration": 21,
    "start_time": "2021-07-08T09:02:50.370Z"
   },
   {
    "duration": 20,
    "start_time": "2021-07-08T09:02:50.393Z"
   },
   {
    "duration": 5,
    "start_time": "2021-07-08T09:02:50.414Z"
   },
   {
    "duration": 5,
    "start_time": "2021-07-08T09:03:34.173Z"
   },
   {
    "duration": 6,
    "start_time": "2021-07-08T09:04:49.062Z"
   },
   {
    "duration": 9,
    "start_time": "2021-07-08T09:04:50.118Z"
   },
   {
    "duration": 14,
    "start_time": "2021-07-08T09:04:58.512Z"
   },
   {
    "duration": 9,
    "start_time": "2021-07-08T09:05:10.988Z"
   },
   {
    "duration": 11,
    "start_time": "2021-07-08T09:05:11.743Z"
   },
   {
    "duration": 7,
    "start_time": "2021-07-08T09:05:25.677Z"
   },
   {
    "duration": 13,
    "start_time": "2021-07-08T09:05:47.189Z"
   },
   {
    "duration": 13,
    "start_time": "2021-07-08T09:05:54.755Z"
   },
   {
    "duration": 4,
    "start_time": "2021-07-08T09:06:29.189Z"
   },
   {
    "duration": 244,
    "start_time": "2021-07-08T09:06:29.195Z"
   },
   {
    "duration": 91,
    "start_time": "2021-07-08T09:06:29.441Z"
   },
   {
    "duration": 4,
    "start_time": "2021-07-08T09:06:29.534Z"
   },
   {
    "duration": 28,
    "start_time": "2021-07-08T09:06:29.540Z"
   },
   {
    "duration": 6,
    "start_time": "2021-07-08T09:06:29.570Z"
   },
   {
    "duration": 18,
    "start_time": "2021-07-08T09:06:29.578Z"
   },
   {
    "duration": 5,
    "start_time": "2021-07-08T09:06:29.597Z"
   },
   {
    "duration": 13,
    "start_time": "2021-07-08T09:06:29.605Z"
   },
   {
    "duration": 8,
    "start_time": "2021-07-08T09:06:29.620Z"
   },
   {
    "duration": 7,
    "start_time": "2021-07-08T09:06:29.630Z"
   },
   {
    "duration": 63,
    "start_time": "2021-07-08T09:06:29.639Z"
   },
   {
    "duration": 17,
    "start_time": "2021-07-08T09:06:29.704Z"
   },
   {
    "duration": 20,
    "start_time": "2021-07-08T09:06:29.723Z"
   },
   {
    "duration": 6,
    "start_time": "2021-07-08T09:06:29.745Z"
   },
   {
    "duration": 3,
    "start_time": "2021-07-08T09:06:29.752Z"
   },
   {
    "duration": 7,
    "start_time": "2021-07-08T09:06:29.785Z"
   },
   {
    "duration": 11,
    "start_time": "2021-07-08T09:06:29.794Z"
   },
   {
    "duration": 15,
    "start_time": "2021-07-08T09:06:29.807Z"
   },
   {
    "duration": 8,
    "start_time": "2021-07-08T09:06:29.823Z"
   },
   {
    "duration": 70,
    "start_time": "2021-07-08T09:06:29.832Z"
   },
   {
    "duration": 17,
    "start_time": "2021-07-08T09:06:29.903Z"
   },
   {
    "duration": 9,
    "start_time": "2021-07-08T09:06:29.921Z"
   },
   {
    "duration": 9,
    "start_time": "2021-07-08T09:06:29.932Z"
   },
   {
    "duration": 57,
    "start_time": "2021-07-08T09:06:29.942Z"
   },
   {
    "duration": 11,
    "start_time": "2021-07-08T09:06:30.001Z"
   },
   {
    "duration": 19,
    "start_time": "2021-07-08T09:06:30.016Z"
   },
   {
    "duration": 217,
    "start_time": "2021-07-08T09:06:30.037Z"
   },
   {
    "duration": 6,
    "start_time": "2021-07-08T09:06:30.255Z"
   },
   {
    "duration": 205,
    "start_time": "2021-07-08T09:06:30.263Z"
   },
   {
    "duration": 27,
    "start_time": "2021-07-08T09:06:30.470Z"
   },
   {
    "duration": 11,
    "start_time": "2021-07-08T09:06:30.500Z"
   },
   {
    "duration": 31,
    "start_time": "2021-07-08T09:06:30.513Z"
   },
   {
    "duration": 18,
    "start_time": "2021-07-08T09:06:30.546Z"
   },
   {
    "duration": 11,
    "start_time": "2021-07-08T09:06:30.566Z"
   },
   {
    "duration": 19,
    "start_time": "2021-07-08T09:06:30.579Z"
   },
   {
    "duration": 20,
    "start_time": "2021-07-08T09:06:49.466Z"
   },
   {
    "duration": 9,
    "start_time": "2021-07-08T09:06:51.994Z"
   },
   {
    "duration": 20,
    "start_time": "2021-07-08T09:06:52.273Z"
   },
   {
    "duration": 246,
    "start_time": "2021-07-08T09:10:21.272Z"
   },
   {
    "duration": 84,
    "start_time": "2021-07-08T09:10:21.436Z"
   },
   {
    "duration": 7,
    "start_time": "2021-07-08T09:10:37.608Z"
   },
   {
    "duration": 189,
    "start_time": "2021-07-08T09:10:38.573Z"
   },
   {
    "duration": 185,
    "start_time": "2021-07-08T09:10:53.181Z"
   },
   {
    "duration": 11,
    "start_time": "2021-07-08T09:10:59.549Z"
   },
   {
    "duration": 42,
    "start_time": "2021-07-08T09:10:59.709Z"
   },
   {
    "duration": 12,
    "start_time": "2021-07-08T09:11:02.857Z"
   },
   {
    "duration": 28,
    "start_time": "2021-07-08T09:11:10.062Z"
   },
   {
    "duration": 249,
    "start_time": "2021-07-08T09:11:37.388Z"
   },
   {
    "duration": 232,
    "start_time": "2021-07-08T09:11:49.485Z"
   },
   {
    "duration": 453,
    "start_time": "2021-07-08T09:12:01.546Z"
   },
   {
    "duration": 440,
    "start_time": "2021-07-08T09:12:12.347Z"
   },
   {
    "duration": 213,
    "start_time": "2021-07-08T09:13:32.196Z"
   },
   {
    "duration": 172,
    "start_time": "2021-07-08T09:14:07.400Z"
   },
   {
    "duration": 185,
    "start_time": "2021-07-08T09:14:14.905Z"
   },
   {
    "duration": 209,
    "start_time": "2021-07-08T09:14:40.109Z"
   },
   {
    "duration": 201,
    "start_time": "2021-07-08T09:14:54.506Z"
   },
   {
    "duration": 622,
    "start_time": "2021-07-08T09:18:14.497Z"
   },
   {
    "duration": 220,
    "start_time": "2021-07-08T09:18:15.121Z"
   },
   {
    "duration": 79,
    "start_time": "2021-07-08T09:18:15.343Z"
   },
   {
    "duration": 4,
    "start_time": "2021-07-08T09:18:15.425Z"
   },
   {
    "duration": 24,
    "start_time": "2021-07-08T09:18:15.431Z"
   },
   {
    "duration": 8,
    "start_time": "2021-07-08T09:18:15.457Z"
   },
   {
    "duration": 16,
    "start_time": "2021-07-08T09:18:15.466Z"
   },
   {
    "duration": 5,
    "start_time": "2021-07-08T09:18:15.484Z"
   },
   {
    "duration": 10,
    "start_time": "2021-07-08T09:18:15.493Z"
   },
   {
    "duration": 8,
    "start_time": "2021-07-08T09:18:15.504Z"
   },
   {
    "duration": 7,
    "start_time": "2021-07-08T09:18:15.513Z"
   },
   {
    "duration": 26,
    "start_time": "2021-07-08T09:18:15.522Z"
   },
   {
    "duration": 49,
    "start_time": "2021-07-08T09:18:15.550Z"
   },
   {
    "duration": 21,
    "start_time": "2021-07-08T09:18:15.601Z"
   },
   {
    "duration": 8,
    "start_time": "2021-07-08T09:18:15.624Z"
   },
   {
    "duration": 3,
    "start_time": "2021-07-08T09:18:15.634Z"
   },
   {
    "duration": 8,
    "start_time": "2021-07-08T09:18:15.639Z"
   },
   {
    "duration": 45,
    "start_time": "2021-07-08T09:18:15.649Z"
   },
   {
    "duration": 13,
    "start_time": "2021-07-08T09:18:15.696Z"
   },
   {
    "duration": 10,
    "start_time": "2021-07-08T09:18:15.711Z"
   },
   {
    "duration": 64,
    "start_time": "2021-07-08T09:18:15.722Z"
   },
   {
    "duration": 19,
    "start_time": "2021-07-08T09:18:15.788Z"
   },
   {
    "duration": 9,
    "start_time": "2021-07-08T09:18:15.809Z"
   },
   {
    "duration": 9,
    "start_time": "2021-07-08T09:18:15.820Z"
   },
   {
    "duration": 18,
    "start_time": "2021-07-08T09:18:15.831Z"
   },
   {
    "duration": 43,
    "start_time": "2021-07-08T09:18:15.851Z"
   },
   {
    "duration": 12,
    "start_time": "2021-07-08T09:18:15.897Z"
   },
   {
    "duration": 219,
    "start_time": "2021-07-08T09:18:15.911Z"
   },
   {
    "duration": 8,
    "start_time": "2021-07-08T09:18:16.132Z"
   },
   {
    "duration": 199,
    "start_time": "2021-07-08T09:18:16.141Z"
   },
   {
    "duration": 18,
    "start_time": "2021-07-08T09:18:16.341Z"
   },
   {
    "duration": 24,
    "start_time": "2021-07-08T09:18:16.361Z"
   },
   {
    "duration": 24,
    "start_time": "2021-07-08T09:18:16.387Z"
   },
   {
    "duration": 211,
    "start_time": "2021-07-08T09:18:16.413Z"
   },
   {
    "duration": 18,
    "start_time": "2021-07-08T09:18:16.626Z"
   },
   {
    "duration": 596,
    "start_time": "2021-07-08T10:06:33.623Z"
   },
   {
    "duration": 181,
    "start_time": "2021-07-08T10:06:34.221Z"
   },
   {
    "duration": 176,
    "start_time": "2021-07-08T10:06:34.635Z"
   },
   {
    "duration": 239,
    "start_time": "2021-07-08T10:06:55.572Z"
   },
   {
    "duration": 6,
    "start_time": "2021-07-08T10:06:57.687Z"
   },
   {
    "duration": 4,
    "start_time": "2021-07-08T10:07:03.956Z"
   },
   {
    "duration": 4,
    "start_time": "2021-07-08T10:07:10.376Z"
   },
   {
    "duration": 4,
    "start_time": "2021-07-08T10:17:19.889Z"
   },
   {
    "duration": 3,
    "start_time": "2021-07-08T10:19:19.407Z"
   },
   {
    "duration": 197,
    "start_time": "2021-07-08T10:19:19.412Z"
   },
   {
    "duration": 127,
    "start_time": "2021-07-08T10:19:19.611Z"
   },
   {
    "duration": 4,
    "start_time": "2021-07-08T10:19:19.740Z"
   },
   {
    "duration": 27,
    "start_time": "2021-07-08T10:19:19.746Z"
   },
   {
    "duration": 7,
    "start_time": "2021-07-08T10:19:19.775Z"
   },
   {
    "duration": 30,
    "start_time": "2021-07-08T10:19:19.784Z"
   },
   {
    "duration": 7,
    "start_time": "2021-07-08T10:19:19.817Z"
   },
   {
    "duration": 26,
    "start_time": "2021-07-08T10:19:19.826Z"
   },
   {
    "duration": 18,
    "start_time": "2021-07-08T10:19:19.854Z"
   },
   {
    "duration": 14,
    "start_time": "2021-07-08T10:19:19.874Z"
   },
   {
    "duration": 48,
    "start_time": "2021-07-08T10:19:19.890Z"
   },
   {
    "duration": 17,
    "start_time": "2021-07-08T10:19:19.940Z"
   },
   {
    "duration": 38,
    "start_time": "2021-07-08T10:19:19.959Z"
   },
   {
    "duration": 8,
    "start_time": "2021-07-08T10:19:19.999Z"
   },
   {
    "duration": 15,
    "start_time": "2021-07-08T10:19:20.009Z"
   },
   {
    "duration": 22,
    "start_time": "2021-07-08T10:19:20.026Z"
   },
   {
    "duration": 10,
    "start_time": "2021-07-08T10:19:20.050Z"
   },
   {
    "duration": 10,
    "start_time": "2021-07-08T10:19:20.062Z"
   },
   {
    "duration": 20,
    "start_time": "2021-07-08T10:19:20.073Z"
   },
   {
    "duration": 29,
    "start_time": "2021-07-08T10:19:20.095Z"
   },
   {
    "duration": 17,
    "start_time": "2021-07-08T10:19:20.126Z"
   },
   {
    "duration": 40,
    "start_time": "2021-07-08T10:19:20.146Z"
   },
   {
    "duration": 15,
    "start_time": "2021-07-08T10:19:20.189Z"
   },
   {
    "duration": 19,
    "start_time": "2021-07-08T10:19:20.206Z"
   },
   {
    "duration": 10,
    "start_time": "2021-07-08T10:19:20.226Z"
   },
   {
    "duration": 11,
    "start_time": "2021-07-08T10:19:20.238Z"
   },
   {
    "duration": 297,
    "start_time": "2021-07-08T10:19:20.250Z"
   },
   {
    "duration": 6,
    "start_time": "2021-07-08T10:19:20.549Z"
   },
   {
    "duration": 191,
    "start_time": "2021-07-08T10:19:20.557Z"
   },
   {
    "duration": 19,
    "start_time": "2021-07-08T10:19:20.750Z"
   },
   {
    "duration": 20,
    "start_time": "2021-07-08T10:19:20.771Z"
   },
   {
    "duration": 15,
    "start_time": "2021-07-08T10:19:20.793Z"
   },
   {
    "duration": 222,
    "start_time": "2021-07-08T10:19:20.809Z"
   },
   {
    "duration": 20,
    "start_time": "2021-07-08T10:19:21.033Z"
   },
   {
    "duration": 27,
    "start_time": "2021-07-08T10:45:04.055Z"
   },
   {
    "duration": 8,
    "start_time": "2021-07-08T10:45:08.478Z"
   },
   {
    "duration": 8,
    "start_time": "2021-07-08T10:45:31.982Z"
   },
   {
    "duration": 10,
    "start_time": "2021-07-08T10:46:01.221Z"
   },
   {
    "duration": 17,
    "start_time": "2021-07-08T10:46:40.011Z"
   },
   {
    "duration": 193,
    "start_time": "2021-07-08T10:48:19.471Z"
   },
   {
    "duration": 225,
    "start_time": "2021-07-08T10:49:26.480Z"
   },
   {
    "duration": 204,
    "start_time": "2021-07-08T10:49:59.992Z"
   },
   {
    "duration": 435,
    "start_time": "2021-07-08T10:50:06.779Z"
   },
   {
    "duration": 199,
    "start_time": "2021-07-08T10:50:14.891Z"
   },
   {
    "duration": 204,
    "start_time": "2021-07-08T10:50:18.501Z"
   },
   {
    "duration": 244,
    "start_time": "2021-07-08T10:50:23.359Z"
   },
   {
    "duration": 192,
    "start_time": "2021-07-08T10:50:29.135Z"
   },
   {
    "duration": 218,
    "start_time": "2021-07-08T10:50:33.092Z"
   },
   {
    "duration": 207,
    "start_time": "2021-07-08T10:52:45.381Z"
   },
   {
    "duration": 5,
    "start_time": "2021-07-08T10:53:34.641Z"
   },
   {
    "duration": 196,
    "start_time": "2021-07-08T10:53:41.478Z"
   },
   {
    "duration": 43,
    "start_time": "2021-07-08T10:53:50.335Z"
   },
   {
    "duration": 32,
    "start_time": "2021-07-08T10:53:55.294Z"
   },
   {
    "duration": 55,
    "start_time": "2021-07-08T10:54:09.675Z"
   },
   {
    "duration": 16,
    "start_time": "2021-07-08T10:54:12.260Z"
   },
   {
    "duration": 15,
    "start_time": "2021-07-08T10:54:49.150Z"
   },
   {
    "duration": 20,
    "start_time": "2021-07-08T10:56:07.596Z"
   },
   {
    "duration": 16,
    "start_time": "2021-07-08T10:58:26.276Z"
   },
   {
    "duration": 22,
    "start_time": "2021-07-08T10:59:00.486Z"
   },
   {
    "duration": 18,
    "start_time": "2021-07-08T11:02:09.653Z"
   },
   {
    "duration": 10,
    "start_time": "2021-07-08T11:03:44.331Z"
   },
   {
    "duration": 10,
    "start_time": "2021-07-08T11:03:54.055Z"
   },
   {
    "duration": 12,
    "start_time": "2021-07-08T11:04:41.967Z"
   },
   {
    "duration": 24,
    "start_time": "2021-07-08T11:07:30.732Z"
   },
   {
    "duration": 6,
    "start_time": "2021-07-08T11:07:37.364Z"
   },
   {
    "duration": 16,
    "start_time": "2021-07-08T11:08:01.819Z"
   },
   {
    "duration": 17,
    "start_time": "2021-07-08T11:09:47.488Z"
   },
   {
    "duration": 246,
    "start_time": "2021-07-08T11:10:00.830Z"
   },
   {
    "duration": 18,
    "start_time": "2021-07-08T11:13:55.195Z"
   },
   {
    "duration": 204,
    "start_time": "2021-07-08T11:14:04.951Z"
   },
   {
    "duration": 19,
    "start_time": "2021-07-08T11:15:10.613Z"
   },
   {
    "duration": 680,
    "start_time": "2021-07-08T11:16:25.793Z"
   },
   {
    "duration": 451,
    "start_time": "2021-07-08T11:16:40.313Z"
   },
   {
    "duration": 469,
    "start_time": "2021-07-08T11:17:21.286Z"
   },
   {
    "duration": 20,
    "start_time": "2021-07-08T11:19:12.554Z"
   },
   {
    "duration": 35,
    "start_time": "2021-07-08T11:20:05.484Z"
   },
   {
    "duration": 53,
    "start_time": "2021-07-08T11:21:40.050Z"
   },
   {
    "duration": 13,
    "start_time": "2021-07-08T11:22:26.059Z"
   },
   {
    "duration": 19,
    "start_time": "2021-07-08T11:22:47.419Z"
   },
   {
    "duration": 25,
    "start_time": "2021-07-08T11:23:19.958Z"
   },
   {
    "duration": 29,
    "start_time": "2021-07-08T11:23:25.415Z"
   },
   {
    "duration": 10,
    "start_time": "2021-07-08T11:24:45.138Z"
   },
   {
    "duration": 19,
    "start_time": "2021-07-08T11:24:54.498Z"
   },
   {
    "duration": 12,
    "start_time": "2021-07-08T11:25:32.225Z"
   },
   {
    "duration": 19,
    "start_time": "2021-07-08T11:25:37.092Z"
   },
   {
    "duration": 17,
    "start_time": "2021-07-08T11:25:58.116Z"
   },
   {
    "duration": 15,
    "start_time": "2021-07-08T11:26:02.258Z"
   },
   {
    "duration": 8,
    "start_time": "2021-07-08T11:26:59.682Z"
   },
   {
    "duration": 184,
    "start_time": "2021-07-08T11:27:21.894Z"
   },
   {
    "duration": 8,
    "start_time": "2021-07-08T11:27:23.824Z"
   },
   {
    "duration": 202,
    "start_time": "2021-07-08T11:27:23.962Z"
   },
   {
    "duration": 360,
    "start_time": "2021-07-08T11:28:33.215Z"
   },
   {
    "duration": 231,
    "start_time": "2021-07-08T11:32:05.542Z"
   },
   {
    "duration": 607,
    "start_time": "2021-07-08T11:36:27.854Z"
   },
   {
    "duration": 241,
    "start_time": "2021-07-08T11:36:28.463Z"
   },
   {
    "duration": 67,
    "start_time": "2021-07-08T11:36:28.709Z"
   },
   {
    "duration": 5,
    "start_time": "2021-07-08T11:36:28.778Z"
   },
   {
    "duration": 32,
    "start_time": "2021-07-08T11:36:28.784Z"
   },
   {
    "duration": 11,
    "start_time": "2021-07-08T11:36:28.819Z"
   },
   {
    "duration": 20,
    "start_time": "2021-07-08T11:36:28.834Z"
   },
   {
    "duration": 36,
    "start_time": "2021-07-08T11:36:28.857Z"
   },
   {
    "duration": 16,
    "start_time": "2021-07-08T11:36:28.895Z"
   },
   {
    "duration": 14,
    "start_time": "2021-07-08T11:36:28.913Z"
   },
   {
    "duration": 9,
    "start_time": "2021-07-08T11:36:28.930Z"
   },
   {
    "duration": 55,
    "start_time": "2021-07-08T11:36:28.941Z"
   },
   {
    "duration": 27,
    "start_time": "2021-07-08T11:36:28.999Z"
   },
   {
    "duration": 30,
    "start_time": "2021-07-08T11:36:29.028Z"
   },
   {
    "duration": 31,
    "start_time": "2021-07-08T11:36:29.060Z"
   },
   {
    "duration": 3,
    "start_time": "2021-07-08T11:36:29.093Z"
   },
   {
    "duration": 12,
    "start_time": "2021-07-08T11:36:29.099Z"
   },
   {
    "duration": 11,
    "start_time": "2021-07-08T11:36:29.112Z"
   },
   {
    "duration": 12,
    "start_time": "2021-07-08T11:36:29.125Z"
   },
   {
    "duration": 9,
    "start_time": "2021-07-08T11:36:29.139Z"
   },
   {
    "duration": 31,
    "start_time": "2021-07-08T11:36:29.191Z"
   },
   {
    "duration": 17,
    "start_time": "2021-07-08T11:36:29.226Z"
   },
   {
    "duration": 7,
    "start_time": "2021-07-08T11:36:29.245Z"
   },
   {
    "duration": 10,
    "start_time": "2021-07-08T11:36:29.254Z"
   },
   {
    "duration": 30,
    "start_time": "2021-07-08T11:36:29.292Z"
   },
   {
    "duration": 11,
    "start_time": "2021-07-08T11:36:29.324Z"
   },
   {
    "duration": 11,
    "start_time": "2021-07-08T11:36:29.337Z"
   },
   {
    "duration": 230,
    "start_time": "2021-07-08T11:36:29.349Z"
   },
   {
    "duration": 13,
    "start_time": "2021-07-08T11:36:29.588Z"
   },
   {
    "duration": 205,
    "start_time": "2021-07-08T11:36:29.603Z"
   },
   {
    "duration": 20,
    "start_time": "2021-07-08T11:36:29.810Z"
   },
   {
    "duration": 9,
    "start_time": "2021-07-08T11:36:29.832Z"
   },
   {
    "duration": 16,
    "start_time": "2021-07-08T11:36:29.843Z"
   },
   {
    "duration": 283,
    "start_time": "2021-07-08T11:36:29.861Z"
   },
   {
    "duration": 50,
    "start_time": "2021-07-08T11:36:30.146Z"
   },
   {
    "duration": 14,
    "start_time": "2021-07-08T11:36:30.198Z"
   },
   {
    "duration": 11,
    "start_time": "2021-07-08T11:36:30.214Z"
   },
   {
    "duration": 245,
    "start_time": "2021-07-08T11:36:30.227Z"
   },
   {
    "duration": 439,
    "start_time": "2021-07-08T11:36:30.474Z"
   },
   {
    "duration": 210,
    "start_time": "2021-07-08T11:36:30.915Z"
   },
   {
    "duration": 15,
    "start_time": "2021-07-08T11:36:31.127Z"
   },
   {
    "duration": 17,
    "start_time": "2021-07-08T11:38:20.451Z"
   },
   {
    "duration": 642,
    "start_time": "2021-07-08T11:46:17.881Z"
   },
   {
    "duration": 210,
    "start_time": "2021-07-08T11:46:18.525Z"
   },
   {
    "duration": 104,
    "start_time": "2021-07-08T11:46:18.741Z"
   },
   {
    "duration": 8,
    "start_time": "2021-07-08T11:46:18.847Z"
   },
   {
    "duration": 25,
    "start_time": "2021-07-08T11:46:18.857Z"
   },
   {
    "duration": 14,
    "start_time": "2021-07-08T11:46:18.884Z"
   },
   {
    "duration": 22,
    "start_time": "2021-07-08T11:46:18.900Z"
   },
   {
    "duration": 5,
    "start_time": "2021-07-08T11:46:18.924Z"
   },
   {
    "duration": 13,
    "start_time": "2021-07-08T11:46:18.931Z"
   },
   {
    "duration": 45,
    "start_time": "2021-07-08T11:46:18.946Z"
   },
   {
    "duration": 12,
    "start_time": "2021-07-08T11:46:18.993Z"
   },
   {
    "duration": 38,
    "start_time": "2021-07-08T11:46:19.006Z"
   },
   {
    "duration": 50,
    "start_time": "2021-07-08T11:46:19.046Z"
   },
   {
    "duration": 29,
    "start_time": "2021-07-08T11:46:19.099Z"
   },
   {
    "duration": 7,
    "start_time": "2021-07-08T11:46:19.130Z"
   },
   {
    "duration": 3,
    "start_time": "2021-07-08T11:46:19.139Z"
   },
   {
    "duration": 11,
    "start_time": "2021-07-08T11:46:19.144Z"
   },
   {
    "duration": 40,
    "start_time": "2021-07-08T11:46:19.157Z"
   },
   {
    "duration": 15,
    "start_time": "2021-07-08T11:46:19.199Z"
   },
   {
    "duration": 10,
    "start_time": "2021-07-08T11:46:19.217Z"
   },
   {
    "duration": 68,
    "start_time": "2021-07-08T11:46:19.230Z"
   },
   {
    "duration": 17,
    "start_time": "2021-07-08T11:46:19.301Z"
   },
   {
    "duration": 7,
    "start_time": "2021-07-08T11:46:19.321Z"
   },
   {
    "duration": 11,
    "start_time": "2021-07-08T11:46:19.330Z"
   },
   {
    "duration": 59,
    "start_time": "2021-07-08T11:46:19.343Z"
   },
   {
    "duration": 17,
    "start_time": "2021-07-08T11:46:19.405Z"
   },
   {
    "duration": 16,
    "start_time": "2021-07-08T11:46:19.424Z"
   },
   {
    "duration": 252,
    "start_time": "2021-07-08T11:46:19.443Z"
   },
   {
    "duration": 9,
    "start_time": "2021-07-08T11:46:19.697Z"
   },
   {
    "duration": 224,
    "start_time": "2021-07-08T11:46:19.708Z"
   },
   {
    "duration": 21,
    "start_time": "2021-07-08T11:46:19.934Z"
   },
   {
    "duration": 9,
    "start_time": "2021-07-08T11:46:19.956Z"
   },
   {
    "duration": 32,
    "start_time": "2021-07-08T11:46:19.967Z"
   },
   {
    "duration": 288,
    "start_time": "2021-07-08T11:46:20.004Z"
   },
   {
    "duration": 23,
    "start_time": "2021-07-08T11:46:20.300Z"
   },
   {
    "duration": 11,
    "start_time": "2021-07-08T11:46:20.325Z"
   },
   {
    "duration": 11,
    "start_time": "2021-07-08T11:46:20.339Z"
   },
   {
    "duration": 259,
    "start_time": "2021-07-08T11:46:20.352Z"
   },
   {
    "duration": 438,
    "start_time": "2021-07-08T11:46:20.613Z"
   },
   {
    "duration": 207,
    "start_time": "2021-07-08T11:46:21.054Z"
   },
   {
    "duration": 27,
    "start_time": "2021-07-08T11:46:21.262Z"
   },
   {
    "duration": 19,
    "start_time": "2021-07-08T11:46:21.291Z"
   },
   {
    "duration": 820,
    "start_time": "2021-07-08T11:49:01.655Z"
   },
   {
    "duration": 372,
    "start_time": "2021-07-08T11:49:02.478Z"
   },
   {
    "duration": 98,
    "start_time": "2021-07-08T11:49:02.853Z"
   },
   {
    "duration": 6,
    "start_time": "2021-07-08T11:49:02.953Z"
   },
   {
    "duration": 39,
    "start_time": "2021-07-08T11:49:02.960Z"
   },
   {
    "duration": 9,
    "start_time": "2021-07-08T11:49:03.003Z"
   },
   {
    "duration": 23,
    "start_time": "2021-07-08T11:49:03.014Z"
   },
   {
    "duration": 6,
    "start_time": "2021-07-08T11:49:03.041Z"
   },
   {
    "duration": 20,
    "start_time": "2021-07-08T11:49:03.049Z"
   },
   {
    "duration": 18,
    "start_time": "2021-07-08T11:49:03.084Z"
   },
   {
    "duration": 14,
    "start_time": "2021-07-08T11:49:03.104Z"
   },
   {
    "duration": 39,
    "start_time": "2021-07-08T11:49:03.119Z"
   },
   {
    "duration": 38,
    "start_time": "2021-07-08T11:49:03.160Z"
   },
   {
    "duration": 26,
    "start_time": "2021-07-08T11:49:03.200Z"
   },
   {
    "duration": 7,
    "start_time": "2021-07-08T11:49:03.227Z"
   },
   {
    "duration": 4,
    "start_time": "2021-07-08T11:49:03.236Z"
   },
   {
    "duration": 15,
    "start_time": "2021-07-08T11:49:03.243Z"
   },
   {
    "duration": 21,
    "start_time": "2021-07-08T11:49:03.285Z"
   },
   {
    "duration": 17,
    "start_time": "2021-07-08T11:49:03.309Z"
   },
   {
    "duration": 10,
    "start_time": "2021-07-08T11:49:03.328Z"
   },
   {
    "duration": 65,
    "start_time": "2021-07-08T11:49:03.340Z"
   },
   {
    "duration": 18,
    "start_time": "2021-07-08T11:49:03.407Z"
   },
   {
    "duration": 8,
    "start_time": "2021-07-08T11:49:03.428Z"
   },
   {
    "duration": 15,
    "start_time": "2021-07-08T11:49:03.438Z"
   },
   {
    "duration": 40,
    "start_time": "2021-07-08T11:49:03.455Z"
   },
   {
    "duration": 12,
    "start_time": "2021-07-08T11:49:03.497Z"
   },
   {
    "duration": 29,
    "start_time": "2021-07-08T11:49:03.511Z"
   },
   {
    "duration": 285,
    "start_time": "2021-07-08T11:49:03.542Z"
   },
   {
    "duration": 8,
    "start_time": "2021-07-08T11:49:03.829Z"
   },
   {
    "duration": 227,
    "start_time": "2021-07-08T11:49:03.838Z"
   },
   {
    "duration": 40,
    "start_time": "2021-07-08T11:49:04.066Z"
   },
   {
    "duration": 10,
    "start_time": "2021-07-08T11:49:04.108Z"
   },
   {
    "duration": 26,
    "start_time": "2021-07-08T11:49:04.121Z"
   },
   {
    "duration": 290,
    "start_time": "2021-07-08T11:49:04.149Z"
   },
   {
    "duration": 26,
    "start_time": "2021-07-08T11:49:04.441Z"
   },
   {
    "duration": 31,
    "start_time": "2021-07-08T11:49:04.470Z"
   },
   {
    "duration": 14,
    "start_time": "2021-07-08T11:49:04.503Z"
   },
   {
    "duration": 259,
    "start_time": "2021-07-08T11:49:04.521Z"
   },
   {
    "duration": 480,
    "start_time": "2021-07-08T11:49:04.782Z"
   },
   {
    "duration": 225,
    "start_time": "2021-07-08T11:49:05.264Z"
   },
   {
    "duration": 22,
    "start_time": "2021-07-08T11:49:05.491Z"
   },
   {
    "duration": 24,
    "start_time": "2021-07-08T11:49:05.515Z"
   },
   {
    "duration": 634,
    "start_time": "2021-07-08T11:52:24.960Z"
   },
   {
    "duration": 199,
    "start_time": "2021-07-08T11:52:25.599Z"
   },
   {
    "duration": 106,
    "start_time": "2021-07-08T11:52:25.803Z"
   },
   {
    "duration": 7,
    "start_time": "2021-07-08T11:52:25.911Z"
   },
   {
    "duration": 29,
    "start_time": "2021-07-08T11:52:25.920Z"
   },
   {
    "duration": 7,
    "start_time": "2021-07-08T11:52:25.951Z"
   },
   {
    "duration": 26,
    "start_time": "2021-07-08T11:52:25.961Z"
   },
   {
    "duration": 11,
    "start_time": "2021-07-08T11:52:25.990Z"
   },
   {
    "duration": 29,
    "start_time": "2021-07-08T11:52:26.005Z"
   },
   {
    "duration": 9,
    "start_time": "2021-07-08T11:52:26.036Z"
   },
   {
    "duration": 8,
    "start_time": "2021-07-08T11:52:26.047Z"
   },
   {
    "duration": 63,
    "start_time": "2021-07-08T11:52:26.057Z"
   },
   {
    "duration": 17,
    "start_time": "2021-07-08T11:52:26.122Z"
   },
   {
    "duration": 43,
    "start_time": "2021-07-08T11:52:26.142Z"
   },
   {
    "duration": 17,
    "start_time": "2021-07-08T11:52:26.187Z"
   },
   {
    "duration": 5,
    "start_time": "2021-07-08T11:52:26.206Z"
   },
   {
    "duration": 12,
    "start_time": "2021-07-08T11:52:26.212Z"
   },
   {
    "duration": 11,
    "start_time": "2021-07-08T11:52:26.226Z"
   },
   {
    "duration": 12,
    "start_time": "2021-07-08T11:52:26.238Z"
   },
   {
    "duration": 38,
    "start_time": "2021-07-08T11:52:26.252Z"
   },
   {
    "duration": 40,
    "start_time": "2021-07-08T11:52:26.292Z"
   },
   {
    "duration": 17,
    "start_time": "2021-07-08T11:52:26.336Z"
   },
   {
    "duration": 39,
    "start_time": "2021-07-08T11:52:26.355Z"
   },
   {
    "duration": 11,
    "start_time": "2021-07-08T11:52:26.395Z"
   },
   {
    "duration": 23,
    "start_time": "2021-07-08T11:52:26.408Z"
   },
   {
    "duration": 12,
    "start_time": "2021-07-08T11:52:26.432Z"
   },
   {
    "duration": 41,
    "start_time": "2021-07-08T11:52:26.446Z"
   },
   {
    "duration": 215,
    "start_time": "2021-07-08T11:52:26.493Z"
   },
   {
    "duration": 8,
    "start_time": "2021-07-08T11:52:26.710Z"
   },
   {
    "duration": 228,
    "start_time": "2021-07-08T11:52:26.720Z"
   },
   {
    "duration": 18,
    "start_time": "2021-07-08T11:52:26.950Z"
   },
   {
    "duration": 35,
    "start_time": "2021-07-08T11:52:26.969Z"
   },
   {
    "duration": 23,
    "start_time": "2021-07-08T11:52:27.006Z"
   },
   {
    "duration": 258,
    "start_time": "2021-07-08T11:52:27.030Z"
   },
   {
    "duration": 24,
    "start_time": "2021-07-08T11:52:27.290Z"
   },
   {
    "duration": 12,
    "start_time": "2021-07-08T11:52:27.316Z"
   },
   {
    "duration": 10,
    "start_time": "2021-07-08T11:52:27.329Z"
   },
   {
    "duration": 298,
    "start_time": "2021-07-08T11:52:27.341Z"
   },
   {
    "duration": 436,
    "start_time": "2021-07-08T11:52:27.641Z"
   },
   {
    "duration": 216,
    "start_time": "2021-07-08T11:52:28.079Z"
   },
   {
    "duration": 20,
    "start_time": "2021-07-08T11:52:28.297Z"
   },
   {
    "duration": 17,
    "start_time": "2021-07-08T11:52:28.319Z"
   }
  ],
  "colab": {
   "name": "DA+. Сборный проект 1. Шаблон (1).ipynb",
   "provenance": []
  },
  "kernelspec": {
   "display_name": "Python 3 (ipykernel)",
   "language": "python",
   "name": "python3"
  },
  "language_info": {
   "codemirror_mode": {
    "name": "ipython",
    "version": 3
   },
   "file_extension": ".py",
   "mimetype": "text/x-python",
   "name": "python",
   "nbconvert_exporter": "python",
   "pygments_lexer": "ipython3",
   "version": "3.9.5"
  },
  "toc": {
   "base_numbering": 1,
   "nav_menu": {},
   "number_sections": true,
   "sideBar": true,
   "skip_h1_title": true,
   "title_cell": "Table of Contents",
   "title_sidebar": "Contents",
   "toc_cell": false,
   "toc_position": {
    "height": "calc(100% - 180px)",
    "left": "10px",
    "top": "150px",
    "width": "375.391px"
   },
   "toc_section_display": true,
   "toc_window_display": false
  }
 },
 "nbformat": 4,
 "nbformat_minor": 1
}