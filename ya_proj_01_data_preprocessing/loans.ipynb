{
 "nbformat": 4,
 "nbformat_minor": 0,
 "metadata": {
  "colab": {
   "name": "yandex_proj1_loan.ipynb",
   "provenance": [],
   "collapsed_sections": [],
   "toc_visible": true
  },
  "kernelspec": {
   "name": "python3",
   "display_name": "Python 3"
  },
  "language_info": {
   "name": "python"
  }
 },
 "cells": [
  {
   "cell_type": "markdown",
   "metadata": {
    "id": "qDjMjdXUKfHK"
   },
   "source": [
    "# Исследование надёжности заёмщиков\n",
    "\n",
    "Заказчик — кредитный отдел банка. Нужно разобраться, влияет ли семейное положение и количество детей клиента на факт погашения кредита в срок. Входные данные от банка — статистика о платёжеспособности клиентов.\n",
    "\n",
    "Результаты исследования будут учтены при построении модели **кредитного скоринга** — специальной системы, которая оценивает способность потенциального заёмщика вернуть кредит банку."
   ]
  },
  {
   "cell_type": "markdown",
   "metadata": {
    "id": "Bz9UXxGPLSth"
   },
   "source": [
    "## Предпросмотр"
   ]
  },
  {
   "cell_type": "markdown",
   "metadata": {
    "id": "X_Jm9yi4Lbc4"
   },
   "source": [
    "**Imports**"
   ]
  },
  {
   "cell_type": "code",
   "metadata": {
    "id": "ng9miYjELYGy"
   },
   "source": [
    "import pandas as pd\n",
    "from pymystem3 import Mystem\n",
    "from collections import Counter"
   ],
   "execution_count": 1,
   "outputs": []
  },
  {
   "cell_type": "code",
   "execution_count": 2,
   "outputs": [],
   "source": [
    "pd.set_option('display.float_format', lambda x: '%.1f' % x)"
   ],
   "metadata": {
    "collapsed": false,
    "pycharm": {
     "name": "#%%\n"
    }
   }
  },
  {
   "cell_type": "markdown",
   "metadata": {
    "id": "nHVBesGjLtOQ"
   },
   "source": [
    "**Read data**"
   ]
  },
  {
   "cell_type": "code",
   "metadata": {
    "id": "OgpncXLjLYiu"
   },
   "source": [
    "df = pd.read_csv('https://code.s3.yandex.net/datasets/data.csv')"
   ],
   "execution_count": 3,
   "outputs": []
  },
  {
   "cell_type": "markdown",
   "metadata": {
    "id": "BDhmMyBvL0gi"
   },
   "source": [
    "**Info**"
   ]
  },
  {
   "cell_type": "code",
   "metadata": {
    "colab": {
     "base_uri": "https://localhost:8080/"
    },
    "id": "l0QXOZMwLrDN",
    "outputId": "63df6adb-d79a-47eb-faba-491fbcbb0a9b"
   },
   "source": [
    "df.info()\n"
   ],
   "execution_count": 4,
   "outputs": [
    {
     "name": "stdout",
     "output_type": "stream",
     "text": [
      "<class 'pandas.core.frame.DataFrame'>\n",
      "RangeIndex: 21525 entries, 0 to 21524\n",
      "Data columns (total 12 columns):\n",
      " #   Column            Non-Null Count  Dtype  \n",
      "---  ------            --------------  -----  \n",
      " 0   children          21525 non-null  int64  \n",
      " 1   days_employed     19351 non-null  float64\n",
      " 2   dob_years         21525 non-null  int64  \n",
      " 3   education         21525 non-null  object \n",
      " 4   education_id      21525 non-null  int64  \n",
      " 5   family_status     21525 non-null  object \n",
      " 6   family_status_id  21525 non-null  int64  \n",
      " 7   gender            21525 non-null  object \n",
      " 8   income_type       21525 non-null  object \n",
      " 9   debt              21525 non-null  int64  \n",
      " 10  total_income      19351 non-null  float64\n",
      " 11  purpose           21525 non-null  object \n",
      "dtypes: float64(2), int64(5), object(5)\n",
      "memory usage: 2.0+ MB\n"
     ]
    }
   ]
  },
  {
   "cell_type": "code",
   "metadata": {
    "colab": {
     "base_uri": "https://localhost:8080/",
     "height": 204
    },
    "id": "2iVIvJFmLFFE",
    "outputId": "163ce2dc-a81a-4e75-853f-07cb4408a2ff"
   },
   "source": [
    "df.head()"
   ],
   "execution_count": 5,
   "outputs": [
    {
     "data": {
      "text/plain": "   children  days_employed  dob_years education  education_id  \\\n0         1        -8437.7         42    высшее             0   \n1         1        -4024.8         36   среднее             1   \n2         0        -5623.4         33   Среднее             1   \n3         3        -4124.7         32   среднее             1   \n4         0       340266.1         53   среднее             1   \n\n      family_status  family_status_id gender income_type  debt  total_income  \\\n0   женат / замужем                 0      F   сотрудник     0      253875.6   \n1   женат / замужем                 0      F   сотрудник     0      112080.0   \n2   женат / замужем                 0      M   сотрудник     0      145886.0   \n3   женат / замужем                 0      M   сотрудник     0      267628.6   \n4  гражданский брак                 1      F   пенсионер     0      158616.1   \n\n                      purpose  \n0               покупка жилья  \n1     приобретение автомобиля  \n2               покупка жилья  \n3  дополнительное образование  \n4             сыграть свадьбу  ",
      "text/html": "<div>\n<style scoped>\n    .dataframe tbody tr th:only-of-type {\n        vertical-align: middle;\n    }\n\n    .dataframe tbody tr th {\n        vertical-align: top;\n    }\n\n    .dataframe thead th {\n        text-align: right;\n    }\n</style>\n<table border=\"1\" class=\"dataframe\">\n  <thead>\n    <tr style=\"text-align: right;\">\n      <th></th>\n      <th>children</th>\n      <th>days_employed</th>\n      <th>dob_years</th>\n      <th>education</th>\n      <th>education_id</th>\n      <th>family_status</th>\n      <th>family_status_id</th>\n      <th>gender</th>\n      <th>income_type</th>\n      <th>debt</th>\n      <th>total_income</th>\n      <th>purpose</th>\n    </tr>\n  </thead>\n  <tbody>\n    <tr>\n      <th>0</th>\n      <td>1</td>\n      <td>-8437.7</td>\n      <td>42</td>\n      <td>высшее</td>\n      <td>0</td>\n      <td>женат / замужем</td>\n      <td>0</td>\n      <td>F</td>\n      <td>сотрудник</td>\n      <td>0</td>\n      <td>253875.6</td>\n      <td>покупка жилья</td>\n    </tr>\n    <tr>\n      <th>1</th>\n      <td>1</td>\n      <td>-4024.8</td>\n      <td>36</td>\n      <td>среднее</td>\n      <td>1</td>\n      <td>женат / замужем</td>\n      <td>0</td>\n      <td>F</td>\n      <td>сотрудник</td>\n      <td>0</td>\n      <td>112080.0</td>\n      <td>приобретение автомобиля</td>\n    </tr>\n    <tr>\n      <th>2</th>\n      <td>0</td>\n      <td>-5623.4</td>\n      <td>33</td>\n      <td>Среднее</td>\n      <td>1</td>\n      <td>женат / замужем</td>\n      <td>0</td>\n      <td>M</td>\n      <td>сотрудник</td>\n      <td>0</td>\n      <td>145886.0</td>\n      <td>покупка жилья</td>\n    </tr>\n    <tr>\n      <th>3</th>\n      <td>3</td>\n      <td>-4124.7</td>\n      <td>32</td>\n      <td>среднее</td>\n      <td>1</td>\n      <td>женат / замужем</td>\n      <td>0</td>\n      <td>M</td>\n      <td>сотрудник</td>\n      <td>0</td>\n      <td>267628.6</td>\n      <td>дополнительное образование</td>\n    </tr>\n    <tr>\n      <th>4</th>\n      <td>0</td>\n      <td>340266.1</td>\n      <td>53</td>\n      <td>среднее</td>\n      <td>1</td>\n      <td>гражданский брак</td>\n      <td>1</td>\n      <td>F</td>\n      <td>пенсионер</td>\n      <td>0</td>\n      <td>158616.1</td>\n      <td>сыграть свадьбу</td>\n    </tr>\n  </tbody>\n</table>\n</div>"
     },
     "execution_count": 5,
     "metadata": {},
     "output_type": "execute_result"
    }
   ]
  },
  {
   "cell_type": "code",
   "metadata": {
    "colab": {
     "base_uri": "https://localhost:8080/",
     "height": 204
    },
    "id": "fDDaF06LKzw-",
    "outputId": "c2a0df53-ff42-473b-daf4-b7ff5e7a9cb2"
   },
   "source": [
    "df.tail()"
   ],
   "execution_count": 6,
   "outputs": [
    {
     "data": {
      "text/plain": "       children  days_employed  dob_years education  education_id  \\\n21520         1        -4529.3         43   среднее             1   \n21521         0       343937.4         67   среднее             1   \n21522         1        -2113.3         38   среднее             1   \n21523         3        -3112.5         38   среднее             1   \n21524         2        -1984.5         40   среднее             1   \n\n          family_status  family_status_id gender income_type  debt  \\\n21520  гражданский брак                 1      F   компаньон     0   \n21521   женат / замужем                 0      F   пенсионер     0   \n21522  гражданский брак                 1      M   сотрудник     1   \n21523   женат / замужем                 0      M   сотрудник     1   \n21524   женат / замужем                 0      F   сотрудник     0   \n\n       total_income                       purpose  \n21520      224791.9             операции с жильем  \n21521      155999.8          сделка с автомобилем  \n21522       89672.6                  недвижимость  \n21523      244093.1  на покупку своего автомобиля  \n21524       82047.4         на покупку автомобиля  ",
      "text/html": "<div>\n<style scoped>\n    .dataframe tbody tr th:only-of-type {\n        vertical-align: middle;\n    }\n\n    .dataframe tbody tr th {\n        vertical-align: top;\n    }\n\n    .dataframe thead th {\n        text-align: right;\n    }\n</style>\n<table border=\"1\" class=\"dataframe\">\n  <thead>\n    <tr style=\"text-align: right;\">\n      <th></th>\n      <th>children</th>\n      <th>days_employed</th>\n      <th>dob_years</th>\n      <th>education</th>\n      <th>education_id</th>\n      <th>family_status</th>\n      <th>family_status_id</th>\n      <th>gender</th>\n      <th>income_type</th>\n      <th>debt</th>\n      <th>total_income</th>\n      <th>purpose</th>\n    </tr>\n  </thead>\n  <tbody>\n    <tr>\n      <th>21520</th>\n      <td>1</td>\n      <td>-4529.3</td>\n      <td>43</td>\n      <td>среднее</td>\n      <td>1</td>\n      <td>гражданский брак</td>\n      <td>1</td>\n      <td>F</td>\n      <td>компаньон</td>\n      <td>0</td>\n      <td>224791.9</td>\n      <td>операции с жильем</td>\n    </tr>\n    <tr>\n      <th>21521</th>\n      <td>0</td>\n      <td>343937.4</td>\n      <td>67</td>\n      <td>среднее</td>\n      <td>1</td>\n      <td>женат / замужем</td>\n      <td>0</td>\n      <td>F</td>\n      <td>пенсионер</td>\n      <td>0</td>\n      <td>155999.8</td>\n      <td>сделка с автомобилем</td>\n    </tr>\n    <tr>\n      <th>21522</th>\n      <td>1</td>\n      <td>-2113.3</td>\n      <td>38</td>\n      <td>среднее</td>\n      <td>1</td>\n      <td>гражданский брак</td>\n      <td>1</td>\n      <td>M</td>\n      <td>сотрудник</td>\n      <td>1</td>\n      <td>89672.6</td>\n      <td>недвижимость</td>\n    </tr>\n    <tr>\n      <th>21523</th>\n      <td>3</td>\n      <td>-3112.5</td>\n      <td>38</td>\n      <td>среднее</td>\n      <td>1</td>\n      <td>женат / замужем</td>\n      <td>0</td>\n      <td>M</td>\n      <td>сотрудник</td>\n      <td>1</td>\n      <td>244093.1</td>\n      <td>на покупку своего автомобиля</td>\n    </tr>\n    <tr>\n      <th>21524</th>\n      <td>2</td>\n      <td>-1984.5</td>\n      <td>40</td>\n      <td>среднее</td>\n      <td>1</td>\n      <td>женат / замужем</td>\n      <td>0</td>\n      <td>F</td>\n      <td>сотрудник</td>\n      <td>0</td>\n      <td>82047.4</td>\n      <td>на покупку автомобиля</td>\n    </tr>\n  </tbody>\n</table>\n</div>"
     },
     "execution_count": 6,
     "metadata": {},
     "output_type": "execute_result"
    }
   ]
  },
  {
   "cell_type": "code",
   "metadata": {
    "colab": {
     "base_uri": "https://localhost:8080/"
    },
    "id": "UqtCRUmQMYeL",
    "outputId": "e86d6af0-9a99-4747-f103-c4754b3acf29"
   },
   "source": [
    "df.isna().sum()"
   ],
   "execution_count": 7,
   "outputs": [
    {
     "data": {
      "text/plain": "children               0\ndays_employed       2174\ndob_years              0\neducation              0\neducation_id           0\nfamily_status          0\nfamily_status_id       0\ngender                 0\nincome_type            0\ndebt                   0\ntotal_income        2174\npurpose                0\ndtype: int64"
     },
     "execution_count": 7,
     "metadata": {},
     "output_type": "execute_result"
    }
   ]
  },
  {
   "cell_type": "markdown",
   "metadata": {
    "id": "koFlmelGMs7-"
   },
   "source": [
    "Имеются пропуски в столбцах days_employed, total_income"
   ]
  },
  {
   "cell_type": "code",
   "metadata": {
    "colab": {
     "base_uri": "https://localhost:8080/"
    },
    "id": "-VFxFxq8M5ES",
    "outputId": "f162724d-8592-403f-c914-77e19e2d9843"
   },
   "source": [
    "unique_columns=['education','family_status','gender','income_type','purpose']\n",
    "for column in unique_columns:\n",
    "  print(column,'---',df[column].unique())"
   ],
   "execution_count": 8,
   "outputs": [
    {
     "name": "stdout",
     "output_type": "stream",
     "text": [
      "education --- ['высшее' 'среднее' 'Среднее' 'СРЕДНЕЕ' 'ВЫСШЕЕ' 'неоконченное высшее'\n",
      " 'начальное' 'Высшее' 'НЕОКОНЧЕННОЕ ВЫСШЕЕ' 'Неоконченное высшее'\n",
      " 'НАЧАЛЬНОЕ' 'Начальное' 'Ученая степень' 'УЧЕНАЯ СТЕПЕНЬ'\n",
      " 'ученая степень']\n",
      "family_status --- ['женат / замужем' 'гражданский брак' 'вдовец / вдова' 'в разводе'\n",
      " 'Не женат / не замужем']\n",
      "gender --- ['F' 'M' 'XNA']\n",
      "income_type --- ['сотрудник' 'пенсионер' 'компаньон' 'госслужащий' 'безработный'\n",
      " 'предприниматель' 'студент' 'в декрете']\n",
      "purpose --- ['покупка жилья' 'приобретение автомобиля' 'дополнительное образование'\n",
      " 'сыграть свадьбу' 'операции с жильем' 'образование'\n",
      " 'на проведение свадьбы' 'покупка жилья для семьи' 'покупка недвижимости'\n",
      " 'покупка коммерческой недвижимости' 'покупка жилой недвижимости'\n",
      " 'строительство собственной недвижимости' 'недвижимость'\n",
      " 'строительство недвижимости' 'на покупку подержанного автомобиля'\n",
      " 'на покупку своего автомобиля' 'операции с коммерческой недвижимостью'\n",
      " 'строительство жилой недвижимости' 'жилье'\n",
      " 'операции со своей недвижимостью' 'автомобили' 'заняться образованием'\n",
      " 'сделка с подержанным автомобилем' 'получение образования' 'автомобиль'\n",
      " 'свадьба' 'получение дополнительного образования' 'покупка своего жилья'\n",
      " 'операции с недвижимостью' 'получение высшего образования'\n",
      " 'свой автомобиль' 'сделка с автомобилем' 'профильное образование'\n",
      " 'высшее образование' 'покупка жилья для сдачи' 'на покупку автомобиля'\n",
      " 'ремонт жилью' 'заняться высшим образованием']\n"
     ]
    }
   ]
  },
  {
   "cell_type": "code",
   "metadata": {
    "colab": {
     "base_uri": "https://localhost:8080/",
     "height": 297
    },
    "id": "LPX0QYuoPXHo",
    "outputId": "190432a5-8cdf-4d82-861c-f37c6f07f471"
   },
   "source": [
    "df.describe()"
   ],
   "execution_count": 9,
   "outputs": [
    {
     "data": {
      "text/plain": "       children  days_employed  dob_years  education_id  family_status_id  \\\ncount   21525.0        19351.0    21525.0       21525.0           21525.0   \nmean        0.5        63046.5       43.3           0.8               1.0   \nstd         1.4       140827.3       12.6           0.5               1.4   \nmin        -1.0       -18388.9        0.0           0.0               0.0   \n25%         0.0        -2747.4       33.0           1.0               0.0   \n50%         0.0        -1203.4       42.0           1.0               0.0   \n75%         1.0         -291.1       53.0           1.0               1.0   \nmax        20.0       401755.4       75.0           4.0               4.0   \n\n         debt  total_income  \ncount 21525.0       19351.0  \nmean      0.1      167422.3  \nstd       0.3      102971.6  \nmin       0.0       20667.3  \n25%       0.0      103053.2  \n50%       0.0      145017.9  \n75%       0.0      203435.1  \nmax       1.0     2265604.0  ",
      "text/html": "<div>\n<style scoped>\n    .dataframe tbody tr th:only-of-type {\n        vertical-align: middle;\n    }\n\n    .dataframe tbody tr th {\n        vertical-align: top;\n    }\n\n    .dataframe thead th {\n        text-align: right;\n    }\n</style>\n<table border=\"1\" class=\"dataframe\">\n  <thead>\n    <tr style=\"text-align: right;\">\n      <th></th>\n      <th>children</th>\n      <th>days_employed</th>\n      <th>dob_years</th>\n      <th>education_id</th>\n      <th>family_status_id</th>\n      <th>debt</th>\n      <th>total_income</th>\n    </tr>\n  </thead>\n  <tbody>\n    <tr>\n      <th>count</th>\n      <td>21525.0</td>\n      <td>19351.0</td>\n      <td>21525.0</td>\n      <td>21525.0</td>\n      <td>21525.0</td>\n      <td>21525.0</td>\n      <td>19351.0</td>\n    </tr>\n    <tr>\n      <th>mean</th>\n      <td>0.5</td>\n      <td>63046.5</td>\n      <td>43.3</td>\n      <td>0.8</td>\n      <td>1.0</td>\n      <td>0.1</td>\n      <td>167422.3</td>\n    </tr>\n    <tr>\n      <th>std</th>\n      <td>1.4</td>\n      <td>140827.3</td>\n      <td>12.6</td>\n      <td>0.5</td>\n      <td>1.4</td>\n      <td>0.3</td>\n      <td>102971.6</td>\n    </tr>\n    <tr>\n      <th>min</th>\n      <td>-1.0</td>\n      <td>-18388.9</td>\n      <td>0.0</td>\n      <td>0.0</td>\n      <td>0.0</td>\n      <td>0.0</td>\n      <td>20667.3</td>\n    </tr>\n    <tr>\n      <th>25%</th>\n      <td>0.0</td>\n      <td>-2747.4</td>\n      <td>33.0</td>\n      <td>1.0</td>\n      <td>0.0</td>\n      <td>0.0</td>\n      <td>103053.2</td>\n    </tr>\n    <tr>\n      <th>50%</th>\n      <td>0.0</td>\n      <td>-1203.4</td>\n      <td>42.0</td>\n      <td>1.0</td>\n      <td>0.0</td>\n      <td>0.0</td>\n      <td>145017.9</td>\n    </tr>\n    <tr>\n      <th>75%</th>\n      <td>1.0</td>\n      <td>-291.1</td>\n      <td>53.0</td>\n      <td>1.0</td>\n      <td>1.0</td>\n      <td>0.0</td>\n      <td>203435.1</td>\n    </tr>\n    <tr>\n      <th>max</th>\n      <td>20.0</td>\n      <td>401755.4</td>\n      <td>75.0</td>\n      <td>4.0</td>\n      <td>4.0</td>\n      <td>1.0</td>\n      <td>2265604.0</td>\n    </tr>\n  </tbody>\n</table>\n</div>"
     },
     "execution_count": 9,
     "metadata": {},
     "output_type": "execute_result"
    }
   ]
  },
  {
   "cell_type": "markdown",
   "metadata": {
    "id": "UfZtY-jBPtVN"
   },
   "source": [
    "Имеются отрицательные значения в столбцах children,days_employed. Выбросы в столбце children, нулевые значения в столбце dob_years"
   ]
  },
  {
   "cell_type": "code",
   "metadata": {
    "colab": {
     "base_uri": "https://localhost:8080/"
    },
    "id": "H18bMwb4QfPp",
    "outputId": "139736f6-db64-48d1-92b1-9b88f3e40ba2"
   },
   "source": [
    "df.loc[df['dob_years'] == 0,'dob_years'].count()"
   ],
   "execution_count": 10,
   "outputs": [
    {
     "data": {
      "text/plain": "101"
     },
     "execution_count": 10,
     "metadata": {},
     "output_type": "execute_result"
    }
   ]
  },
  {
   "cell_type": "code",
   "metadata": {
    "colab": {
     "base_uri": "https://localhost:8080/"
    },
    "id": "l6sLqQBuQrKK",
    "outputId": "2fd5d4e4-edb3-490c-ae72-1ecb63e97d63"
   },
   "source": [
    "df['gender'].value_counts()"
   ],
   "execution_count": 11,
   "outputs": [
    {
     "data": {
      "text/plain": "F      14236\nM       7288\nXNA        1\nName: gender, dtype: int64"
     },
     "execution_count": 11,
     "metadata": {},
     "output_type": "execute_result"
    }
   ]
  },
  {
   "cell_type": "code",
   "metadata": {
    "colab": {
     "base_uri": "https://localhost:8080/"
    },
    "id": "ITIo_4DbQz98",
    "outputId": "ca89a887-8717-4025-86d8-326534146686"
   },
   "source": [
    "df['children'].value_counts()"
   ],
   "execution_count": 12,
   "outputs": [
    {
     "data": {
      "text/plain": " 0     14149\n 1      4818\n 2      2055\n 3       330\n 20       76\n-1        47\n 4        41\n 5         9\nName: children, dtype: int64"
     },
     "execution_count": 12,
     "metadata": {},
     "output_type": "execute_result"
    }
   ]
  },
  {
   "cell_type": "markdown",
   "metadata": {
    "id": "zhfBzwbmRA3m"
   },
   "source": [
    "## Предобработка данных"
   ]
  },
  {
   "cell_type": "markdown",
   "metadata": {
    "id": "vZoVdvW8Rdlq"
   },
   "source": [
    "### Обработка пропусков"
   ]
  },
  {
   "cell_type": "markdown",
   "metadata": {
    "id": "hTYTQkLTzkv-"
   },
   "source": [
    "Удалим строку с XNA"
   ]
  },
  {
   "cell_type": "code",
   "metadata": {
    "id": "svXvPL5jRkUO"
   },
   "source": [
    "df.drop(df.loc[df['gender'] == 'XNA'].index, inplace=True)"
   ],
   "execution_count": 13,
   "outputs": []
  },
  {
   "cell_type": "markdown",
   "metadata": {
    "id": "u8IcsKO4zpma"
   },
   "source": [
    "Заменим значения в столбце children"
   ]
  },
  {
   "cell_type": "code",
   "metadata": {
    "id": "m1dIgWhIVEur"
   },
   "source": [
    "df.loc[df['children'] == 20, 'children'] = 2 "
   ],
   "execution_count": 14,
   "outputs": []
  },
  {
   "cell_type": "code",
   "metadata": {
    "id": "uJvmTG6qzeDb"
   },
   "source": [
    "df.loc[df['children'] == -1, 'children'] = 1 "
   ],
   "execution_count": 15,
   "outputs": []
  },
  {
   "cell_type": "markdown",
   "metadata": {
    "id": "cVibZymW1HJ8"
   },
   "source": [
    "Заменим нулевые значения возраста на медианные значения в группах по профессиям"
   ]
  },
  {
   "cell_type": "code",
   "metadata": {
    "id": "NfDUa_uBz0PT"
   },
   "source": [
    "mapping = pd.Series(df.groupby('income_type')['dob_years'].median()).to_dict()"
   ],
   "execution_count": 16,
   "outputs": []
  },
  {
   "cell_type": "code",
   "metadata": {
    "id": "yGYZim8c0iGW"
   },
   "source": [
    "df.loc[df['dob_years']==0,'dob_years']=df['income_type'].map(mapping)"
   ],
   "execution_count": 17,
   "outputs": []
  },
  {
   "cell_type": "code",
   "metadata": {
    "colab": {
     "base_uri": "https://localhost:8080/"
    },
    "id": "fle3ag7i05fg",
    "outputId": "4e613dba-08cb-42a8-fb0a-2b5b335d49e2"
   },
   "source": [
    "df.loc[df['dob_years'] == 0,'dob_years'].count()"
   ],
   "execution_count": 18,
   "outputs": [
    {
     "data": {
      "text/plain": "0"
     },
     "execution_count": 18,
     "metadata": {},
     "output_type": "execute_result"
    }
   ]
  },
  {
   "cell_type": "markdown",
   "metadata": {
    "id": "dBBW0KDf1R2u"
   },
   "source": [
    "Заменим отрицательные значения в столбце days_emploed"
   ]
  },
  {
   "cell_type": "code",
   "execution_count": 19,
   "outputs": [
    {
     "data": {
      "text/plain": "array(['пенсионер', 'безработный'], dtype=object)"
     },
     "execution_count": 19,
     "metadata": {},
     "output_type": "execute_result"
    }
   ],
   "source": [
    "df.loc[df['days_employed']>=df['dob_years']*365]['income_type'].unique()"
   ],
   "metadata": {
    "collapsed": false,
    "pycharm": {
     "name": "#%%\n"
    }
   }
  },
  {
   "cell_type": "code",
   "metadata": {
    "id": "L1HTeDQv1Aox"
   },
   "source": [
    "df['days_employed']=df['days_employed'].abs()"
   ],
   "execution_count": 20,
   "outputs": []
  },
  {
   "cell_type": "code",
   "metadata": {
    "colab": {
     "base_uri": "https://localhost:8080/"
    },
    "id": "BWOUq6j31Yg4",
    "outputId": "54c78730-ef70-4129-f80e-faf5da793ba6"
   },
   "source": [
    "df.loc[df['days_employed']>=df['dob_years']*365,'dob_years'].count()"
   ],
   "execution_count": 21,
   "outputs": [
    {
     "data": {
      "text/plain": "3445"
     },
     "execution_count": 21,
     "metadata": {},
     "output_type": "execute_result"
    }
   ]
  },
  {
   "cell_type": "markdown",
   "source": [
    "Добавим новый столбец с группами по возрасту, в зависимости от значения квантилей."
   ],
   "metadata": {
    "collapsed": false,
    "pycharm": {
     "name": "#%% md\n"
    }
   }
  },
  {
   "cell_type": "code",
   "execution_count": 22,
   "outputs": [],
   "source": [
    "quantiles = df['dob_years'].quantile([0.25, 0.5, 0.75]).tolist()"
   ],
   "metadata": {
    "collapsed": false,
    "pycharm": {
     "name": "#%%\n"
    }
   }
  },
  {
   "cell_type": "code",
   "execution_count": 23,
   "outputs": [
    {
     "data": {
      "text/plain": "[34.0, 43.0, 53.0]"
     },
     "execution_count": 23,
     "metadata": {},
     "output_type": "execute_result"
    }
   ],
   "source": [
    "quantiles"
   ],
   "metadata": {
    "collapsed": false,
    "pycharm": {
     "name": "#%%\n"
    }
   }
  },
  {
   "cell_type": "code",
   "execution_count": 24,
   "outputs": [],
   "source": [
    "def age_group(row):\n",
    "  age = row['dob_years']\n",
    "  if age<quantiles[0]:\n",
    "    return '25%'\n",
    "  elif age < quantiles[1]  :\n",
    "    return '50%'\n",
    "  elif age < quantiles[2]  :\n",
    "    return '75%'\n",
    "  else:\n",
    "    return '100%'"
   ],
   "metadata": {
    "collapsed": false,
    "pycharm": {
     "name": "#%%\n"
    }
   }
  },
  {
   "cell_type": "markdown",
   "source": [
    "Заменим некорректные даные на NaN"
   ],
   "metadata": {
    "collapsed": false,
    "pycharm": {
     "name": "#%% md\n"
    }
   }
  },
  {
   "cell_type": "code",
   "execution_count": 25,
   "outputs": [
    {
     "data": {
      "text/plain": "2174"
     },
     "execution_count": 25,
     "metadata": {},
     "output_type": "execute_result"
    }
   ],
   "source": [
    "df['days_employed'].isna().sum()"
   ],
   "metadata": {
    "collapsed": false,
    "pycharm": {
     "name": "#%%\n"
    }
   }
  },
  {
   "cell_type": "code",
   "execution_count": 26,
   "outputs": [],
   "source": [
    "df.loc[(df['days_employed']>=df['dob_years']*365),'days_employed'] = None"
   ],
   "metadata": {
    "collapsed": false,
    "pycharm": {
     "name": "#%%\n"
    }
   }
  },
  {
   "cell_type": "code",
   "execution_count": 27,
   "outputs": [
    {
     "data": {
      "text/plain": "5619"
     },
     "execution_count": 27,
     "metadata": {},
     "output_type": "execute_result"
    }
   ],
   "source": [
    "df['days_employed'].isna().sum()"
   ],
   "metadata": {
    "collapsed": false,
    "pycharm": {
     "name": "#%%\n"
    }
   }
  },
  {
   "cell_type": "code",
   "execution_count": 28,
   "outputs": [],
   "source": [
    "df['age_group'] = df.apply(age_group, axis=1)"
   ],
   "metadata": {
    "collapsed": false,
    "pycharm": {
     "name": "#%%\n"
    }
   }
  },
  {
   "cell_type": "code",
   "execution_count": 29,
   "outputs": [
    {
     "data": {
      "text/plain": "   children  days_employed  dob_years education  education_id  \\\n0         1         8437.7       42.0    высшее             0   \n1         1         4024.8       36.0   среднее             1   \n2         0         5623.4       33.0   Среднее             1   \n3         3         4124.7       32.0   среднее             1   \n4         0            nan       53.0   среднее             1   \n\n      family_status  family_status_id gender income_type  debt  total_income  \\\n0   женат / замужем                 0      F   сотрудник     0      253875.6   \n1   женат / замужем                 0      F   сотрудник     0      112080.0   \n2   женат / замужем                 0      M   сотрудник     0      145886.0   \n3   женат / замужем                 0      M   сотрудник     0      267628.6   \n4  гражданский брак                 1      F   пенсионер     0      158616.1   \n\n                      purpose age_group  \n0               покупка жилья       50%  \n1     приобретение автомобиля       50%  \n2               покупка жилья       25%  \n3  дополнительное образование       25%  \n4             сыграть свадьбу      100%  ",
      "text/html": "<div>\n<style scoped>\n    .dataframe tbody tr th:only-of-type {\n        vertical-align: middle;\n    }\n\n    .dataframe tbody tr th {\n        vertical-align: top;\n    }\n\n    .dataframe thead th {\n        text-align: right;\n    }\n</style>\n<table border=\"1\" class=\"dataframe\">\n  <thead>\n    <tr style=\"text-align: right;\">\n      <th></th>\n      <th>children</th>\n      <th>days_employed</th>\n      <th>dob_years</th>\n      <th>education</th>\n      <th>education_id</th>\n      <th>family_status</th>\n      <th>family_status_id</th>\n      <th>gender</th>\n      <th>income_type</th>\n      <th>debt</th>\n      <th>total_income</th>\n      <th>purpose</th>\n      <th>age_group</th>\n    </tr>\n  </thead>\n  <tbody>\n    <tr>\n      <th>0</th>\n      <td>1</td>\n      <td>8437.7</td>\n      <td>42.0</td>\n      <td>высшее</td>\n      <td>0</td>\n      <td>женат / замужем</td>\n      <td>0</td>\n      <td>F</td>\n      <td>сотрудник</td>\n      <td>0</td>\n      <td>253875.6</td>\n      <td>покупка жилья</td>\n      <td>50%</td>\n    </tr>\n    <tr>\n      <th>1</th>\n      <td>1</td>\n      <td>4024.8</td>\n      <td>36.0</td>\n      <td>среднее</td>\n      <td>1</td>\n      <td>женат / замужем</td>\n      <td>0</td>\n      <td>F</td>\n      <td>сотрудник</td>\n      <td>0</td>\n      <td>112080.0</td>\n      <td>приобретение автомобиля</td>\n      <td>50%</td>\n    </tr>\n    <tr>\n      <th>2</th>\n      <td>0</td>\n      <td>5623.4</td>\n      <td>33.0</td>\n      <td>Среднее</td>\n      <td>1</td>\n      <td>женат / замужем</td>\n      <td>0</td>\n      <td>M</td>\n      <td>сотрудник</td>\n      <td>0</td>\n      <td>145886.0</td>\n      <td>покупка жилья</td>\n      <td>25%</td>\n    </tr>\n    <tr>\n      <th>3</th>\n      <td>3</td>\n      <td>4124.7</td>\n      <td>32.0</td>\n      <td>среднее</td>\n      <td>1</td>\n      <td>женат / замужем</td>\n      <td>0</td>\n      <td>M</td>\n      <td>сотрудник</td>\n      <td>0</td>\n      <td>267628.6</td>\n      <td>дополнительное образование</td>\n      <td>25%</td>\n    </tr>\n    <tr>\n      <th>4</th>\n      <td>0</td>\n      <td>nan</td>\n      <td>53.0</td>\n      <td>среднее</td>\n      <td>1</td>\n      <td>гражданский брак</td>\n      <td>1</td>\n      <td>F</td>\n      <td>пенсионер</td>\n      <td>0</td>\n      <td>158616.1</td>\n      <td>сыграть свадьбу</td>\n      <td>100%</td>\n    </tr>\n  </tbody>\n</table>\n</div>"
     },
     "execution_count": 29,
     "metadata": {},
     "output_type": "execute_result"
    }
   ],
   "source": [
    "df.head()"
   ],
   "metadata": {
    "collapsed": false,
    "pycharm": {
     "name": "#%%\n"
    }
   }
  },
  {
   "cell_type": "code",
   "execution_count": 30,
   "outputs": [
    {
     "data": {
      "text/plain": "count   15905.0\nmean     2353.0\nstd      2304.3\nmin        24.1\n25%       756.3\n50%      1630.0\n75%      3157.7\nmax     18388.9\nName: days_employed, dtype: float64"
     },
     "execution_count": 30,
     "metadata": {},
     "output_type": "execute_result"
    }
   ],
   "source": [
    "df['days_employed'].describe()"
   ],
   "metadata": {
    "collapsed": false,
    "pycharm": {
     "name": "#%%\n"
    }
   }
  },
  {
   "cell_type": "markdown",
   "source": [
    "Заменим пропущенные значения на медианные в зависимости от возрастной группы"
   ],
   "metadata": {
    "collapsed": false,
    "pycharm": {
     "name": "#%% md\n"
    }
   }
  },
  {
   "cell_type": "code",
   "execution_count": 31,
   "outputs": [],
   "source": [
    "mapping_days = pd.Series(df.groupby('age_group')['days_employed'].median()).to_dict()"
   ],
   "metadata": {
    "collapsed": false,
    "pycharm": {
     "name": "#%%\n"
    }
   }
  },
  {
   "cell_type": "code",
   "execution_count": 32,
   "outputs": [
    {
     "data": {
      "text/plain": "{'100%': 2373.358619291148,\n '25%': 1134.3765732304414,\n '50%': 1778.8824573530192,\n '75%': 2105.631867843327}"
     },
     "execution_count": 32,
     "metadata": {},
     "output_type": "execute_result"
    }
   ],
   "source": [
    "mapping_days"
   ],
   "metadata": {
    "collapsed": false,
    "pycharm": {
     "name": "#%%\n"
    }
   }
  },
  {
   "cell_type": "code",
   "execution_count": 33,
   "outputs": [],
   "source": [
    "df.loc[df['days_employed'].isna(),'days_employed']=df['age_group'].map(mapping_days)"
   ],
   "metadata": {
    "collapsed": false,
    "pycharm": {
     "name": "#%%\n"
    }
   }
  },
  {
   "cell_type": "markdown",
   "source": [
    "Таким же образом обработаем пропуски в total_income"
   ],
   "metadata": {
    "collapsed": false,
    "pycharm": {
     "name": "#%% md\n"
    }
   }
  },
  {
   "cell_type": "code",
   "execution_count": 34,
   "outputs": [],
   "source": [
    "mapping_total = pd.Series(df.groupby('age_group')['total_income'].median()).to_dict()"
   ],
   "metadata": {
    "collapsed": false,
    "pycharm": {
     "name": "#%%\n"
    }
   }
  },
  {
   "cell_type": "code",
   "execution_count": 35,
   "outputs": [],
   "source": [
    "df.loc[df['total_income'].isna(),'total_income']=df['age_group'].map(mapping_total)"
   ],
   "metadata": {
    "collapsed": false,
    "pycharm": {
     "name": "#%%\n"
    }
   }
  },
  {
   "cell_type": "code",
   "execution_count": 36,
   "outputs": [
    {
     "data": {
      "text/plain": "       children  days_employed  dob_years  education_id  family_status_id  \\\ncount   21524.0        21524.0    21524.0       21524.0           21524.0   \nmean        0.5         2301.3       43.5           0.8               1.0   \nstd         0.8         1992.1       12.2           0.5               1.4   \nmin         0.0           24.1       19.0           0.0               0.0   \n25%         0.0         1025.6       34.0           1.0               0.0   \n50%         0.0         2105.6       43.0           1.0               0.0   \n75%         1.0         2518.3       53.0           1.0               1.0   \nmax         5.0        18388.9       75.0           4.0               4.0   \n\n         debt  total_income  \ncount 21524.0       21524.0  \nmean      0.1      165210.9  \nstd       0.3       97904.0  \nmin       0.0       20667.3  \n25%       0.0      107796.0  \n50%       0.0      145904.5  \n75%       0.0      195538.7  \nmax       1.0     2265604.0  ",
      "text/html": "<div>\n<style scoped>\n    .dataframe tbody tr th:only-of-type {\n        vertical-align: middle;\n    }\n\n    .dataframe tbody tr th {\n        vertical-align: top;\n    }\n\n    .dataframe thead th {\n        text-align: right;\n    }\n</style>\n<table border=\"1\" class=\"dataframe\">\n  <thead>\n    <tr style=\"text-align: right;\">\n      <th></th>\n      <th>children</th>\n      <th>days_employed</th>\n      <th>dob_years</th>\n      <th>education_id</th>\n      <th>family_status_id</th>\n      <th>debt</th>\n      <th>total_income</th>\n    </tr>\n  </thead>\n  <tbody>\n    <tr>\n      <th>count</th>\n      <td>21524.0</td>\n      <td>21524.0</td>\n      <td>21524.0</td>\n      <td>21524.0</td>\n      <td>21524.0</td>\n      <td>21524.0</td>\n      <td>21524.0</td>\n    </tr>\n    <tr>\n      <th>mean</th>\n      <td>0.5</td>\n      <td>2301.3</td>\n      <td>43.5</td>\n      <td>0.8</td>\n      <td>1.0</td>\n      <td>0.1</td>\n      <td>165210.9</td>\n    </tr>\n    <tr>\n      <th>std</th>\n      <td>0.8</td>\n      <td>1992.1</td>\n      <td>12.2</td>\n      <td>0.5</td>\n      <td>1.4</td>\n      <td>0.3</td>\n      <td>97904.0</td>\n    </tr>\n    <tr>\n      <th>min</th>\n      <td>0.0</td>\n      <td>24.1</td>\n      <td>19.0</td>\n      <td>0.0</td>\n      <td>0.0</td>\n      <td>0.0</td>\n      <td>20667.3</td>\n    </tr>\n    <tr>\n      <th>25%</th>\n      <td>0.0</td>\n      <td>1025.6</td>\n      <td>34.0</td>\n      <td>1.0</td>\n      <td>0.0</td>\n      <td>0.0</td>\n      <td>107796.0</td>\n    </tr>\n    <tr>\n      <th>50%</th>\n      <td>0.0</td>\n      <td>2105.6</td>\n      <td>43.0</td>\n      <td>1.0</td>\n      <td>0.0</td>\n      <td>0.0</td>\n      <td>145904.5</td>\n    </tr>\n    <tr>\n      <th>75%</th>\n      <td>1.0</td>\n      <td>2518.3</td>\n      <td>53.0</td>\n      <td>1.0</td>\n      <td>1.0</td>\n      <td>0.0</td>\n      <td>195538.7</td>\n    </tr>\n    <tr>\n      <th>max</th>\n      <td>5.0</td>\n      <td>18388.9</td>\n      <td>75.0</td>\n      <td>4.0</td>\n      <td>4.0</td>\n      <td>1.0</td>\n      <td>2265604.0</td>\n    </tr>\n  </tbody>\n</table>\n</div>"
     },
     "execution_count": 36,
     "metadata": {},
     "output_type": "execute_result"
    }
   ],
   "source": [
    "df.describe()"
   ],
   "metadata": {
    "collapsed": false,
    "pycharm": {
     "name": "#%%\n"
    }
   }
  },
  {
   "cell_type": "code",
   "execution_count": 37,
   "outputs": [
    {
     "data": {
      "text/plain": "children            0\ndays_employed       0\ndob_years           0\neducation           0\neducation_id        0\nfamily_status       0\nfamily_status_id    0\ngender              0\nincome_type         0\ndebt                0\ntotal_income        0\npurpose             0\nage_group           0\ndtype: int64"
     },
     "execution_count": 37,
     "metadata": {},
     "output_type": "execute_result"
    }
   ],
   "source": [
    "df.isna().sum()"
   ],
   "metadata": {
    "collapsed": false,
    "pycharm": {
     "name": "#%%\n"
    }
   }
  },
  {
   "cell_type": "markdown",
   "source": [
    "**Вывод**"
   ],
   "metadata": {
    "collapsed": false,
    "pycharm": {
     "name": "#%% md\n"
    }
   }
  },
  {
   "cell_type": "markdown",
   "source": [
    "1. В столбцах **days_employed и total_income** имеются отсутствующие данные, причем отсутствие данных повторяется в обоих столбцах, что говорит о неслучайности пропусков.\n",
    "2. В столбце **days_employed** у пенсионеров и безработных указаны некорректные значения с пропусками, составляющие 100% от общего количества\n",
    "3. В столбце **dob_years** так же присутствуют случайные пропуски, не зависящие от других данных выборки\n",
    "4. XNA присутствует в столбце gender в одном экземпляре, и является полностью случайным.\n",
    "\n",
    "Причины ошибочных данных в категории пенсиоры являются систематическими и возможно связаны с некорректной работой программного обеспечения сбора данных, в остальных случаях пропуски в таблицах трудового стажа и зп скорее всего являются результатом нежелания клиента указывать соответствующие данные."
   ],
   "metadata": {
    "collapsed": false,
    "pycharm": {
     "name": "#%% md\n"
    }
   }
  },
  {
   "cell_type": "markdown",
   "source": [
    "### Замена типа данных"
   ],
   "metadata": {
    "collapsed": false,
    "pycharm": {
     "name": "#%% md\n"
    }
   }
  },
  {
   "cell_type": "code",
   "execution_count": 38,
   "outputs": [],
   "source": [
    "df['days_employed']=df['days_employed'].astype('int')"
   ],
   "metadata": {
    "collapsed": false,
    "pycharm": {
     "name": "#%%\n"
    }
   }
  },
  {
   "cell_type": "code",
   "execution_count": 39,
   "outputs": [],
   "source": [
    "df['dob_years']=df['dob_years'].astype('int')"
   ],
   "metadata": {
    "collapsed": false,
    "pycharm": {
     "name": "#%%\n"
    }
   }
  },
  {
   "cell_type": "markdown",
   "source": [
    "### Обработка дубликатов"
   ],
   "metadata": {
    "collapsed": false,
    "pycharm": {
     "name": "#%% md\n"
    }
   }
  },
  {
   "cell_type": "code",
   "execution_count": 40,
   "outputs": [],
   "source": [
    "df['education'] = df['education'].str.lower()"
   ],
   "metadata": {
    "collapsed": false,
    "pycharm": {
     "name": "#%%\n"
    }
   }
  },
  {
   "cell_type": "code",
   "execution_count": 41,
   "outputs": [
    {
     "data": {
      "text/plain": "среднее                15233\nвысшее                  5260\nнеоконченное высшее      743\nначальное                282\nученая степень             6\nName: education, dtype: int64"
     },
     "execution_count": 41,
     "metadata": {},
     "output_type": "execute_result"
    }
   ],
   "source": [
    "df['education'].value_counts()"
   ],
   "metadata": {
    "collapsed": false,
    "pycharm": {
     "name": "#%%\n"
    }
   }
  },
  {
   "cell_type": "code",
   "execution_count": 42,
   "outputs": [
    {
     "data": {
      "text/plain": "сотрудник          11119\nкомпаньон           5084\nпенсионер           3856\nгосслужащий         1459\nбезработный            2\nпредприниматель        2\nстудент                1\nв декрете              1\nName: income_type, dtype: int64"
     },
     "execution_count": 42,
     "metadata": {},
     "output_type": "execute_result"
    }
   ],
   "source": [
    "df['income_type'].value_counts()"
   ],
   "metadata": {
    "collapsed": false,
    "pycharm": {
     "name": "#%%\n"
    }
   }
  },
  {
   "cell_type": "code",
   "execution_count": 43,
   "outputs": [
    {
     "data": {
      "text/plain": "женат / замужем          12380\nгражданский брак          4176\nНе женат / не замужем     2813\nв разводе                 1195\nвдовец / вдова             960\nName: family_status, dtype: int64"
     },
     "execution_count": 43,
     "metadata": {},
     "output_type": "execute_result"
    }
   ],
   "source": [
    "df['family_status'].value_counts()"
   ],
   "metadata": {
    "collapsed": false,
    "pycharm": {
     "name": "#%%\n"
    }
   }
  },
  {
   "cell_type": "code",
   "execution_count": 44,
   "outputs": [
    {
     "data": {
      "text/plain": "71"
     },
     "execution_count": 44,
     "metadata": {},
     "output_type": "execute_result"
    }
   ],
   "source": [
    "df.duplicated().sum()"
   ],
   "metadata": {
    "collapsed": false,
    "pycharm": {
     "name": "#%%\n"
    }
   }
  },
  {
   "cell_type": "code",
   "execution_count": 45,
   "outputs": [],
   "source": [
    "df = df.drop_duplicates().reset_index(drop=True)"
   ],
   "metadata": {
    "collapsed": false,
    "pycharm": {
     "name": "#%%\n"
    }
   }
  },
  {
   "cell_type": "markdown",
   "source": [
    "**Вывод**"
   ],
   "metadata": {
    "collapsed": false,
    "pycharm": {
     "name": "#%% md\n"
    }
   }
  },
  {
   "cell_type": "markdown",
   "source": [
    "В столбце **education** были обнаружены дубликаты, наличие которых связано с вводом повторяющихся слов в разных регистрах"
   ],
   "metadata": {
    "collapsed": false,
    "pycharm": {
     "name": "#%% md\n"
    }
   }
  },
  {
   "cell_type": "markdown",
   "source": [
    "### Лемматизация"
   ],
   "metadata": {
    "collapsed": false,
    "pycharm": {
     "name": "#%% md\n"
    }
   }
  },
  {
   "cell_type": "code",
   "execution_count": 46,
   "outputs": [],
   "source": [
    "lemmas = ' '.join(df['purpose'])"
   ],
   "metadata": {
    "collapsed": false,
    "pycharm": {
     "name": "#%%\n"
    }
   }
  },
  {
   "cell_type": "code",
   "execution_count": 47,
   "outputs": [],
   "source": [
    "m = Mystem()\n",
    "lemmas = Counter(m.lemmatize(lemmas))"
   ],
   "metadata": {
    "collapsed": false,
    "pycharm": {
     "name": "#%%\n"
    }
   }
  },
  {
   "cell_type": "code",
   "execution_count": 48,
   "outputs": [
    {
     "data": {
      "text/plain": "[(' ', 55021),\n ('недвижимость', 6350),\n ('покупка', 5896),\n ('жилье', 4460),\n ('автомобиль', 4306),\n ('образование', 4013),\n ('с', 2918),\n ('операция', 2604),\n ('свадьба', 2324),\n ('свой', 2230),\n ('на', 2222),\n ('строительство', 1878),\n ('высокий', 1374),\n ('получение', 1314),\n ('коммерческий', 1311),\n ('для', 1289),\n ('жилой', 1230),\n ('сделка', 941),\n ('дополнительный', 906),\n ('заниматься', 904),\n ('подержать', 853),\n ('проведение', 768),\n ('сыграть', 765),\n ('сдача', 651),\n ('семья', 638),\n ('собственный', 635),\n ('со', 627),\n ('ремонт', 607),\n ('приобретение', 461),\n ('профильный', 436),\n ('подержанный', 111),\n ('\\n', 1)]"
     },
     "execution_count": 48,
     "metadata": {},
     "output_type": "execute_result"
    }
   ],
   "source": [
    "lemmas.most_common()"
   ],
   "metadata": {
    "collapsed": false,
    "pycharm": {
     "name": "#%%\n"
    }
   }
  },
  {
   "cell_type": "code",
   "execution_count": 49,
   "outputs": [],
   "source": [
    "purpose_words = ['жилье','автомобиль','образование','свадьба','недвижимость']"
   ],
   "metadata": {
    "collapsed": false,
    "pycharm": {
     "name": "#%%\n"
    }
   }
  },
  {
   "cell_type": "markdown",
   "source": [
    "**Вывод**"
   ],
   "metadata": {
    "collapsed": false,
    "pycharm": {
     "name": "#%% md\n"
    }
   }
  },
  {
   "cell_type": "markdown",
   "source": [
    "Лемматизацию проводили на основе уникальных значений целей кредита. Выделили 5 основных групп -**'жилье','автомобиль','образование','свадьба','недвижимость'**, на основании которых добавили новый столбец для группировки целей кредитования"
   ],
   "metadata": {
    "collapsed": false,
    "pycharm": {
     "name": "#%% md\n"
    }
   }
  },
  {
   "cell_type": "markdown",
   "source": [
    "### Категоризация данных"
   ],
   "metadata": {
    "collapsed": false,
    "pycharm": {
     "name": "#%% md\n"
    }
   }
  },
  {
   "cell_type": "code",
   "execution_count": 50,
   "outputs": [],
   "source": [
    "def purpose_group(row):\n",
    "  for word in purpose_words:\n",
    "    if word in m.lemmatize(row):\n",
    "      return word\n",
    "  return 'other'"
   ],
   "metadata": {
    "collapsed": false,
    "pycharm": {
     "name": "#%%\n"
    }
   }
  },
  {
   "cell_type": "code",
   "execution_count": 51,
   "outputs": [],
   "source": [
    "df['purpose_group'] = df['purpose'].apply(purpose_group)"
   ],
   "metadata": {
    "collapsed": false,
    "pycharm": {
     "name": "#%%\n"
    }
   }
  },
  {
   "cell_type": "code",
   "execution_count": 52,
   "outputs": [],
   "source": [
    "quantiles_income = df['total_income'].quantile([0.25, 0.5, 0.75]).tolist()"
   ],
   "metadata": {
    "collapsed": false,
    "pycharm": {
     "name": "#%%\n"
    }
   }
  },
  {
   "cell_type": "code",
   "execution_count": 53,
   "outputs": [
    {
     "data": {
      "text/plain": "[107620.94810490453, 145904.52007216375, 195799.51488463086]"
     },
     "execution_count": 53,
     "metadata": {},
     "output_type": "execute_result"
    }
   ],
   "source": [
    "quantiles_income"
   ],
   "metadata": {
    "collapsed": false,
    "pycharm": {
     "name": "#%%\n"
    }
   }
  },
  {
   "cell_type": "code",
   "execution_count": 54,
   "outputs": [],
   "source": [
    "def income_group(row):\n",
    "  income = row['total_income']\n",
    "  if income <= quantiles_income[0]:\n",
    "    return 'Доход до 108000'\n",
    "\n",
    "  elif income <= quantiles_income[1]:\n",
    "    return 'Доход до 146000%'\n",
    "\n",
    "  if income <= quantiles_income[2]:\n",
    "    return 'Доход  до 196000%'\n",
    "  return 'Доход > 196000'"
   ],
   "metadata": {
    "collapsed": false,
    "pycharm": {
     "name": "#%%\n"
    }
   }
  },
  {
   "cell_type": "code",
   "execution_count": 55,
   "outputs": [],
   "source": [
    "df['income_group'] = df.apply(income_group, axis=1)"
   ],
   "metadata": {
    "collapsed": false,
    "pycharm": {
     "name": "#%%\n"
    }
   }
  },
  {
   "cell_type": "markdown",
   "source": [
    "## Ответы на вопросы"
   ],
   "metadata": {
    "collapsed": false,
    "pycharm": {
     "name": "#%% md\n"
    }
   }
  },
  {
   "cell_type": "markdown",
   "source": [
    "- Есть ли зависимость между наличием детей и возвратом кредита в срок?"
   ],
   "metadata": {
    "collapsed": false,
    "pycharm": {
     "name": "#%% md\n"
    }
   }
  },
  {
   "cell_type": "code",
   "execution_count": 56,
   "outputs": [],
   "source": [
    "children_debt = df.groupby('children').agg({'debt':['count', 'sum', 'mean']})"
   ],
   "metadata": {
    "collapsed": false,
    "pycharm": {
     "name": "#%%\n"
    }
   }
  },
  {
   "cell_type": "code",
   "execution_count": 57,
   "outputs": [],
   "source": [
    "children_debt['rate']=100*(children_debt['debt']['sum']/children_debt['debt']['count'])"
   ],
   "metadata": {
    "collapsed": false,
    "pycharm": {
     "name": "#%%\n"
    }
   }
  },
  {
   "cell_type": "code",
   "execution_count": 58,
   "outputs": [
    {
     "data": {
      "text/plain": "           debt            rate\n          count   sum mean     \nchildren                       \n0         14090  1063  0.1  7.5\n1          4855   445  0.1  9.2\n2          2128   202  0.1  9.5\n3           330    27  0.1  8.2\n4            41     4  0.1  9.8\n5             9     0  0.0  0.0",
      "text/html": "<div>\n<style scoped>\n    .dataframe tbody tr th:only-of-type {\n        vertical-align: middle;\n    }\n\n    .dataframe tbody tr th {\n        vertical-align: top;\n    }\n\n    .dataframe thead tr th {\n        text-align: left;\n    }\n\n    .dataframe thead tr:last-of-type th {\n        text-align: right;\n    }\n</style>\n<table border=\"1\" class=\"dataframe\">\n  <thead>\n    <tr>\n      <th></th>\n      <th colspan=\"3\" halign=\"left\">debt</th>\n      <th>rate</th>\n    </tr>\n    <tr>\n      <th></th>\n      <th>count</th>\n      <th>sum</th>\n      <th>mean</th>\n      <th></th>\n    </tr>\n    <tr>\n      <th>children</th>\n      <th></th>\n      <th></th>\n      <th></th>\n      <th></th>\n    </tr>\n  </thead>\n  <tbody>\n    <tr>\n      <th>0</th>\n      <td>14090</td>\n      <td>1063</td>\n      <td>0.1</td>\n      <td>7.5</td>\n    </tr>\n    <tr>\n      <th>1</th>\n      <td>4855</td>\n      <td>445</td>\n      <td>0.1</td>\n      <td>9.2</td>\n    </tr>\n    <tr>\n      <th>2</th>\n      <td>2128</td>\n      <td>202</td>\n      <td>0.1</td>\n      <td>9.5</td>\n    </tr>\n    <tr>\n      <th>3</th>\n      <td>330</td>\n      <td>27</td>\n      <td>0.1</td>\n      <td>8.2</td>\n    </tr>\n    <tr>\n      <th>4</th>\n      <td>41</td>\n      <td>4</td>\n      <td>0.1</td>\n      <td>9.8</td>\n    </tr>\n    <tr>\n      <th>5</th>\n      <td>9</td>\n      <td>0</td>\n      <td>0.0</td>\n      <td>0.0</td>\n    </tr>\n  </tbody>\n</table>\n</div>"
     },
     "execution_count": 58,
     "metadata": {},
     "output_type": "execute_result"
    }
   ],
   "source": [
    "children_debt"
   ],
   "metadata": {
    "collapsed": false,
    "pycharm": {
     "name": "#%%\n"
    }
   }
  },
  {
   "cell_type": "markdown",
   "source": [
    "**Вывод**"
   ],
   "metadata": {
    "collapsed": false,
    "pycharm": {
     "name": "#%% md\n"
    }
   }
  },
  {
   "cell_type": "markdown",
   "source": [
    "Наименьшую задолженность по кредитам имеют клиенты без детей, с ростом количества детей наблюдается рост показателя задолженности, это может быть связано с увеличением финансовой нагрузки всвязи с затратами на детей, снижением семейных показателей зп за счет ухода в декрет. Так же следует отметить уменьшение обращений в кредитные организации с ростом количества детей."
   ],
   "metadata": {
    "collapsed": false,
    "pycharm": {
     "name": "#%% md\n"
    }
   }
  },
  {
   "cell_type": "markdown",
   "source": [
    "## Общий вывод"
   ],
   "metadata": {
    "collapsed": false,
    "pycharm": {
     "name": "#%% md\n"
    }
   }
  },
  {
   "cell_type": "markdown",
   "source": [
    "С увеличением числа детей у клиентов возрастает долговая нагрузка, связанная с затратами на детей. Неженатые или находящиеся в гражданском браке клиенты чаще, чем женатые просрачивают кредиты, что может быть связано с гражданско-правовыми отношениями в семье(выплаты по кредитам осуществляются из общего бюджета семьи, а не из личных средств). Процент задолженностей по кредитам увеличивается с увеличением роста зп, это может быть связано с увеличением размера одобренного кредита, и, как следствие, увеличением долговой нагрузки. Дальнейшее увеличение зп может привести к финансовой устойчивости и уменьшению закредитованности. Кредиты на операции с недвижимостью просрачиваются реже потребительских кредитов Чаще всего просрачиваются на автокредиты и образование, что может быть связано с увеличением финансовой нагрузки(в случае эксплуатации авто), рисков потери работы в первые годы после окончания обучения, низкими зп выпускников и возрастающей финансовой нагрузкой(в случае образования)."
   ],
   "metadata": {
    "collapsed": false,
    "pycharm": {
     "name": "#%% md\n"
    }
   }
  }
 ]
}