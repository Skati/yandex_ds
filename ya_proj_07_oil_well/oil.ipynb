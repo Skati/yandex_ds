{
 "cells": [
  {
   "cell_type": "markdown",
   "metadata": {},
   "source": [
    "# Выбор локации для скважины"
   ]
  },
  {
   "cell_type": "markdown",
   "metadata": {},
   "source": [
    "Допустим, вы работаете в добывающей компании «ГлавРосГосНефть». Нужно решить, где бурить новую скважину.\n",
    "\n",
    "Вам предоставлены пробы нефти в трёх регионах: в каждом 10 000 месторождений, где измерили качество нефти и объём её запасов. Постройте модель машинного обучения, которая поможет определить регион, где добыча принесёт наибольшую прибыль. Проанализируйте возможную прибыль и риски техникой *Bootstrap.*\n",
    "\n",
    "Шаги для выбора локации:\n",
    "\n",
    "- В избранном регионе ищут месторождения, для каждого определяют значения признаков;\n",
    "- Строят модель и оценивают объём запасов;\n",
    "- Выбирают месторождения с самым высокими оценками значений. Количество месторождений зависит от бюджета компании и стоимости разработки одной скважины;\n",
    "- Прибыль равна суммарной прибыли отобранных месторождений."
   ]
  },
  {
   "cell_type": "markdown",
   "metadata": {},
   "source": [
    "## Загрузка и подготовка данных"
   ]
  },
  {
   "cell_type": "markdown",
   "metadata": {},
   "source": [
    "**Import**"
   ]
  },
  {
   "cell_type": "code",
   "execution_count": null,
   "metadata": {},
   "outputs": [],
   "source": [
    "import pandas as pd\n",
    "import numpy as np\n",
    "import plotly.express as px\n",
    "from sklearn.linear_model import LinearRegression\n",
    "from sklearn.preprocessing import StandardScaler\n",
    "from sklearn.metrics import mean_squared_error\n",
    "from sklearn.model_selection import train_test_split\n",
    "import warnings\n",
    "warnings.filterwarnings(\"ignore\")"
   ]
  },
  {
   "cell_type": "markdown",
   "metadata": {},
   "source": [
    "**Constants**"
   ]
  },
  {
   "cell_type": "code",
   "execution_count": null,
   "metadata": {},
   "outputs": [],
   "source": [
    "BUDGET = 10**10\n",
    "INCOME_PER_BARREL = 450000\n",
    "POINTS = 500\n",
    "PREDICT_POINTS = 200\n",
    "LOSE_PROBABILITY =  0.025\n",
    "VOLUME=BUDGET/(INCOME_PER_BARREL*PREDICT_POINTS)"
   ]
  },
  {
   "cell_type": "markdown",
   "metadata": {},
   "source": []
  },
  {
   "cell_type": "markdown",
   "metadata": {},
   "source": [
    "**Read data**"
   ]
  },
  {
   "cell_type": "code",
   "execution_count": null,
   "metadata": {},
   "outputs": [],
   "source": [
    "df0=pd.read_csv('data/geo_data_0.csv')\n",
    "df0.name='1 location'\n",
    "df1=pd.read_csv('data/geo_data_1.csv')\n",
    "df1.name='2 location'\n",
    "df2=pd.read_csv('data/geo_data_2.csv')\n",
    "df2.name='3 location'\n",
    "dfs=[df0,df1,df2]\n",
    "df0.head()"
   ]
  },
  {
   "cell_type": "markdown",
   "metadata": {},
   "source": [
    "**Functions**"
   ]
  },
  {
   "cell_type": "code",
   "execution_count": null,
   "metadata": {},
   "outputs": [],
   "source": [
    "def info(df):\n",
    "    print(df.name)\n",
    "    print('shape:', df.shape)\n",
    "    print('Na:',df.isna().sum().sum())\n",
    "    print('Duplicates:',df.duplicated().sum())\n",
    "    print('Describe:')\n",
    "    print(df.describe())\n"
   ]
  },
  {
   "cell_type": "code",
   "execution_count": null,
   "metadata": {},
   "outputs": [],
   "source": [
    "def hists(df):\n",
    "    for column in df.columns[1:]:\n",
    "        title = 'Распределение значений столбца ' + column \n",
    "        fig = px.histogram(df,\n",
    "                           x = column,\n",
    "                           marginal = 'box',\n",
    "                           nbins=30,\n",
    "                           width=600, height=300,\n",
    "                           title = title)\n",
    "\n",
    "        fig.show()"
   ]
  },
  {
   "cell_type": "code",
   "execution_count": null,
   "metadata": {},
   "outputs": [],
   "source": [
    "def split(df,test_size=0.25,random_state=12345,stratify=None):\n",
    "    features = df.drop(['product','id'],axis=1)\n",
    "    target = df['product']\n",
    "    features_train, features_valid, target_train, target_valid = train_test_split(\n",
    "    features, target, test_size=test_size, random_state=random_state,stratify = stratify)\n",
    "    return features_train, features_valid, target_train, target_valid"
   ]
  },
  {
   "cell_type": "code",
   "execution_count": null,
   "metadata": {},
   "outputs": [],
   "source": [
    "def learn_model(features_train, features_valid, target_train, target_valid):\n",
    "    scaler = StandardScaler()\n",
    "    scaler.fit(features_train) \n",
    "    features_train = scaler.transform(features_train)\n",
    "    features_valid = scaler.transform(features_valid)\n",
    "    model = LinearRegression()\n",
    "    model.fit(features_train, target_train)\n",
    "    predicted_valid = model.predict(features_valid)\n",
    "    mse = mean_squared_error(target_valid, predicted_valid)\n",
    "    rmse = mse ** 0.5\n",
    "    average = sum(predicted_valid) / len(predicted_valid)\n",
    "    predicted_valid = pd.Series(predicted_valid)\n",
    "    predicted_valid.index=target_valid.index\n",
    "    return predicted_valid,rmse,average"
   ]
  },
  {
   "cell_type": "code",
   "execution_count": null,
   "metadata": {},
   "outputs": [],
   "source": [
    "def revenue(target, prediction,count):\n",
    "    volume_predict = prediction.sort_values(ascending=False)[:count]\n",
    "    volume_real = target[volume_predict.index]\n",
    "    profit = volume_real.sum()*INCOME_PER_BARREL - BUDGET\n",
    "    return profit"
   ]
  },
  {
   "cell_type": "code",
   "execution_count": null,
   "metadata": {},
   "outputs": [],
   "source": [
    "state=np.random.RandomState(12345)\n",
    "def profit(target,prediction):\n",
    "    profit_values=[]\n",
    "    for i in range(1000):\n",
    "        target_subsample = target.sample(n=POINTS, replace=True, random_state=state)\n",
    "        predictions_subsample = prediction[target_subsample.index]\n",
    "        profit_values.append(revenue(target_subsample,predictions_subsample,PREDICT_POINTS))\n",
    "    profit_values = pd.Series(profit_values)\n",
    "    confidence_interval = (profit_values.quantile(0.025),profit_values.quantile(0.975))\n",
    "    mean = profit_values.mean()\n",
    "    risk=(profit_values<0).mean()\n",
    "    return confidence_interval,mean,risk"
   ]
  },
  {
   "cell_type": "markdown",
   "metadata": {},
   "source": [
    "**Data info**"
   ]
  },
  {
   "cell_type": "code",
   "execution_count": null,
   "metadata": {},
   "outputs": [],
   "source": [
    "for df in dfs:\n",
    "    info(df)\n",
    "    print('-----------------------------------------------------')"
   ]
  },
  {
   "cell_type": "code",
   "execution_count": null,
   "metadata": {},
   "outputs": [],
   "source": [
    "for df in dfs:\n",
    "    print('--------------------------------------------')\n",
    "    print(df.name)\n",
    "    hists(df)"
   ]
  },
  {
   "cell_type": "markdown",
   "metadata": {},
   "source": [
    "Предварительный анализ данных выявил отсутствие дубликатов и пропущенных данных. В основном данные по параметрам f0,f1,f2 близки к нормальному распределению. Имеются различия в масштабе данных, поэтому при обучении модели решено применить масштабирование признаков. Так же в некоторых случаях наблюдаются выбросы, которые решено было оставить, т.к. без эксперта невозможно определить важность этих данных."
   ]
  },
  {
   "cell_type": "markdown",
   "metadata": {},
   "source": [
    "## Обучение и проверка модели"
   ]
  },
  {
   "cell_type": "code",
   "execution_count": null,
   "metadata": {},
   "outputs": [],
   "source": [
    "for df in dfs:\n",
    "    features_train, features_valid, target_train, target_valid = split(df)\n",
    "    predicted_valid,rmse,average = learn_model(features_train, features_valid, target_train, target_valid)\n",
    "    confidence_interval,mean,risk = profit(target_valid, predicted_valid)\n",
    "    print('--------------------------------------')\n",
    "    print(df.name)\n",
    "    print('RMSE:',rmse,'\\nAverage:',average)"
   ]
  },
  {
   "cell_type": "markdown",
   "metadata": {},
   "source": [
    "Наименьшее значение среднеквадратической ошибки приходится на 2 участок, наибольшее среднее значение объемов нефи - на 3 участок. "
   ]
  },
  {
   "cell_type": "markdown",
   "metadata": {},
   "source": [
    "## Подготовка к расчёту прибыли"
   ]
  },
  {
   "cell_type": "code",
   "execution_count": null,
   "metadata": {},
   "outputs": [],
   "source": [
    "print('Достаточный объём сырья для безубыточной разработки новой скважины:',np.ceil(VOLUME))"
   ]
  },
  {
   "cell_type": "code",
   "execution_count": null,
   "metadata": {},
   "outputs": [],
   "source": [
    "for df in dfs:\n",
    "    print('--------------------')\n",
    "    print(df.name)\n",
    "    for q in np.arange(0.6,0.9,0.01):\n",
    "        print(q,df['product'].quantile(q))"
   ]
  },
  {
   "cell_type": "markdown",
   "metadata": {},
   "source": [
    "Достаточный объём сырья для безубыточной разработки новой скважины составил 112 тысяч баррелей(с округлением вверх). По предыдущим значениям моделей средние показатели моделей оказались ниже минимального порога. Однако по данным описательной статистики видно, что во всех регионах наблюдаются значения выше указанного (35% для 1 региона, 16% для 2 региона, 37% для 3)."
   ]
  },
  {
   "cell_type": "markdown",
   "metadata": {},
   "source": [
    "## Расчёт прибыли и рисков "
   ]
  },
  {
   "cell_type": "code",
   "execution_count": null,
   "metadata": {},
   "outputs": [],
   "source": [
    "for df in dfs:\n",
    "    features_train, features_valid, target_train, target_valid = split(df)\n",
    "    predicted_valid,rmse,average = learn_model(features_train, features_valid, target_train, target_valid)\n",
    "    confidence_interval,mean,risk = profit(target_valid, predicted_valid)\n",
    "    print('--------------------------------------')\n",
    "    print(df.name)\n",
    "    print('Среднее значение прибыли для региона:',mean)\n",
    "    print('95%-й доверительный интервал для значения прибыли:',confidence_interval)\n",
    "    print('Риск убытков:',risk)"
   ]
  },
  {
   "cell_type": "markdown",
   "metadata": {},
   "source": [
    "Риск убытков в 3 регионе оказался больше 2.5%, поэтому его отметаем. Из оставшихся регионов 2 регион показал наибольшую среднее значение рассчитанной прибыли, а так же наименьшие риски убытков. Таким образом, не смотря на то, что при проверки модели 2 регион показал самые плохие результаты, использование бутстрапа выявило наибольшую прибыльность именно в этом регионе."
   ]
  },
  {
   "cell_type": "markdown",
   "metadata": {},
   "source": [
    "## Чек-лист готовности проекта"
   ]
  },
  {
   "cell_type": "markdown",
   "metadata": {},
   "source": [
    "Поставьте 'x' в выполненных пунктах. Далее нажмите Shift+Enter."
   ]
  },
  {
   "cell_type": "markdown",
   "metadata": {},
   "source": [
    "- [x]  Jupyter Notebook открыт\n",
    "- [x]  Весь код выполняется без ошибок\n",
    "- [x]  Ячейки с кодом расположены в порядке исполнения\n",
    "- [x]  Выполнен шаг 1: данные подготовлены\n",
    "- [x]  Выполнен шаг 2: модели обучены и проверены\n",
    "    - [x]  Данные корректно разбиты на обучающую и валидационную выборки\n",
    "    - [x]  Модели обучены, предсказания сделаны\n",
    "    - [x]  Предсказания и правильные ответы на валидационной выборке сохранены\n",
    "    - [x]  На экране напечатаны результаты\n",
    "    - [x]  Сделаны выводы\n",
    "- [x]  Выполнен шаг 3: проведена подготовка к расчёту прибыли\n",
    "    - [x]  Для всех ключевых значений созданы константы Python\n",
    "    - [x]  Посчитано минимальное среднее количество продукта в месторождениях региона, достаточное для разработки\n",
    "    - [x]  По предыдущему пункту сделаны выводы\n",
    "    - [x]  Написана функция расчёта прибыли\n",
    "- [x]  Выполнен шаг 4: посчитаны риски и прибыль\n",
    "    - [x]  Проведена процедура *Bootstrap*\n",
    "    - [x]  Все параметры бутстрепа соответствуют условию\n",
    "    - [x]  Найдены все нужные величины\n",
    "    - [x]  Предложен регион для разработки месторождения\n",
    "    - [x]  Выбор региона обоснован"
   ]
  },
  {
   "cell_type": "code",
   "execution_count": null,
   "metadata": {},
   "outputs": [],
   "source": []
  }
 ],
 "metadata": {
  "kernelspec": {
   "display_name": "Python 3",
   "language": "python",
   "name": "python3"
  },
  "language_info": {
   "codemirror_mode": {
    "name": "ipython",
    "version": 3
   },
   "file_extension": ".py",
   "mimetype": "text/x-python",
   "name": "python",
   "nbconvert_exporter": "python",
   "pygments_lexer": "ipython3",
   "version": "3.7.8"
  },
  "toc": {
   "base_numbering": 1,
   "nav_menu": {},
   "number_sections": true,
   "sideBar": true,
   "skip_h1_title": true,
   "title_cell": "Table of Contents",
   "title_sidebar": "Contents",
   "toc_cell": false,
   "toc_position": {},
   "toc_section_display": true,
   "toc_window_display": false
  }
 },
 "nbformat": 4,
 "nbformat_minor": 2
}